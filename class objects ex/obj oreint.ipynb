{
 "cells": [
  {
   "cell_type": "code",
   "execution_count": 19,
   "metadata": {},
   "outputs": [
    {
     "data": {
      "text/plain": [
       "'outside'"
      ]
     },
     "execution_count": 19,
     "metadata": {},
     "output_type": "execute_result"
    }
   ],
   "source": [
    "import math\n",
    "class point:\n",
    "    \"\"\"BEEDEE\"\"\"\n",
    "class circle:\n",
    "    \"\"\"gg3be0\"\"\"\n",
    "C=circle()\n",
    "C.radius=75\n",
    "C.center=point()\n",
    "C.center.x=150\n",
    "C.center.y=100\n",
    "def distance(x,y):\n",
    "    return math.sqrt((x-C.center.x)**2+(y-C.center.y)**2)\n",
    "def inoutside(x,y):\n",
    "    if distance(x,y)<C.radius:\n",
    "        return \"inside\"\n",
    "    else:\n",
    "        return \"outside\"\n",
    "inoutside(0,0)"
   ]
  },
  {
   "cell_type": "code",
   "execution_count": null,
   "metadata": {
    "collapsed": true,
    "jupyter": {
     "outputs_hidden": true
    }
   },
   "outputs": [],
   "source": []
  },
  {
   "cell_type": "markdown",
   "metadata": {
    "tags": []
   },
   "source": [
    "### Method\n",
    "\n",
    "*__init__()\n",
    "\n",
    "*__repr__() (與 __str__())\n",
    "\n",
    "*__add__() 與 __ge__()\n",
    "\n",
    "*__getitem__() (與 __setitem__())\n",
    "\n",
    "*__iter__() 與 yield 保留字\n",
    "\n",
    "\n",
    "For more special method names, see 'https://docs.python.org/3/reference/datamodel.html#specialnames'"
   ]
  },
  {
   "cell_type": "code",
   "execution_count": 1,
   "metadata": {
    "tags": []
   },
   "outputs": [
    {
     "data": {
      "text/plain": [
       "9"
      ]
     },
     "execution_count": 1,
     "metadata": {},
     "output_type": "execute_result"
    }
   ],
   "source": [
    "class Time:\n",
    "\n",
    "    def  __init__(self, hour=0, minute=0, second=0):\n",
    "        self.hour = hour\n",
    "        self.minute = minute\n",
    "        self.second = second\n",
    "aa = Time(9)\n",
    "aa.hour"
   ]
  },
  {
   "cell_type": "code",
   "execution_count": null,
   "metadata": {},
   "outputs": [],
   "source": []
  }
 ],
 "metadata": {
  "kernelspec": {
   "display_name": "Python 3 (ipykernel)",
   "language": "python",
   "name": "python3"
  },
  "language_info": {
   "codemirror_mode": {
    "name": "ipython",
    "version": 3
   },
   "file_extension": ".py",
   "mimetype": "text/x-python",
   "name": "python",
   "nbconvert_exporter": "python",
   "pygments_lexer": "ipython3",
   "version": "3.10.13"
  }
 },
 "nbformat": 4,
 "nbformat_minor": 4
}
