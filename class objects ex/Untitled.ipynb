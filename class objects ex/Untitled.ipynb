{
 "cells": [
  {
   "cell_type": "code",
   "execution_count": 19,
   "metadata": {},
   "outputs": [
    {
     "data": {
      "text/plain": [
       "'outside'"
      ]
     },
     "execution_count": 19,
     "metadata": {},
     "output_type": "execute_result"
    }
   ],
   "source": [
    "import math\n",
    "class point:\n",
    "    \"\"\"BEEDEE\"\"\"\n",
    "class circle:\n",
    "    \"\"\"gg3be0\"\"\"\n",
    "C=circle()\n",
    "C.radius=75\n",
    "C.center=point()\n",
    "C.center.x=150\n",
    "C.center.y=100\n",
    "def distance(x,y):\n",
    "    return math.sqrt((x-C.center.x)**2+(y-C.center.y)**2)\n",
    "def inoutside(x,y):\n",
    "    if distance(x,y)<C.radius:\n",
    "        return \"inside\"\n",
    "    else:\n",
    "        return \"outside\"\n",
    "inoutside(0,0)"
   ]
  },
  {
   "cell_type": "code",
   "execution_count": null,
   "metadata": {
    "collapsed": true
   },
   "outputs": [],
   "source": []
  },
  {
   "cell_type": "code",
   "execution_count": null,
   "metadata": {
    "collapsed": true
   },
   "outputs": [],
   "source": []
  }
 ],
 "metadata": {
  "kernelspec": {
   "display_name": "Python 3",
   "language": "python",
   "name": "python3"
  },
  "language_info": {
   "codemirror_mode": {
    "name": "ipython",
    "version": 3
   },
   "file_extension": ".py",
   "mimetype": "text/x-python",
   "name": "python",
   "nbconvert_exporter": "python",
   "pygments_lexer": "ipython3",
   "version": "3.6.2"
  }
 },
 "nbformat": 4,
 "nbformat_minor": 2
}
