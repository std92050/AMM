{
 "cells": [
  {
   "cell_type": "code",
   "execution_count": 3,
   "metadata": {},
   "outputs": [],
   "source": [
    "import numpy  as np\n",
    "import matplotlib.pyplot as plt"
   ]
  },
  {
   "cell_type": "markdown",
   "metadata": {},
   "source": [
    "Consider a simple random walk on $[a,b] \\in \\mathbb{Z}$  with forward\n",
    "probability $p$ , expcept at the boundary , $ p(a,a)=1-p = 1- p(a , a+1)$ and\n",
    "$p(b,b) = p = 1 - p( b , b-1) $ . Define \n",
    "$ m^-_n \\equiv \\sum^n_{k=1} I_{\\{X_{k-1} \\;= a , X_k = a \\}} \\; , \\; \n",
    "m^+_n \\equiv \\sum^n_{k=1} I_{\\{X_{k-1} \\;= b , X_k = b \\}}$ , i.e the numbers\n",
    "of reflection at the boundaries up to time $n$ . We want to know the distribution\n",
    "of $ m^{\\pm}_n$ ."
   ]
  },
  {
   "cell_type": "code",
   "execution_count": 121,
   "metadata": {},
   "outputs": [],
   "source": [
    "def walk(p):\n",
    "    alpha = np.random.rand()\n",
    "    if alpha > p :\n",
    "        return -1\n",
    "    else :\n",
    "        return 1\n",
    "def MC(a,b,p,n):\n",
    "    X=np.zeros(n)\n",
    "    m1=np.zeros(n)\n",
    "    m2=np.zeros(n)\n",
    "    X[0]= 0\n",
    "    \n",
    "    i=0\n",
    "    while i < n-1 :\n",
    "        D= walk(p)\n",
    "        if (X[i] != a ) and  (X[i] != b ) :\n",
    "            \n",
    "            X[i+1] = X[i] + D \n",
    "            m1[i+1] = m1[i]\n",
    "            m2[i+1] = m2[i]\n",
    "        \n",
    "        elif X[i] == a :\n",
    "            if D == -1 :\n",
    "                X[i+1] = a  \n",
    "                m1[i+1] = m1[i]\n",
    "                m2[i+1]= m2[i] +1\n",
    "               \n",
    "            else :\n",
    "                X[i+1] = X[i] + D\n",
    "                m1[i+1] = m1[i]\n",
    "                m2[i+1] = m2[i]\n",
    "        elif X[i] == b :\n",
    "            if D == 1 :\n",
    "                X[i+1] = b\n",
    "                m1[i+1]= m1[i] +1\n",
    "                m2[i+1] = m2[i]\n",
    "            else :\n",
    "                X[i+1] = X[i] + D\n",
    "                m1[i+1] = m1[i]\n",
    "                m2[i+1] = m2[i]\n",
    "        i=i+1\n",
    "    return X , m1 , m2"
   ]
  },
  {
   "cell_type": "code",
   "execution_count": 122,
   "metadata": {
    "scrolled": true
   },
   "outputs": [],
   "source": [
    "A=MC(-5,5,0.51,10000 )"
   ]
  },
  {
   "cell_type": "code",
   "execution_count": 124,
   "metadata": {},
   "outputs": [
    {
     "data": {
      "text/plain": [
       "[<matplotlib.lines.Line2D at 0x1e67eb3a898>]"
      ]
     },
     "execution_count": 124,
     "metadata": {},
     "output_type": "execute_result"
    },
    {
     "data": {
      "image/png": "[encoded data removed]",
      "text/plain": [
       "<matplotlib.figure.Figure at 0x1e6027a8f60>"
      ]
     },
     "metadata": {},
     "output_type": "display_data"
    }
   ],
   "source": [
    "#plt.figure(figsize =(50,10))\n",
    "plt.plot(A[2] )\n"
   ]
  },
  {
   "cell_type": "code",
   "execution_count": 83,
   "metadata": {},
   "outputs": [
    {
     "data": {
      "text/plain": [
       "True"
      ]
     },
     "execution_count": 83,
     "metadata": {},
     "output_type": "execute_result"
    }
   ],
   "source": [
    "X[]\n",
    "(X[i] != a ) and  (X[i] !=b ) "
   ]
  },
  {
   "cell_type": "code",
   "execution_count": 86,
   "metadata": {},
   "outputs": [
    {
     "data": {
      "text/plain": [
       "True"
      ]
     },
     "execution_count": 86,
     "metadata": {},
     "output_type": "execute_result"
    }
   ],
   "source": []
  },
  {
   "cell_type": "code",
   "execution_count": null,
   "metadata": {},
   "outputs": [],
   "source": []
  }
 ],
 "metadata": {
  "kernelspec": {
   "display_name": "Python 3",
   "language": "python",
   "name": "python3"
  },
  "language_info": {
   "codemirror_mode": {
    "name": "ipython",
    "version": 3
   },
   "file_extension": ".py",
   "mimetype": "text/x-python",
   "name": "python",
   "nbconvert_exporter": "python",
   "pygments_lexer": "ipython3",
   "version": "3.6.4"
  }
 },
 "nbformat": 4,
 "nbformat_minor": 5
}
