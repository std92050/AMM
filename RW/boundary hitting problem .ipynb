{
 "cells": [
  {
   "cell_type": "code",
   "execution_count": 1,
   "id": "066ed55c-1826-4c72-b7b4-ceda8c1b0c65",
   "metadata": {},
   "outputs": [],
   "source": [
    "import numpy  as np\n",
    "import matplotlib.pyplot as plt"
   ]
  },
  {
   "cell_type": "markdown",
   "id": "242eb3d0-0561-4962-9c3a-19a5483e46dd",
   "metadata": {},
   "source": [
    "Consider a simple random walk on $[a,b] \\in \\mathbb{Z}$  with forward\n",
    "probability $p$ , expcept at the boundary , $ p(a,a)=1-p = 1- p(a , a+1)$ and\n",
    "$p(b,b) = p = 1 - p( b , b-1) $ . Define \n",
    "$ m^-_n \\equiv \\sum^n_{k=1} I_{\\{X_{k-1} \\;= a , X_k = a \\}} \\; , \\; \n",
    "m^+_n \\equiv \\sum^n_{k=1} I_{\\{X_{k-1} \\;= b , X_k = b \\}}$ , i.e the numbers\n",
    "of reflection at the boundaries up to time $n$ . We want to know the distribution\n",
    "of $ m^{\\pm}_n$ ."
   ]
  },
  {
   "cell_type": "code",
   "execution_count": null,
   "id": "f1876bd8-e7ff-4b2f-a551-8f8a1cc7c8a4",
   "metadata": {},
   "outputs": [],
   "source": []
  }
 ],
 "metadata": {
  "kernelspec": {
   "display_name": "Python 3 (ipykernel)",
   "language": "python",
   "name": "python3"
  },
  "language_info": {
   "codemirror_mode": {
    "name": "ipython",
    "version": 3
   },
   "file_extension": ".py",
   "mimetype": "text/x-python",
   "name": "python",
   "nbconvert_exporter": "python",
   "pygments_lexer": "ipython3",
   "version": "3.7.16"
  }
 },
 "nbformat": 4,
 "nbformat_minor": 5
}
