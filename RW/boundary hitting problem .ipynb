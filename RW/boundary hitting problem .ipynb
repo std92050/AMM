{
 "cells": [
  {
   "cell_type": "code",
   "execution_count": 1,
   "id": "22274336",
   "metadata": {},
   "outputs": [],
   "source": [
    "import numpy  as np\n",
    "import matplotlib.pyplot as plt"
   ]
  },
  {
   "cell_type": "markdown",
   "id": "3b9dcf98",
   "metadata": {},
   "source": [
    "Consider a simple random walk on $[a,b] \\in \\mathbb{Z}$  with forward\n",
    "probability $p$ , expcept at the boundary , $ p(a,a)=1-p = 1- p(a , a+1)$ and\n",
    "$p(b,b) = p = 1 - p( b , b-1) $ . Define \n",
    "$ m^-_n \\equiv \\sum^n_{k=1} I_{\\{X_{k-1} \\;= a , X_k = a \\}} \\; , \\; \n",
    "m^+_n \\equiv \\sum^n_{k=1} I_{\\{X_{k-1} \\;= b , X_k = b \\}}$ , i.e the numbers\n",
    "of reflection at the boundaries up to time $n$ . We want to know the distribution\n",
    "of $ m^{\\pm}_n$ ."
   ]
  },
  {
   "cell_type": "code",
   "execution_count": 42,
   "id": "db27a223",
   "metadata": {},
   "outputs": [],
   "source": [
    "def walk(p):\n",
    "    alpha = np.random.rand()\n",
    "    if alpha > p :\n",
    "        return -1\n",
    "    else :\n",
    "        return 1\n",
    "# Simulate the Markov chain with interval [a,b] , right fw probability p and time length n\n",
    "def MC(a,b,p,n):\n",
    "    \n",
    "    X=np.zeros(n)\n",
    "    m1=np.zeros(n)\n",
    "    m2=np.zeros(n)\n",
    "    \n",
    "    \n",
    "    i=0\n",
    "    for i in range(n-1) :\n",
    "        D = walk(p)\n",
    "        \n",
    "        #interior\n",
    "        if (X[i] != a ) and  (X[i] != b ) :\n",
    "            \n",
    "            X[i+1] = X[i] + D \n",
    "            m1[i+1] = m1[i]\n",
    "            m2[i+1] = m2[i]\n",
    "        \n",
    "        #left endpoint\n",
    "        elif X[i] == a :\n",
    "            if D == -1 :\n",
    "                X[i+1] = a  \n",
    "                m1[i+1] = m1[i]\n",
    "                m2[i+1]= m2[i] +1\n",
    "               \n",
    "            else :\n",
    "                X[i+1] = X[i] + D\n",
    "                m1[i+1] = m1[i]\n",
    "                m2[i+1] = m2[i]\n",
    "        #right endpoint\n",
    "        elif X[i] == b :\n",
    "            if D == 1 :\n",
    "                X[i+1] = b\n",
    "                m1[i+1]= m1[i] +1\n",
    "                m2[i+1] = m2[i]\n",
    "            else :\n",
    "                X[i+1] = X[i] + D\n",
    "                m1[i+1] = m1[i]\n",
    "                m2[i+1] = m2[i]\n",
    "        i=i+1\n",
    "    return X , m1 , m2"
   ]
  },
  {
   "cell_type": "code",
   "execution_count": 89,
   "id": "fd3d79b5",
   "metadata": {
    "scrolled": true
   },
   "outputs": [],
   "source": [
    "A=MC(-5,5,0.51,n )"
   ]
  },
  {
   "cell_type": "code",
   "execution_count": 90,
   "id": "5ca20909",
   "metadata": {},
   "outputs": [
    {
     "data": {
      "text/plain": [
       "[<matplotlib.lines.Line2D at 0x23fd843e240>]"
      ]
     },
     "execution_count": 90,
     "metadata": {},
     "output_type": "execute_result"
    },
    {
     "data": {
      "image/png": "[encoded data removed]",
      "text/plain": [
       "<matplotlib.figure.Figure at 0x23fd87438d0>"
      ]
     },
     "metadata": {},
     "output_type": "display_data"
    }
   ],
   "source": [
    "#plt.figure(figsize =(50,10))\n",
    "plt.plot(A[1] )\n",
    "plt.plot(A[2] , 'r-' )\n"
   ]
  },
  {
   "cell_type": "code",
   "execution_count": 83,
   "id": "1836bab1",
   "metadata": {},
   "outputs": [
    {
     "data": {
      "text/plain": [
       "True"
      ]
     },
     "execution_count": 83,
     "metadata": {},
     "output_type": "execute_result"
    }
   ],
   "source": [
    "X[]\n",
    "(X[i] != a ) and  (X[i] !=b ) "
   ]
  },
  {
   "cell_type": "code",
   "execution_count": 75,
   "id": "8d7485a8",
   "metadata": {},
   "outputs": [],
   "source": [
    "\n",
    "# run MC N times , record the left and right corssing of N paths\n",
    "def MC2(a,b,p,n , N):\n",
    "    \n",
    "    R_cross = np.zeros((N,n))\n",
    "    L_cross = np.zeros((N,n))\n",
    "    for i in range(N):\n",
    "        data = MC(a,b, p,n )\n",
    "        R_cross[i] = data[1]\n",
    "        L_cross[i] = data[2]\n",
    "    return R_cross , L_cross"
   ]
  },
  {
   "cell_type": "code",
   "execution_count": 101,
   "id": "9d55501d",
   "metadata": {},
   "outputs": [],
   "source": [
    "n = 5000\n",
    "R_cross , L_cross = MC2(-4,4,0.55, n , n+2)"
   ]
  },
  {
   "cell_type": "code",
   "execution_count": 103,
   "id": "2fc4b3a1",
   "metadata": {},
   "outputs": [
    {
     "data": {
      "text/plain": [
       "(array([  3.,   0.,   2.,   0.,   2.,   5.,   3.,   6.,   9.,   3.,  12.,\n",
       "         31.,  17.,  27.,  44.,  20.,  47.,  51.,  33.,  72.,  74.,  41.,\n",
       "         96.,  90.,  61., 126., 123., 143.,  64., 145., 150.,  83., 173.,\n",
       "        169.,  68., 191., 179.,  88., 191., 157.,  70., 168., 179.,  71.,\n",
       "        145., 154.,  75., 154.,  97.,  61.,  96.,  95.,  96.,  47.,  74.,\n",
       "         79.,  35.,  61.,  58.,  28.,  49.,  53.,  20.,  33.,  27.,  11.,\n",
       "         23.,  26.,  10.,  17.,  14.,   6.,  14.,   7.,   7.,   7.,   4.,\n",
       "          3.,   3.,   6.,   1.,   0.,   2.,   2.,   0.,   2.,   1.,   1.,\n",
       "          5.,   2.,   0.,   1.,   0.,   0.,   0.,   0.,   1.,   1.,   0.,\n",
       "          1.]),\n",
       " array([ 33.  ,  34.68,  36.36,  38.04,  39.72,  41.4 ,  43.08,  44.76,\n",
       "         46.44,  48.12,  49.8 ,  51.48,  53.16,  54.84,  56.52,  58.2 ,\n",
       "         59.88,  61.56,  63.24,  64.92,  66.6 ,  68.28,  69.96,  71.64,\n",
       "         73.32,  75.  ,  76.68,  78.36,  80.04,  81.72,  83.4 ,  85.08,\n",
       "         86.76,  88.44,  90.12,  91.8 ,  93.48,  95.16,  96.84,  98.52,\n",
       "        100.2 , 101.88, 103.56, 105.24, 106.92, 108.6 , 110.28, 111.96,\n",
       "        113.64, 115.32, 117.  , 118.68, 120.36, 122.04, 123.72, 125.4 ,\n",
       "        127.08, 128.76, 130.44, 132.12, 133.8 , 135.48, 137.16, 138.84,\n",
       "        140.52, 142.2 , 143.88, 145.56, 147.24, 148.92, 150.6 , 152.28,\n",
       "        153.96, 155.64, 157.32, 159.  , 160.68, 162.36, 164.04, 165.72,\n",
       "        167.4 , 169.08, 170.76, 172.44, 174.12, 175.8 , 177.48, 179.16,\n",
       "        180.84, 182.52, 184.2 , 185.88, 187.56, 189.24, 190.92, 192.6 ,\n",
       "        194.28, 195.96, 197.64, 199.32, 201.  ]),\n",
       " <a list of 100 Patch objects>)"
      ]
     },
     "execution_count": 103,
     "metadata": {},
     "output_type": "execute_result"
    },
    {
     "data": {
      "image/png": "[encoded data removed]",
      "text/plain": [
       "<matplotlib.figure.Figure at 0x23fdcf04320>"
      ]
     },
     "metadata": {},
     "output_type": "display_data"
    }
   ],
   "source": [
    "fig , ax = plt.subplots(3,2 ,  figsize=(12,5))\n",
    "ax[0,0].hist(R_cross[:,1000] , bins =100)\n",
    "ax[0,1].hist(L_cross[:,1000] , bins =100)\n",
    "ax[1,0].hist(R_cross[:,2500] , bins =100)\n",
    "ax[1,1].hist(L_cross[:,2500] , bins =100)\n",
    "ax[2,0].hist(R_cross[:,4990] , bins =100)\n",
    "ax[2,1].hist(L_cross[:,4990] , bins =100)"
   ]
  },
  {
   "cell_type": "code",
   "execution_count": 96,
   "id": "7f50a306",
   "metadata": {},
   "outputs": [
    {
     "data": {
      "text/plain": [
       "330.61475409836066"
      ]
     },
     "execution_count": 96,
     "metadata": {},
     "output_type": "execute_result"
    }
   ],
   "source": [
    "np.mean(R_cross[:,n-1])"
   ]
  },
  {
   "cell_type": "code",
   "execution_count": null,
   "id": "6c17fb45",
   "metadata": {},
   "outputs": [],
   "source": []
  }
 ],
 "metadata": {
  "kernelspec": {
   "display_name": "Python 3 (ipykernel)",
   "language": "python",
   "name": "python3"
  },
  "language_info": {
   "codemirror_mode": {
    "name": "ipython",
    "version": 3
   },
   "file_extension": ".py",
   "mimetype": "text/x-python",
   "name": "python",
   "nbconvert_exporter": "python",
   "pygments_lexer": "ipython3",
   "version": "3.10.13"
  }
 },
 "nbformat": 4,
 "nbformat_minor": 5
}
