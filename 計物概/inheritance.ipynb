{
 "cells": [
  {
   "cell_type": "code",
   "execution_count": 49,
   "metadata": {},
   "outputs": [],
   "source": [
    "class Card:\n",
    "    def __init__(self,suit=0,rank=1):\n",
    "        self.suit=suit\n",
    "        self.rank=rank\n",
    "    \n",
    "    suit_name=[\"SR\",\"R\",\"G\",\"N\",\"T\"]\n",
    "    rank_name=[\"一頁書\",\"不二做\",\"問天譴\",\"snake\",\"空我\",\"城戶真司\",\"火野映司\",\"剎那F賽耶\",\"夏亞\"]\n",
    "    def __str__(self):\n",
    "        return \"%s of %s\"%(Card.rank_name[self.rank],Card.suit_name[self.suit])"
   ]
  },
  {
   "cell_type": "code",
   "execution_count": 33,
   "metadata": {
    "scrolled": true
   },
   "outputs": [
    {
     "name": "stdout",
     "output_type": "stream",
     "text": [
      "城戶真司 of R\n"
     ]
    }
   ],
   "source": [
    "a =Card(1,5)\n",
    "print(a)\n"
   ]
  },
  {
   "cell_type": "code",
   "execution_count": 68,
   "metadata": {},
   "outputs": [],
   "source": [
    "class Deck:\n",
    "    def __init__(self):\n",
    "        self.card=[]\n",
    "        for suit in range(5):\n",
    "            for rank in range(9):\n",
    "                cd=Card(suit,rank)\n",
    "                self.card.append(cd)\n",
    "    def __str__(self):\n",
    "        res = []\n",
    "        for card in self.card:\n",
    "            res.append(str(card))\n",
    "        return '\\n'.join(res)\n",
    "        "
   ]
  },
  {
   "cell_type": "code",
   "execution_count": 73,
   "metadata": {},
   "outputs": [
    {
     "name": "stdout",
     "output_type": "stream",
     "text": [
      "一頁書 of SR\n",
      "不二做 of SR\n",
      "問天譴 of SR\n",
      "snake of SR\n",
      "空我 of SR\n",
      "城戶真司 of SR\n",
      "火野映司 of SR\n",
      "剎那F賽耶 of SR\n",
      "夏亞 of SR\n",
      "一頁書 of R\n",
      "不二做 of R\n",
      "問天譴 of R\n",
      "snake of R\n",
      "空我 of R\n",
      "城戶真司 of R\n",
      "火野映司 of R\n",
      "剎那F賽耶 of R\n",
      "夏亞 of R\n",
      "一頁書 of G\n",
      "不二做 of G\n",
      "問天譴 of G\n",
      "snake of G\n",
      "空我 of G\n",
      "城戶真司 of G\n",
      "火野映司 of G\n",
      "剎那F賽耶 of G\n",
      "夏亞 of G\n",
      "一頁書 of N\n",
      "不二做 of N\n",
      "問天譴 of N\n",
      "snake of N\n",
      "空我 of N\n",
      "城戶真司 of N\n",
      "火野映司 of N\n",
      "剎那F賽耶 of N\n",
      "夏亞 of N\n",
      "一頁書 of T\n",
      "不二做 of T\n",
      "問天譴 of T\n",
      "snake of T\n",
      "空我 of T\n",
      "城戶真司 of T\n",
      "火野映司 of T\n",
      "剎那F賽耶 of T\n",
      "夏亞 of T\n"
     ]
    },
    {
     "data": {
      "text/plain": [
       "'夏亞 of T'"
      ]
     },
     "execution_count": 73,
     "metadata": {},
     "output_type": "execute_result"
    }
   ],
   "source": [
    "d=Deck()\n",
    "print(d)\n",
    "a=d.card.pop()\n",
    "str(a)"
   ]
  },
  {
   "cell_type": "code",
   "execution_count": 63,
   "metadata": {},
   "outputs": [
    {
     "name": "stdout",
     "output_type": "stream",
     "text": [
      "d \n",
      " d\n"
     ]
    }
   ],
   "source": []
  },
  {
   "cell_type": "code",
   "execution_count": null,
   "metadata": {},
   "outputs": [],
   "source": []
  }
 ],
 "metadata": {
  "kernelspec": {
   "display_name": "Python 3",
   "language": "python",
   "name": "python3"
  },
  "language_info": {
   "codemirror_mode": {
    "name": "ipython",
    "version": 3
   },
   "file_extension": ".py",
   "mimetype": "text/x-python",
   "name": "python",
   "nbconvert_exporter": "python",
   "pygments_lexer": "ipython3",
   "version": "3.6.4"
  }
 },
 "nbformat": 4,
 "nbformat_minor": 2
}
