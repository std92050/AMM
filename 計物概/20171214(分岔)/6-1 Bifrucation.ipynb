{
 "cells": [
  {
   "cell_type": "code",
   "execution_count": 25,
   "metadata": {},
   "outputs": [
    {
     "data": {
      "image/png": "[encoded data removed]",
      "text/plain": [
       "<matplotlib.figure.Figure at 0x90d0d68>"
      ]
     },
     "metadata": {},
     "output_type": "display_data"
    }
   ],
   "source": [
    "%matplotlib inline\n",
    "import numpy as np\n",
    "import matplotlib.pyplot as plt\n",
    "#定義怎麼map\n",
    "def map(x,a):\n",
    "    return a*x*(1-x)\n",
    "#從哪開始跑  \n",
    "x=0.5\n",
    "#要跑的阿法\n",
    "a=np.linspace(1, 4, 301)\n",
    "\n",
    "#跑每個阿法\n",
    "for k in a:\n",
    " #y用來裝平衡後的值 K(大)用來裝 k(小) 每個阿法值都用新的   \n",
    "    y=[] \n",
    "    K=[]\n",
    "    #先跑到平衡後的狀態\n",
    "    for i in range(1000):\n",
    "        x=map(x,k)\n",
    "    #蒐集平衡後100個點\n",
    "    for i in range(100):\n",
    "        \n",
    "        y.append(x)\n",
    "        x=map(x,k)\n",
    "     #讓 K 和 y 數木一樣才能做圖   \n",
    "    for j in range(100):\n",
    "            K.append(k)   \n",
    "    #每個 k 對應的 y 灑在圖上 跑完每個阿法就能灑滿\n",
    "    plt.scatter(K,y,color='blue')\n",
    "    \n",
    "    \n",
    "    \n",
    "    \n",
    "    \n",
    "    \n",
    "        \n",
    "        \n",
    "    \n",
    "\n",
    "    \n",
    "    \n",
    "    \n"
   ]
  },
  {
   "cell_type": "code",
   "execution_count": null,
   "metadata": {
    "collapsed": true
   },
   "outputs": [],
   "source": []
  },
  {
   "cell_type": "code",
   "execution_count": null,
   "metadata": {
    "collapsed": true
   },
   "outputs": [],
   "source": []
  }
 ],
 "metadata": {
  "kernelspec": {
   "display_name": "Python 3",
   "language": "python",
   "name": "python3"
  },
  "language_info": {
   "codemirror_mode": {
    "name": "ipython",
    "version": 3
   },
   "file_extension": ".py",
   "mimetype": "text/x-python",
   "name": "python",
   "nbconvert_exporter": "python",
   "pygments_lexer": "ipython3",
   "version": "3.6.4"
  }
 },
 "nbformat": 4,
 "nbformat_minor": 2
}
