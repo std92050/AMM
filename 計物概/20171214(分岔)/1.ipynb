{
 "cells": [
  {
   "cell_type": "code",
   "execution_count": null,
   "metadata": {
    "collapsed": true
   },
   "outputs": [],
   "source": []
  },
  {
   "cell_type": "code",
   "execution_count": 1,
   "metadata": {},
   "outputs": [
    {
     "data": {
      "application/javascript": [
       "require.undef(\"nbextensions/vpython_libraries/glow.min\");"
      ],
      "text/plain": [
       "<IPython.core.display.Javascript object>"
      ]
     },
     "metadata": {},
     "output_type": "display_data"
    },
    {
     "data": {
      "application/javascript": [
       "require.undef(\"nbextensions/vpython_libraries/glowcomm\");"
      ],
      "text/plain": [
       "<IPython.core.display.Javascript object>"
      ]
     },
     "metadata": {},
     "output_type": "display_data"
    },
    {
     "data": {
      "application/javascript": [
       "require.undef(\"nbextensions/vpython_libraries/jquery-ui.custom.min\");"
      ],
      "text/plain": [
       "<IPython.core.display.Javascript object>"
      ]
     },
     "metadata": {},
     "output_type": "display_data"
    },
    {
     "data": {
      "application/javascript": [
       "require([\"nbextensions/vpython_libraries/glow.min\"], function(){console.log(\"GLOW LOADED\");})"
      ],
      "text/plain": [
       "<IPython.core.display.Javascript object>"
      ]
     },
     "metadata": {},
     "output_type": "display_data"
    },
    {
     "data": {
      "application/javascript": [
       "require([\"nbextensions/vpython_libraries/glowcomm\"], function(){console.log(\"GLOWCOMM LOADED\");})"
      ],
      "text/plain": [
       "<IPython.core.display.Javascript object>"
      ]
     },
     "metadata": {},
     "output_type": "display_data"
    },
    {
     "data": {
      "application/javascript": [
       "require([\"nbextensions/vpython_libraries/jquery-ui.custom.min\"], function(){console.log(\"JQUERY LOADED\");})"
      ],
      "text/plain": [
       "<IPython.core.display.Javascript object>"
      ]
     },
     "metadata": {},
     "output_type": "display_data"
    },
    {
     "data": {
      "text/html": [
       "<div id=\"glowscript\" class=\"glowscript\"></div>"
      ],
      "text/plain": [
       "<IPython.core.display.HTML object>"
      ]
     },
     "metadata": {},
     "output_type": "display_data"
    },
    {
     "data": {
      "application/javascript": [
       "window.__context = { glowscript_container: $(\"#glowscript\").removeAttr(\"id\")}"
      ],
      "text/plain": [
       "<IPython.core.display.Javascript object>"
      ]
     },
     "metadata": {},
     "output_type": "display_data"
    },
    {
     "name": "stdout",
     "output_type": "stream",
     "text": [
      "initial velocity: 25\n",
      "angle thrown: 0.7853981633974483\n",
      "seconds in flight: 3.8199999999999625\n",
      "distance in the x direction: 75.16869760331456\n"
     ]
    }
   ],
   "source": [
    "from vpython import*\n",
    "arrow1=arrow(pos=vector(10,10,10),axis=vector(100,0,0),color=color.blue)\n",
    "arrow2=arrow(pos=vector(10,10,10),axis=vector(0,100,0),color=color.red)\n",
    "arrow3=arrow(pos=vector(10,10,10),axis=vector(0,0,100),color=color.white)\n",
    "from math import *\n",
    "from vpython import *\n",
    "\n",
    "scene.autoscale = 0\n",
    "scene.range=110\n",
    "\n",
    "ball = sphere(pos=vector(0,2,0),radius=2, color=color.green)\n",
    "ground = box(pos=vector(50,-1,0),size=vector(100,2,50))\n",
    "\n",
    "\n",
    "gravity = 9.8  # m/s**2\n",
    "velocity = 25   # m/s\n",
    "angle = 45     # degrees\n",
    "angle = angle * (pi/180) # converted to radians\n",
    "\n",
    "# sin = opp / hyp\n",
    "# cos = adj / hyp\n",
    "\n",
    "# therefore\n",
    "\n",
    "# opp = hyp * sin\n",
    "# adj = hyp * cos\n",
    "\n",
    "VelocityY = velocity * sin(angle)\n",
    "VelocityX = velocity * cos(angle)\n",
    "VelocityZ = 0\n",
    "\n",
    "VelocityThrown = vector(VelocityX,VelocityY,0)\n",
    "\n",
    "VelocityWind = vector(2,1,-5)\n",
    "\n",
    "TotalVelocity = VelocityThrown + VelocityWind\n",
    "\n",
    "seconds = 0\n",
    "dt = .01\n",
    "\n",
    "finished = False\n",
    "while not finished:\n",
    "    rate(100) # go thru the loop no more than 100 times/s\n",
    "    seconds += dt\n",
    "\n",
    "    # position equation: y(t) = y0 + v0*t + .5 * a * t**2\n",
    "    ballY = 2 + TotalVelocity.y * seconds - .5 * gravity * seconds**2\n",
    "    ballX = TotalVelocity.x * seconds\n",
    "    ballZ = TotalVelocity.z * seconds\n",
    "\n",
    "    ball.pos = vector(ballX,ballY,ballZ)\n",
    "\n",
    "    if ballY - 2 <= 0:\n",
    "        finished = True\n",
    "        print (\"initial velocity: \" + str(velocity))\n",
    "        print (\"angle thrown: \" + str(angle))\n",
    "        print (\"seconds in flight: \" + str(seconds))\n",
    "        print (\"distance in the x direction: \" + str(ballX))\n",
    "        mylabel1 = label(pos=vector(50,60,0),text=\"seconds in flight: \" + str(seconds),height=26)\n",
    "        mylabel2 = label(pos=vector(50,100,0),text=\"distance in the x direction: \" + str(ballX),height=30)"
   ]
  },
  {
   "cell_type": "code",
   "execution_count": 2,
   "metadata": {
    "collapsed": true
   },
   "outputs": [],
   "source": []
  },
  {
   "cell_type": "code",
   "execution_count": 3,
   "metadata": {
    "collapsed": true
   },
   "outputs": [],
   "source": []
  },
  {
   "cell_type": "code",
   "execution_count": null,
   "metadata": {
    "collapsed": true
   },
   "outputs": [],
   "source": []
  }
 ],
 "metadata": {
  "kernelspec": {
   "display_name": "VPython",
   "language": "python",
   "name": "vpython"
  },
  "language_info": {
   "codemirror_mode": {
    "name": "ipython",
    "version": 3
   },
   "file_extension": ".py",
   "mimetype": "text/x-python",
   "name": "python",
   "nbconvert_exporter": "python",
   "pygments_lexer": "ipython3",
   "version": "3.6.1"
  }
 },
 "nbformat": 4,
 "nbformat_minor": 2
}
