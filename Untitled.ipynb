{
 "cells": [
  {
   "cell_type": "code",
   "execution_count": 1,
   "metadata": {},
   "outputs": [
    {
     "ename": "SyntaxError",
     "evalue": "invalid syntax (<ipython-input-1-b5ad22400fc4>, line 6)",
     "output_type": "error",
     "traceback": [
      "\u001b[1;36m  File \u001b[1;32m\"<ipython-input-1-b5ad22400fc4>\"\u001b[1;36m, line \u001b[1;32m6\u001b[0m\n\u001b[1;33m    =color.white)\u001b[0m\n\u001b[1;37m    ^\u001b[0m\n\u001b[1;31mSyntaxError\u001b[0m\u001b[1;31m:\u001b[0m invalid syntax\n"
     ]
    }
   ],
   "source": [
    "from vpython import*\n",
    "import math\n",
    "import numpy as n\n",
    "\n",
    "arrow1=arrow(pos=vector(0,0,0),axis=vector(10,0,0),color=color.blue)\n",
    "=color.white)\n",
    "\n",
    "ball = sphere(pos=vector(0,0,0),radius=5, color=color.green,make_trail=True)\n",
    "    \n",
    " \n",
    "\n",
    "for i in n.arange(0,100,0.001):\n",
    "        rate(1000)\n",
    "        x=60*(math.exp(-40*i))\n",
    "        y=70*math.exp(-40*i)\n",
    "        ball.pos=vector(x,y,0)\n",
    "      \n",
    "\n",
    "\n"
   ]
  },
  {
   "cell_type": "code",
   "execution_count": null,
   "metadata": {},
   "outputs": [],
   "source": []
  }
 ],
 "metadata": {
  "kernelspec": {
   "display_name": "Python 3",
   "language": "python",
   "name": "python3"
  },
  "language_info": {
   "codemirror_mode": {
    "name": "ipython",
    "version": 3
   },
   "file_extension": ".py",
   "mimetype": "text/x-python",
   "name": "python",
   "nbconvert_exporter": "python",
   "pygments_lexer": "ipython3",
   "version": "3.6.4"
  }
 },
 "nbformat": 4,
 "nbformat_minor": 2
}
