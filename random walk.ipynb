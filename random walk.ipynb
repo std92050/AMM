{
 "cells": [
  {
   "cell_type": "code",
   "execution_count": 8,
   "metadata": {},
   "outputs": [
    {
     "name": "stdout",
     "output_type": "stream",
     "text": [
      "(2, 0) distance from home= 2.0\n",
      "(-2, -2) distance from home= 2.8284271247461903\n",
      "(0, 2) distance from home= 2.0\n",
      "(3, 1) distance from home= 3.1622776601683795\n",
      "(1, -3) distance from home= 3.1622776601683795\n",
      "(-1, 1) distance from home= 1.4142135623730951\n",
      "(6, 0) distance from home= 6.0\n",
      "(0, -2) distance from home= 2.0\n",
      "(0, 2) distance from home= 2.0\n",
      "(0, 4) distance from home= 4.0\n",
      "(-3, -1) distance from home= 3.1622776601683795\n",
      "(-2, -2) distance from home= 2.8284271247461903\n",
      "(-4, 0) distance from home= 4.0\n",
      "(-3, 1) distance from home= 3.1622776601683795\n",
      "(-2, -2) distance from home= 2.8284271247461903\n",
      "(1, 1) distance from home= 1.4142135623730951\n",
      "(1, -3) distance from home= 3.1622776601683795\n",
      "(2, 0) distance from home= 2.0\n",
      "(0, 0) distance from home= 0.0\n",
      "(4, 0) distance from home= 4.0\n",
      "(1, 1) distance from home= 1.4142135623730951\n",
      "(0, 2) distance from home= 2.0\n",
      "(0, 2) distance from home= 2.0\n",
      "(-1, 1) distance from home= 1.4142135623730951\n",
      "(2, 0) distance from home= 2.0\n"
     ]
    }
   ],
   "source": [
    "import random as rd\n",
    "def rd_walk(n):\n",
    "    x=0\n",
    "    y=0\n",
    "    for i in range(n):\n",
    "        step=rd.choice(['N','S','W','E'])\n",
    "        if step == 'N':\n",
    "            y+=1\n",
    "        elif step =='W':\n",
    "            x+=1\n",
    "        elif step =='S':\n",
    "            x-=1\n",
    "        else:\n",
    "            y-=1\n",
    "    return (x,y)\n",
    "for i in range(25):\n",
    "    walk = rd_walk(10)\n",
    "    print(walk,\"distance from home=\",(walk[0]**2+walk[1]**2)**(1/2))\n",
    "        \n",
    "    "
   ]
  },
  {
   "cell_type": "code",
   "execution_count": 9,
   "metadata": {},
   "outputs": [],
   "source": [
    "def rd_walk2(n):\n",
    "    x,y =0,0\n",
    "    for i in range(n):\n",
    "        (dx,dy)=rd.choice([(0,1),(1,0),(-1,0),(0,-1)])\n",
    "    "
   ]
  },
  {
   "cell_type": "code",
   "execution_count": null,
   "metadata": {},
   "outputs": [],
   "source": []
  }
 ],
 "metadata": {
  "kernelspec": {
   "display_name": "Python 3",
   "language": "python",
   "name": "python3"
  },
  "language_info": {
   "codemirror_mode": {
    "name": "ipython",
    "version": 3
   },
   "file_extension": ".py",
   "mimetype": "text/x-python",
   "name": "python",
   "nbconvert_exporter": "python",
   "pygments_lexer": "ipython3",
   "version": "3.6.4"
  }
 },
 "nbformat": 4,
 "nbformat_minor": 2
}
