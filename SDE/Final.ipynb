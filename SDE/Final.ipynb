{
 "cells": [
  {
   "cell_type": "code",
   "execution_count": 5,
   "id": "df92ae04-ffd1-4a34-985c-d2b72b8b4297",
   "metadata": {},
   "outputs": [],
   "source": [
    "import numpy as np\n",
    "import matplotlib.pyplot as plt\n",
    "import scipy as sci\n",
    "import scipy.integrate as integrate\n",
    "import scipy.stats as stats"
   ]
  },
  {
   "cell_type": "markdown",
   "id": "babaafe4-0dd7-4be6-9620-f654cb5beb1e",
   "metadata": {},
   "source": [
    "### Parameters and initial coditions"
   ]
  },
  {
   "cell_type": "code",
   "execution_count": 7,
   "id": "9bcddba0-9f14-4f26-bf92-faa11918eb0d",
   "metadata": {},
   "outputs": [],
   "source": [
    "kp = 1.1\n",
    "km = 0.1\n",
    "k2 = 0.8\n",
    "S0=100\n",
    "E0 =100\n",
    "C0=1\n",
    "P0=1\n",
    "t=0"
   ]
  },
  {
   "cell_type": "markdown",
   "id": "b3d3f772-2b32-441c-a549-85d3322d0495",
   "metadata": {},
   "source": [
    "### Gillespie algorithm"
   ]
  },
  {
   "cell_type": "code",
   "execution_count": null,
   "id": "217ba9e1-9b05-48ed-9f5b-86de196574f3",
   "metadata": {},
   "outputs": [],
   "source": []
  },
  {
   "cell_type": "markdown",
   "id": "28260e49-9a2c-44cd-9020-0708b6e2d111",
   "metadata": {
    "tags": []
   },
   "source": [
    "### Euler method"
   ]
  },
  {
   "cell_type": "code",
   "execution_count": 8,
   "id": "b7d4c6b5-0aed-4d22-823b-8fb016f63505",
   "metadata": {},
   "outputs": [],
   "source": [
    "t_end= 10000\n",
    "step_size = 0.1"
   ]
  },
  {
   "cell_type": "code",
   "execution_count": null,
   "id": "3f0f022b-ea6a-4605-9f36-e85f44701157",
   "metadata": {},
   "outputs": [],
   "source": [
    "def R_Euler(kp, km , k2 ,S0, E0 , C0 , P0):\n",
    "    \n",
    "    #initial setting\n",
    "    t_array = np.zeros( int(t_end/step_size) +1 )\n",
    "    S_array = np.zeros( int(t_end/step_size) +1 )\n",
    "    E_array = np.zeros( int(t_end/step_size) +1 )\n",
    "    C_array = np.zeros( int(t_end/step_size) +1 )\n",
    "    P_array = np.zeros( int(t_end/step_size) +1 )    \n",
    "    \n",
    "    j=0\n",
    "    t_array[j] = 0\n",
    "    S_array[j] = S0\n",
    "    E_array[j] = E0\n",
    "    C_array[j] = C0\n",
    "    P_array[j] = P0\n",
    "    #start the process\n",
    "    while t <= t_end :\n",
    "        j= j+1\n",
    "        Wp  , Wm , W2 = np.random.normal(0,step_size**2,3)\n",
    "        dS = (-kp*S*E + km *C)*step_size + ( -np.sqrt(kp*S*E)*Wp + np.sqrt(km*C)*Wm)\n",
    "        dE = (-kp*S*E + km *C + k2*C)*step_size + ( -np.sqrt(kp*S*E)*Wp + np.sqrt(km*C)*Wm + np.sqrt(k2*C)*W2)\n",
    "        dC = -dE\n",
    "        dP = km *C*step_size+ np.sqrt(k2*C)*W2\n",
    "        \n",
    "        S = S + dS\n",
    "        E = E + dE\n",
    "        C = C + dC\n",
    "        P = P + dP\n",
    "        t = t + step_size\n",
    "        t_array[j] = t\n",
    "        S_array[j] = S\n",
    "        E_array[j] = E\n",
    "        C_array[j] = C\n",
    "        P_array[j] = P\n",
    "        \n",
    "    return t_array , S_array , E_array , C_array  , P_array "
   ]
  },
  {
   "cell_type": "markdown",
   "id": "ca53edb9-a106-4784-b341-2317c4212e46",
   "metadata": {},
   "source": [
    "### Tau-leaping method"
   ]
  },
  {
   "cell_type": "code",
   "execution_count": null,
   "id": "439addb3-0f98-48cb-bc70-131a445d3881",
   "metadata": {},
   "outputs": [],
   "source": []
  },
  {
   "cell_type": "markdown",
   "id": "56ca603a-0a6b-4c8c-b539-03d26c467a47",
   "metadata": {},
   "source": [
    "### Two time scale stochastic simulation"
   ]
  },
  {
   "cell_type": "code",
   "execution_count": null,
   "id": "c8f84fe5-2ad2-47ac-80dc-c6dea0022b59",
   "metadata": {},
   "outputs": [],
   "source": []
  }
 ],
 "metadata": {
  "kernelspec": {
   "display_name": "Python 3 (ipykernel)",
   "language": "python",
   "name": "python3"
  },
  "language_info": {
   "codemirror_mode": {
    "name": "ipython",
    "version": 3
   },
   "file_extension": ".py",
   "mimetype": "text/x-python",
   "name": "python",
   "nbconvert_exporter": "python",
   "pygments_lexer": "ipython3",
   "version": "3.7.16"
  }
 },
 "nbformat": 4,
 "nbformat_minor": 5
}
