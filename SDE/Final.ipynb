{
 "cells": [
  {
   "cell_type": "markdown",
   "metadata": {},
   "source": [
    "## Michaelis-Menten kinetics\n",
    "$$\n",
    "\\begin{aligned}\n",
    "    S + E  &\\xrightarrow{k_p} C \\\\\n",
    "    C  &\\xrightarrow{k_m} S + E \\\\\n",
    "     C &\\xrightarrow{k_2} P + E\n",
    "\\end{aligned}\n",
    "$$"
   ]
  },
  {
   "cell_type": "code",
   "execution_count": 1,
   "metadata": {},
   "outputs": [],
   "source": [
    "import numpy as np\n",
    "import matplotlib.pyplot as plt\n",
    "import scipy as sci\n",
    "import scipy.integrate as integrate\n",
    "import scipy.stats as stats"
   ]
  },
  {
   "cell_type": "markdown",
   "metadata": {},
   "source": [
    "### Parameters and initial coditions"
   ]
  },
  {
   "cell_type": "code",
   "execution_count": 2,
   "metadata": {},
   "outputs": [],
   "source": [
    "kp = 1.1\n",
    "km = 0.1\n",
    "k2 = 0.8\n",
    "S0=100\n",
    "E0 =100\n",
    "C0=1\n",
    "P0=1\n",
    "\n",
    "#set the duration to be 10 seconds\n",
    "t_end= 10"
   ]
  },
  {
   "cell_type": "markdown",
   "metadata": {},
   "source": [
    "### Gillespie algorithm"
   ]
  },
  {
   "cell_type": "code",
   "execution_count": 48,
   "metadata": {},
   "outputs": [],
   "source": [
    "t_sample = 0.0001*max(1/kp , 1/km , 1/k2  )"
   ]
  },
  {
   "cell_type": "code",
   "execution_count": 49,
   "metadata": {},
   "outputs": [],
   "source": [
    "def R_Gillespie(kp, km , k2 ,S0, E0 , C0 , P0) :\n",
    "    \n",
    "    #initial setting\n",
    "    S = S0\n",
    "    E = E0\n",
    "    C = C0 \n",
    "    P = P0\n",
    " \n",
    "    t_array = np.zeros(int( t_end/t_sample) +1 )\n",
    "    S_array = np.zeros( int(t_end/t_sample) +1)\n",
    "    E_array = np.zeros( int(t_end/t_sample) +1)\n",
    "    C_array = np.zeros( int(t_end/t_sample) +1)\n",
    "    P_array = np.zeros( int(t_end/t_sample) +1)    \n",
    "    \n",
    "    j=0\n",
    "    t=0\n",
    "    t_array[j] = 0\n",
    "    S_array[j] = S\n",
    "    E_array[j] = E\n",
    "    C_array[j] = C\n",
    "    P_array[j] = P\n",
    "    while t < t_end :\n",
    "        \n",
    "        a = [kp*S*E , km*C , k2*C ]\n",
    "        a0 = sum(a)\n",
    "        \n",
    "        # no reaction , all quantity remain constant\n",
    "        if a0 == 0 :\n",
    "            t = t + t_sample\n",
    "            \n",
    "        if a0 != 0 :\n",
    "            r1 , r2 = np.random.rand(2)\n",
    "    \n",
    "            while r1 ==0:\n",
    "                r1 = np.random.rand()\n",
    "\n",
    "            t_next = (1/a0)*(  np.log(1/r1))  \n",
    "            t = t + t_next\n",
    "\n",
    "            i = 0\n",
    "            mu = 0\n",
    "            amu = 0 \n",
    "            while amu < r2*a0 : \n",
    "                mu = mu + 1\n",
    "                amu = amu + a[i]\n",
    "                i = i+1\n",
    "\n",
    "            if mu == 1:\n",
    "                S = S-1\n",
    "                E = E-1\n",
    "                C = C+1\n",
    "            elif mu ==2 :\n",
    "                S = S +1\n",
    "                E = E +1\n",
    "                C = C - 1\n",
    "            else :\n",
    "                C = C - 1\n",
    "                P = P + 1\n",
    "                E = E + 1\n",
    "\n",
    "            if t > t_end:\n",
    "                print('done')\n",
    "                break\n",
    "        \n",
    "        while t > j*t_sample and j < int( t_end/t_sample) : \n",
    "            j = j+1\n",
    "            t_array[j] = j*t_sample\n",
    "            S_array[j] = S\n",
    "            E_array[j] = E\n",
    "            C_array[j] = C\n",
    "            P_array[j] = P\n",
    "            \n",
    "            print(j)\n",
    "\n",
    "    return  t_array , S_array , E_array , C_array  , P_array  "
   ]
  },
  {
   "cell_type": "code",
   "execution_count": null,
   "metadata": {},
   "outputs": [],
   "source": [
    "t_Gillespie_array , S_Gillespie_array , E_Gillespie_array , C_Gillespie_array  , P_Gillespie_array = R_Gillespie(kp, km , k2 ,S0, E0 , C0 , P0)"
   ]
  },
  {
   "cell_type": "code",
   "execution_count": null,
   "metadata": {},
   "outputs": [],
   "source": []
  },
  {
   "cell_type": "markdown",
   "metadata": {
    "tags": []
   },
   "source": [
    "### Euler method\n",
    "Applying Euler method to the Langvin equation:\n",
    "$$\n",
    "\\begin{align*}\n",
    "\\Delta X_S(t_i) &= \n",
    "- \\big(k_p X_S(t_i)X_E(t_i) + k_m X_C(t_i) \\big) \\Delta t + \\big(-\\sqrt{ k_p X_S(t_i) X_E(t_i) } \\; \\big) \\Delta W_1(t_i) + \\sqrt{k_m X_C(t_i)} \\Delta W_2(t_i) \\\\\n",
    "\\Delta X_E(t_i) &= \n",
    "- \\big(k_p X_S(t_i)X_E(t_i) + (k_m + k_2) X_C(t_i) \\big) \\Delta t + \\big(-\\sqrt{ k_p X_S(t_i) X_E(t_i) } \\; \\big) \\Delta W_1(t_i) + \\sqrt{k_m X_C(t_i)} \\Delta W_2(t_i) + \\sqrt{k_2 X_C(t_i)} \\Delta W_3(t_i)\n",
    "\\\\\n",
    "\\Delta X_C(t_i) &= - \\Delta X_E(t_i) \n",
    "\\\\\n",
    "\\Delta X_P(t_i) &= \n",
    "k_2 X_C(t_i) \\Delta t + \\sqrt{k_2 X_C(t_i)} \\Delta W_3(t_i)\n",
    "\\\\\n",
    "\\end{align*}\n",
    "$$"
   ]
  },
  {
   "cell_type": "code",
   "execution_count": 10,
   "metadata": {},
   "outputs": [],
   "source": [
    "#set Δt\n",
    "step_size = 0.001"
   ]
  },
  {
   "cell_type": "code",
   "execution_count": 8,
   "metadata": {},
   "outputs": [],
   "source": [
    "def R_Euler(kp, km , k2 ,S0, E0 , C0 , P0):\n",
    "    \n",
    "    #initial setting\n",
    "    t_array = np.zeros( int(t_end/step_size) +1 )\n",
    "    S_array = np.zeros( int(t_end/step_size) +1 )\n",
    "    E_array = np.zeros( int(t_end/step_size) +1 )\n",
    "    C_array = np.zeros( int(t_end/step_size) +1 )\n",
    "    P_array = np.zeros( int(t_end/step_size) +1 )    \n",
    "    t=0\n",
    "    j=0\n",
    "    S = S0\n",
    "    E = E0\n",
    "    C = C0\n",
    "    P = P0\n",
    "    t_array[j] = 0\n",
    "    S_array[j] = S0\n",
    "    E_array[j] = E0\n",
    "    C_array[j] = C0\n",
    "    P_array[j] = P0\n",
    "    \n",
    "    #start the process\n",
    "    while j < t_end/step_size  :\n",
    "        print(j , t,S,E,C,P)\n",
    "        j= j+1\n",
    "        Wp  , Wm , W2 = np.random.normal(0,step_size**2,3)\n",
    "        dS = (-kp*S*E + km *C)*step_size + ( -np.sqrt(kp*S*E)*Wp + np.sqrt(km*C)*Wm )\n",
    "        dE = (-kp*S*E + km *C + k2*C)*step_size + ( -np.sqrt(kp*S*E)*Wp + np.sqrt(km*C)*Wm + np.sqrt(k2*C)*W2)\n",
    "        dC = -dE\n",
    "        dP = k2*C*step_size+ np.sqrt(k2*C)*W2\n",
    "        \n",
    "        S = max (S + dS , 0 )\n",
    "        E = max (E + dE , 0)\n",
    "        C = max(C + dC , 0)\n",
    "        P = max(P + dP , 0)\n",
    "        \n",
    "        t = t + step_size\n",
    "       \n",
    "        t_array[j] = t\n",
    "        S_array[j] = S\n",
    "        E_array[j] = E\n",
    "        C_array[j] = C\n",
    "        P_array[j] = P\n",
    "        \n",
    "    return t_array , S_array , E_array , C_array  , P_array "
   ]
  },
  {
   "cell_type": "code",
   "execution_count": null,
   "metadata": {
    "jupyter": {
     "outputs_hidden": true
    }
   },
   "outputs": [],
   "source": [
    " t_Euler_array , S_Euler_array , E_Euler_array , C_Euler_array  , P_Euler_array  = R_Euler(kp, km , k2 ,S0, E0 , C0 , P0)"
   ]
  },
  {
   "cell_type": "code",
   "execution_count": null,
   "metadata": {},
   "outputs": [],
   "source": []
  },
  {
   "cell_type": "code",
   "execution_count": null,
   "metadata": {},
   "outputs": [],
   "source": []
  },
  {
   "cell_type": "markdown",
   "metadata": {},
   "source": [
    "### Tau-leaping method\n",
    "Given $\\varepsilon>0$ , choose a leaping time $\\tau$ which depends on current state by :\n",
    "$$\n",
    "\\tau = \\min ( \\frac{\\varepsilon a_0}{ \\lvert k_p \\xi_S X_E + k_p \\xi_E X_S\\rvert }  \\; , \\;\n",
    "\\frac{\\varepsilon a_0}{ \\lvert k_m \\xi_C  \\rvert  } \\; , \\; \\frac{\\varepsilon a_0}{ \\lvert k_2 \\xi_C  \\rvert  }\n",
    ")\n",
    "$$\n",
    "\n",
    "where $a_0 = k_p X_S X_E + k_m X_C + k_2 X_C $ , $\\xi_S = -k_p X_S X_E + k_m X_C$ , $\\xi_E = -k_p X_S X_E + ( k_m + k_2 ) X_C$\n",
    ", $\\xi_C = - \\xi_E $ and $\\xi_P = k_2 X_C$"
   ]
  },
  {
   "cell_type": "code",
   "execution_count": 11,
   "metadata": {},
   "outputs": [],
   "source": [
    "epsilon1=0.1\n",
    "epsilon2=0.001\n",
    "# choose the leaping time tau\n",
    "def Tau_choose(epsilon , kp, km , k2 , S,E,C,P):\n",
    "    a = [kp*S*E , km*C , k2*C ]\n",
    "    a0 = sum(a)\n",
    "    xi_S = -kp*S*E + km*C\n",
    "    xi_E = -kp*S*E + km*C + k2*C\n",
    "    xi_C =  kp*S*E -km*C  - k2*C\n",
    "    xi_P =  k2*C\n",
    "    tp = epsilon*a0 / abs( xi_S*kp*E + xi_E*kp*S)\n",
    "    tm = epsilon*a0 / abs( xi_C*km)\n",
    "    t2 = epsilon*a0 / abs( xi_C*k2)\n",
    "    return min(tp,tm,t2)"
   ]
  },
  {
   "cell_type": "code",
   "execution_count": 12,
   "metadata": {},
   "outputs": [],
   "source": [
    "def R_Tau(epsilon , kp, km , k2 , S0 , E0 , C0 , P0 ):\n",
    "    t_array = np.array( [] )\n",
    "    S_array = np.array( [] )\n",
    "    E_array = np.array( [] )\n",
    "    C_array = np.array( [] )\n",
    "    P_array = np.array( [] )    \n",
    "    \n",
    "    t=0\n",
    "    S = S0\n",
    "    E = E0\n",
    "    C = C0\n",
    "    P = P0\n",
    "    t_array = np.append(t_array ,  t)\n",
    "    S_array = np.append( S_array , S )\n",
    "    E_array = np.append( E_array , E )\n",
    "    C_array = np.append( C_array , C )\n",
    "    P_array = np.append( P_array , P )\n",
    "    while t < t_end:\n",
    "        print(t)\n",
    "        \n",
    "        if C > 0 or S > 0:\n",
    "            T = Tau_choose(epsilon , kp, km , k2 , S,E,C,P)\n",
    "            dp = np.random.poisson( kp*S*E*T )\n",
    "            dm = np.random.poisson( km*C*T )\n",
    "            d2 = np.random.poisson( k2*C*T )\n",
    "            S = max (S - dp + dm  , 0 )\n",
    "            E = max (E - dp + dm  + d2 , 0)\n",
    "            C = max (C + dp - dm - d2 , 0)\n",
    "            P = max ( P + d2 , 0)\n",
    "            t = t+T\n",
    "            t_array = np.append( t_array ,  t)\n",
    "            S_array = np.append( S_array , S )\n",
    "            E_array = np.append( E_array , E )\n",
    "            C_array = np.append( C_array , C )\n",
    "            P_array = np.append( P_array , P )\n",
    "        \n",
    "        #all process stop , all quantities remain constant\n",
    "        else :\n",
    "            t=t+0.01\n",
    "            t_array = np.append(t_array ,  t)\n",
    "            S_array = np.append( S_array , S_array[-1] )\n",
    "            E_array = np.append( E_array , E_array[-1] )\n",
    "            C_array = np.append( C_array , C_array[-1] )\n",
    "            P_array = np.append( P_array , P_array[-1] )\n",
    "    return t_array , S_array , E_array , C_array  , P_array "
   ]
  },
  {
   "cell_type": "code",
   "execution_count": null,
   "metadata": {},
   "outputs": [],
   "source": [
    "# Tau1 corresponds to epsilon1 and Tau2 corresponds to epsilon2\n",
    "t_Tau1_array , S_Tau1_array , E_Tau1_array , C_Tau1_array  , P_Tau1_array =R_Tau(epsilon1, kp, km , k2 , S0 , E0 , C0 , P0 )\n",
    "t_Tau2_array , S_Tau2_array , E_Tau2_array , C_Tau2_array  , P_Tau2_array =R_Tau(epsilon2, kp, km , k2 , S0 , E0 , C0 , P0 )"
   ]
  },
  {
   "cell_type": "markdown",
   "metadata": {},
   "source": [
    "### Two time scale stochastic simulation"
   ]
  },
  {
   "cell_type": "code",
   "execution_count": 45,
   "metadata": {},
   "outputs": [],
   "source": [
    "def R_Nest(kp,km,k2,S0,E0,C0,P0):\n",
    "    S = S0\n",
    "    E = E0\n",
    "    C = C0 \n",
    "    P = P0\n",
    " \n",
    "    t_array =  np.array( [])\n",
    "    S_array =  np.array( [])\n",
    "    E_array =  np.array( [])\n",
    "    C_array =  np.array( [])\n",
    "    P_array =  np.array( [])  \n",
    "    t=0\n",
    "    t_array = np.append( t_array , t)\n",
    "    S_array = np.append( S_array , S )\n",
    "    E_array = np.append( E_array , E )\n",
    "    C_array = np.append( C_array , C )\n",
    "    P_array = np.append( P_array , P )\n",
    "    \n",
    "    #run-time for quasi-equilibrium\n",
    "    Tf = 0.02\n",
    "    \n",
    "    while t < t_end : \n",
    "        \n",
    "        # if in the absorbing states , all process stop \n",
    "        if S==0 and C ==0 :\n",
    "            t =t+0.1\n",
    "           \n",
    "        else :\n",
    "            tf = 0\n",
    "            am = 0\n",
    "            j = 0\n",
    "            while tf<Tf :  # Inner SSA for fast reaction\n",
    "                j = j+1\n",
    "                a = [kp*S*E, k2*C]\n",
    "                a0 = sum(a)\n",
    "\n",
    "                r1 = np.random.rand()\n",
    "                while r1 == 0:\n",
    "                    r1 = np.random.rand()\n",
    "                tau = (1/a0)*(np.log(1/r1))\n",
    "                tf = tf + tau\n",
    "\n",
    "                i=0\n",
    "                mu=0\n",
    "                amu=0\n",
    "                r2=np.random.rand()\n",
    "\n",
    "                while amu < r2*a0:\n",
    "                    mu = mu + 1\n",
    "                    amu = amu + a[i]\n",
    "                    i = i + 1\n",
    "                C_old = C\n",
    "                if mu == 1:      \n",
    "                    S = S - 1\n",
    "                    E = E - 1\n",
    "                    C = C + 1\n",
    "                elif mu == 2 :\n",
    "                    C = C - 1\n",
    "                    P = P + 1\n",
    "                    E = E + 1\n",
    "                am = am + (C + C_old)/2*tau\n",
    "            print(j)\n",
    "            # Outer SSA for slow reaction\n",
    "            \n",
    "            #no slow reaction if C = 0\n",
    "            if C == 0 :\n",
    "                continue\n",
    "            C_avg = am/ tf #approximated quasi-equilibrium expected value of  C  \n",
    "            a = k2*C_avg\n",
    "\n",
    "            r3 = np.random.rand()\n",
    "            while r3 == 0 :\n",
    "                r3 = np.random.rand()\n",
    "\n",
    "            tau = (1/a)*( np.log(1/r3) )\n",
    "            t = t + tau\n",
    "            C = C - 1\n",
    "            S = S + 1\n",
    "            E = E + 1\n",
    "\n",
    "        t_array = np.append( t_array , t)\n",
    "        S_array = np.append( S_array , S )\n",
    "        E_array = np.append( E_array , E )\n",
    "        C_array = np.append( C_array , C )\n",
    "        P_array = np.append( P_array , P )\n",
    "    return t_array , S_array , E_array , C_array , P_array"
   ]
  },
  {
   "cell_type": "code",
   "execution_count": null,
   "metadata": {},
   "outputs": [],
   "source": [
    "t_Nest_array , S_Nest_array , E_Nest_array , C_Nest_array , P_Nest_array = R_Nest(kp,km,k2,S0,E0,C0,P0)"
   ]
  },
  {
   "cell_type": "markdown",
   "metadata": {},
   "source": [
    "### Deterministic equation"
   ]
  },
  {
   "cell_type": "code",
   "execution_count": 80,
   "metadata": {},
   "outputs": [],
   "source": [
    "t_det = np.arange(0,10,0.001)\n",
    "def R_deterministic(kp,km,k2,S0,E0,C0,P0):\n",
    "    def f(v ,t):\n",
    "        S,E,C,P = v\n",
    "        return -kp*S*E + km*C , -kp*S*E + (km+k2)*C , kp*S*E - (km + k2)*C , k2*C\n",
    "    return integrate.odeint( f , ( S0, E0 , C0 , P0) , t_det)"
   ]
  },
  {
   "cell_type": "code",
   "execution_count": 81,
   "metadata": {},
   "outputs": [],
   "source": [
    "R_det = R_deterministic(kp,km,k2,S0,E0,C0,P0)"
   ]
  },
  {
   "cell_type": "code",
   "execution_count": 82,
   "metadata": {},
   "outputs": [
    {
     "data": {
      "text/plain": [
       "array([[1.00000000e+02, 1.00000000e+02, 1.00000000e+00, 1.00000000e+00],\n",
       "       [9.00904867e+01, 9.00953870e+01, 1.09046130e+01, 1.00490024e+00],\n",
       "       [8.19680267e+01, 8.19849975e+01, 1.90150025e+01, 1.01697081e+00],\n",
       "       ...,\n",
       "       [3.17438916e-05, 1.00965001e+02, 3.49990916e-02, 1.01964969e+02],\n",
       "       [3.17186629e-05, 1.00965029e+02, 3.49711288e-02, 1.01964997e+02],\n",
       "       [3.16934577e-05, 1.00965057e+02, 3.49431883e-02, 1.01965025e+02]])"
      ]
     },
     "execution_count": 82,
     "metadata": {},
     "output_type": "execute_result"
    }
   ],
   "source": [
    "R_det"
   ]
  },
  {
   "cell_type": "markdown",
   "metadata": {},
   "source": [
    "## Compare all results"
   ]
  },
  {
   "cell_type": "code",
   "execution_count": 109,
   "metadata": {},
   "outputs": [
    {
     "data": {
      "image/png": "[encoded data removed]",
      "text/plain": [
       "<matplotlib.figure.Figure at 0x1f415b907b8>"
      ]
     },
     "metadata": {},
     "output_type": "display_data"
    }
   ],
   "source": [
    "# plot the results\n",
    "\n",
    "fig , ax = plt.subplots(2,2 ,  figsize=(16,8))\n",
    "\n",
    "ax[0,0].set_title(\"S\")\n",
    "ax[0,0].set_xlabel('time(s)')\n",
    "ax[0,0].set_ylabel('S no')\n",
    "\n",
    "\n",
    "ax[0,0].plot( t_Gillespie_array , S_Gillespie_array  , 'o', label = \"Gillespie\" , alpha = 0.2)\n",
    "ax[0,0].plot(t_det ,  R_det[:,0] , color = 'k' ,label = \"deter\"  )\n",
    "ax[0,0].plot( t_Euler_array ,S_Euler_array ,  label = \"Euler\" , linewidth = 6 , alpha = 0.5)\n",
    "ax[0,0].plot( t_Tau1_array , S_Tau1_array , label = \"Tau1\" , linewidth = 6 , alpha = 0.6)\n",
    "ax[0,0].plot( t_Tau2_array , S_Tau2_array , label = \"Tau2\"  )\n",
    "ax[0,0].plot( t_Nest_array , S_Nest_array  , color = 'grey', marker ='o', label = \"Nested\"  )\n",
    "ax[0,0].legend(title = \"all methods\")\n",
    "\n",
    "\n",
    "ax[1,0].set_title(\"E\")\n",
    "ax[1,0].set_xlabel('time(s)')\n",
    "ax[1,0].set_ylabel('E no')\n",
    "\n",
    "ax[1,0].plot( t_Gillespie_array , E_Gillespie_array  , 'o', label = \"Gillespie\" , alpha = 0.2)\n",
    "ax[1,0].plot(t_det ,  R_det[:,1] , color = 'k' ,label = \"deter\" )\n",
    "ax[1,0].plot( t_Euler_array ,E_Euler_array ,  label = \"Euler\" , linewidth = 6 , alpha = 0.5)\n",
    "ax[1,0].plot( t_Tau1_array , E_Tau1_array , label = \"Tau1\" , linewidth = 6 , alpha = 0.6)\n",
    "ax[1,0].plot( t_Tau2_array , E_Tau2_array , label = \"Tau2\"  )\n",
    "ax[1,0].plot( t_Nest_array , E_Nest_array  , color = 'grey', marker ='o', label = \"Nested\" )\n",
    "ax[1,0].legend(title = \"all methods\")\n",
    "\n",
    "\n",
    "ax[0,1].set_title(\"C\")\n",
    "ax[0,1].set_xlabel('time(s)')\n",
    "ax[0,1].set_ylabel('C no')\n",
    "\n",
    "ax[0,1].plot( t_Gillespie_array , C_Gillespie_array  , 'o', label = \"Gillespie\" , alpha = 0.2)\n",
    "ax[0,1].plot(t_det ,  R_det[:,2] , color = 'k' ,label = \"deter\" )\n",
    "ax[0,1].plot( t_Euler_array ,C_Euler_array ,  label = \"Euler\" , linewidth = 6 , alpha = 0.5)\n",
    "ax[0,1].plot( t_Tau1_array , C_Tau1_array , label = \"Tau1\" , linewidth = 6 , alpha = 0.6)\n",
    "ax[0,1].plot( t_Tau2_array , C_Tau2_array , label = \"Tau2\"  )\n",
    "ax[0,1].plot( t_Nest_array , C_Nest_array  , color = 'grey', marker ='o', label = \"Nested\"  )\n",
    "ax[0,1].legend(title = \"all methods\")\n",
    "\n",
    "\n",
    "ax[1,1].set_title(\"P\")\n",
    "ax[1,1].set_xlabel('time(s)')\n",
    "ax[1,1].set_ylabel('P no')\n",
    "\n",
    "ax[1,1].plot( t_Gillespie_array , P_Gillespie_array  , 'o', label = \"Gillespie\" , alpha = 0.2)\n",
    "ax[1,1].plot(t_det ,  R_det[:,3] , color = 'k' ,label = \"deter\" )\n",
    "ax[1,1].plot( t_Euler_array ,P_Euler_array ,  label = \"Euler\" , linewidth = 6 , alpha = 0.5)\n",
    "ax[1,1].plot( t_Tau1_array , P_Tau1_array , label = \"Tau1\" , linewidth = 6 , alpha = 0.6)\n",
    "ax[1,1].plot( t_Tau2_array , P_Tau2_array , label = \"Tau2\"  )\n",
    "ax[1,1].plot( t_Nest_array , P_Nest_array  , color = 'grey', marker ='o', label = \"Nested\"  )\n",
    "ax[1,1].legend(title = \"all methods\")\n",
    "\n",
    "plt.tight_layout()"
   ]
  },
  {
   "cell_type": "code",
   "execution_count": null,
   "metadata": {},
   "outputs": [],
   "source": []
  },
  {
   "cell_type": "code",
   "execution_count": 85,
   "metadata": {},
   "outputs": [],
   "source": []
  },
  {
   "cell_type": "code",
   "execution_count": null,
   "metadata": {},
   "outputs": [],
   "source": []
  },
  {
   "cell_type": "code",
   "execution_count": null,
   "metadata": {},
   "outputs": [],
   "source": []
  }
 ],
 "metadata": {
  "kernelspec": {
   "display_name": "Python 3",
   "language": "python",
   "name": "python3"
  },
  "language_info": {
   "codemirror_mode": {
    "name": "ipython",
    "version": 3
   },
   "file_extension": ".py",
   "mimetype": "text/x-python",
   "name": "python",
   "nbconvert_exporter": "python",
   "pygments_lexer": "ipython3",
   "version": "3.6.4"
  }
 },
 "nbformat": 4,
 "nbformat_minor": 5
}
