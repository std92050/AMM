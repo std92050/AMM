{
 "cells": [
  {
   "cell_type": "markdown",
   "metadata": {},
   "source": [
    "## Linear noise approximation v.s exact chemical master equation\n",
    "Consider following two systems :\n",
    "\\begin{align}\n",
    "X_1 + X_2 &\\leftrightarrow X_3  \\qquad \\qquad \\qquad \\; k_1:\\text{forward} \\quad k_0 : \\text{backward}\n",
    "\\\\\n",
    "X_1 + X_2 &\\leftrightarrow X_3  \\; , \\qquad \\varnothing \\leftrightarrow X_1 \\quad\n",
    "k_2:\\text{forward} \\quad k_3 : \\text{backward} \\quad \\text{for the second reaction}\n",
    "\\end{align}\n",
    "We would like to find steady state mean and covariance by CME and LNA respectively ."
   ]
  },
  {
   "cell_type": "code",
   "execution_count": null,
   "metadata": {},
   "outputs": [],
   "source": []
  }
 ],
 "metadata": {
  "kernelspec": {
   "display_name": "Python 3",
   "language": "python",
   "name": "python3"
  },
  "language_info": {
   "codemirror_mode": {
    "name": "ipython",
    "version": 3
   },
   "file_extension": ".py",
   "mimetype": "text/x-python",
   "name": "python",
   "nbconvert_exporter": "python",
   "pygments_lexer": "ipython3",
   "version": "3.6.4"
  }
 },
 "nbformat": 4,
 "nbformat_minor": 2
}
