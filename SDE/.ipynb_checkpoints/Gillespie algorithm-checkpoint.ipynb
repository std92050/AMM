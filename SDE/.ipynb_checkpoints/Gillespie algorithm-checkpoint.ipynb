{
 "cells": [
  {
   "cell_type": "markdown",
   "metadata": {},
   "source": [
    "# Gillespie algorithm\n",
    "This algorithm is to simulate the chemical reaction process :\n",
    "\n",
    "\\begin{equation}\n",
    "\\nu^+_{1,j} \\; X_1 + \\ldots + \\nu^+_{n,j} \\; X_n\n",
    "\\xrightarrow{a_j (X)} \n",
    "\\nu^-_{1,j} \\; X_1 + \\ldots + \\nu^-_{n,j} \\; X_n\n",
    "\\end{equation}\n",
    "where $X = (X_1 \\; , \\ldots , \\; X_n)$ are the state of the\n",
    "system , each component corrresponds to the number of certain chemicals . In fact $X = X(t)$ is a stochastic process (CTDSMC) in our model .\n",
    "$\\nu^\\pm_{i,j}$ is the number of i-th\n",
    "chemical envolved in type j reaction . $a_j(X)$ is the stochastic rate of type j reaction which depends of the state $X$ . After a type j reaction happens , the state\n",
    "change to $ X - u_j \\equiv ( X_1 + (\\nu^+_{1,j} - \n",
    "\\nu^-_{1,j} \\;) ,  \\ldots , X_n + (\\nu^+_{n,j} - \\nu^-_{n,j} \\; ) \\in \\mathbb{Z}^n$ .\n",
    "\n",
    "Given the system is at state $x$ ,\n",
    "the waiting time $\\tau$ for an event/reaction happens follows $exp(\\sum_{\\mu = 1 }^M a_M(x))$ . Where the state goes or\n",
    "says which type of reaction happens  follows the transistion probability\n",
    "\\begin{equation} \n",
    "p(\\mu \\; \\rvert x) \\equiv\n",
    "P( x + u_\\mu , d\\tau  \\; \\rvert \\; x , 0 )  = \\frac{a_\\mu (x) }{ \\sum_{ \\mu' = 1}^M a_\\mu' (x) } \n",
    "\\equiv \\frac{ a_\\mu (x)}{a_0 (x)}\n",
    "\\end{equation}\n",
    "\n"
   ]
  },
  {
   "cell_type": "code",
   "execution_count": 2,
   "metadata": {},
   "outputs": [],
   "source": [
    "import numpy as np\n",
    "import matplotlib.pyplot as plt "
   ]
  },
  {
   "cell_type": "markdown",
   "metadata": {},
   "source": [
    "We will simulate the process by genertating a sequence of\n",
    "$(\\tau , \\mu)$ whose distribution is given by the above .\n",
    "The method is use the well known method :\n",
    "\n",
    "$\\textbf{Lemma}$ If X is a continuous r.v with cdf $F$ and\n",
    "$U \\sim uni(0,1)$ , then\n",
    "\\begin{equation}\n",
    "X \\sim F^{-1}(U) \\end{equation}\n",
    "In particular for our case ,\n",
    "\\begin{equation}\n",
    "\\tau \\sim - \\frac{1}{a_0 (x)} \\ln(U^{-1})\n",
    "\\end{equation}\n",
    "For discrete case , the idea is similar (actually more\n",
    "intuitive) , $\\mu \\sim N$ which satisfies\n",
    "\\begin{equation}\n",
    "\\frac{\\sum_{i=1}^{N-1}  a_i}{a_0} \\leq U \\leq\n",
    "\\frac{\\sum_{i=1}^{N}  a_i}{a_0} \n",
    "\\end{equation}\n",
    "since the probability of $U$ falls in the interval is equal to the interval length , which is just $\\frac{a_N}{a_0}$ the probability of $\\mu$ ."
   ]
  },
  {
   "cell_type": "code",
   "execution_count": 14,
   "metadata": {},
   "outputs": [],
   "source": []
  },
  {
   "cell_type": "code",
   "execution_count": 15,
   "metadata": {},
   "outputs": [
    {
     "data": {
      "text/plain": [
       "(0.7521109002071309, 0.6236178059450114)"
      ]
     },
     "execution_count": 15,
     "metadata": {},
     "output_type": "execute_result"
    }
   ],
   "source": []
  },
  {
   "cell_type": "markdown",
   "metadata": {},
   "source": [
    "# Gene process\n",
    "In the following we simulate the set of reactions:\n",
    "\\begin{align*}\n",
    "\\phi &\\xrightarrow{k_M} M &\\quad a_1(x)=k_M \\\\\n",
    "M &\\xrightarrow{k_p} M + P  &\\quad a_2(x) = k_p M\\\\\n",
    "M &\\xrightarrow{d_M} \\phi &\\quad a_3(x) = d_M M\\\\\n",
    "P &\\xrightarrow{ d_p} \\phi &\\quad a_4(x) = d_p p\n",
    "\\end{align*}\n",
    "With the state $X = ( M , P)$ number of mRNA and protein."
   ]
  },
  {
   "cell_type": "code",
   "execution_count": 3,
   "metadata": {},
   "outputs": [],
   "source": [
    "# rate setting\n",
    "kM= 5.5\n",
    "kP =1\n",
    "dM= 0.5\n",
    "dP=0.05\n",
    "\n",
    "#time setting\n",
    "t=0\n",
    "t_end= 200000\n",
    "t_sample = 10*max(1/dM , 1/dP)\n",
    "'this is a lower bound for time interval between each reaction \n",
    "\n",
    "\n",
    "#initial state\n",
    "Pro = 1 #promoter\n",
    "M = 5 #mRNA\n",
    "P = 100 #protein\n",
    "\n"
   ]
  },
  {
   "cell_type": "code",
   "execution_count": 22,
   "metadata": {},
   "outputs": [],
   "source": [
    "#array for results\n",
    "t_array = np.zeros(int( t_end/t_sample) )\n",
    "Pro_array = np.zeros(int( t_end/t_sample) )\n",
    "M_array = np.zeros( int(t_end/t_sample) )\n",
    "P_array = np.zeros( int(t_end/t_sample) )\n",
    "\n",
    "#assign initial value\n",
    "j=0\n",
    "t_array[j] = j\n",
    "Pro_array[j] = Pro\n",
    "M_array[j] = M\n",
    "P_array[j] = P"
   ]
  },
  {
   "cell_type": "code",
   "execution_count": null,
   "metadata": {},
   "outputs": [],
   "source": [
    "#start the process\n",
    "while t < t_end :\n",
    "    #compute stochastic rate\n",
    "    a = [kM*Pro , kP*M , dM*M , dP*P]\n",
    "    a0 = sum(a)\n",
    "    \n",
    "    #genertae two uniform r.vs\n",
    "    r1 , r2 = np.random.rand(2)\n",
    "    \n",
    "    #update time (exclude r1=0 ) according the lemma\n",
    "    while r1 ==0:\n",
    "        r1 = np.random.rand(1)\n",
    "    t_next = (1/a0)*(  np.log(1/r1))\n",
    "    t = t + t_next\n",
    "    \n",
    "    #determine next reaction according the lemma\n",
    "    i = 1\n",
    "    mu = 0\n",
    "    amu = 0 \n",
    "    while amu < r2*a0 : #sum up a_i until the value exceed a0*r2\n",
    "        mu = mu + 1\n",
    "        amu = amu + a[i]\n",
    "        i = i+1\n",
    "    #update the state\n",
    "    if mu == 1:\n",
    "        M = M+1\n",
    "    elif mu ==2 :\n",
    "        P = P +1\n",
    "    elif mu == 3 :\n",
    "        M = M-1\n",
    "    else mu == 4 :\n",
    "        P = P-1\n",
    "   #what is this ? why record the data like this\n",
    "    if t > = j*t_sample: \n",
    "        j = j+1\n",
    "        t_array[j] = j\n",
    "        Pro_array[j] = Pro\n",
    "        M_array[j] = M\n",
    "        P_array[j] = P"
   ]
  },
  {
   "cell_type": "code",
   "execution_count": 31,
   "metadata": {},
   "outputs": [
    {
     "data": {
      "text/plain": [
       "1.0296194171811581"
      ]
     },
     "execution_count": 31,
     "metadata": {},
     "output_type": "execute_result"
    }
   ],
   "source": []
  },
  {
   "cell_type": "code",
   "execution_count": null,
   "metadata": {},
   "outputs": [],
   "source": []
  }
 ],
 "metadata": {
  "kernelspec": {
   "display_name": "Python 3",
   "language": "python",
   "name": "python3"
  },
  "language_info": {
   "codemirror_mode": {
    "name": "ipython",
    "version": 3
   },
   "file_extension": ".py",
   "mimetype": "text/x-python",
   "name": "python",
   "nbconvert_exporter": "python",
   "pygments_lexer": "ipython3",
   "version": "3.6.4"
  }
 },
 "nbformat": 4,
 "nbformat_minor": 4
}
