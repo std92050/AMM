{
 "cells": [
  {
   "cell_type": "code",
   "execution_count": null,
   "metadata": {},
   "outputs": [],
   "source": [
    "#import package\n",
    "import numpy as np\n",
    "import matplotlib.pyplot as plt \n",
    "import scipy.integrate as sci"
   ]
  },
  {
   "cell_type": "code",
   "execution_count": 33,
   "metadata": {},
   "outputs": [],
   "source": [
    "#parameters\n",
    "k1 = 10**(-3)\n",
    "k2 = 4* 10**(-3)\n",
    "A0=175\n",
    "B0 =25\n",
    "t=0\n",
    "t_end= 200000\n"
   ]
  },
  {
   "cell_type": "markdown",
   "metadata": {},
   "source": [
    "## 1. AB process     \n",
    " \n",
    "$$\n",
    "\\begin{equation}\n",
    "   A \\xleftrightarrow[k_2]{k_1} B\n",
    "\\end{equation}\n",
    "$$\n",
    "\n",
    "$$\n",
    "\\begin{equation}\n",
    "\\frac{d}{dt} \\begin{pmatrix}\n",
    "E(X_A)\\\\\n",
    "E(X_B) \n",
    "\\end{pmatrix} =\n",
    "\\begin{pmatrix}\n",
    "-k_1 & k_2 \\\\\n",
    "k_1 & -k_2\n",
    "\\end{pmatrix}\n",
    "\\begin{pmatrix}\n",
    "E(X_A)\\\\\n",
    "E(X_B) \n",
    "\\end{pmatrix}\n",
    "\\end{equation}\n",
    "$$"
   ]
  },
  {
   "cell_type": "markdown",
   "metadata": {},
   "source": [
    "### Determinstic simulation"
   ]
  },
  {
   "cell_type": "code",
   "execution_count": 18,
   "metadata": {},
   "outputs": [],
   "source": [
    "def t_det(k1,k2,A0,B0):\n",
    "    def f(v ,t):\n",
    "        x,y = v\n",
    "        return -k1*x + k2*y , k1*x - k2*y\n",
    "    tspan = np.arange(t_end+1)\n",
    "    return sci.odeint( f , ( A0, B0) , tspan)"
   ]
  },
  {
   "cell_type": "markdown",
   "metadata": {},
   "source": [
    "### Sochastic simulation"
   ]
  },
  {
   "cell_type": "code",
   "execution_count": 36,
   "metadata": {},
   "outputs": [],
   "source": [
    "def t_stocha(k1,k2,A0,B0 ) :\n",
    "    \n",
    "    #initial setting\n",
    "    A = A0\n",
    "    B = B0\n",
    "    t_sample = 10*max(1/k1 , 1/k2)\n",
    "    \n",
    "    t_array = np.zeros(int( t_end/t_sample) +1 )\n",
    "    A_array = np.zeros( int(t_end/t_sample) +1)\n",
    "    B_array = np.zeros( int(t_end/t_sample) +1)\n",
    "   \n",
    "    j=0\n",
    "    t_array[j] = j\n",
    "    A_array[j] = A\n",
    "    B_array[j] = B\n",
    "    \n",
    "    #start the process\n",
    "  \n",
    "    t=0\n",
    "    while t < t_end :\n",
    "        #compute stochastic rate\n",
    "        a = [k1*A , k2*B ]\n",
    "        a0 = sum(a)\n",
    "    \n",
    "        #genertae two uniform r.vs\n",
    "        r1 , r2 = np.random.rand(2)\n",
    "    \n",
    "        #update time (exclude r1=0 ) according the lemma\n",
    "        while r1 ==0:\n",
    "            r1 = np.random.rand(1)\n",
    "            t_next = (1/a0)*(  np.log(1/r1))\n",
    "            t = t + t_next\n",
    "    \n",
    "        #determine next reaction according the lemma\n",
    "        i = 0\n",
    "        mu = 0\n",
    "        amu = 0 \n",
    "        while amu < r2*a0 : #sum up a_i until the value exceed a0*r2\n",
    "            mu = mu + 1\n",
    "            amu = amu + a[i]\n",
    "            i = i+1\n",
    "        #update the state\n",
    "        if mu == 1:\n",
    "            A = A-1\n",
    "            B = B+1\n",
    "        elif mu ==2 :\n",
    "            A = A +1\n",
    "            B = B - 1\n",
    "    \n",
    "        #sample the data , if t is already out of range then stop\n",
    "        if t > t_end:\n",
    "            print('done')\n",
    "            break\n",
    "        \n",
    "    \n",
    "        if t >= j*t_sample: \n",
    "            j = j+1\n",
    "            t_array[j] = j\n",
    "            A_array[j] = A\n",
    "            A_array[j] = B\n",
    "            print(\"now\" , j ,\"-th sample\")\n",
    "    return  t_array , A_array , B_array "
   ]
  },
  {
   "cell_type": "code",
   "execution_count": 37,
   "metadata": {},
   "outputs": [
    {
     "name": "stdout",
     "output_type": "stream",
     "text": [
      "now 1 -th sample\n"
     ]
    },
    {
     "ename": "KeyboardInterrupt",
     "evalue": "",
     "output_type": "error",
     "traceback": [
      "\u001b[1;31m---------------------------------------------------------------------------\u001b[0m",
      "\u001b[1;31mKeyboardInterrupt\u001b[0m                         Traceback (most recent call last)",
      "\u001b[1;32m<ipython-input-37-5589f9ec243b>\u001b[0m in \u001b[0;36m<module>\u001b[1;34m()\u001b[0m\n\u001b[1;32m----> 1\u001b[1;33m \u001b[0mt_stocha\u001b[0m\u001b[1;33m(\u001b[0m\u001b[0mk1\u001b[0m\u001b[1;33m,\u001b[0m\u001b[0mk2\u001b[0m\u001b[1;33m,\u001b[0m\u001b[0mA0\u001b[0m\u001b[1;33m,\u001b[0m\u001b[0mB0\u001b[0m \u001b[1;33m)\u001b[0m\u001b[1;33m\u001b[0m\u001b[0m\n\u001b[0m",
      "\u001b[1;32m<ipython-input-36-3df312766387>\u001b[0m in \u001b[0;36mt_stocha\u001b[1;34m(k1, k2, A0, B0)\u001b[0m\n\u001b[0;32m     24\u001b[0m \u001b[1;33m\u001b[0m\u001b[0m\n\u001b[0;32m     25\u001b[0m         \u001b[1;31m#genertae two uniform r.vs\u001b[0m\u001b[1;33m\u001b[0m\u001b[1;33m\u001b[0m\u001b[0m\n\u001b[1;32m---> 26\u001b[1;33m         \u001b[0mr1\u001b[0m \u001b[1;33m,\u001b[0m \u001b[0mr2\u001b[0m \u001b[1;33m=\u001b[0m \u001b[0mnp\u001b[0m\u001b[1;33m.\u001b[0m\u001b[0mrandom\u001b[0m\u001b[1;33m.\u001b[0m\u001b[0mrand\u001b[0m\u001b[1;33m(\u001b[0m\u001b[1;36m2\u001b[0m\u001b[1;33m)\u001b[0m\u001b[1;33m\u001b[0m\u001b[0m\n\u001b[0m\u001b[0;32m     27\u001b[0m \u001b[1;33m\u001b[0m\u001b[0m\n\u001b[0;32m     28\u001b[0m         \u001b[1;31m#update time (exclude r1=0 ) according the lemma\u001b[0m\u001b[1;33m\u001b[0m\u001b[1;33m\u001b[0m\u001b[0m\n",
      "\u001b[1;31mKeyboardInterrupt\u001b[0m: "
     ]
    }
   ],
   "source": [
    "t_stocha(k1,k2,A0,B0 )"
   ]
  },
  {
   "cell_type": "code",
   "execution_count": null,
   "metadata": {},
   "outputs": [],
   "source": []
  },
  {
   "cell_type": "code",
   "execution_count": null,
   "metadata": {},
   "outputs": [],
   "source": []
  }
 ],
 "metadata": {
  "kernelspec": {
   "display_name": "Python 3",
   "language": "python",
   "name": "python3"
  },
  "language_info": {
   "codemirror_mode": {
    "name": "ipython",
    "version": 3
   },
   "file_extension": ".py",
   "mimetype": "text/x-python",
   "name": "python",
   "nbconvert_exporter": "python",
   "pygments_lexer": "ipython3",
   "version": "3.6.4"
  }
 },
 "nbformat": 4,
 "nbformat_minor": 2
}
