{
 "cells": [
  {
   "cell_type": "markdown",
   "metadata": {},
   "source": [
    "## Convergence problem\n",
    "Given $d > 0$ , $\\sigma > 0$ and $ \\alpha_n = \\frac{ 2 d}{ \\sigma \\sqrt{n}}$ , \n",
    "let $$ p_n = \\frac{1}{2} + \\frac{\\alpha_n}{2 \\sqrt{ \\alpha_n^2 +4} } \\quad , \\quad \\rho_n = \\frac{1-p_n}{ p_n } < 1$$\n",
    "We would like to know the limit of $ \\rho_n^{\\sqrt{n}}$ . It can be shown that \n",
    "$$ \\rho_n = \\frac{ \\frac{1}{2} -  \\frac{  d}{ 2\\sigma \\sqrt{n}}  + O( \\frac{1}{n} ) }{  \n",
    "\\frac{1}{2} +  \\frac{  d}{ 2\\sigma \\sqrt{n}}  + O( \\frac{1}{n} )  }$$ \n",
    "If we that \n",
    "$$ \n",
    "\\rho_n(0) = \\frac{ \\frac{1}{2} -  \\frac{  d}{ 2\\sigma \\sqrt{n}}    }{  \n",
    "\\frac{1}{2} +  \\frac{  d}{ 2\\sigma \\sqrt{n}}    }\n",
    "$$\n",
    "we can have\n",
    "$$\n",
    "\\rho_n^{\\sqrt{n}} = \\rho_n(0)^{\\sqrt{n}} ( \\frac{\\rho_n}{ \\rho_n(0)} )^{\\sqrt{n}}\n",
    "$$\n",
    "The limit of $\\rho_n(0)^{\\sqrt{n}}$ is some exponential , easy to compute . But how about  $( \\frac{\\rho_n}{ \\rho_n(0)} )^{\\sqrt{n}} $  ? The following codes try to estimate the asymptotic behavior ."
   ]
  },
  {
   "cell_type": "code",
   "execution_count": 2,
   "metadata": {},
   "outputs": [],
   "source": [
    "import matplotlib.pyplot as plt\n",
    "import numpy as np"
   ]
  },
  {
   "cell_type": "code",
   "execution_count": 5,
   "metadata": {},
   "outputs": [],
   "source": [
    "def a(n , d , sigma):\n",
    "    return 2*d/(sigma*np.sqrt(n))\n",
    "\n",
    "def p(n , d , sigma) :\n",
    "    return 1/2 + a(n , d , sigma)/(2* np.sqrt( a(n , d , sigma)**2 + 4 ) )\n",
    "\n",
    "def p_0(n , d , sigma) :\n",
    "    return 1/2 + d/( 2*sigma  * np.sqrt(n))\n",
    "\n",
    "def rho( n , d , sigma) :\n",
    "    return ( 1 - p(n , d , sigma) ) /  p(n , d , sigma)\n",
    "\n",
    "def rho_0( n , d , sigma) :\n",
    "    return ( 1 - p_0(n , d , sigma) ) /  p_0(n , d , sigma)"
   ]
  },
  {
   "cell_type": "code",
   "execution_count": 27,
   "metadata": {},
   "outputs": [],
   "source": [
    "d = 1\n",
    "sigma = 2\n",
    "A = np.array( [ [rho( n , d , sigma)**np.sqrt(n) for n in range(1,10000)] , \n",
    "               [rho_0( n , d , sigma)**np.sqrt(n) for n in range(1,10000)] ])"
   ]
  },
  {
   "cell_type": "code",
   "execution_count": 28,
   "metadata": {},
   "outputs": [
    {
     "data": {
      "text/plain": [
       "[<matplotlib.lines.Line2D at 0x218133f6c50>]"
      ]
     },
     "execution_count": 28,
     "metadata": {},
     "output_type": "execute_result"
    },
    {
     "data": {
      "image/png": "[encoded data removed]",
      "text/plain": [
       "<matplotlib.figure.Figure at 0x218132f5b70>"
      ]
     },
     "metadata": {},
     "output_type": "display_data"
    }
   ],
   "source": [
    "plt.plot(A[0]/A[1] , 'r-o')"
   ]
  },
  {
   "cell_type": "markdown",
   "metadata": {},
   "source": [
    "Seems like $( \\frac{\\rho_n}{ \\rho_n(0)} )^{\\sqrt{n}} $  really converges to $1$ ! The following is the convergence to\n",
    "$e$ ."
   ]
  },
  {
   "cell_type": "code",
   "execution_count": 39,
   "metadata": {},
   "outputs": [
    {
     "data": {
      "text/plain": [
       "[<matplotlib.lines.Line2D at 0x218144b6c50>]"
      ]
     },
     "execution_count": 39,
     "metadata": {},
     "output_type": "execute_result"
    },
    {
     "data": {
      "image/png": "[encoded data removed]",
      "text/plain": [
       "<matplotlib.figure.Figure at 0x21814474400>"
      ]
     },
     "metadata": {},
     "output_type": "display_data"
    }
   ],
   "source": [
    "B= np.array(  [ [ (1 + 1/n)**n for n in range(1,10000)] , [ np.exp(1) for n in range(1,10000)]  ] )\n",
    "plt.plot(B[0])\n",
    "plt.plot(B[1])"
   ]
  },
  {
   "cell_type": "code",
   "execution_count": null,
   "metadata": {},
   "outputs": [],
   "source": []
  },
  {
   "cell_type": "code",
   "execution_count": null,
   "metadata": {},
   "outputs": [],
   "source": []
  }
 ],
 "metadata": {
  "kernelspec": {
   "display_name": "Python 3",
   "language": "python",
   "name": "python3"
  },
  "language_info": {
   "codemirror_mode": {
    "name": "ipython",
    "version": 3
   },
   "file_extension": ".py",
   "mimetype": "text/x-python",
   "name": "python",
   "nbconvert_exporter": "python",
   "pygments_lexer": "ipython3",
   "version": "3.6.4"
  }
 },
 "nbformat": 4,
 "nbformat_minor": 2
}
