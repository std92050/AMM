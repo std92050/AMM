{
 "cells": [
  {
   "cell_type": "code",
   "execution_count": 74,
   "metadata": {},
   "outputs": [],
   "source": [
    "import numpy as np\n",
    "import sympy as sy"
   ]
  },
  {
   "cell_type": "markdown",
   "metadata": {},
   "source": [
    "This note is about the computation of  expected exiting time  out of some potential valley of quenched i.i.d RWRE with\n",
    "\n",
    "$ \\omega = \\begin{cases} \n",
    "\\frac{1}{3} & \\text{probability} \\; p \\\\\n",
    "\\frac{2}{3} & \\text{probability} \\; 1-p  \\\\\n",
    "\\end{cases}$\n",
    "\n",
    "The size of potential valley is $2l$ . First define the function by the formula of expected exiting time vector and the reduced\n",
    "transition matrix element"
   ]
  },
  {
   "cell_type": "code",
   "execution_count": 142,
   "metadata": {},
   "outputs": [],
   "source": [
    "#formula\n",
    "def h(r):\n",
    "    n=r.shape[0]\n",
    "    I=sy.Identity(n)\n",
    "    sy.FunctionMatrix(2*n,1,sy.Lambda((i,j),1))\n",
    "    A= I-r.inv()\n",
    "    \n",
    "    return A*v\n",
    "#matrix component\n",
    "def P(i,j,l):\n",
    "    \n",
    "    component1= sy.Piecewise((2/3,j==i-1),(1/3,j==i+1),(0,True))\n",
    "    component2=sy.Piecewise((1/3,j==i-1),(2/3,j==i+1),(0,True))\n",
    "    component=sy.Piecewise((component1,i<l),(component2,i>=l))\n",
    "        \n",
    "    return component"
   ]
  },
  {
   "cell_type": "code",
   "execution_count": 145,
   "metadata": {},
   "outputs": [],
   "source": [
    "l = sy.symbols('l',integer=True,zero=False,positive=True)\n",
    "i,j = sy.symbols('i j', integer=True,positive=True)\n",
    "\n",
    "r=sy.FunctionMatrix(2*l,2*l,sy.Lambda((i,j),P(i,j,l)))"
   ]
  },
  {
   "cell_type": "code",
   "execution_count": 140,
   "metadata": {},
   "outputs": [],
   "source": [
    "v=sy.FunctionMatrix(2*n,1,sy.Lambda((i,j),1))"
   ]
  },
  {
   "cell_type": "code",
   "execution_count": 144,
   "metadata": {},
   "outputs": [
    {
     "data": {
      "text/latex": [
       "$\\displaystyle \\sum_{i_{1}=0}^{2 n - 1} \\left(\\delta_{1 i_{1}} - \\left(\\left(FunctionMatrix\\left(2 n, 2 n, \\left( \\left( i, \\  j\\right) \\mapsto 0 \\right)\\right)\\right)^{-1}\\right)_{1, i_{1}}\\right)$"
      ],
      "text/plain": [
       "Sum(KroneckerDelta(1, _i_1, (0, 2*n - 1)) - (FunctionMatrix(2*n, 2*n, Lambda((i, j), 0))**(-1))[1, _i_1], (_i_1, 0, 2*n - 1))"
      ]
     },
     "execution_count": 144,
     "metadata": {},
     "output_type": "execute_result"
    }
   ],
   "source": [
    "h(r)[]"
   ]
  },
  {
   "cell_type": "code",
   "execution_count": null,
   "metadata": {},
   "outputs": [],
   "source": []
  }
 ],
 "metadata": {
  "kernelspec": {
   "display_name": "Python 3",
   "language": "python",
   "name": "python3"
  },
  "language_info": {
   "codemirror_mode": {
    "name": "ipython",
    "version": 3
   },
   "file_extension": ".py",
   "mimetype": "text/x-python",
   "name": "python",
   "nbconvert_exporter": "python",
   "pygments_lexer": "ipython3",
   "version": "3.6.4"
  }
 },
 "nbformat": 4,
 "nbformat_minor": 2
}
