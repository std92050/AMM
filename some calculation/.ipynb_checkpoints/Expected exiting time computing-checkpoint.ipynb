{
 "cells": [
  {
   "cell_type": "code",
   "execution_count": 1,
   "metadata": {},
   "outputs": [],
   "source": [
    "import numpy as np\n",
    "import sympy as sy"
   ]
  },
  {
   "cell_type": "markdown",
   "metadata": {},
   "source": [
    "This note is about the computation of  expected exiting time  out of some potential valley of quenched i.i.d RWRE with\n",
    "\n",
    "$ \\omega = \\begin{cases} \n",
    "\\frac{1}{3} & \\text{probability} \\; p \\\\\n",
    "\\frac{2}{3} & \\text{probability} \\; 1-p  \\\\\n",
    "\\end{cases}$\n",
    "\n",
    "The size of potential valley is $2l$ . First define the function by the formula of expected exiting time vector and the reduced\n",
    "transition matrix element"
   ]
  },
  {
   "cell_type": "code",
   "execution_count": 57,
   "metadata": {},
   "outputs": [],
   "source": [
    "#formula\n",
    "def h(r):\n",
    "    n=r.shape[0]\n",
    "    I=sy.Identity(n)\n",
    "    v=sy.FunctionMatrix(n,1,sy.Lambda((i,j),1))\n",
    "    A= I-r.inv()\n",
    "    \n",
    "    return A*v\n",
    "\n",
    "#matrix component\n",
    "def P(i,j,l):\n",
    "    component1=sy.Piecewise((1/3 , j==i+1),(0,True))\n",
    "   \n",
    "    component2= sy.Piecewise((2/3,j==i-1),(1/3,j==i+1),(0,True))\n",
    "    \n",
    "    component3=sy.Piecewise((1/3,j==i-1),(2/3,j==i+1),(0,True))\n",
    "    \n",
    "    component4=sy.Piecewise((1/3 , j==i-1),(0,True))\n",
    "    \n",
    "    component=sy.Piecewise(\n",
    "        (component1,i==0) , (component2, sy.And(0<i, i<l-2)), (component3,  sy.And(2*l-2>i , i>l-2) ),\n",
    "        ( component4 , True))\n",
    "    \n",
    "    return component"
   ]
  },
  {
   "cell_type": "code",
   "execution_count": 71,
   "metadata": {},
   "outputs": [],
   "source": [
    "l = sy.symbols('l',integer=True,zero=False,positive=True)\n",
    "i,j = sy.symbols('i j', integer=True,positive=True)\n",
    "\n",
    "r=sy.FunctionMatrix(2*l-1,2*l-1,sy.Lambda((i,j),P(i,j,l))) "
   ]
  },
  {
   "cell_type": "code",
   "execution_count": 78,
   "metadata": {},
   "outputs": [
    {
     "data": {
      "text/latex": [
       "$\\displaystyle FunctionMatrix\\left(2 l - 1, 2 l - 1, \\left( \\left( i, \\  j\\right) \\mapsto 0 \\right)\\right)$"
      ],
      "text/plain": [
       "FunctionMatrix(2*l - 1, 2*l - 1, Lambda((i, j), 0))"
      ]
     },
     "execution_count": 78,
     "metadata": {},
     "output_type": "execute_result"
    }
   ],
   "source": [
    "r"
   ]
  },
  {
   "cell_type": "code",
   "execution_count": null,
   "metadata": {},
   "outputs": [],
   "source": []
  },
  {
   "cell_type": "code",
   "execution_count": null,
   "metadata": {},
   "outputs": [],
   "source": [
    "\n"
   ]
  },
  {
   "cell_type": "code",
   "execution_count": null,
   "metadata": {},
   "outputs": [],
   "source": []
  }
 ],
 "metadata": {
  "kernelspec": {
   "display_name": "Python 3",
   "language": "python",
   "name": "python3"
  },
  "language_info": {
   "codemirror_mode": {
    "name": "ipython",
    "version": 3
   },
   "file_extension": ".py",
   "mimetype": "text/x-python",
   "name": "python",
   "nbconvert_exporter": "python",
   "pygments_lexer": "ipython3",
   "version": "3.6.4"
  }
 },
 "nbformat": 4,
 "nbformat_minor": 2
}
