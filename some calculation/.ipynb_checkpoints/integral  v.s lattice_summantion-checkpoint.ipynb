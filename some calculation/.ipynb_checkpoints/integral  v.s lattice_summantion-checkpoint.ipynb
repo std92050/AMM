{
 "cells": [
  {
   "cell_type": "code",
   "execution_count": 13,
   "metadata": {},
   "outputs": [],
   "source": [
    "import matplotlib.pyplot as plt\n",
    "%matplotlib inline\n",
    "import numpy as np\n",
    "import scipy.constants as const\n",
    "\n",
    "def d(N):\n",
    "    num = 0\n",
    "    for m in range(-int(N), int(N), 1):\n",
    "        for n in range(-int(N), int(N), 1):\n",
    "            for l in range(-int(N), int(N), 1):\n",
    "                if (m**2 + n**2 +l**2) <= N**2:\n",
    "                    num = num + 1\n",
    "\n",
    "    return num\n",
    "\n",
    "\n",
    "def c(r):\n",
    "    return 4*np.pi*pow(r,3)/3\n",
    "\n",
    "\n",
    "def diff(r):\n",
    "    a=c(r)-d(r)\n",
    "    print(a)\n",
    "    return a"
   ]
  },
  {
   "cell_type": "code",
   "execution_count": 14,
   "metadata": {},
   "outputs": [
    {
     "name": "stdout",
     "output_type": "stream",
     "text": [
      "0.18879020478639053\n",
      "3.279762570685307\n",
      "-115.61391347323661\n",
      "304.2489907913696\n",
      "339.60970408283174\n",
      "159.20945511956234\n",
      "103.78947261988651\n",
      "462.09098530188203\n",
      "430.85522188432515\n",
      "-49.17658891482279\n"
     ]
    },
    {
     "data": {
      "text/plain": [
       "[<matplotlib.lines.Line2D at 0x10e18588>]"
      ]
     },
     "execution_count": 14,
     "metadata": {},
     "output_type": "execute_result"
    },
    {
     "data": {
      "image/png": "[encoded data removed]",
      "text/plain": [
       "<matplotlib.figure.Figure at 0xed2a9e8>"
      ]
     },
     "metadata": {},
     "output_type": "display_data"
    }
   ],
   "source": [
    "dog=[]\n",
    "for x in range(1,100,10):\n",
    "    dog.append(diff(x)/c(x))\n",
    "\n",
    "plt.plot(dog)"
   ]
  },
  {
   "cell_type": "code",
   "execution_count": 13,
   "metadata": {},
   "outputs": [
    {
     "data": {
      "text/plain": [
       "3068"
      ]
     },
     "execution_count": 13,
     "metadata": {},
     "output_type": "execute_result"
    }
   ],
   "source": [
    "def z_d(b):\n",
    "    num = 0\n",
    "    for N in range(500):\n",
    "        \n",
    "        for m in range(-int(N), int(N), 1):\n",
    "            for n in range(-int(N), int(N), 1):\n",
    "                for l in range(-int(N), int(N), 1):\n",
    "                    if (m**2 + n**2 +l**2) = N**2:\n",
    "                        num = num + np.exp(-b*N)\n",
    "def z_c(b):\n",
    "    lamb=2*"
   ]
  },
  {
   "cell_type": "code",
   "execution_count": 12,
   "metadata": {},
   "outputs": [
    {
     "data": {
      "text/plain": [
       "6.62607004e-34"
      ]
     },
     "execution_count": 12,
     "metadata": {},
     "output_type": "execute_result"
    }
   ],
   "source": []
  },
  {
   "cell_type": "code",
   "execution_count": 10,
   "metadata": {},
   "outputs": [
    {
     "data": {
      "text/plain": [
       "3053.6280592892786"
      ]
     },
     "execution_count": 10,
     "metadata": {},
     "output_type": "execute_result"
    }
   ],
   "source": [
    "c(9)"
   ]
  },
  {
   "cell_type": "code",
   "execution_count": null,
   "metadata": {},
   "outputs": [],
   "source": []
  }
 ],
 "metadata": {
  "kernelspec": {
   "display_name": "Python 3",
   "language": "python",
   "name": "python3"
  },
  "language_info": {
   "codemirror_mode": {
    "name": "ipython",
    "version": 3
   },
   "file_extension": ".py",
   "mimetype": "text/x-python",
   "name": "python",
   "nbconvert_exporter": "python",
   "pygments_lexer": "ipython3",
   "version": "3.6.4"
  }
 },
 "nbformat": 4,
 "nbformat_minor": 2
}
