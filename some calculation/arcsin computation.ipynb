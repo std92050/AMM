{
 "cells": [
  {
   "cell_type": "code",
   "execution_count": 1,
   "id": "644f934b-98c2-4012-a657-27012811f743",
   "metadata": {},
   "outputs": [],
   "source": [
    "import numpy as np"
   ]
  },
  {
   "cell_type": "code",
   "execution_count": 14,
   "id": "beaf2da7-2d9a-44e4-b932-c9e26c5237ed",
   "metadata": {},
   "outputs": [],
   "source": [
    "def m(a,b):\n",
    "    x= np.sqrt(a)\n",
    "    y = np.sqrt(b)\n",
    "    return np.arcsin(y) - np.arcsin(x)\n",
    "\n",
    "def m_1(a,b):\n",
    "    x= np.sqrt(1-a) \n",
    "    y =np.sqrt(1-b)\n",
    "    \n",
    "    z1 = np.sqrt((1+x)/2)\n",
    "    z2 = np.sqrt((1-x)/2)\n",
    "    z3 = np.sqrt((1+y)/2 )\n",
    "    z4 = np.sqrt((1-y)/2 )\n",
    "    \n",
    "    return np.arcsin(z1) - np.arcsin(z2) - np.arcsin(z3) + np.arcsin(z4)"
   ]
  },
  {
   "cell_type": "code",
   "execution_count": 18,
   "id": "4fb7548f-29d0-41f7-86b7-9cb3894da4ab",
   "metadata": {},
   "outputs": [
    {
     "data": {
      "text/plain": [
       "1.1102230246251565e-16"
      ]
     },
     "execution_count": 18,
     "metadata": {},
     "output_type": "execute_result"
    }
   ],
   "source": [
    "def d(a,b):\n",
    "    return m(a,b) - m_1(a,b)\n",
    "d(0.2012 , 0.87101)"
   ]
  },
  {
   "cell_type": "code",
   "execution_count": null,
   "id": "97b2b591-fb60-42ba-9550-ba50ba4ba6b1",
   "metadata": {},
   "outputs": [],
   "source": []
  }
 ],
 "metadata": {
  "kernelspec": {
   "display_name": "Python 3 (ipykernel)",
   "language": "python",
   "name": "python3"
  },
  "language_info": {
   "codemirror_mode": {
    "name": "ipython",
    "version": 3
   },
   "file_extension": ".py",
   "mimetype": "text/x-python",
   "name": "python",
   "nbconvert_exporter": "python",
   "pygments_lexer": "ipython3",
   "version": "3.7.16"
  }
 },
 "nbformat": 4,
 "nbformat_minor": 5
}
