{
 "cells": [
  {
   "cell_type": "code",
   "execution_count": 1,
   "metadata": {},
   "outputs": [],
   "source": [
    "import math\n",
    "def avg(x): #用來算list平均用的\n",
    "    c=0\n",
    "    for i in x:\n",
    "        \n",
    "        c+=i\n",
    "            \n",
    "    return c/len(x)\n",
    "def var(s):  #n-1var\n",
    "    c=0\n",
    "    for i in s:\n",
    "        print(i,i-avg(s))\n",
    "        c+=pow(i-avg(s),2)\n",
    "        \n",
    "    return c/(len(s)-1)"
   ]
  },
  {
   "cell_type": "code",
   "execution_count": 4,
   "metadata": {},
   "outputs": [],
   "source": [
    "S=[4.02,3.95,4.02,3.89,3.91,4.01,3.89,3.89,3.99,4]"
   ]
  },
  {
   "cell_type": "code",
   "execution_count": 5,
   "metadata": {},
   "outputs": [
    {
     "name": "stdout",
     "output_type": "stream",
     "text": [
      "4.02 0.06299999999999972\n",
      "3.95 -0.006999999999999673\n",
      "4.02 0.06299999999999972\n",
      "3.89 -0.06699999999999973\n",
      "3.91 -0.04699999999999971\n",
      "4.01 0.052999999999999936\n",
      "3.89 -0.06699999999999973\n",
      "3.89 -0.06699999999999973\n",
      "3.99 0.03300000000000036\n",
      "4 0.04300000000000015\n"
     ]
    },
    {
     "data": {
      "text/plain": [
       "0.0032677777777777575"
      ]
     },
     "execution_count": 5,
     "metadata": {},
     "output_type": "execute_result"
    }
   ],
   "source": [
    "var(S)"
   ]
  },
  {
   "cell_type": "code",
   "execution_count": 8,
   "metadata": {},
   "outputs": [],
   "source": [
    "S=[676-88,206-570,230-605,256-617,280-653,433-2913,337-924,466-286,497-1098,512-982,794-2346,428-321,452-615,512-519]"
   ]
  },
  {
   "cell_type": "code",
   "execution_count": 10,
   "metadata": {},
   "outputs": [
    {
     "data": {
      "text/plain": [
       "[588,\n",
       " -364,\n",
       " -375,\n",
       " -361,\n",
       " -373,\n",
       " -2480,\n",
       " -587,\n",
       " 180,\n",
       " -601,\n",
       " -470,\n",
       " -1552,\n",
       " 107,\n",
       " -163,\n",
       " -7]"
      ]
     },
     "execution_count": 10,
     "metadata": {},
     "output_type": "execute_result"
    }
   ],
   "source": []
  },
  {
   "cell_type": "code",
   "execution_count": null,
   "metadata": {},
   "outputs": [],
   "source": []
  }
 ],
 "metadata": {
  "kernelspec": {
   "display_name": "Python 3",
   "language": "python",
   "name": "python3"
  },
  "language_info": {
   "codemirror_mode": {
    "name": "ipython",
    "version": 3
   },
   "file_extension": ".py",
   "mimetype": "text/x-python",
   "name": "python",
   "nbconvert_exporter": "python",
   "pygments_lexer": "ipython3",
   "version": "3.6.4"
  }
 },
 "nbformat": 4,
 "nbformat_minor": 2
}
