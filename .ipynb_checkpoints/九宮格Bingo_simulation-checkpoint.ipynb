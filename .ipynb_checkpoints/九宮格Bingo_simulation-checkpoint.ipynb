{
 "cells": [
  {
   "cell_type": "code",
   "execution_count": 163,
   "metadata": {},
   "outputs": [],
   "source": [
    "import random as rd\n",
    "import numpy as np\n",
    "import matplotlib.pyplot as plt"
   ]
  },
  {
   "cell_type": "code",
   "execution_count": 116,
   "metadata": {},
   "outputs": [
    {
     "ename": "IndentationError",
     "evalue": "expected an indented block (<ipython-input-116-6b12c14f843c>, line 2)",
     "output_type": "error",
     "traceback": [
      "\u001b[1;36m  File \u001b[1;32m\"<ipython-input-116-6b12c14f843c>\"\u001b[1;36m, line \u001b[1;32m2\u001b[0m\n\u001b[1;33m    '這個function會return一個隨機填好的九宮格'\u001b[0m\n\u001b[1;37m                                ^\u001b[0m\n\u001b[1;31mIndentationError\u001b[0m\u001b[1;31m:\u001b[0m expected an indented block\n"
     ]
    }
   ],
   "source": [
    "def fill_block(n):\n",
    "    '這個function會return一個隨機填好的九宮格'    \n",
    "    if n<9:\n",
    "        print(\"n要大等於9\")\n",
    "    choice=np.random.choice(n,9,replace=False)\n",
    "    return choice"
   ]
  },
  {
   "cell_type": "code",
   "execution_count": 162,
   "metadata": {},
   "outputs": [
    {
     "data": {
      "text/plain": [
       "2"
      ]
     },
     "execution_count": 162,
     "metadata": {},
     "output_type": "execute_result"
    }
   ],
   "source": [
    "def line():\n",
    "    \"所有可能的線\"\n",
    "    return [[0,1,2],[0,3,6],[0,4,8],[1,4,7],[2,5,8],[2,4,6],[3,4,5]\n",
    "                   ,[6,7,8]]\n",
    "def Bingo(n):\n",
    "    \"算每次的遊戲結果有幾條線\"\n",
    "    count=0\n",
    "    choice=fill_block(n)\n",
    "    S=np.random.choice(n,9,replace=False)\n",
    "    match=[]\n",
    "    for x in S:\n",
    "        if x in choice:\n",
    "            match.append(int(np.where(choice==x)[0]))\n",
    "    for index in line():\n",
    "        if set(index)<=set(match):\n",
    "            count+=1\n",
    "    return count\n",
    "\n",
    "Bingo(14)"
   ]
  },
  {
   "cell_type": "code",
   "execution_count": 174,
   "metadata": {},
   "outputs": [
    {
     "data": {
      "image/png": "[encoded data removed]",
      "text/plain": [
       "<Figure size 432x288 with 1 Axes>"
      ]
     },
     "metadata": {
      "needs_background": "light"
     },
     "output_type": "display_data"
    }
   ],
   "source": [
    "def histgram_results(n):\n",
    "    hist=[]\n",
    "    for i in range(5000):\n",
    "        hist.append(Bingo(n))\n",
    "    \n",
    "    plt.hist(hist)\n",
    "        \n",
    "histgram_results(14)    "
   ]
  },
  {
   "cell_type": "code",
   "execution_count": 181,
   "metadata": {},
   "outputs": [
    {
     "data": {
      "text/plain": [
       "0.201"
      ]
     },
     "execution_count": 181,
     "metadata": {},
     "output_type": "execute_result"
    }
   ],
   "source": [
    "def no_line(n):\n",
    "    \"return 一條線也沒有的empirical prob(反正就是頻率)\"\n",
    "    count=0\n",
    "    for i in range(5000):\n",
    "        a=Bingo(n)\n",
    "        if a==0:\n",
    "            count+=1\n",
    "    return count/5000\n",
    "no_line(15)"
   ]
  },
  {
   "cell_type": "code",
   "execution_count": null,
   "metadata": {},
   "outputs": [],
   "source": []
  }
 ],
 "metadata": {
  "kernelspec": {
   "display_name": "Python 3",
   "language": "python",
   "name": "python3"
  },
  "language_info": {
   "codemirror_mode": {
    "name": "ipython",
    "version": 3
   },
   "file_extension": ".py",
   "mimetype": "text/x-python",
   "name": "python",
   "nbconvert_exporter": "python",
   "pygments_lexer": "ipython3",
   "version": "3.7.4"
  }
 },
 "nbformat": 4,
 "nbformat_minor": 4
}
