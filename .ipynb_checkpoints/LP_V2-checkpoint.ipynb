{
 "cells": [
  {
   "cell_type": "markdown",
   "id": "de2e0479",
   "metadata": {},
   "source": [
    "# Liquidity Profile Analysis"
   ]
  },
  {
   "cell_type": "markdown",
   "id": "74564a68",
   "metadata": {},
   "source": [
    "## Import Libraries"
   ]
  },
  {
   "cell_type": "code",
   "execution_count": 27,
   "id": "4fad2770-c637-4c6e-a3d8-83fa6739e4ed",
   "metadata": {
    "tags": []
   },
   "outputs": [],
   "source": [
    "import requests\n",
    "import matplotlib.pyplot as plt\n",
    "import pandas as pd\n",
    "import numpy as np\n",
    "import json\n",
    "import math\n",
    "import datetime"
   ]
  },
  {
   "cell_type": "markdown",
   "id": "afe564e1",
   "metadata": {},
   "source": [
    "## Configuration\n"
   ]
  },
  {
   "cell_type": "code",
   "execution_count": 28,
   "id": "ff7d6def",
   "metadata": {},
   "outputs": [],
   "source": [
    "# Load configuration\n",
    "with open(\"WETH_USDC_arbitrum_3000_config.json\", 'r') as f:\n",
    "    config = json.load(f)\n",
    "\n",
    "# Determine token order\n",
    "if config[\"base_symbol\"] == \"0\":\n",
    "    token_0, token_1 = config['base_token'], config['quote_token']\n",
    "else:\n",
    "    token_0, token_1 = config['quote_token'], config['base_token']\n",
    "\n",
    "# Example Pool Addresses\n",
    "NETWORK_MAINNET = 'eth_mainnet'\n",
    "MAINNET_USDC_30BP = '0x8ad599c3A0ff1De082011EFDDc58f1908eb6e6D8'\n",
    "MAINNET_USDC_5BP = '0x88e6A0c2dDD26FEEb64F039a2c41296FcB3f5640'\n",
    "\n",
    "NETWORK_ARBITRUM = 'arbitrum'\n",
    "ARB_USDC_5BP = '0xc6962004f452be9203591991d15f6b388e09e8d0'\n",
    "\n",
    "# Time range\n",
    "INI_BLOCK = 155687991\n",
    "FIN_BLOCK = 176212562"
   ]
  },
  {
   "cell_type": "markdown",
   "id": "08481bed",
   "metadata": {},
   "source": [
    "## Helper Functions\n"
   ]
  },
  {
   "cell_type": "code",
   "execution_count": 29,
   "id": "34844838",
   "metadata": {},
   "outputs": [],
   "source": [
    "def transform_amount_0(amount0):\n",
    "    return int(amount0) * 10 ** -int(config[\"decimal_0\"])\n",
    "\n",
    "def transform_amount_1(amount1):\n",
    "    return int(amount1) * 10 ** -int(config[\"decimal_1\"])\n",
    "\n",
    "def tick_2_price(tick):\n",
    "    decimal_0 = int(config[\"decimal_0\"])\n",
    "    decimal_1 = int(config[\"decimal_1\"])\n",
    "    base_symbol = config[\"base_symbol\"]\n",
    "    \n",
    "    token_0_price = 1.0001 ** tick * 10 ** (decimal_0 - decimal_1)\n",
    "    return token_0_price if base_symbol == \"0\" else 1 / token_0_price\n",
    "\n",
    "def price_2_tick(price):\n",
    "    decimal_0 = int(config[\"decimal_0\"])\n",
    "    decimal_1 = int(config[\"decimal_1\"])\n",
    "    base_symbol = config[\"base_symbol\"]\n",
    "    \n",
    "    token_0_price = price if base_symbol == \"0\" else 1 / price\n",
    "    if token_0_price == 0:\n",
    "        return -math.inf\n",
    "    \n",
    "    tick = math.log(token_0_price, 1.0001) + (decimal_1 - decimal_0) * math.log(10, 1.0001)\n",
    "    return round(tick)\n",
    "\n",
    "def get_datetime_from_blocknumber(block_number):\n",
    "    arbitrum_node_url = \"https://arb-mainnet.g.alchemy.com/v2/nHzD3Ofjd2yRam6T9HYBjgtIqp2l8i2K\"\n",
    "    payload = {\n",
    "        \"jsonrpc\": \"2.0\",\n",
    "        \"method\": \"eth_getBlockByNumber\",\n",
    "        \"params\": [hex(block_number), False],\n",
    "        \"id\": 1\n",
    "    }\n",
    "    \n",
    "    try:\n",
    "        response = requests.post(arbitrum_node_url, json=payload)\n",
    "        response.raise_for_status()\n",
    "        timestamp = int(response.json()[\"result\"][\"timestamp\"], 16)\n",
    "        return datetime.datetime.utcfromtimestamp(timestamp)\n",
    "    except requests.exceptions.RequestException as e:\n",
    "        print(f\"An error occurred: {e}\")\n",
    "        return None"
   ]
  },
  {
   "cell_type": "markdown",
   "id": "8ffa3667",
   "metadata": {},
   "source": [
    "## API Parameters\n",
    "\n",
    "The API endpoint for fetching liquidity data is:\n",
    "* URL: http://office-ml.teahouse.finance:8181/pools/liquidity\n",
    "* Method: GET\n",
    "* Parameters:\n",
    "    * ```pool```: Smart contract address of the liquidity pool\n",
    "    * ```block``` (optional): Specific block number or \"latest\" (default: \"latest\")\n",
    "    * ```network``` (optional): Blockchain network (default: \"eth_mainnet\")"
   ]
  },
  {
   "cell_type": "markdown",
   "id": "9d3b0eaf",
   "metadata": {},
   "source": [
    "## Time and Price Range"
   ]
  },
  {
   "cell_type": "code",
   "execution_count": 30,
   "id": "92c2906b",
   "metadata": {},
   "outputs": [
    {
     "name": "stdout",
     "output_type": "stream",
     "text": [
      "Start date: 2023-12-01 00:00:00\n",
      "End date: 2024-02-01 00:00:00\n",
      "Tick range: 2232 (lower), 2231 (upper)\n"
     ]
    }
   ],
   "source": [
    "# Time range\n",
    "print(f\"Start date: {get_datetime_from_blocknumber(INI_BLOCK)}\")\n",
    "print(f\"End date: {get_datetime_from_blocknumber(FIN_BLOCK)}\")\n",
    "\n",
    "# Price range calculation\n",
    "price = 200  # Example price\n",
    "tick = price_2_tick(price)\n",
    "tick_lower = price_2_tick(0.8 * price)\n",
    "tick_upper = price_2_tick(1.25 * price)\n",
    "print(f\"Tick range: {tick - tick_lower} (lower), {tick_upper - tick} (upper)\")"
   ]
  },
  {
   "cell_type": "markdown",
   "id": "189c2f6a",
   "metadata": {},
   "source": [
    "## Main Functions"
   ]
  },
  {
   "cell_type": "code",
   "execution_count": 31,
   "id": "23399beb",
   "metadata": {},
   "outputs": [],
   "source": [
    "def get_LP_df(block, network=NETWORK_ARBITRUM, pool=ARB_USDC_5BP, range_lower=2230, range_upper=2230):\n",
    "    path = f'http://office-ml.teahouse.finance:8181/pools/liquidity?network={network}&block={block}&pool={pool}'\n",
    "    \n",
    "    try:\n",
    "        raw = requests.get(path).json()\n",
    "        if raw is None:\n",
    "            raise TypeError(f'API error. No data received. Current block: {block}')\n",
    "        \n",
    "        while not raw['success']:\n",
    "            raw = requests.get(path).json()\n",
    "    except requests.exceptions.RequestException as e:\n",
    "        print(f'API connection error: {e}. Current block: {block}')\n",
    "        return None\n",
    "    except TypeError as e:\n",
    "        print(e)\n",
    "        return None\n",
    "    \n",
    "    data = raw['data']\n",
    "    current_tick = np.floor(data['tick'] / 10) * 10\n",
    "    tick_lower = current_tick - range_lower\n",
    "    tick_upper = current_tick + range_upper\n",
    "    \n",
    "    tick_resample = pd.DataFrame({'ticks': np.arange(np.min(data['ticks']), np.max(data['ticks']) + 10, 10)})\n",
    "    df = pd.DataFrame(data).merge(tick_resample, how='right').ffill()\n",
    "    df = df[df['ticks'].between(tick_lower, tick_upper, 'both')].copy()\n",
    "    \n",
    "    df_rotate = df[['ticks', 'liquidity']].T\n",
    "    df_rotate.columns = np.arange(-range_lower, range_upper + 10, 10)\n",
    "    df_rotate = df_rotate.drop('ticks').reset_index().drop(columns='index')\n",
    "    df_rotate.insert(0, 'price', df['price0'].values[0])\n",
    "    df_rotate.insert(1, 'tick', df['tick'].values[0])\n",
    "    df_rotate.index = [block]\n",
    "    \n",
    "    return df_rotate\n",
    "\n",
    "def LP_profile(ini_block=INI_BLOCK, fin_block=FIN_BLOCK, network=NETWORK_ARBITRUM, pool=ARB_USDC_5BP):\n",
    "    df_list = []\n",
    "    for block in np.arange(ini_block, fin_block + 1, 14400):\n",
    "        df = get_LP_df(block, network, pool)\n",
    "        if df is not None:\n",
    "            df_list.append(df)\n",
    "    \n",
    "    df_LP = pd.concat(df_list)\n",
    "    df_LP.index.name = 'blockNumber'\n",
    "    return df_LP"
   ]
  },
  {
   "cell_type": "markdown",
   "id": "3e570e4c",
   "metadata": {},
   "source": [
    "## Usage Examples\n"
   ]
  },
  {
   "cell_type": "code",
   "execution_count": 32,
   "id": "ffb98c1e",
   "metadata": {},
   "outputs": [
    {
     "name": "stdout",
     "output_type": "stream",
     "text": [
      "                 price      tick              -2230              -2220  \\\n",
      "250216394  2407.857488 -198456.0  65319128404743974  65317708380180194   \n",
      "\n",
      "                       -2210              -2200              -2190  \\\n",
      "250216394  65317707420994702  65317706479255557  65922475316990807   \n",
      "\n",
      "                       -2180              -2170              -2160  ...  \\\n",
      "250216394  65918421117372642  65918420210575981  65476739682030715  ...   \n",
      "\n",
      "                          2140                 2150                 2160  \\\n",
      "250216394  2298778648364058955  2181321853172914261  2181565779301741685   \n",
      "\n",
      "                          2170                 2180                 2190  \\\n",
      "250216394  2172484536418228451  2234380006049459731  2166225040768634533   \n",
      "\n",
      "                          2200                 2210                 2220  \\\n",
      "250216394  2105930947724359136  2585744329154382117  2678250644703325821   \n",
      "\n",
      "                          2230  \n",
      "250216394  2576314153690487211  \n",
      "\n",
      "[1 rows x 449 columns]\n"
     ]
    },
    {
     "data": {
      "image/png": "[encoded data removed]",
      "text/plain": [
       "<Figure size 1200x600 with 1 Axes>"
      ]
     },
     "metadata": {},
     "output_type": "display_data"
    }
   ],
   "source": [
    "# Example 1: Get liquidity profile for a specific block\n",
    "lp_data = get_LP_df(250216394, network=NETWORK_ARBITRUM, pool=ARB_USDC_5BP)\n",
    "print(lp_data.head())\n",
    "\n",
    "# Example 2: Get liquidity profile over a range of blocks\n",
    "lp_profile = LP_profile(INI_BLOCK, FIN_BLOCK)\n",
    "print(lp_profile.head())\n",
    "\n",
    "# Example 3: Visualize liquidity distribution\n",
    "plt.figure(figsize=(12, 6))\n",
    "plt.plot(lp_data.columns[2:], lp_data.iloc[0, 2:])\n",
    "plt.title('Liquidity Distribution')\n",
    "plt.xlabel('Tick')\n",
    "plt.ylabel('Liquidity')\n",
    "plt.show()"
   ]
  },
  {
   "cell_type": "markdown",
   "id": "9296b57d",
   "metadata": {},
   "source": [
    "## Adding CEX Price Data"
   ]
  },
  {
   "cell_type": "code",
   "execution_count": 6,
   "id": "d03757ed",
   "metadata": {},
   "outputs": [],
   "source": [
    "def Add_CEX_price(df,df_B,k):\n",
    "    keep_cols = ['tick', 'pool_price', 'USDC_buy', 'USDC_sell']\n",
    "    new_cols = ['CEX_tick', 'CEX_price'] + [f'{i}' for i in range(-k, k+1)]\n",
    "\n",
    "    # Create the new DataFrame with the new columns\n",
    "    new_df = pd.DataFrame(index=df.index, columns=new_cols)\n",
    "\n",
    "    # Concatenate along the column axis (axis=1)\n",
    "    new_df = pd.concat([df[list(keep_cols)], new_df], axis=1)\n",
    "\n",
    "    for i in range(0,len(new_df)):\n",
    "        block_timestamp = get_timestamp_from_blocknumber(df.index[i])\n",
    "        \n",
    "        # Find the column in df_B with closest timestamp\n",
    "        block_index = (df_B['timestamp'] - block_timestamp).abs().idxmin()\n",
    "        CEX_price = df_B.iloc[block_index]['close']\n",
    "        CEX_tick = price_2_tick(CEX_price)\n",
    "        new_df.loc[new_df.index[i], ['CEX_tick', 'CEX_price']] = [CEX_tick, CEX_price]\n",
    "\n",
    "        # Find the LP in df cetered at CEX_price\n",
    "        LP_index = df.columns[6:][(df.columns[6:] - CEX_tick >= 0) & (df_LP.columns[6:] - CEX_tick < 10)][0]\n",
    "        iloc_position = df.columns.get_loc(LP_index) \n",
    "\n",
    "        for j in range(-k,k+1):\n",
    "            if (LP_index + j * 10) in new_df.columns:\n",
    "                new_df.loc[new_df.index[i], new_df.columns[iloc_position+j]] = df[iloc_position+j]\n",
    "            else:\n",
    "                print('out of range')\n",
    "                \n",
    "    return new_df"
   ]
  }
 ],
 "metadata": {
  "kernelspec": {
   "display_name": "Python 3 (ipykernel)",
   "language": "python",
   "name": "python3"
  },
  "language_info": {
   "codemirror_mode": {
    "name": "ipython",
    "version": 3
   },
   "file_extension": ".py",
   "mimetype": "text/x-python",
   "name": "python",
   "nbconvert_exporter": "python",
   "pygments_lexer": "ipython3",
   "version": "3.9.5"
  }
 },
 "nbformat": 4,
 "nbformat_minor": 5
}
