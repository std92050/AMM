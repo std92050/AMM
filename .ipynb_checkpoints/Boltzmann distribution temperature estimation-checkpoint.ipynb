{
 "cells": [
  {
   "cell_type": "code",
   "execution_count": 22,
   "metadata": {},
   "outputs": [],
   "source": [
    "import numpy as np\n",
    "import matplotlib.pyplot as plt\n",
    "import sympy.stats as stats\n",
    "from sympy import Symbol ,simplify\n",
    "import scipy.stats as stats2\n",
    "#The idea is try to estimate system's temperature by method of moments and maximum likelihood estimation"
   ]
  },
  {
   "cell_type": "code",
   "execution_count": 34,
   "metadata": {},
   "outputs": [],
   "source": [
    "# MoM: first how to calculate E(ɛ)  which is function of T\n",
    "T=Symbol(\"T\")\n",
    "m=Symbol(\"N\")\n",
    "x=stats.Normal(\"x\",m,20)\n",
    "simplify(stats.E(x))\n",
    "samp=[]\n",
    "for i in range(100):\n",
    "    samp.append(stats.sample(x))\n"
   ]
  },
  {
   "cell_type": "code",
   "execution_count": null,
   "metadata": {},
   "outputs": [],
   "source": []
  },
  {
   "cell_type": "code",
   "execution_count": null,
   "metadata": {},
   "outputs": [],
   "source": []
  }
 ],
 "metadata": {
  "kernelspec": {
   "display_name": "Python 3",
   "language": "python",
   "name": "python3"
  },
  "language_info": {
   "codemirror_mode": {
    "name": "ipython",
    "version": 3
   },
   "file_extension": ".py",
   "mimetype": "text/x-python",
   "name": "python",
   "nbconvert_exporter": "python",
   "pygments_lexer": "ipython3",
   "version": "3.6.4"
  }
 },
 "nbformat": 4,
 "nbformat_minor": 2
}
