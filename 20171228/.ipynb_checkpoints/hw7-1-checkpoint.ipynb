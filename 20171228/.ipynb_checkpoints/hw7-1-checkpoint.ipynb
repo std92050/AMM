{
 "cells": [
  {
   "cell_type": "code",
   "execution_count": 11,
   "metadata": {},
   "outputs": [
    {
     "data": {
      "text/plain": [
       "[<matplotlib.lines.Line2D at 0xa486128>]"
      ]
     },
     "execution_count": 11,
     "metadata": {},
     "output_type": "execute_result"
    },
    {
     "data": {
      "image/png": "[encoded data removed]",
      "text/plain": [
       "<matplotlib.figure.Figure at 0xa2bbdd8>"
      ]
     },
     "metadata": {},
     "output_type": "display_data"
    }
   ],
   "source": [
    "%matplotlib inline\n",
    "import matplotlib.pyplot as p\n",
    "import math\n",
    "#各種參數 初始條件\n",
    "b=0.05\n",
    "k=10\n",
    "w0=math.pi*2\n",
    "d=math.pi\n",
    "m=k/pow(w0,2)\n",
    "w1=math.sqrt(pow(w0,2)-pow(b,2))\n",
    "A=1\n",
    "dt=0.01\n",
    "sec=[]\n",
    "x=[]\n",
    "v=[]\n",
    "E=[]\n",
    "s=0\n",
    "\n",
    "#用來停止模擬的參數\n",
    "finish=False\n",
    "#模擬100秒內過程\n",
    "while not finish:\n",
    "    x.append(A*math.exp(-b*s)*math.cos(w1*s-d))\n",
    "    v.append(-b*A*math.exp(-b*s)*math.cos(w1*s-d)-A*math.exp(-b*s)*w1*math.sin(w1*s-d))\n",
    "    E.append(k*pow(A*math.exp(-b*s)*math.cos(w1*s-d),2)/2+m*pow(-b*A*math.exp(-b*s)*math.cos(w1*s-d)-A*math.exp(-b*s)*w1*math.sin(w1*s-d),2)/2)\n",
    "    sec.append(s)\n",
    "    s+=dt\n",
    "    if s>100:\n",
    "        finish=True\n",
    "#x-t\n",
    "#p.plot(sec,x)\n",
    " \n",
    "#E-t\n",
    "#p.plot(sec,E)\n",
    "\n",
    "#phase\n",
    "#p.plot(x,v)\n",
    "\n",
    "\n",
    "\n",
    "\n"
   ]
  },
  {
   "cell_type": "code",
   "execution_count": null,
   "metadata": {
    "collapsed": true
   },
   "outputs": [],
   "source": []
  }
 ],
 "metadata": {
  "kernelspec": {
   "display_name": "Python 3",
   "language": "python",
   "name": "python3"
  },
  "language_info": {
   "codemirror_mode": {
    "name": "ipython",
    "version": 3
   },
   "file_extension": ".py",
   "mimetype": "text/x-python",
   "name": "python",
   "nbconvert_exporter": "python",
   "pygments_lexer": "ipython3",
   "version": "3.6.2"
  }
 },
 "nbformat": 4,
 "nbformat_minor": 2
}
