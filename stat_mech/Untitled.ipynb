{
 "cells": [
  {
   "cell_type": "code",
   "execution_count": 1,
   "metadata": {},
   "outputs": [],
   "source": [
    "import numpy as np\n",
    "import sympy "
   ]
  },
  {
   "cell_type": "code",
   "execution_count": 22,
   "metadata": {},
   "outputs": [],
   "source": [
    "x=sympy.symbols('x')\n",
    "p=sympy.symbols('p')\n",
    "q=1-p"
   ]
  },
  {
   "cell_type": "code",
   "execution_count": 31,
   "metadata": {},
   "outputs": [],
   "source": [
    "S=(x+2*p)*(x/(2*p)-x**2/(8*p**2))+(2*q-x)*(x/(2*q)-x**2/(8*q**2))"
   ]
  },
  {
   "cell_type": "code",
   "execution_count": 32,
   "metadata": {},
   "outputs": [
    {
     "data": {
      "text/latex": [
       "$\\displaystyle \\left(2 p + x\\right) \\left(\\frac{x}{2 p} - \\frac{x^{2}}{8 p^{2}}\\right) + \\left(- \\frac{x^{2}}{8 \\left(1 - p\\right)^{2}} + \\frac{x}{2 - 2 p}\\right) \\left(- 2 p - x + 2\\right)$"
      ],
      "text/plain": [
       "(2*p + x)*(x/(2*p) - x**2/(8*p**2)) + (-x**2/(8*(1 - p)**2) + x/(2 - 2*p))*(-2*p - x + 2)"
      ]
     },
     "execution_count": 32,
     "metadata": {},
     "output_type": "execute_result"
    }
   ],
   "source": [
    "S"
   ]
  },
  {
   "cell_type": "code",
   "execution_count": 29,
   "metadata": {},
   "outputs": [
    {
     "data": {
      "text/latex": [
       "$\\displaystyle x^{3} \\left(\\frac{1}{8 \\left(p^{2} - 2 p + 1\\right)} - \\frac{1}{8 p^{2}}\\right) + x^{2} \\left(\\frac{p}{4 \\left(p^{2} - 2 p + 1\\right)} - \\frac{1}{4 \\left(p^{2} - 2 p + 1\\right)} - \\frac{1}{2 - 2 p} + \\frac{1}{4 p}\\right) + x \\left(- \\frac{2 p}{2 - 2 p} + 1 + \\frac{2}{2 - 2 p}\\right)$"
      ],
      "text/plain": [
       "x**3*(1/(8*(p**2 - 2*p + 1)) - 1/(8*p**2)) + x**2*(p/(4*(p**2 - 2*p + 1)) - 1/(4*(p**2 - 2*p + 1)) - 1/(2 - 2*p) + 1/(4*p)) + x*(-2*p/(2 - 2*p) + 1 + 2/(2 - 2*p))"
      ]
     },
     "execution_count": 29,
     "metadata": {},
     "output_type": "execute_result"
    }
   ],
   "source": [
    "sympy.collect(sympy.expand(S),x)"
   ]
  },
  {
   "cell_type": "code",
   "execution_count": null,
   "metadata": {},
   "outputs": [],
   "source": []
  }
 ],
 "metadata": {
  "kernelspec": {
   "display_name": "Python 3",
   "language": "python",
   "name": "python3"
  },
  "language_info": {
   "codemirror_mode": {
    "name": "ipython",
    "version": 3
   },
   "file_extension": ".py",
   "mimetype": "text/x-python",
   "name": "python",
   "nbconvert_exporter": "python",
   "pygments_lexer": "ipython3",
   "version": "3.7.4"
  }
 },
 "nbformat": 4,
 "nbformat_minor": 4
}
