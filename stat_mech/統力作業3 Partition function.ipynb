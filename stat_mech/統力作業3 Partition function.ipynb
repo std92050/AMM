{
 "cells": [
  {
   "cell_type": "code",
   "execution_count": 1,
   "metadata": {},
   "outputs": [],
   "source": [
    "import numpy as np"
   ]
  },
  {
   "cell_type": "markdown",
   "metadata": {},
   "source": [
    "In this program , we will compute the partition function of semi quantum(Bohr) hydrogen model at T=300K , under the truncation\n",
    "of energy level due to mean free path limitation on the radius of orbit (see stat mech HW3 Problem 5)"
   ]
  },
  {
   "cell_type": "code",
   "execution_count": 11,
   "metadata": {},
   "outputs": [],
   "source": [
    "a=527.1317829 #a = -1 X ground state energy /KT as Boltzmann exponent\n",
    "n_l=38"
   ]
  },
  {
   "cell_type": "code",
   "execution_count": 23,
   "metadata": {},
   "outputs": [
    {
     "name": "stdout",
     "output_type": "stream",
     "text": [
      "8.51970484263173e+228\n",
      "1.7084652012269094e+57\n",
      "2.7334670226971247e+25\n",
      "203306626607892.8\n",
      "1436206810.9928765\n",
      "2286538.191544969\n",
      "46994.76482354282\n",
      "3776.051280494088\n",
      "670.3498825823882\n",
      "194.6723383314516\n",
      "77.9806731378085\n",
      "38.88612025811052\n",
      "22.626526925749033\n",
      "14.723544393806616\n",
      "10.410427249461595\n",
      "7.838978456470729\n",
      "6.196504904133167\n",
      "5.088331347374983\n",
      "4.3068158302707635\n",
      "3.735304932861581\n",
      "3.304582578430569\n",
      "2.9716437590046105\n",
      "2.708698872307052\n",
      "2.49717313303705\n",
      "2.324281252740746\n",
      "2.1809940169045356\n",
      "2.06078888923541\n",
      "1.9588586221564164\n",
      "1.8715962123208494\n",
      "1.7962514775759235\n",
      "1.7306970177204581\n",
      "1.673265542455832\n",
      "1.6226347613128589\n",
      "1.5777445891273405\n",
      "1.5377366991410646\n",
      "1.5019097827718915\n",
      "1.4696860142827628\n"
     ]
    },
    {
     "data": {
      "text/plain": [
       "8.51970484263173e+228"
      ]
     },
     "execution_count": 23,
     "metadata": {},
     "output_type": "execute_result"
    }
   ],
   "source": [
    "Z=0 # partition function\n",
    "for n in range(n_l-1):\n",
    "    print(np.exp(a/(n+1)**2))\n",
    "    Z+=np.exp(a/(n+1)**2)\n",
    "Z"
   ]
  },
  {
   "cell_type": "code",
   "execution_count": 25,
   "metadata": {},
   "outputs": [
    {
     "data": {
      "text/plain": [
       "1.0"
      ]
     },
     "execution_count": 25,
     "metadata": {},
     "output_type": "execute_result"
    }
   ],
   "source": [
    "P=np.exp(a)/Z\n",
    "P"
   ]
  },
  {
   "cell_type": "markdown",
   "metadata": {},
   "source": [
    "Interestingly , ground state Boltzmann weight dominate , computer give the same results."
   ]
  },
  {
   "cell_type": "code",
   "execution_count": null,
   "metadata": {},
   "outputs": [],
   "source": []
  }
 ],
 "metadata": {
  "kernelspec": {
   "display_name": "Python 3",
   "language": "python",
   "name": "python3"
  },
  "language_info": {
   "codemirror_mode": {
    "name": "ipython",
    "version": 3
   },
   "file_extension": ".py",
   "mimetype": "text/x-python",
   "name": "python",
   "nbconvert_exporter": "python",
   "pygments_lexer": "ipython3",
   "version": "3.6.4"
  }
 },
 "nbformat": 4,
 "nbformat_minor": 2
}
