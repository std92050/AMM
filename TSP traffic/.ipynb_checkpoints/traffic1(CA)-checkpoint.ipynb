{
 "cells": [
  {
   "cell_type": "code",
   "execution_count": 57,
   "metadata": {},
   "outputs": [],
   "source": [
    "import random\n",
    "import numpy as np\n",
    "import matplotlib.pyplot as plt\n",
    "%matplotlib inline \n",
    "class Car:\n",
    "    \"sdfsf\"\n",
    "V_max=5\n",
    "T=100\n",
    "l=500 #總長\n",
    "\n",
    "p=0.1 #減速機率\n",
    "S1=[] #某時間某狀態\n",
    "t=[] #時間(長度和P一樣)\n",
    "P=[] #所有時間所有狀態\n",
    "\n",
    "v=0 #avg 速度\n",
    "p2=0.3 #進車機率\n",
    "def f(l):\n",
    "    return l[0]\n",
    "#排序用的function 可不管\n",
    "def prob(x):\n",
    "    a=random.randint(1,10)\n",
    "    if a<=x*10:\n",
    "        return True\n",
    "    else:\n",
    "        return False\n",
    "    # x的機率是true 1-x的機率是False\n",
    "def ini(n):\n",
    "   \n",
    "    S=[] #儲存某個時間點個個車子的狀態\n",
    "    rad_x=random.sample(range(l),n)\n",
    "    for i in range(n):\n",
    "        x=Car()\n",
    "        x.pos=rad_x[i]\n",
    "        x.v=random.randint(0,V_max)\n",
    "        \n",
    "        S.append([x.pos,x.v])\n",
    "    S.sort(key=f)\n",
    "\n",
    "    return S\n",
    "   #初始化\n",
    "def avg(x):\n",
    "    \n",
    "    for i in range(len(x)):\n",
    "        if i==0:\n",
    "            pass\n",
    "        else:\n",
    "            x[i]+=x[i-1]\n",
    "    return x[len(x)-1]/len(x)\n",
    "    \n",
    "    \n",
    "\n",
    "\n"
   ]
  },
  {
   "cell_type": "code",
   "execution_count": 58,
   "metadata": {
    "scrolled": false
   },
   "outputs": [],
   "source": [
    "\n",
    "def traffic(n):\n",
    "    #n是車子數量\n",
    "    S=ini(n)\n",
    "    \n",
    "    V=[] #計算平均速度用的\n",
    "    for j in range(T):\n",
    "        \n",
    "        #每個時段內發生的事\n",
    "        for i in range(len(S)):\n",
    "            x=len(S)-1\n",
    "            t.append(j) \n",
    "            P.append(S[x-i][0])\n",
    "        #每台車的狀況\n",
    "            if S[x-i][1]<V_max:\n",
    "                S[x-i][1]+=1\n",
    "            #(1)沒到上限就加速1單位    \n",
    "            \n",
    "            if i>0 :\n",
    "                if S[x-i][1]>=(S[x-i+1][0]-S[x-i][0]):\n",
    "                    S[x-i][1]=S[x-i+1][0]-S[x-i][0]-1\n",
    "                    if S[x-i][1]<0:\n",
    "                        print(S[x-i+1][0],S[x-i][0],S[x-i][1],j,i)\n",
    "                        break\n",
    "            #(2)速度比前車快的話就減速至跟距離一樣的大小避免相撞\n",
    "            if prob(p)==True and S[x-i][1]>0:\n",
    "                S[x-i][1]-=1\n",
    "            #(3)p機率減速1單位\n",
    "        for k in range(len(S)):\n",
    "            S[k][0]+=S[k][1]\n",
    "            V.append(S[k][1])\n",
    "            \n",
    "            #(4)更新車子的位置\n",
    "        \n",
    "               \n",
    "    \n",
    "        if S[len(S)-1][0]>l:\n",
    "            S.remove(S[len(S)-1])\n",
    "        #(5)超出去的就刪掉\n",
    "        if prob(p2) and S[0][0]!=0 :\n",
    "            S.insert(0,[0,random.randint(0,V_max)])\n",
    "        #(6)入口進車的判斷  \n",
    "    S1=S\n",
    "    avg_V=avg(V) #每個n對應到的平均速度\n",
    "    return avg_V \n",
    "#traffic()\n",
    "            \n",
    "  "
   ]
  },
  {
   "cell_type": "code",
   "execution_count": null,
   "metadata": {
    "scrolled": false
   },
   "outputs": [
    {
     "data": {
      "text/plain": [
       "<matplotlib.collections.PathCollection at 0x1f627b00>"
      ]
     },
     "execution_count": 61,
     "metadata": {},
     "output_type": "execute_result"
    }
   ],
   "source": [
    "plt.figure(figsize=(20,16))\n",
    "plt.xlim(0, 100)\n",
    "plt.ylim(0, 500)\n",
    "plt.scatter(t,P) #X 時間    Y 位置"
   ]
  },
  {
   "cell_type": "code",
   "execution_count": 59,
   "metadata": {},
   "outputs": [],
   "source": [
    "Vbar=[] #蒐集各個n的平均速度\n",
    "for i in range(1,400):\n",
    "    \n",
    "    Vbar.append(traffic(i))\n"
   ]
  },
  {
   "cell_type": "code",
   "execution_count": 60,
   "metadata": {},
   "outputs": [
    {
     "data": {
      "text/plain": [
       "[<matplotlib.lines.Line2D at 0x1f5cf080>]"
      ]
     },
     "execution_count": 60,
     "metadata": {},
     "output_type": "execute_result"
    },
    {
     "data": {
      "image/png": "[encoded data removed]",
      "text/plain": [
       "<matplotlib.figure.Figure at 0x7d5b9b0>"
      ]
     },
     "metadata": {},
     "output_type": "display_data"
    }
   ],
   "source": [
    "plt.plot(Vbar)"
   ]
  },
  {
   "cell_type": "code",
   "execution_count": null,
   "metadata": {},
   "outputs": [],
   "source": []
  },
  {
   "cell_type": "code",
   "execution_count": null,
   "metadata": {},
   "outputs": [],
   "source": []
  },
  {
   "cell_type": "code",
   "execution_count": 23,
   "metadata": {},
   "outputs": [
    {
     "data": {
      "text/plain": [
       "1"
      ]
     },
     "execution_count": 23,
     "metadata": {},
     "output_type": "execute_result"
    }
   ],
   "source": []
  },
  {
   "cell_type": "code",
   "execution_count": null,
   "metadata": {},
   "outputs": [],
   "source": []
  }
 ],
 "metadata": {
  "kernelspec": {
   "display_name": "Python 3",
   "language": "python",
   "name": "python3"
  },
  "language_info": {
   "codemirror_mode": {
    "name": "ipython",
    "version": 3
   },
   "file_extension": ".py",
   "mimetype": "text/x-python",
   "name": "python",
   "nbconvert_exporter": "python",
   "pygments_lexer": "ipython3",
   "version": "3.6.4"
  }
 },
 "nbformat": 4,
 "nbformat_minor": 2
}
