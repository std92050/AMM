{
 "cells": [
  {
   "cell_type": "code",
   "execution_count": 1,
   "metadata": {},
   "outputs": [
    {
     "name": "stdout",
     "output_type": "stream",
     "text": [
      "done\n"
     ]
    }
   ],
   "source": [
    "from scipy.optimize import curve_fit\n",
    "import random\n",
    "import numpy as np\n",
    "import matplotlib.pyplot as plt\n",
    "%matplotlib inline \n",
    "class Car:\n",
    "    \"sdfsf\"\n",
    "\n",
    "T=5000\n",
    "l=500 #總長\n",
    "\n",
    "\n",
    "def f(l):\n",
    "    return l[0]\n",
    "#排序用的function 可不管\n",
    "def prob(x):\n",
    "    a=random.randint(1,10)\n",
    "    if a<=x*10:\n",
    "        return True\n",
    "    else:\n",
    "        return False\n",
    "    # x的機率是true 1-x的機率是False\n",
    "def ini(rho,V_max,d): #初始化道路的程式 d是車子的安全距離\n",
    "   \n",
    "    n=int(rho*l/(2*d)) #車子數量由密度 道路長 安全距離所決定 初始的位置會是d的整數倍\n",
    "    S=[] #儲存某個時間點個個車子的狀態\n",
    "    \n",
    "    rad_lis=[]#用來生成隨機位置用的   \n",
    "    for i in range(0,l):\n",
    "    \n",
    "        if i*d>l:\n",
    "            break\n",
    "        rad_lis.append(i*d)\n",
    "    rad_x=random.sample(rad_lis,n)\n",
    "    \n",
    "    for i in range(n):\n",
    "        x=Car()\n",
    "        x.pos=rad_x[i]\n",
    "        x.v=random.uniform(0,V_max)\n",
    "        \n",
    "        S.append([x.pos,x.v])\n",
    "    S.sort(key=f) #由位置來排序 第一台車、第二台車....第n台車 \n",
    "    for i in  range(n):\n",
    "        if i>0 and S[i]<S[i-1]:\n",
    "            print(\"rgdg\")\n",
    "    return S\n",
    "   \n",
    "def avg(x): #用來算list平均用的\n",
    "    c=0\n",
    "    for i in x:\n",
    "        \n",
    "        c+=i\n",
    "            \n",
    "    return c/len(x)\n",
    "\n",
    "print(\"done\")\n",
    "\n"
   ]
  },
  {
   "cell_type": "code",
   "execution_count": 2,
   "metadata": {},
   "outputs": [
    {
     "data": {
      "text/plain": [
       "2.4301112730209877"
      ]
     },
     "execution_count": 2,
     "metadata": {},
     "output_type": "execute_result"
    }
   ],
   "source": [
    "avgV=[] #個個時刻的平均速度\n",
    "avgd=0\n",
    "P=[] #所有時間所有狀態\n",
    "\n",
    "t=[] #時間(長度和P一樣)\n",
    "def traffic(rho,V_max,d,t_d):\n",
    "    #n是車子數量 V_max速度上限 d 安全距離 t_d delay-time >1\n",
    "    S=ini(rho,V_max,d)\n",
    "    V=[] #計算平均速度用的\n",
    "    global avgd\n",
    "    avg_d=[]\n",
    "    for j in range(T):\n",
    "        \n",
    "        V1=[]\n",
    "        #每個時段內發生的事\n",
    "       \n",
    "        for i in range(len(S)):\n",
    "            x=len(S)-1\n",
    "            t.append(j) \n",
    "            P.append(S[x-i][0])\n",
    "            \n",
    "        #每台車的狀況\n",
    "            if i>0 :\n",
    "                dx=S[x-i+1][0]-S[x-i][0] #前後車距\n",
    "                if S[x-i][1]<V_max:\n",
    "                   \n",
    "                    if S[x-i][1]+1 <=dx-d : #(1)加速不會超過安全距離的話就+速\n",
    "                       \n",
    "                        if dx<=5*d :    #車距(預設5d)不夠大就會出現延遲時間\n",
    "                            S[x-i][1]+=(1/t_d)\n",
    "                        else:\n",
    "                            S[x-i][1]+=1\n",
    "                        \n",
    "                    if S[x-i][1]>dx-d  :\n",
    "                        #(2)速度超過安全距離的話就減速至跟距離一樣\n",
    "                        S[x-i][1]=dx-d\n",
    "                    if S[x-i][1]>=V_max:\n",
    "                        S[x-i][1]=V_max\n",
    "                else: #速度等於上限時\n",
    "                    if S[x-i][1]>dx-d  :\n",
    "                        #跟上面一樣\n",
    "                        S[x-i][1]=dx-d\n",
    "                    \n",
    "                    \n",
    "            if i>0 and S[x-i+1][0]<S[x-i][0]: #debug用的\n",
    "                            \n",
    "                print(S[x-i+1][0],S[x-i][0],S[x-i][1],j,i)\n",
    "                break\n",
    "            \n",
    "        \n",
    "            if i==0 and S[x-i][1]<V_max:\n",
    "                S[x-i][1]+=1\n",
    "                if S[x-i][1]>=V_max:\n",
    "                    S[x-i][1]=V_max\n",
    "                \n",
    "                \n",
    "           \n",
    "            \n",
    "           \n",
    "        for k in range(len(S)):\n",
    "            S[k][0]+=S[k][1]  #(4)更新車子的位置\n",
    "            V.append(S[k][1]) #j時刻所有車的速度都丟進來\n",
    "            V1.append(S[k][1])\n",
    "            \n",
    "            \n",
    "            if S[k][0]>l: #若有車跑出去 大家集體往前移 在家新的車進來\n",
    "                S.remove(S[len(S)-1])\n",
    "                for a in range(len(S)):\n",
    "                    S[a][0]+=d\n",
    "                S.insert(0,[0,V_max]) \n",
    "            \n",
    "            if k>0: #看一下大家有無保持安全間距\n",
    "                \n",
    "                avg_d.append(S[k][0]-S[k-1][0])\n",
    "                \n",
    "                if S[k][0]-S[k-1][0]<d:\n",
    "                    print(\"no!\",j,k,S[k][0],S[k-1][0],S[k-1][1])\n",
    "            \n",
    "        \n",
    "        avgV.append(avg(V1)) #j時刻的平均速度\n",
    "      \n",
    "        \n",
    "        \n",
    "    avgd=avg(avg_d)\n",
    "      \n",
    "                \n",
    "         \n",
    "    \n",
    "    avg_V=avg(V) #每個n對應到的平均速度\n",
    "    \n",
    "    return avg_V \n",
    "P=[]\n",
    "t=[]\n",
    "traffic(0.35,5,1.5,4)\n"
   ]
  },
  {
   "cell_type": "code",
   "execution_count": 5,
   "metadata": {},
   "outputs": [],
   "source": [
    "#plt.figure(figsize=(20,25))\n",
    "#plt.xlim(100,2500)\n",
    "#plt.scatter(t,P) #X 時間    Y 位置"
   ]
  },
  {
   "cell_type": "code",
   "execution_count": 92,
   "metadata": {
    "scrolled": false
   },
   "outputs": [
    {
     "name": "stdout",
     "output_type": "stream",
     "text": [
      "10\n",
      "20\n",
      "30\n",
      "40\n",
      "50\n",
      "60\n",
      "70\n",
      "80\n",
      "90\n",
      "100\n",
      "110\n",
      "120\n",
      "130\n",
      "140\n",
      "150\n",
      "160\n",
      "170\n",
      "180\n",
      "190\n",
      "200\n",
      "210\n",
      "220\n",
      "230\n",
      "240\n",
      "250\n",
      "260\n",
      "270\n",
      "280\n",
      "290\n",
      "300\n",
      "310\n",
      "320\n",
      "330\n",
      "340\n",
      "350\n",
      "360\n",
      "370\n",
      "380\n",
      "390\n",
      "400\n",
      "410\n",
      "420\n",
      "430\n",
      "440\n",
      "450\n",
      "460\n",
      "470\n",
      "480\n",
      "490\n",
      "10\n",
      "20\n",
      "30\n",
      "40\n",
      "50\n",
      "60\n",
      "70\n",
      "80\n",
      "90\n",
      "100\n",
      "110\n",
      "120\n",
      "130\n",
      "140\n",
      "150\n",
      "160\n",
      "170\n",
      "180\n",
      "190\n",
      "200\n",
      "210\n",
      "220\n",
      "230\n",
      "240\n",
      "250\n",
      "260\n",
      "270\n",
      "280\n",
      "290\n",
      "300\n",
      "310\n",
      "320\n",
      "330\n",
      "340\n",
      "350\n",
      "360\n",
      "370\n",
      "380\n",
      "390\n",
      "400\n",
      "410\n",
      "420\n",
      "430\n",
      "440\n",
      "450\n",
      "460\n",
      "470\n",
      "480\n",
      "490\n"
     ]
    },
    {
     "data": {
      "text/plain": [
       "<matplotlib.collections.PathCollection at 0x688bc128>"
      ]
     },
     "execution_count": 92,
     "metadata": {},
     "output_type": "execute_result"
    },
    {
     "data": {
      "image/png": "[encoded data removed]",
      "text/plain": [
       "<matplotlib.figure.Figure at 0x202cda20>"
      ]
     },
     "metadata": {},
     "output_type": "display_data"
    }
   ],
   "source": [
    "#Vbar 和 ro\n",
    "\"\"\"Vbar1=[] #蒐集各個n的平均速度\n",
    "ro1=[] #密度\n",
    "\n",
    "for i in range(10,500,10):\n",
    "    Vbar1.append(traffic(i/500,5,1.5,2))\n",
    "    ro1.append(i/500)\n",
    "    print(i)\n",
    "\"\"\"\n",
    "\n",
    "Vbar2=[]\n",
    "ro2=[] \n",
    "\n",
    "for i in range(10,500,10):\n",
    "    Vbar2.append(traffic(i/500,5,1.5,3))\n",
    "    ro2.append(i/500)\n",
    "    print(i)\n",
    "Vbar4=[] \n",
    "ro4=[] \n",
    "\n",
    "for i in range(10,500,10):\n",
    "    Vbar4.append(traffic(i/500,5,1.5,4))\n",
    "    ro4.append(i/500)\n",
    "    print(i)\n",
    "    \n",
    "\"\"\"Vbar5=[] \n",
    "ro5=[] \n",
    "for i in range(10,500,10):\n",
    "    Vbar5.append(traffic(i/500,5,1.5,5))\n",
    "    ro5.append(i/500)\n",
    "    print(i)\n",
    "plt.scatter(ro1,Vbar1)\"\"\"\n",
    "plt.scatter(ro2,Vbar2)\n",
    "plt.scatter(ro4,Vbar4)\n",
    "#plt.scatter(ro5,Vbar5)"
   ]
  },
  {
   "cell_type": "code",
   "execution_count": 93,
   "metadata": {},
   "outputs": [
    {
     "data": {
      "text/plain": [
       "<matplotlib.collections.PathCollection at 0x68914780>"
      ]
     },
     "execution_count": 93,
     "metadata": {},
     "output_type": "execute_result"
    },
    {
     "data": {
      "image/png": "[encoded data removed]",
      "text/plain": [
       "<matplotlib.figure.Figure at 0x202cde80>"
      ]
     },
     "metadata": {},
     "output_type": "display_data"
    }
   ],
   "source": [
    "#流量對密度\n",
    "\"\"\"q1=[]\n",
    "for i in range(len(Vbar1)):\n",
    "    q1.append(Vbar1[i]*ro1[i])\n",
    "    print(i)\"\"\"\n",
    "q2=[]\n",
    "for i in range(len(Vbar2)):\n",
    "    q2.append(Vbar2[i]*ro2[i])\n",
    "    \n",
    "q3=[]\n",
    "for i in range(len(Vbar4)):\n",
    "    q3.append(Vbar4[i]*ro4[i])\n",
    "\"\"\"q4=[]\n",
    "for i in range(len(Vbar5)):\n",
    "    q4.append(Vbar5[i]*ro5[i])\n",
    "plt.scatter(ro1,q1)\"\"\"\n",
    "plt.scatter(ro2,q2)\n",
    "plt.scatter(ro4,q3)\n",
    "#plt.scatter(ro5,q4)"
   ]
  },
  {
   "cell_type": "code",
   "execution_count": 10,
   "metadata": {},
   "outputs": [
    {
     "data": {
      "text/plain": [
       "<matplotlib.collections.PathCollection at 0x9035b080>"
      ]
     },
     "execution_count": 10,
     "metadata": {},
     "output_type": "execute_result"
    },
    {
     "data": {
      "image/png": "[encoded data removed]",
      "text/plain": [
       "<matplotlib.figure.Figure at 0x19a9a940>"
      ]
     },
     "metadata": {},
     "output_type": "display_data"
    }
   ],
   "source": [
    "plt.scatter(ro1,q1) "
   ]
  },
  {
   "cell_type": "code",
   "execution_count": 84,
   "metadata": {},
   "outputs": [
    {
     "name": "stdout",
     "output_type": "stream",
     "text": [
      "4.517300526217993\n"
     ]
    },
    {
     "data": {
      "text/plain": [
       "[<matplotlib.lines.Line2D at 0x27998128>]"
      ]
     },
     "execution_count": 84,
     "metadata": {},
     "output_type": "execute_result"
    },
    {
     "data": {
      "image/png": "[encoded data removed]",
      "text/plain": [
       "<matplotlib.figure.Figure at 0x2b3b5550>"
      ]
     },
     "metadata": {},
     "output_type": "display_data"
    }
   ],
   "source": [
    "P=[] #所有時間所有狀態\n",
    "\n",
    "t=[] #時間(長度和P一樣)\n",
    "avgV=[]\n",
    "a=traffic(0.3,5,1.5,5)\n",
    "print(a)\n",
    "\n",
    "plt.plot(avgV) #平均速度(Y) 時間(X) "
   ]
  },
  {
   "cell_type": "code",
   "execution_count": 59,
   "metadata": {},
   "outputs": [
    {
     "name": "stdout",
     "output_type": "stream",
     "text": [
      "4.718766315533491\n"
     ]
    },
    {
     "data": {
      "text/plain": [
       "[<matplotlib.lines.Line2D at 0x24d7ff60>]"
      ]
     },
     "execution_count": 59,
     "metadata": {},
     "output_type": "execute_result"
    },
    {
     "data": {
      "image/png": "[encoded data removed]",
      "text/plain": [
       "<matplotlib.figure.Figure at 0x2298d2e8>"
      ]
     },
     "metadata": {},
     "output_type": "display_data"
    }
   ],
   "source": [
    "P=[] #所有時間所有狀態\n",
    "\n",
    "t=[] #時間(長度和P一樣)\n",
    "avgV=[]\n",
    "a=traffic(0.4,5,1.5,3)\n",
    "print(a)\n",
    "plt.plot(avgV) #平均速度(Y) 時間(X) "
   ]
  },
  {
   "cell_type": "code",
   "execution_count": null,
   "metadata": {},
   "outputs": [],
   "source": [
    "\n"
   ]
  },
  {
   "cell_type": "code",
   "execution_count": 88,
   "metadata": {},
   "outputs": [
    {
     "data": {
      "text/plain": [
       "[<matplotlib.lines.Line2D at 0x202c3668>]"
      ]
     },
     "execution_count": 88,
     "metadata": {},
     "output_type": "execute_result"
    },
    {
     "data": {
      "image/png": "[encoded data removed]",
      "text/plain": [
       "<matplotlib.figure.Figure at 0x1c6d2f28>"
      ]
     },
     "metadata": {},
     "output_type": "display_data"
    }
   ],
   "source": [
    "plt.plot(avgV) #平均速度(Y) 時間(X) "
   ]
  },
  {
   "cell_type": "code",
   "execution_count": null,
   "metadata": {},
   "outputs": [],
   "source": []
  },
  {
   "cell_type": "code",
   "execution_count": null,
   "metadata": {},
   "outputs": [],
   "source": []
  },
  {
   "cell_type": "code",
   "execution_count": null,
   "metadata": {},
   "outputs": [],
   "source": []
  },
  {
   "cell_type": "code",
   "execution_count": 3,
   "metadata": {},
   "outputs": [
    {
     "name": "stdout",
     "output_type": "stream",
     "text": [
      "10\n",
      "11\n",
      "12\n",
      "13\n",
      "14\n",
      "15\n",
      "16\n",
      "17\n",
      "18\n",
      "19\n",
      "20\n",
      "21\n",
      "22\n",
      "23\n",
      "24\n",
      "25\n",
      "26\n",
      "27\n",
      "28\n",
      "29\n",
      "30\n",
      "31\n",
      "32\n",
      "33\n",
      "34\n",
      "35\n",
      "36\n",
      "37\n",
      "38\n",
      "39\n",
      "40\n",
      "41\n",
      "42\n",
      "43\n",
      "44\n",
      "45\n",
      "46\n",
      "47\n",
      "48\n",
      "49\n",
      "50\n",
      "51\n",
      "52\n",
      "53\n",
      "54\n",
      "55\n",
      "56\n",
      "57\n",
      "58\n",
      "59\n",
      "60\n",
      "61\n",
      "62\n",
      "63\n",
      "64\n",
      "65\n",
      "66\n",
      "67\n",
      "68\n",
      "69\n",
      "70\n",
      "71\n",
      "72\n",
      "73\n",
      "74\n",
      "75\n",
      "76\n",
      "77\n",
      "78\n",
      "79\n",
      "80\n",
      "81\n",
      "82\n",
      "83\n",
      "84\n",
      "85\n",
      "86\n",
      "87\n",
      "88\n",
      "89\n",
      "90\n",
      "91\n",
      "92\n",
      "93\n",
      "94\n",
      "95\n",
      "96\n",
      "97\n",
      "98\n",
      "99\n",
      "100\n",
      "101\n",
      "102\n",
      "103\n",
      "104\n",
      "105\n",
      "106\n",
      "107\n",
      "108\n",
      "109\n"
     ]
    }
   ],
   "source": [
    "#給定密度下 平均速度(Y)和反應時間(X)的圖\n",
    "Vbar=[]\n",
    "dt=[]\n",
    "for i in range(10,110,1):\n",
    "    Vbar.append(traffic(0.5,5,1.5,i/10))\n",
    "    dt.append(i/10)\n",
    "    print(i)\n"
   ]
  },
  {
   "cell_type": "code",
   "execution_count": 95,
   "metadata": {},
   "outputs": [
    {
     "data": {
      "text/plain": [
       "<matplotlib.collections.PathCollection at 0xb2773940>"
      ]
     },
     "execution_count": 95,
     "metadata": {},
     "output_type": "execute_result"
    },
    {
     "data": {
      "image/png": "[encoded data removed]",
      "text/plain": [
       "<matplotlib.figure.Figure at 0x257522e8>"
      ]
     },
     "metadata": {},
     "output_type": "display_data"
    }
   ],
   "source": [
    "plt.scatter(dt,Vbar)"
   ]
  },
  {
   "cell_type": "code",
   "execution_count": null,
   "metadata": {},
   "outputs": [],
   "source": []
  },
  {
   "cell_type": "code",
   "execution_count": null,
   "metadata": {},
   "outputs": [],
   "source": [
    "\n"
   ]
  },
  {
   "cell_type": "code",
   "execution_count": null,
   "metadata": {},
   "outputs": [],
   "source": [
    "\n"
   ]
  },
  {
   "cell_type": "code",
   "execution_count": 78,
   "metadata": {},
   "outputs": [
    {
     "name": "stdout",
     "output_type": "stream",
     "text": [
      "10\n",
      "20\n",
      "30\n",
      "40\n",
      "50\n",
      "60\n",
      "70\n",
      "80\n",
      "90\n",
      "100\n",
      "110\n",
      "120\n",
      "130\n",
      "140\n",
      "150\n",
      "160\n",
      "170\n",
      "180\n",
      "190\n",
      "200\n",
      "210\n",
      "220\n",
      "230\n",
      "240\n",
      "250\n",
      "260\n",
      "270\n",
      "280\n",
      "290\n",
      "300\n",
      "310\n",
      "320\n",
      "330\n",
      "340\n",
      "350\n",
      "360\n",
      "370\n",
      "380\n",
      "390\n",
      "400\n",
      "410\n",
      "420\n",
      "430\n",
      "440\n",
      "450\n",
      "460\n",
      "470\n",
      "480\n",
      "490\n"
     ]
    },
    {
     "data": {
      "text/plain": [
       "<matplotlib.collections.PathCollection at 0xb2b4fcc0>"
      ]
     },
     "execution_count": 78,
     "metadata": {},
     "output_type": "execute_result"
    },
    {
     "data": {
      "image/png": "[encoded data removed]",
      "text/plain": [
       "<matplotlib.figure.Figure at 0x6ef7b4a8>"
      ]
     },
     "metadata": {},
     "output_type": "display_data"
    }
   ],
   "source": [
    "Vbar4=[] \n",
    "ro4=[] \n",
    "\n",
    "for i in range(10,500,10):\n",
    "    avgV=[]\n",
    "    Vbar4.append(traffic(i/500,5,1.5,4))\n",
    "    ro4.append(i/500)\n",
    "    for j in range(1000):\n",
    "        Vbar4.append(avgV[j])\n",
    "        ro4.append(i/500)\n",
    "    print(i)\n",
    "plt.scatter(ro4,Vbar4)"
   ]
  },
  {
   "cell_type": "code",
   "execution_count": 80,
   "metadata": {},
   "outputs": [
    {
     "data": {
      "text/plain": [
       "<matplotlib.collections.PathCollection at 0xb0cf55f8>"
      ]
     },
     "execution_count": 80,
     "metadata": {},
     "output_type": "execute_result"
    },
    {
     "data": {
      "image/png": "[encoded data removed]",
      "text/plain": [
       "<matplotlib.figure.Figure at 0xb2b744a8>"
      ]
     },
     "metadata": {},
     "output_type": "display_data"
    }
   ],
   "source": [
    "q=[]\n",
    "for i in range(len(Vbar4)):\n",
    "    q.append(Vbar4[i]*ro4[i])\n",
    "plt.scatter(ro4,q)"
   ]
  },
  {
   "cell_type": "code",
   "execution_count": 1,
   "metadata": {},
   "outputs": [
    {
     "ename": "NameError",
     "evalue": "name 'np' is not defined",
     "output_type": "error",
     "traceback": [
      "\u001b[1;31m---------------------------------------------------------------------------\u001b[0m",
      "\u001b[1;31mNameError\u001b[0m                                 Traceback (most recent call last)",
      "\u001b[1;32m<ipython-input-1-10792deec49b>\u001b[0m in \u001b[0;36m<module>\u001b[1;34m()\u001b[0m\n\u001b[1;32m----> 1\u001b[1;33m \u001b[0ma\u001b[0m\u001b[1;33m=\u001b[0m\u001b[0mnp\u001b[0m\u001b[1;33m.\u001b[0m\u001b[0mrandom\u001b[0m\u001b[1;33m.\u001b[0m\u001b[0mnormal\u001b[0m\u001b[1;33m(\u001b[0m\u001b[1;36m3\u001b[0m\u001b[1;33m,\u001b[0m\u001b[1;36m1\u001b[0m\u001b[1;33m,\u001b[0m\u001b[1;36m100\u001b[0m\u001b[1;33m)\u001b[0m\u001b[1;33m\u001b[0m\u001b[0m\n\u001b[0m",
      "\u001b[1;31mNameError\u001b[0m: name 'np' is not defined"
     ]
    }
   ],
   "source": []
  },
  {
   "cell_type": "code",
   "execution_count": null,
   "metadata": {},
   "outputs": [],
   "source": []
  }
 ],
 "metadata": {
  "kernelspec": {
   "display_name": "Python 3",
   "language": "python",
   "name": "python3"
  },
  "language_info": {
   "codemirror_mode": {
    "name": "ipython",
    "version": 3
   },
   "file_extension": ".py",
   "mimetype": "text/x-python",
   "name": "python",
   "nbconvert_exporter": "python",
   "pygments_lexer": "ipython3",
   "version": "3.6.4"
  }
 },
 "nbformat": 4,
 "nbformat_minor": 2
}
