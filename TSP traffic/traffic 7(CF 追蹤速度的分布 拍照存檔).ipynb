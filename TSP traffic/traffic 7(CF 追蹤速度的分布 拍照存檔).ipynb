{
 "cells": [
  {
   "cell_type": "code",
   "execution_count": 1,
   "metadata": {},
   "outputs": [
    {
     "name": "stdout",
     "output_type": "stream",
     "text": [
      "done\n"
     ]
    }
   ],
   "source": [
    "from scipy.optimize import curve_fit\n",
    "import random\n",
    "import numpy as np\n",
    "\n",
    "import matplotlib.pyplot as plt\n",
    "%matplotlib inline\n",
    "\n",
    "T=30000 \n",
    "l=1000 \n",
    "dt=0.01\n",
    "def f(l):\n",
    "    return l[0]\n",
    "#排序用的function 比較狀態list的第一個數 表示用位置來排序\n",
    "\n",
    "def normal(avg,var,c): #從Gaussian亂數抽樣 (抽出來一定大於零) \n",
    "   \n",
    "    a=np.ndarray.tolist(np.random.normal(avg,var,3000)) #a是一個有normal分布的list\n",
    "    \n",
    "    a=list(filter(lambda x:x>c,a)) #濾掉小於等於c的\n",
    "    \n",
    "    s=random.sample(a,1) #從a裡面抽一個出來 會是大小事1的list\n",
    "    return s[0] #取出亂數\n",
    "\n",
    "\n",
    "def ini(V_max,avg_d,avg_t,rho): #初始化道路的程式 \n",
    "    S=[] #儲存初始state  [0]位置  [1]速度 [2]安全距離 [3]延遲時間\n",
    "    \n",
    "    n=int(rho*l) #車子數量由密度 道路長 所決定 初始的位置\n",
    "    \n",
    "    rad_x=random.sample(range(l),n) #不重複的n個數的list\n",
    "    \n",
    "    \n",
    "    for i in range(n):\n",
    "        S.append([rad_x[i],random.uniform(0,V_max),normal(avg_d,0.3*avg_d,0),normal(avg_t,0.1*avg_t,0)])\n",
    "       \n",
    "\n",
    "    S.sort(key=f)\n",
    "    for i in  range(len(S)):\n",
    "        if i>0 and S[i][0]<S[i-1][0]:\n",
    "            print(\"位置出錯ㄌ\")\n",
    "    \n",
    "    return S\n",
    "    \n",
    "    \n",
    "\n",
    "def avg(x): #用來算list平均用的\n",
    "    c=0\n",
    "    for i in x:\n",
    "        \n",
    "        c+=i\n",
    "            \n",
    "    return c/len(x)\n",
    "\n",
    "\n",
    "def rule(V_max,dx,car): #速度上限   與前車距離    Car 車子的狀態vector\n",
    "    V_op=(V_max/2)*(np.tanh(dx-car[2])+np.tanh(car[2])) #由駕駛的delay time 安全距離 與前車距離 決定適當的速度\n",
    "    car[1]+=(1/car[3])*(V_op-car[1])*dt\n",
    "    if car[1]<0:\n",
    "        car[1]=0\n",
    "    \n",
    "print(\"done\")\n",
    "\n",
    "\n",
    "               "
   ]
  },
  {
   "cell_type": "code",
   "execution_count": 2,
   "metadata": {},
   "outputs": [],
   "source": [
    "avgV=[] #個個時刻的平均速度\n",
    "\n",
    "V_hist=[]\n",
    "\n",
    "def traffic(V_max,avg_d,avg_t,rho):\n",
    "    #n是車子數量 V_max速度上限 d 安全距離\n",
    "    S=ini(V_max,avg_d,avg_t,rho)\n",
    "    V=[] #計算平均速度用的\n",
    "    \n",
    "    for j in range(T):\n",
    "        \n",
    "        V1=[]\n",
    "        #每個時段內發生的事\n",
    "       \n",
    "        for i in range(len(S)):\n",
    "            x=len(S)-1\n",
    "           \n",
    "           \n",
    "            \n",
    "        #每台車的狀況\n",
    "            if i>0 :\n",
    "                dx=S[x-i+1][0]-S[x-i][0] #前後車距\n",
    "                rule(V_max,dx,S[x-i])\n",
    "                    \n",
    "                \n",
    "                if S[x-i][1]<0 or dx<=0: #debug用的\n",
    "                            \n",
    "                    print(S[x-i][0],S[x-i][1],j,i)\n",
    "                    break\n",
    "                \n",
    "            if i==0 : #最前面那台車的情形 要算和第一台車的距離\n",
    "                \n",
    "                dx=S[0][0]-(S[x-i][0]-l)\n",
    "                rule(V_max,dx,S[x-i])\n",
    "                 \n",
    "            \n",
    "        \n",
    "        for k in range(len(S)):\n",
    "            S[k][0]+=S[k][1]*dt  #更新車子的位置\n",
    "         \n",
    "            \n",
    "            V1.append(S[k][1])  #j時刻所有車的速度都丟進來\n",
    "            \n",
    "            \n",
    "            if S[k][0]>l: \n",
    "                S[k][0]-=l\n",
    "        S.sort(key=f) #等大家更新好位置後更新順序\n",
    "        a=100\n",
    "        if j%a==0:\n",
    "            V_hist.append([])\n",
    "        \n",
    "            for k in range(len(S)):\n",
    "                V_hist[int(j/a)].append(S[k][1]) #此刻的速度分布\n",
    "            \n",
    "            \n",
    "        \n",
    "        avgV.append(avg(V1)) #j時刻的平均速度\n",
    "    \n",
    "\n",
    "\n",
    "\n",
    "\n"
   ]
  },
  {
   "cell_type": "code",
   "execution_count": 7,
   "metadata": {},
   "outputs": [],
   "source": [
    "avgV=[] #個個時刻的平均速度\n",
    "\n",
    "V_hist=[]\n",
    "traffic(5,5,2,0.4)"
   ]
  },
  {
   "cell_type": "code",
   "execution_count": 10,
   "metadata": {},
   "outputs": [
    {
     "ename": "IndexError",
     "evalue": "list index out of range",
     "output_type": "error",
     "traceback": [
      "\u001b[1;31m---------------------------------------------------------------------------\u001b[0m",
      "\u001b[1;31mIndexError\u001b[0m                                Traceback (most recent call last)",
      "\u001b[1;32m<ipython-input-10-389c46505acb>\u001b[0m in \u001b[0;36m<module>\u001b[1;34m()\u001b[0m\n\u001b[0;32m      5\u001b[0m     \u001b[0mass\u001b[0m\u001b[1;33m=\u001b[0m\u001b[1;34m\"\\dog\"\u001b[0m\u001b[1;33m\u001b[0m\u001b[0m\n\u001b[0;32m      6\u001b[0m \u001b[1;33m\u001b[0m\u001b[0m\n\u001b[1;32m----> 7\u001b[1;33m     \u001b[0mV_hist2\u001b[0m\u001b[1;33m=\u001b[0m\u001b[0mnp\u001b[0m\u001b[1;33m.\u001b[0m\u001b[0marray\u001b[0m\u001b[1;33m(\u001b[0m\u001b[0mV_hist\u001b[0m\u001b[1;33m[\u001b[0m\u001b[0mi\u001b[0m\u001b[1;33m]\u001b[0m\u001b[1;33m)\u001b[0m\u001b[1;33m\u001b[0m\u001b[0m\n\u001b[0m\u001b[0;32m      8\u001b[0m     \u001b[0mplt\u001b[0m\u001b[1;33m.\u001b[0m\u001b[0mxlabel\u001b[0m\u001b[1;33m(\u001b[0m\u001b[1;34m\"velocity\"\u001b[0m\u001b[1;33m)\u001b[0m\u001b[1;33m\u001b[0m\u001b[0m\n\u001b[0;32m      9\u001b[0m     \u001b[0mplt\u001b[0m\u001b[1;33m.\u001b[0m\u001b[0mxlim\u001b[0m\u001b[1;33m(\u001b[0m\u001b[1;36m0\u001b[0m\u001b[1;33m,\u001b[0m\u001b[1;36m5\u001b[0m\u001b[1;33m)\u001b[0m\u001b[1;33m\u001b[0m\u001b[0m\n",
      "\u001b[1;31mIndexError\u001b[0m: list index out of range"
     ]
    },
    {
     "data": {
      "text/plain": [
       "<matplotlib.figure.Figure at 0x1db75cf8>"
      ]
     },
     "metadata": {},
     "output_type": "display_data"
    }
   ],
   "source": [
    "path=\"fig\"\n",
    " \n",
    "for i in range(20000):\n",
    "    s=str(i)\n",
    "    ass=\"\\dog\"\n",
    "    \n",
    "    V_hist2=np.array(V_hist[i])\n",
    "    plt.xlabel(\"velocity\")\n",
    "    plt.xlim(0,5)\n",
    "    plt.ylim(0,100)\n",
    "    plt.ylabel(\"car number\")\n",
    "    plt.hist(V_hist2,bins=50)\n",
    "    plt.savefig(path+ass+s)\n",
    "    plt.clf()"
   ]
  },
  {
   "cell_type": "code",
   "execution_count": 9,
   "metadata": {},
   "outputs": [
    {
     "data": {
      "text/plain": [
       "(array([245.,   4.,   1.,   6.,   2.,   1.,   2.,   2.,   5.,   2.,   3.,\n",
       "          3.,   1.,   2.,   1.,   4.,   2.,   2.,   2.,   0.,   0.,   4.,\n",
       "          0.,   1.,   1.,   1.,   1.,   2.,   2.,   2.,   2.,   1.,   1.,\n",
       "          0.,   3.,   2.,   3.,   3.,   2.,   0.,   1.,   2.,   3.,   4.,\n",
       "          6.,   6.,   4.,  10.,   8.,  35.]),\n",
       " array([2.22134373e-10, 9.99698724e-02, 1.99939744e-01, 2.99909617e-01,\n",
       "        3.99879489e-01, 4.99849361e-01, 5.99819233e-01, 6.99789105e-01,\n",
       "        7.99758977e-01, 8.99728849e-01, 9.99698722e-01, 1.09966859e+00,\n",
       "        1.19963847e+00, 1.29960834e+00, 1.39957821e+00, 1.49954808e+00,\n",
       "        1.59951795e+00, 1.69948783e+00, 1.79945770e+00, 1.89942757e+00,\n",
       "        1.99939744e+00, 2.09936732e+00, 2.19933719e+00, 2.29930706e+00,\n",
       "        2.39927693e+00, 2.49924680e+00, 2.59921668e+00, 2.69918655e+00,\n",
       "        2.79915642e+00, 2.89912629e+00, 2.99909616e+00, 3.09906604e+00,\n",
       "        3.19903591e+00, 3.29900578e+00, 3.39897565e+00, 3.49894552e+00,\n",
       "        3.59891540e+00, 3.69888527e+00, 3.79885514e+00, 3.89882501e+00,\n",
       "        3.99879489e+00, 4.09876476e+00, 4.19873463e+00, 4.29870450e+00,\n",
       "        4.39867437e+00, 4.49864425e+00, 4.59861412e+00, 4.69858399e+00,\n",
       "        4.79855386e+00, 4.89852373e+00, 4.99849361e+00]),\n",
       " <a list of 50 Patch objects>)"
      ]
     },
     "execution_count": 9,
     "metadata": {},
     "output_type": "execute_result"
    },
    {
     "data": {
      "image/png": "[encoded data removed]",
      "text/plain": [
       "<matplotlib.figure.Figure at 0x1c9cef98>"
      ]
     },
     "metadata": {},
     "output_type": "display_data"
    }
   ],
   "source": [
    "    V_hist2=np.array(V_hist[239])\n",
    "    plt.xlabel(\"velocity\")\n",
    "\n",
    "    plt.ylabel(\"car number\")\n",
    "    plt.hist(V_hist2,bins=50)"
   ]
  },
  {
   "cell_type": "code",
   "execution_count": null,
   "metadata": {},
   "outputs": [],
   "source": []
  },
  {
   "cell_type": "code",
   "execution_count": null,
   "metadata": {},
   "outputs": [],
   "source": []
  },
  {
   "cell_type": "code",
   "execution_count": null,
   "metadata": {},
   "outputs": [],
   "source": []
  },
  {
   "cell_type": "code",
   "execution_count": null,
   "metadata": {},
   "outputs": [],
   "source": []
  }
 ],
 "metadata": {
  "kernelspec": {
   "display_name": "Python 3",
   "language": "python",
   "name": "python3"
  },
  "language_info": {
   "codemirror_mode": {
    "name": "ipython",
    "version": 3
   },
   "file_extension": ".py",
   "mimetype": "text/x-python",
   "name": "python",
   "nbconvert_exporter": "python",
   "pygments_lexer": "ipython3",
   "version": "3.7.4"
  }
 },
 "nbformat": 4,
 "nbformat_minor": 4
}
