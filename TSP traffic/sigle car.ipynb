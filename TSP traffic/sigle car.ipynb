{
 "cells": [
  {
   "cell_type": "code",
   "execution_count": 61,
   "metadata": {},
   "outputs": [],
   "source": [
    "import random\n",
    "import numpy as np\n",
    "import matplotlib.pyplot as plt\n",
    "%matplotlib inline \n",
    "class Car:\n",
    "    \"sdfsf\"\n",
    "\n",
    "T=100\n",
    "l=500 #總長\n",
    "P=[] #所有時間所有狀態\n",
    "p=0.5 #減速機率\n",
    "\n",
    "t=[] #時間(長度和P一樣)\n",
    "\n",
    "\n",
    "\n",
    "p2=0.3 #進車機率\n",
    "def f(l):\n",
    "    return l[0]\n",
    "#排序用的function 可不管\n",
    "def prob(x):\n",
    "    a=random.randint(1,10)\n",
    "    if a<=x*10:\n",
    "        return True\n",
    "    else:\n",
    "        return False\n",
    "    # x的機率是true 1-x的機率是False\n",
    "def ini(n,V_max):\n",
    "    \n",
    "    S=[] #儲存某個時間點個個車子的狀態\n",
    "    rad_x=random.sample(range(l),n)\n",
    "    for i in range(n):\n",
    "        x=Car()\n",
    "        x.pos=rad_x[i]\n",
    "        x.v=random.randint(0,V_max)\n",
    "        \n",
    "        S.append([x.pos,x.v])\n",
    "    S.sort(key=f)\n",
    "\n",
    "    return S\n",
    "   #初始化\n",
    "def avg(x):\n",
    "    \n",
    "    for i in range(len(x)):\n",
    "        if i==0:\n",
    "            pass\n",
    "        else:\n",
    "            x[i]+=x[i-1]\n",
    "    return x[len(x)-1]/len(x)"
   ]
  },
  {
   "cell_type": "code",
   "execution_count": 62,
   "metadata": {},
   "outputs": [
    {
     "data": {
      "text/plain": [
       "0.1358463173722552"
      ]
     },
     "execution_count": 62,
     "metadata": {},
     "output_type": "execute_result"
    }
   ],
   "source": [
    "def traffic(n,V_max):\n",
    "    #n是車子數量\n",
    "    S=ini(n,V_max)\n",
    "    \n",
    "    V=[] #計算平均速度用的\n",
    "    for j in range(T):\n",
    "        \n",
    "        #每個時段內發生的事\n",
    "        for i in range(len(S)):\n",
    "            x=len(S)-1\n",
    "            if j<=len(S)-1:\n",
    "                t.append(j) \n",
    "                P.append(S[j][0])\n",
    "               \n",
    "            else:\n",
    "                pass\n",
    "            \n",
    "        #每台車的狀況\n",
    "            if S[x-i][1]<V_max:\n",
    "                S[x-i][1]+=1\n",
    "            #(1)沒到上限就加速1單位    \n",
    "            \n",
    "            if i>0 :\n",
    "                if S[x-i][1]>=(S[x-i+1][0]-S[x-i][0]):\n",
    "                    S[x-i][1]=S[x-i+1][0]-S[x-i][0]-1\n",
    "                    if S[x-i][1]<0:\n",
    "                        print(S[x-i+1][0],S[x-i][0],S[x-i][1],j,i)\n",
    "                        break\n",
    "            #(2)速度比前車快的話就減速至跟距離一樣的大小避免相撞\n",
    "            if prob(p)==True and S[x-i][1]>0:\n",
    "                S[x-i][1]-=1\n",
    "            #(3)p機率減速1單位\n",
    "        for k in range(len(S)):\n",
    "            S[k][0]+=S[k][1]\n",
    "            V.append(S[k][1])\n",
    "            \n",
    "            #(4)更新車子的位置\n",
    "        \n",
    "               \n",
    "    \n",
    "        if S[len(S)-1][0]>l:\n",
    "            S.remove(S[len(S)-1])\n",
    "        #(5)超出去的就刪掉\n",
    "        if prob(p2) and S[0][0]!=0 :\n",
    "            S.insert(0,[0,random.randint(0,V_max)])\n",
    "        #(6)入口進車的判斷  \n",
    "    \n",
    "    avg_V=avg(V) #每個n對應到的平均速度\n",
    "    return avg_V \n",
    "P=[]\n",
    "t=[]\n",
    "traffic(400,5)\n",
    "            "
   ]
  },
  {
   "cell_type": "code",
   "execution_count": 69,
   "metadata": {},
   "outputs": [
    {
     "data": {
      "text/plain": [
       "[<matplotlib.lines.Line2D at 0x198fbe48>]"
      ]
     },
     "execution_count": 69,
     "metadata": {},
     "output_type": "execute_result"
    },
    {
     "data": {
      "image/png": "[encoded data removed]",
      "text/plain": [
       "<matplotlib.figure.Figure at 0x18894a90>"
      ]
     },
     "metadata": {},
     "output_type": "display_data"
    }
   ],
   "source": [
    "P=[]\n",
    "t=[]\n",
    "traffic(50,5)\n",
    "t50=t\n",
    "P50=P\n",
    "P=[]\n",
    "t=[]\n",
    "traffic(100,5)\n",
    "t100=t\n",
    "P100=P\n",
    "\n",
    "\n",
    "P=[]\n",
    "t=[]\n",
    "traffic(150,5)\n",
    "t150=t\n",
    "P150=P\n",
    "P=[]\n",
    "t=[]\n",
    "traffic(200,5)\n",
    "P200=P\n",
    "t200=t\n",
    "\n",
    "P=[]\n",
    "t=[]\n",
    "traffic(250,5)\n",
    "P250=P\n",
    "t250=t\n",
    "\n",
    "P=[]\n",
    "t=[]\n",
    "traffic(300,5)\n",
    "P300=P\n",
    "t300=t\n",
    "\n",
    "P=[]\n",
    "t=[]\n",
    "traffic(400,5)\n",
    "P400=P\n",
    "t400=t\n",
    "\"plt.ylim(0,500)\"\n",
    "\"plt.xlim(0,100)\"\n",
    "\"plt.plot(t,P)\"\n",
    "plt.plot(t50,P50)\n",
    "plt.plot(t100,P100)\n",
    "plt.plot(t150,P150)\n",
    "plt.plot(t200,P200)\n",
    "plt.plot(t250,P250)\n",
    "plt.plot(t300,P300)\n",
    "plt.plot(t400,P400)"
   ]
  },
  {
   "cell_type": "code",
   "execution_count": null,
   "metadata": {},
   "outputs": [],
   "source": []
  },
  {
   "cell_type": "code",
   "execution_count": null,
   "metadata": {},
   "outputs": [],
   "source": []
  },
  {
   "cell_type": "code",
   "execution_count": null,
   "metadata": {},
   "outputs": [],
   "source": []
  },
  {
   "cell_type": "code",
   "execution_count": null,
   "metadata": {},
   "outputs": [],
   "source": []
  }
 ],
 "metadata": {
  "kernelspec": {
   "display_name": "Python 3",
   "language": "python",
   "name": "python3"
  },
  "language_info": {
   "codemirror_mode": {
    "name": "ipython",
    "version": 3
   },
   "file_extension": ".py",
   "mimetype": "text/x-python",
   "name": "python",
   "nbconvert_exporter": "python",
   "pygments_lexer": "ipython3",
   "version": "3.6.4"
  }
 },
 "nbformat": 4,
 "nbformat_minor": 2
}
