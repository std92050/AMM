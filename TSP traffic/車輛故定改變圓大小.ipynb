{
 "cells": [
  {
   "cell_type": "code",
   "execution_count": 27,
   "metadata": {},
   "outputs": [
    {
     "name": "stdout",
     "output_type": "stream",
     "text": [
      "done\n"
     ]
    }
   ],
   "source": [
    "from scipy.optimize import curve_fit\n",
    "import random\n",
    "import numpy as np\n",
    "import matplotlib.pyplot as plt\n",
    "%matplotlib inline \n",
    "\n",
    "T=10000 #400 sec\n",
    "\n",
    "dt=0.01\n",
    "def f(l):\n",
    "    return l[0]\n",
    "#排序用的function 可不管\n",
    "\n",
    "def prob(x):\n",
    "    a=random.randint(1,10)\n",
    "    if a<=x*10:\n",
    "        return True\n",
    "    else:\n",
    "        return False\n",
    "    # x的機率是true 1-x的機率是False\n",
    "    \n",
    "\n",
    "\n",
    "def normal(avg,var,c): #從Gaussian亂數抽樣 (抽出來一定大於零) \n",
    "   \n",
    "    a=np.ndarray.tolist(np.random.normal(avg,var,3000)) #a是一個有normal分布的list\n",
    "    \n",
    "    a=list(filter(lambda x:x>c,a)) #濾掉小於等於c的\n",
    "    \n",
    "    s=random.sample(a,1) #從a裡面抽一個出來\n",
    "    return s[0] #取出亂數\n",
    "\n",
    "\n",
    "\n",
    "def ini(V_max,avg_d,avg_t,l): #初始化道路的程式 \n",
    "    S=[] #儲存初始state  [0]位置  [1]速度 [2]安全距離 [3]延遲時間\n",
    " \n",
    "    \n",
    "    rad_x=random.sample(range(l),3)\n",
    "    \n",
    "    \n",
    "    for i in range(3):\n",
    "        #S.append([rad_x[i],random.uniform(0,V_max),normal(avg_d,0.3*avg_d,0),normal(avg_t,0.1*avg_t,1)])\n",
    "        S.append([rad_x[i],random.uniform(0,V_max),avg_d,avg_t])\n",
    "    \n",
    "    S.sort(key=f)\n",
    "    print(S)\n",
    "    \n",
    "    return S\n",
    "    \n",
    "    \n",
    "\n",
    "def avg(x): #用來算list平均用的\n",
    "    c=0\n",
    "    for i in x:\n",
    "        \n",
    "        c+=i\n",
    "            \n",
    "    return c/len(x)\n",
    "\n",
    "\n",
    "def rule(V_max,dx,car): #與前車距離 判斷的指標   Car 車子的狀態vector\n",
    "    dV=(V_max/2)*(np.tanh(dx-car[2])+np.tanh(car[2]))\n",
    "    car[1]+=(1/car[3])*(dV-car[1])*dt\n",
    "    if car[1]<0:\n",
    "        car[1]=0\n",
    "   \n",
    "    \n",
    "    \n",
    "    \n",
    "print(\"done\")\n"
   ]
  },
  {
   "cell_type": "code",
   "execution_count": 28,
   "metadata": {},
   "outputs": [
    {
     "name": "stdout",
     "output_type": "stream",
     "text": [
      "[[2, 4.999235997666339, 1, 1], [8, 0.28905454499791705, 1, 1], [9, 1.4591409245256854, 1, 1]]\n"
     ]
    },
    {
     "data": {
      "text/plain": [
       "[<matplotlib.lines.Line2D at 0x1c4bdac8>]"
      ]
     },
     "execution_count": 28,
     "metadata": {},
     "output_type": "execute_result"
    },
    {
     "data": {
      "image/png": "[encoded data removed]",
      "text/plain": [
       "<matplotlib.figure.Figure at 0x1c8ce208>"
      ]
     },
     "metadata": {},
     "output_type": "display_data"
    }
   ],
   "source": [
    "avgV=[] #個個時刻的平均速度\n",
    "\n",
    "P=[] #所有時間所有狀態\n",
    "\n",
    "t=[] #時間(長度和P一樣)\n",
    "def traffic(V_max,avg_d,avg_t,l):\n",
    "    #n是車子數量 V_max速度上限 d 安全距離\n",
    "    S=ini(V_max,avg_d,avg_t,l)\n",
    "    \n",
    "    \n",
    "    for j in range(T):\n",
    "        \n",
    "        V1=[]\n",
    "        #每個時段內發生的事\n",
    "       \n",
    "        for i in range(len(S)):\n",
    "            \n",
    "            t.append(j) \n",
    "            P.append(S[i][0])\n",
    "           \n",
    "            \n",
    "        #每台車的狀況\n",
    "            if i==len(S)-1:\n",
    "                dx=S[0][0]-(S[i][0]-l) #前後車距\n",
    "                rule(V_max,dx,S[i])\n",
    "                    \n",
    "                \n",
    "                if S[i][1]<0 or dx<=0: #debug用的\n",
    "                            \n",
    "                    print(S[i][0],S[i][1],j,i)\n",
    "                    break\n",
    "                \n",
    "            if i<len(S)-1 : #最前面那台車的情形\n",
    "                \n",
    "                dx=S[i+1][0]-S[i][0]\n",
    "                rule(V_max,dx,S[i])\n",
    "                 \n",
    "            \n",
    "        \n",
    "        for k in range(len(S)):\n",
    "            S[k][0]+=S[k][1]*dt  #(4)更新車子的位置\n",
    "                              \n",
    "            V1.append(S[k][1])  #j時刻所有車的速度都丟進來\n",
    "            \n",
    "            \n",
    "            if S[k][0]>l: \n",
    "                S[k][0]-=l\n",
    "        S.sort(key=f)\n",
    "               \n",
    "         \n",
    "        \n",
    "        avgV.append(avg(V1)) #j時刻的平均速度\n",
    "    return len(S)  #回傳車子的個數\n",
    "avgV=[]        \n",
    "P=[]\n",
    "t=[]\n",
    "a=traffic(5,1,1,10)\n",
    "    #Vmax 安全距離 delay time  road length\n",
    "plt.plot(avgV)"
   ]
  },
  {
   "cell_type": "code",
   "execution_count": 32,
   "metadata": {},
   "outputs": [
    {
     "name": "stdout",
     "output_type": "stream",
     "text": [
      "3\n",
      "[[0, 1.4028588079021165, 1, 2], [1, 4.307794183824663, 1, 2], [2, 4.9664061850880445, 1, 2]]\n",
      "4\n",
      "[[0, 1.8664776091835673, 1, 2], [1, 0.5445266239284757, 1, 2], [3, 2.815829411510269, 1, 2]]\n",
      "5\n",
      "[[1, 3.0344895495797877, 1, 2], [2, 1.4772080839947799, 1, 2], [4, 3.8956787000845816, 1, 2]]\n",
      "6\n",
      "[[0, 4.325062839297232, 1, 2], [1, 1.6893850988855057, 1, 2], [4, 0.452696889874627, 1, 2]]\n",
      "7\n",
      "[[0, 2.1356181615243592, 1, 2], [5, 1.1466531179552426, 1, 2], [6, 1.8915730141351177, 1, 2]]\n",
      "8\n",
      "[[2, 0.135619605097535, 1, 2], [5, 1.2371459217975356, 1, 2], [7, 0.7952753405662399, 1, 2]]\n",
      "9\n",
      "[[1, 4.736230018123577, 1, 2], [4, 3.700130184836457, 1, 2], [7, 3.456392559866763, 1, 2]]\n",
      "10\n",
      "[[2, 0.9834739620474481, 1, 2], [5, 2.3274721284022744, 1, 2], [7, 0.28355786355092616, 1, 2]]\n",
      "11\n",
      "[[4, 2.9696168425280023, 1, 2], [6, 3.871304226219263, 1, 2], [9, 0.03180077731337827, 1, 2]]\n",
      "12\n",
      "[[1, 2.0670748486940074, 1, 2], [5, 3.0536369681177296, 1, 2], [9, 1.8883422014936873, 1, 2]]\n",
      "13\n",
      "[[7, 3.7578233633595977, 1, 2], [8, 4.128059347313847, 1, 2], [12, 3.357384369008746, 1, 2]]\n",
      "14\n",
      "[[2, 3.014072827680274, 1, 2], [6, 1.4295779085003497, 1, 2], [12, 3.8829571468717634, 1, 2]]\n",
      "15\n",
      "[[3, 0.08919359657497128, 1, 2], [10, 0.4059749921188799, 1, 2], [13, 1.1379008439510452, 1, 2]]\n",
      "16\n",
      "[[7, 0.6438379146304746, 1, 2], [9, 2.023206745409824, 1, 2], [11, 1.8442165629375378, 1, 2]]\n",
      "17\n",
      "[[1, 3.514628918047571, 1, 2], [2, 4.011288897549386, 1, 2], [15, 3.4114988119997323, 1, 2]]\n",
      "18\n",
      "[[2, 3.9653402982278534, 1, 2], [9, 3.183525253985582, 1, 2], [14, 2.490820264138458, 1, 2]]\n",
      "19\n",
      "[[2, 4.150894438319272, 1, 2], [9, 2.6445887270376396, 1, 2], [18, 1.423389319533774, 1, 2]]\n",
      "20\n",
      "[[6, 2.2488668309810884, 1, 2], [8, 3.7973931205388882, 1, 2], [9, 1.5685326704897162, 1, 2]]\n",
      "21\n",
      "[[2, 4.473701969894357, 1, 2], [14, 0.854716749743204, 1, 2], [18, 2.520272780026142, 1, 2]]\n",
      "22\n",
      "[[9, 1.8007532278000549, 1, 2], [19, 3.4164102750469443, 1, 2], [21, 1.008249825455485, 1, 2]]\n",
      "23\n",
      "[[16, 3.2107883284769927, 1, 2], [17, 0.41347265466881, 1, 2], [19, 3.4335452304768426, 1, 2]]\n",
      "24\n",
      "[[4, 3.300398763954369, 1, 2], [7, 3.882790964282319, 1, 2], [14, 2.9228747763564193, 1, 2]]\n",
      "25\n",
      "[[11, 0.7927020267765211, 1, 2], [16, 2.775539118642356, 1, 2], [19, 3.6137661851548977, 1, 2]]\n",
      "26\n",
      "[[5, 0.7542202460669317, 1, 2], [14, 2.8176448621601202, 1, 2], [25, 0.2262377255653386, 1, 2]]\n",
      "27\n",
      "[[6, 0.650191649623939, 1, 2], [10, 3.8829915513660493, 1, 2], [18, 0.8650831720525876, 1, 2]]\n",
      "28\n",
      "[[6, 1.242782670975549, 1, 2], [9, 4.980489109750259, 1, 2], [15, 4.789389705920234, 1, 2]]\n",
      "29\n",
      "[[8, 2.3690926839154, 1, 2], [17, 2.865714354414765, 1, 2], [19, 1.005744940759377, 1, 2]]\n"
     ]
    },
    {
     "data": {
      "text/plain": [
       "<matplotlib.collections.PathCollection at 0x1ca06b38>"
      ]
     },
     "execution_count": 32,
     "metadata": {},
     "output_type": "execute_result"
    },
    {
     "data": {
      "image/png": "[encoded data removed]",
      "text/plain": [
       "<matplotlib.figure.Figure at 0x1c984780>"
      ]
     },
     "metadata": {},
     "output_type": "display_data"
    }
   ],
   "source": [
    "rho=[]\n",
    "q=[]\n",
    "for i in range(3,30,1):\n",
    "    avgV=[] \n",
    "    P=[]\n",
    "    t=[]\n",
    "    print(i)\n",
    "    traffic(5,1,2,i)\n",
    "    v=avgV[9999] #取平衡之後的平均速度\n",
    "    \n",
    "    q.append(v*(3/i))\n",
    "    rho.append(3/i)\n",
    "plt.scatter(rho,q)"
   ]
  },
  {
   "cell_type": "code",
   "execution_count": 22,
   "metadata": {},
   "outputs": [
    {
     "name": "stdout",
     "output_type": "stream",
     "text": [
      "122\n",
      "11.01\n",
      "101\n",
      "99\n",
      "8\n",
      "7\n",
      "6\n",
      "5.01\n",
      "4.1\n",
      "3\n",
      "2.2\n",
      "1.1\n"
     ]
    }
   ],
   "source": []
  },
  {
   "cell_type": "code",
   "execution_count": null,
   "metadata": {},
   "outputs": [],
   "source": []
  }
 ],
 "metadata": {
  "kernelspec": {
   "display_name": "Python 3",
   "language": "python",
   "name": "python3"
  },
  "language_info": {
   "codemirror_mode": {
    "name": "ipython",
    "version": 3
   },
   "file_extension": ".py",
   "mimetype": "text/x-python",
   "name": "python",
   "nbconvert_exporter": "python",
   "pygments_lexer": "ipython3",
   "version": "3.6.4"
  }
 },
 "nbformat": 4,
 "nbformat_minor": 2
}
