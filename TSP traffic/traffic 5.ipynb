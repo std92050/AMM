{
 "cells": [
  {
   "cell_type": "code",
   "execution_count": 13,
   "metadata": {},
   "outputs": [
    {
     "name": "stdout",
     "output_type": "stream",
     "text": [
      "done5\n"
     ]
    }
   ],
   "source": [
    "from scipy.optimize import curve_fit\n",
    "import random\n",
    "import numpy as np\n",
    "import matplotlib.pyplot as plt\n",
    "%matplotlib inline \n",
    "\n",
    "T=10000 \n",
    "l=1000 #總長 1km吧?\n",
    "dt=0.001\n",
    "def f(l):\n",
    "    return l[0]\n",
    "#排序用的function 可不管\n",
    "\n",
    "def prob(x):\n",
    "    a=random.randint(1,10)\n",
    "    if a<=x*10:\n",
    "        return True\n",
    "    else:\n",
    "        return False\n",
    "    # x的機率是true 1-x的機率是False\n",
    "    \n",
    "\n",
    "def normal(avg,var,c): #從Gaussian亂數抽樣 (抽出來一定大於零) \n",
    "   \n",
    "    a=np.ndarray.tolist(np.random.normal(avg,var,3000)) #a是一個有normal分布的list\n",
    "    \n",
    "    a=list(filter(lambda x:x>c,a)) #濾掉小於等於c的\n",
    "    \n",
    "    s=random.sample(a,1) #從a裡面抽一個出來\n",
    "    return s[0] #取出亂數\n",
    "\n",
    "\n",
    "def ini(V_max,avg_d,avg_t,rho): #初始化道路的程式 \n",
    "    S=[] #儲存初始state  [0]位置  [1]速度 [2]安全距離 [3]延遲時間\n",
    "    n=int(rho*l) #車子數量由密度 道路長 所決定 初始的位置\n",
    "    \n",
    "    rad_x=random.sample(range(l),n)\n",
    "    \n",
    "    \n",
    "    for i in range(n):\n",
    "        S.append([rad_x[i],random.uniform(0,V_max),normal(avg_d,0.3*avg_d,0),normal(avg_t,0.1*avg_t,1)])\n",
    "       \n",
    "\n",
    "    S.sort(key=f)\n",
    "    return S\n",
    "def avg(x): #用來算list平均用的\n",
    "    c=0\n",
    "    for i in x:\n",
    "        \n",
    "        c+=i\n",
    "            \n",
    "    return c/len(x)\n",
    "\n",
    "\n",
    "def rule(V_max,dx,car): #與前車距離 判斷的指標   Car 車子的狀態vector\n",
    "    d=normal(car[2],0.5*car[2],0)\n",
    "    dV=(V_max/2)*(np.tanh(dx-d)+np.tanh(d))\n",
    "    t=normal(car[3],0.1*car[3],1)\n",
    "    car[1]+=(1/t)*(dV-car[1])*dt\n",
    "    if car[1]<0:\n",
    "        car[1]=0\n",
    "   \n",
    "    \n",
    "    \n",
    "    \n",
    "print(\"done5\")\n",
    "\n",
    "\n",
    "\n",
    "\n",
    "                       "
   ]
  },
  {
   "cell_type": "code",
   "execution_count": 14,
   "metadata": {},
   "outputs": [
    {
     "name": "stdout",
     "output_type": "stream",
     "text": [
      "dd\n"
     ]
    },
    {
     "data": {
      "text/plain": [
       "'     \\nP=[]\\nt=[]\\na=traffic(10,5,2,0.3)\\n    #Vmax 安全距離 delay time \\nplt.plot(avgV) '"
      ]
     },
     "execution_count": 14,
     "metadata": {},
     "output_type": "execute_result"
    }
   ],
   "source": [
    "avgV=[] #個個時刻的平均速度\n",
    "\n",
    "P=[] #所有時間所有狀態\n",
    "\n",
    "t=[] #時間(長度和P一樣)\n",
    "def traffic(V_max,avg_d,avg_t,rho):\n",
    "    # V_max速度上限  avg_d 平均安全距離  avg_t 平均delay rho密度\n",
    "    S=ini(V_max,avg_d,avg_t,rho)\n",
    "    V=[] #計算平均速度用的\n",
    "    \n",
    "    for j in range(T):\n",
    "        \n",
    "        V1=[]\n",
    "        #每個時段內發生的事\n",
    "       \n",
    "        for i in range(len(S)):\n",
    "            x=len(S)-1\n",
    "            t.append(j) \n",
    "            P.append(S[x-i][0])\n",
    "           \n",
    "            \n",
    "        #每台車的狀況\n",
    "            if i>0 :\n",
    "                dx=S[x-i+1][0]-S[x-i][0] #前後車距\n",
    "                rule(V_max,dx,S[x-i])\n",
    "                    \n",
    "                \n",
    "                if S[x-i][1]<0 or dx<=0: #debug用的\n",
    "                            \n",
    "                    print(S[x-i][0],S[x-i][1],j,i)\n",
    "                    break\n",
    "                \n",
    "            if i==0 : #最前面那台車的情形\n",
    "                \n",
    "                dx=S[0][0]-(S[x-i][0]-l)\n",
    "                rule(V_max,dx,S[x-i])\n",
    "                 \n",
    "            \n",
    "        \n",
    "        for k in range(len(S)):\n",
    "            S[k][0]+=S[k][1]*dt  #(4)更新車子的位置\n",
    "                              \n",
    "            V1.append(S[k][1])  #j時刻所有車的速度都丟進來\n",
    "            \n",
    "            \n",
    "            if S[k][0]>l: \n",
    "                S[k][0]-=l\n",
    "        S.sort(key=f)\n",
    "               \n",
    "         \n",
    "        \n",
    "        avgV.append(avg(V1)) #j時刻的平均速度\n",
    "    #return len(S)  回傳車子的個數\n",
    "print(\"dd\")\n",
    "\"\"\"     \n",
    "P=[]\n",
    "t=[]\n",
    "a=traffic(10,5,2,0.3)\n",
    "    #Vmax 安全距離 delay time \n",
    "plt.plot(avgV) \"\"\""
   ]
  },
  {
   "cell_type": "code",
   "execution_count": 19,
   "metadata": {},
   "outputs": [
    {
     "name": "stdout",
     "output_type": "stream",
     "text": [
      "1\n",
      "2\n",
      "3\n",
      "4\n",
      "5\n",
      "6\n",
      "7\n",
      "8\n",
      "9\n"
     ]
    },
    {
     "data": {
      "text/plain": [
       "<matplotlib.collections.PathCollection at 0x2a1fe6d8>"
      ]
     },
     "execution_count": 19,
     "metadata": {},
     "output_type": "execute_result"
    },
    {
     "data": {
      "image/png": "[encoded data removed]",
      "text/plain": [
       "<matplotlib.figure.Figure at 0x2a147e10>"
      ]
     },
     "metadata": {},
     "output_type": "display_data"
    }
   ],
   "source": [
    "rho=[]\n",
    "q=[]\n",
    "for i in range(1,10,1):\n",
    "    avgV=[] \n",
    "    P=[]\n",
    "    t=[]\n",
    "    print(i)\n",
    "    traffic(10,1,1,i/10)\n",
    "    v=[avgV[j] for j in range(9000,9100,100)] #取平衡之後的平均速度\n",
    "    q.append(avg(v)*i/10)\n",
    "    rho.append(i/10)\n",
    "\n",
    "plt.scatter(rho,q)"
   ]
  },
  {
   "cell_type": "code",
   "execution_count": 17,
   "metadata": {},
   "outputs": [
    {
     "name": "stdout",
     "output_type": "stream",
     "text": [
      "1\n",
      "2\n",
      "3\n",
      "4\n",
      "5\n",
      "6\n",
      "7\n",
      "8\n",
      "9\n"
     ]
    },
    {
     "data": {
      "text/plain": [
       "<matplotlib.collections.PathCollection at 0x2a138400>"
      ]
     },
     "execution_count": 17,
     "metadata": {},
     "output_type": "execute_result"
    },
    {
     "data": {
      "image/png": "[encoded data removed]",
      "text/plain": [
       "<matplotlib.figure.Figure at 0x2ed0c470>"
      ]
     },
     "metadata": {},
     "output_type": "display_data"
    }
   ],
   "source": [
    "vv=[]\n",
    "for i in range(len(q)):\n",
    "    vv.append(q[i]*(10/(i+1)))\n",
    "    print(i+1)\n",
    "plt.scatter(rho,vv)"
   ]
  },
  {
   "cell_type": "code",
   "execution_count": 6,
   "metadata": {},
   "outputs": [],
   "source": [
    "diff=[]\n",
    "for i in range(len(q)-1):\n",
    "    \n",
    "    diff.append((q[i+1]-q[i])*10)"
   ]
  },
  {
   "cell_type": "code",
   "execution_count": 12,
   "metadata": {},
   "outputs": [
    {
     "data": {
      "text/plain": [
       "<matplotlib.collections.PathCollection at 0x1b276b70>"
      ]
     },
     "execution_count": 12,
     "metadata": {},
     "output_type": "execute_result"
    },
    {
     "data": {
      "image/png": "[encoded data removed]",
      "text/plain": [
       "<matplotlib.figure.Figure at 0x1b26a828>"
      ]
     },
     "metadata": {},
     "output_type": "display_data"
    }
   ],
   "source": [
    "plt.scatter([i/10 for i in range(10,59,1)],diff)"
   ]
  },
  {
   "cell_type": "code",
   "execution_count": 4,
   "metadata": {},
   "outputs": [
    {
     "data": {
      "text/plain": [
       "<matplotlib.collections.PathCollection at 0x1ae89f60>"
      ]
     },
     "execution_count": 4,
     "metadata": {},
     "output_type": "execute_result"
    },
    {
     "data": {
      "image/png": "[encoded data removed]",
      "text/plain": [
       "<matplotlib.figure.Figure at 0x57d3198>"
      ]
     },
     "metadata": {},
     "output_type": "display_data"
    }
   ],
   "source": [
    "plt.scatter(rho,q)"
   ]
  },
  {
   "cell_type": "code",
   "execution_count": 18,
   "metadata": {},
   "outputs": [
    {
     "data": {
      "text/plain": [
       "[<matplotlib.lines.Line2D at 0x2a18ff28>]"
      ]
     },
     "execution_count": 18,
     "metadata": {},
     "output_type": "execute_result"
    },
    {
     "data": {
      "image/png": "[encoded data removed]",
      "text/plain": [
       "<matplotlib.figure.Figure at 0x2ecf4ac8>"
      ]
     },
     "metadata": {},
     "output_type": "display_data"
    }
   ],
   "source": [
    "plt.plot(avgV)"
   ]
  },
  {
   "cell_type": "code",
   "execution_count": null,
   "metadata": {},
   "outputs": [],
   "source": []
  },
  {
   "cell_type": "code",
   "execution_count": null,
   "metadata": {},
   "outputs": [],
   "source": []
  },
  {
   "cell_type": "code",
   "execution_count": null,
   "metadata": {},
   "outputs": [],
   "source": []
  },
  {
   "cell_type": "code",
   "execution_count": null,
   "metadata": {},
   "outputs": [],
   "source": []
  },
  {
   "cell_type": "code",
   "execution_count": null,
   "metadata": {},
   "outputs": [],
   "source": []
  },
  {
   "cell_type": "code",
   "execution_count": null,
   "metadata": {},
   "outputs": [],
   "source": []
  },
  {
   "cell_type": "code",
   "execution_count": null,
   "metadata": {},
   "outputs": [],
   "source": []
  },
  {
   "cell_type": "code",
   "execution_count": null,
   "metadata": {},
   "outputs": [],
   "source": []
  },
  {
   "cell_type": "code",
   "execution_count": null,
   "metadata": {},
   "outputs": [],
   "source": []
  },
  {
   "cell_type": "code",
   "execution_count": null,
   "metadata": {},
   "outputs": [],
   "source": []
  },
  {
   "cell_type": "code",
   "execution_count": null,
   "metadata": {},
   "outputs": [],
   "source": []
  },
  {
   "cell_type": "code",
   "execution_count": null,
   "metadata": {},
   "outputs": [],
   "source": []
  },
  {
   "cell_type": "code",
   "execution_count": null,
   "metadata": {},
   "outputs": [],
   "source": []
  },
  {
   "cell_type": "code",
   "execution_count": null,
   "metadata": {},
   "outputs": [],
   "source": []
  },
  {
   "cell_type": "code",
   "execution_count": null,
   "metadata": {},
   "outputs": [],
   "source": []
  },
  {
   "cell_type": "code",
   "execution_count": null,
   "metadata": {},
   "outputs": [],
   "source": []
  },
  {
   "cell_type": "code",
   "execution_count": null,
   "metadata": {},
   "outputs": [],
   "source": []
  },
  {
   "cell_type": "code",
   "execution_count": null,
   "metadata": {},
   "outputs": [],
   "source": []
  },
  {
   "cell_type": "code",
   "execution_count": null,
   "metadata": {},
   "outputs": [],
   "source": []
  },
  {
   "cell_type": "code",
   "execution_count": null,
   "metadata": {},
   "outputs": [],
   "source": []
  }
 ],
 "metadata": {
  "kernelspec": {
   "display_name": "Python 3",
   "language": "python",
   "name": "python3"
  },
  "language_info": {
   "codemirror_mode": {
    "name": "ipython",
    "version": 3
   },
   "file_extension": ".py",
   "mimetype": "text/x-python",
   "name": "python",
   "nbconvert_exporter": "python",
   "pygments_lexer": "ipython3",
   "version": "3.6.4"
  }
 },
 "nbformat": 4,
 "nbformat_minor": 2
}
