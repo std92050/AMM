{
 "cells": [
  {
   "cell_type": "code",
   "execution_count": 6,
   "metadata": {},
   "outputs": [],
   "source": [
    "import matplotlib.pyplot as plt\n",
    "import numpy as np\n",
    "import math \n",
    "\n",
    "import random\n",
    "from scipy.integrate import odeint\n",
    "np.random.seed(1000)\n",
    "\n",
    "\n",
    "tmin = 0.0\n",
    "tmax = 100.0\n",
    "V_max=5\n",
    "#環形賽道，s=r*theta\n",
    "n=10#n台車\n",
    "avg_theta=2*math.pi\n",
    "s_d=10 #safe distance\n",
    "d_t=0.1 #delay time\n",
    "T = np.linspace(tmin, tmax, 1000)\n"
   ]
  },
  {
   "cell_type": "code",
   "execution_count": 2,
   "metadata": {},
   "outputs": [],
   "source": [
    "\n",
    "def normal(avg,var): #從Gaussian亂數抽樣 (抽出來一定大於零) \n",
    "   \n",
    "    a=np.ndarray.tolist(np.random.normal(avg,var,3000)) #a是一個有normal分布的list\n",
    "    \n",
    "    a=list(filter(lambda x:x>0,a)) #濾掉小於等於0的\n",
    "    \n",
    "    s=random.sample(a,1) #從a裡面抽一個出來\n",
    "    return s[0] #取出亂數\n",
    "\n",
    "def V(dx):#optimal speed\n",
    "    V=(V_max/2)*(np.tanh(dx-s_d)+np.tanh(s_d))\n",
    "    return V\n",
    "\n",
    "def compute_derivatives(y,t0):\n",
    "    \n",
    "    \n",
    "    \n",
    "    ddy=np.zeros((n,))\n",
    "    \n",
    "                \n",
    "        \n",
    "    for i in range(0,n-1):\n",
    "        ddy[i]=(1/d_t)*(V((y[2*(i+1)]-y[2*i])*r)-y[2*i+1])\n",
    "        \n",
    "    ddy[n-1]=(1/d_t)*(V((y[0]-y[-1-1]+2*math.pi)*r)-y[-1])\n",
    "        \n",
    "    new_y=np.zeros((2*n,))\n",
    "    for i in range(0,n):\n",
    "        new_y[i*2]=y[2*i+1]*r\n",
    "        new_y[i*2+1]=ddy[i]\n",
    "    \n",
    "        \n",
    "    return new_y     \n"
   ]
  },
  {
   "cell_type": "code",
   "execution_count": 5,
   "metadata": {},
   "outputs": [
    {
     "name": "stdout",
     "output_type": "stream",
     "text": [
      "0\n",
      "1\n",
      "2\n",
      "3\n",
      "4\n",
      "5\n",
      "6\n",
      "7\n",
      "8\n"
     ]
    }
   ],
   "source": [
    "\n",
    "\n",
    "r=50/math.pi\n",
    "f=[]\n",
    "for i in range(0,n):\n",
    "    f.append(2*math.pi/n*i)\n",
    "    f.append(normal(3,1))\n",
    "Vy = odeint(compute_derivatives, f, T)\n",
    "\n",
    "fig, ax = plt.subplots(figsize=(12, 7)) \n",
    "ax.plot(T,Vy[:,1])\n",
    "ax.plot(T,Vy[:,3])\n",
    "ax.plot(T,Vy[:,5])\n",
    "ax.plot(T,Vy[:,7])\n",
    "ax.plot(T,Vy[:,9])\n",
    "ax.plot(T,Vy[:,15])  "
   ]
  },
  {
   "cell_type": "code",
   "execution_count": null,
   "metadata": {},
   "outputs": [],
   "source": []
  }
 ],
 "metadata": {
  "kernelspec": {
   "display_name": "Python 3",
   "language": "python",
   "name": "python3"
  },
  "language_info": {
   "codemirror_mode": {
    "name": "ipython",
    "version": 3
   },
   "file_extension": ".py",
   "mimetype": "text/x-python",
   "name": "python",
   "nbconvert_exporter": "python",
   "pygments_lexer": "ipython3",
   "version": "3.6.4"
  }
 },
 "nbformat": 4,
 "nbformat_minor": 2
}
