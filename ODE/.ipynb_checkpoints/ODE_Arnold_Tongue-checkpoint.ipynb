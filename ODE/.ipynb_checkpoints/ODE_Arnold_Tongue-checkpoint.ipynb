{
 "cells": [
  {
   "cell_type": "markdown",
   "metadata": {},
   "source": [
    "# Arnold Tongue simulation\n",
    "This code  plots Arnold Tongues  with some given frequence $\\omega$ (or period $T=\\frac{2\\pi}{\\omega}$).<br/> \n",
    "First import some packages."
   ]
  },
  {
   "cell_type": "code",
   "execution_count": null,
   "metadata": {},
   "outputs": [],
   "source": [
    "import scipy.integrate\n",
    "import numpy as np\n",
    "import sympy\n",
    "import matplotlib.pyplot as plt"
   ]
  },
  {
   "cell_type": "markdown",
   "metadata": {},
   "source": [
    "For the Hill's equation $X(t)=A(t)X(t)= \\begin{pmatrix}\n",
    "0 & 1 \\\\\n",
    "-(a+bcos(\\omega t) & 0)\n",
    "\\end{pmatrix} X(t)$ , construct the matrix function $A(t)$ with parameters a、b、w and compute the  value of the fundamental matrix at $t=T$ with identity matrix as initial condition."
   ]
  },
  {
   "cell_type": "code",
   "execution_count": null,
   "metadata": {},
   "outputs": [],
   "source": [
    "def A(X,t,a,b,w):\n",
    "    x,y=X\n",
    "    return (y,(-a-b*np.cos(w*t))*x)  \n",
    "\n",
    "def fund_matrix(a,b,w):\n",
    "    t=np.array([0,2*np.pi/w])\n",
    "    X_1=scipy.integrate.odeint(A,(1,0),t,args=(a,b,w))\n",
    "    X_2=scipy.integrate.odeint(A,(0,1),t,args=(a,b,w))\n",
    "    return np.stack((X_1[1,],X_2[1,]))"
   ]
  },
  {
   "cell_type": "markdown",
   "metadata": {},
   "source": [
    "Now compute the trace of fundamental matrix at $t=T$ (denoted as $\\phi (a,b,\\omega)$) ."
   ]
  },
  {
   "cell_type": "code",
   "execution_count": null,
   "metadata": {},
   "outputs": [],
   "source": [
    "def phi(a,b,w):\n",
    "    M=fund_matrix(a,b,w)\n",
    "    return np.trace(M)"
   ]
  },
  {
   "cell_type": "markdown",
   "metadata": {},
   "source": [
    "Here is the Tongue of $w=2$ at $a=4$ with the range of parameter $a$ and $b$ in the ranges $[3,5]$ and $[0,1]$ seperately  "
   ]
  },
  {
   "cell_type": "code",
   "execution_count": null,
   "metadata": {},
   "outputs": [],
   "source": [
    "w=2\n",
    "a=np.arange(3,5,0.01)\n",
    "b=np.arange(0,1,0.005)\n",
    "Tongue_a=[]\n",
    "Tongue_b=[]\n",
    "for s in a:\n",
    "    print(s)\n",
    "    for l in b:\n",
    "        if abs(phi(s,l,w)-2)<10**(-5):\n",
    "            Tongue_a.append(s)\n",
    "            Tongue_b.append(l)\n"
   ]
  },
  {
   "cell_type": "code",
   "execution_count": 72,
   "metadata": {},
   "outputs": [
    {
     "data": {
      "text/plain": [
       "(3.8, 4.2)"
      ]
     },
     "execution_count": 72,
     "metadata": {},
     "output_type": "execute_result"
    },
    {
     "data": {
      "image/png": "[encoded data removed]",
      "text/plain": [
       "<matplotlib.figure.Figure at 0x1901a6bd198>"
      ]
     },
     "metadata": {},
     "output_type": "display_data"
    }
   ],
   "source": [
    "plt.scatter(Tongue_a,Tongue_b)\n",
    "plt.ylim(0,1)\n",
    "plt.xlim(3.8,4.2)"
   ]
  },
  {
   "cell_type": "markdown",
   "metadata": {},
   "source": [
    "Another example  is the Tongue of $w=1$ at $a=1$ with the range of parameter $a$ and $b$ in the ranges $[0,1.5]$ "
   ]
  },
  {
   "cell_type": "code",
   "execution_count": null,
   "metadata": {},
   "outputs": [],
   "source": [
    "w=1\n",
    "a=np.arange(0,1.5,0.001)\n",
    "b=np.arange(0,1.5,0.001)\n",
    "Tongue_a=[]\n",
    "Tongue_b=[]\n",
    "for s in a:\n",
    "    print(s)\n",
    "    for l in b:\n",
    "        if abs(abs(phi(s,l,w)-2))<10**(-5):\n",
    "            Tongue_a.append(s)\n",
    "            Tongue_b.append(l)"
   ]
  },
  {
   "cell_type": "code",
   "execution_count": 69,
   "metadata": {},
   "outputs": [
    {
     "data": {
      "text/plain": [
       "(0.8, 1.4)"
      ]
     },
     "execution_count": 69,
     "metadata": {},
     "output_type": "execute_result"
    },
    {
     "data": {
      "image/png": "[encoded data removed]",
      "text/plain": [
       "<matplotlib.figure.Figure at 0x1901a752dd8>"
      ]
     },
     "metadata": {},
     "output_type": "display_data"
    }
   ],
   "source": [
    "plt.scatter(Tongue_a,Tongue_b)\n",
    "plt.xlim(0.8,1.4)"
   ]
  },
  {
   "cell_type": "code",
   "execution_count": null,
   "metadata": {},
   "outputs": [],
   "source": []
  },
  {
   "cell_type": "code",
   "execution_count": null,
   "metadata": {},
   "outputs": [],
   "source": []
  },
  {
   "cell_type": "code",
   "execution_count": null,
   "metadata": {},
   "outputs": [],
   "source": []
  },
  {
   "cell_type": "code",
   "execution_count": null,
   "metadata": {},
   "outputs": [],
   "source": []
  },
  {
   "cell_type": "code",
   "execution_count": null,
   "metadata": {},
   "outputs": [],
   "source": []
  },
  {
   "cell_type": "code",
   "execution_count": null,
   "metadata": {},
   "outputs": [],
   "source": []
  }
 ],
 "metadata": {
  "kernelspec": {
   "display_name": "Python 3",
   "language": "python",
   "name": "python3"
  },
  "language_info": {
   "codemirror_mode": {
    "name": "ipython",
    "version": 3
   },
   "file_extension": ".py",
   "mimetype": "text/x-python",
   "name": "python",
   "nbconvert_exporter": "python",
   "pygments_lexer": "ipython3",
   "version": "3.6.4"
  }
 },
 "nbformat": 4,
 "nbformat_minor": 2
}
