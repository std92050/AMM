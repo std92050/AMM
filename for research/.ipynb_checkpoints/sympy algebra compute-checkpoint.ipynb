{
 "cells": [
  {
   "cell_type": "code",
   "execution_count": 1,
   "metadata": {},
   "outputs": [],
   "source": [
    "import numpy as np\n",
    "import sympy"
   ]
  },
  {
   "cell_type": "code",
   "execution_count": 2,
   "metadata": {},
   "outputs": [],
   "source": [
    "#expect value\n",
    "a=sympy.symbols('a')\n",
    "#2nd moment\n",
    "a_2=sympy.symbols('a_2')\n",
    "#3rd moment\n",
    "a_3=sympy.symbols('a_3')"
   ]
  },
  {
   "cell_type": "code",
   "execution_count": 20,
   "metadata": {},
   "outputs": [],
   "source": [
    "integ1=a_2*(a-a_2)*(1-a)+a_3*(1-2*a+a_2)+(a_2-a_3)*(1-a)*a\n",
    "integ2=(a_2-a_3)*(1-a)*a+(a-a_3)*a_2+((a-a_2)**2)*a\n",
    "nom=sympy.expand(integ1+integ2)"
   ]
  },
  {
   "cell_type": "code",
   "execution_count": 21,
   "metadata": {},
   "outputs": [],
   "source": [
    "integ3=nom+(a**2-a_2**2)*(1-a)+(a_2-a_3)*(1-2*a+a_2)\n",
    "integ4=2*(a-2*a_2+a_3)*a*(1-a)+(1-a_3-3*a+a_2)*a_2+(1-2*a+a_2)*(a-a_2)*a\n",
    "denom=sympy.expand(integ3+integ4)"
   ]
  },
  {
   "cell_type": "code",
   "execution_count": 24,
   "metadata": {},
   "outputs": [
    {
     "data": {
      "text/latex": [
       "$\\displaystyle \\frac{\\frac{a^{3}}{2} - \\frac{5 a^{2} a_{2}}{2} + a^{2} a_{3} + a a_{2}^{2} + 2 a a_{2} - 2 a a_{3} - \\frac{a_{2}^{2}}{2} + \\frac{a_{3}}{2}}{- 2 a^{3} + a^{2} a_{2} + 2 a^{2} + a a_{2}^{2} - 3 a a_{2} - a_{2} a_{3} + a_{2}}$"
      ],
      "text/plain": [
       "(a**3/2 - 5*a**2*a_2/2 + a**2*a_3 + a*a_2**2 + 2*a*a_2 - 2*a*a_3 - a_2**2/2 + a_3/2)/(-2*a**3 + a**2*a_2 + 2*a**2 + a*a_2**2 - 3*a*a_2 - a_2*a_3 + a_2)"
      ]
     },
     "execution_count": 24,
     "metadata": {},
     "output_type": "execute_result"
    }
   ],
   "source": [
    "sympy.simplify(nom/denom)"
   ]
  },
  {
   "cell_type": "code",
   "execution_count": null,
   "metadata": {},
   "outputs": [],
   "source": []
  }
 ],
 "metadata": {
  "kernelspec": {
   "display_name": "Python 3",
   "language": "python",
   "name": "python3"
  },
  "language_info": {
   "codemirror_mode": {
    "name": "ipython",
    "version": 3
   },
   "file_extension": ".py",
   "mimetype": "text/x-python",
   "name": "python",
   "nbconvert_exporter": "python",
   "pygments_lexer": "ipython3",
   "version": "3.7.4"
  }
 },
 "nbformat": 4,
 "nbformat_minor": 4
}
