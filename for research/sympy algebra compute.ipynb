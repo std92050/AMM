{
 "cells": [
  {
   "cell_type": "code",
   "execution_count": 1,
   "metadata": {},
   "outputs": [],
   "source": [
    "import numpy as np\n",
    "import sympy"
   ]
  },
  {
   "cell_type": "markdown",
   "metadata": {},
   "source": [
    "Compute the conditional probability $P^0(X_5=1 \\mid X_4=0)$ and $P^0(X_5=1 \\mid X_4=0 , X_3=1)$ where 3rd moment will appear. \\\n",
    "We use $\\bar{\\omega} , \\omega_2 , \\omega_3$ to represent mean , 2nd moment , 3rd moment respectively."
   ]
  },
  {
   "cell_type": "code",
   "execution_count": 140,
   "metadata": {},
   "outputs": [],
   "source": [
    "#expect value\n",
    "a=sympy.symbols('omegabar')\n",
    "#2nd moment\n",
    "a_2=sympy.symbols('ω_2')\n",
    "#3rd moment\n",
    "a_3=sympy.symbols('ω_3')"
   ]
  },
  {
   "cell_type": "markdown",
   "metadata": {},
   "source": [
    "First is $P^0(X_5=1 \\mid X_4=0)$ , denoted by p1"
   ]
  },
  {
   "cell_type": "code",
   "execution_count": 141,
   "metadata": {},
   "outputs": [],
   "source": [
    "integ1=a_2*(a-a_2)*(1-a)+a_3*(1-2*a+a_2)+(a_2-a_3)*(1-a)*a\n",
    "integ2=(a_2-a_3)*(1-a)*a+(a-2*a_2+a_3)*a_2+((a-a_2)**2)*a\n",
    "nom=integ1+integ2\n",
    "denom=4*a*(1-a)*(a-a_2)+2*a_2*(1-2*a+a_2)"
   ]
  },
  {
   "cell_type": "code",
   "execution_count": 142,
   "metadata": {},
   "outputs": [
    {
     "data": {
      "text/latex": [
       "$\\displaystyle \\frac{2 \\bar{\\omega} \\left(\\bar{\\omega} - 1\\right) \\left(ω_{2} - ω_{3}\\right) - \\bar{\\omega} \\left(\\bar{\\omega} - ω_{2}\\right)^{2} + ω_{2} \\left(\\bar{\\omega} - 1\\right) \\left(\\bar{\\omega} - ω_{2}\\right) - ω_{2} \\left(\\bar{\\omega} - 2 ω_{2} + ω_{3}\\right) - ω_{3} \\left(- 2 \\bar{\\omega} + ω_{2} + 1\\right)}{2 \\left(2 \\bar{\\omega} \\left(\\bar{\\omega} - 1\\right) \\left(\\bar{\\omega} - ω_{2}\\right) - ω_{2} \\left(- 2 \\bar{\\omega} + ω_{2} + 1\\right)\\right)}$"
      ],
      "text/plain": [
       "(2*omegabar*(omegabar - 1)*(ω_2 - ω_3) - omegabar*(omegabar - ω_2)**2 + ω_2*(omegabar - 1)*(omegabar - ω_2) - ω_2*(omegabar - 2*ω_2 + ω_3) - ω_3*(-2*omegabar + ω_2 + 1))/(2*(2*omegabar*(omegabar - 1)*(omegabar - ω_2) - ω_2*(-2*omegabar + ω_2 + 1)))"
      ]
     },
     "execution_count": 142,
     "metadata": {},
     "output_type": "execute_result"
    }
   ],
   "source": [
    "\n",
    "p1=sympy.simplify(nom/denom)\n",
    "p1"
   ]
  },
  {
   "cell_type": "markdown",
   "metadata": {},
   "source": [
    "Next is $P^0(X_5=1 \\mid X_4=0 , X_3=1)$ , denoted as p2"
   ]
  },
  {
   "cell_type": "code",
   "execution_count": 143,
   "metadata": {},
   "outputs": [
    {
     "data": {
      "text/latex": [
       "$\\displaystyle \\frac{\\bar{\\omega} \\left(\\bar{\\omega} - 1\\right) \\left(ω_{2} - ω_{3}\\right) + ω_{2} \\left(\\bar{\\omega} - 1\\right) \\left(\\bar{\\omega} - ω_{2}\\right) - ω_{3} \\left(- 2 \\bar{\\omega} + ω_{2} + 1\\right)}{2 \\bar{\\omega} \\left(\\bar{\\omega} - 1\\right) \\left(\\bar{\\omega} - ω_{2}\\right) - ω_{2} \\left(- 2 \\bar{\\omega} + ω_{2} + 1\\right)}$"
      ],
      "text/plain": [
       "(omegabar*(omegabar - 1)*(ω_2 - ω_3) + ω_2*(omegabar - 1)*(omegabar - ω_2) - ω_3*(-2*omegabar + ω_2 + 1))/(2*omegabar*(omegabar - 1)*(omegabar - ω_2) - ω_2*(-2*omegabar + ω_2 + 1))"
      ]
     },
     "execution_count": 143,
     "metadata": {},
     "output_type": "execute_result"
    }
   ],
   "source": [
    "nom2=a_2*(a-a_2)*(1-a)+a_3*(1-2*a+a_2)+a*(1-a)*(a_2-a_3)\n",
    "denom2=2*a*(1-a)*(a-a_2)+a_2*(1-2*a+a_2)\n",
    "p2=sympy.simplify(nom2/denom2)\n",
    "p2"
   ]
  },
  {
   "cell_type": "code",
   "execution_count": null,
   "metadata": {},
   "outputs": [],
   "source": []
  },
  {
   "cell_type": "code",
   "execution_count": null,
   "metadata": {},
   "outputs": [],
   "source": []
  },
  {
   "cell_type": "markdown",
   "metadata": {},
   "source": [
    "The difference between these two conditional probability is:"
   ]
  },
  {
   "cell_type": "code",
   "execution_count": 145,
   "metadata": {},
   "outputs": [
    {
     "data": {
      "text/latex": [
       "$\\displaystyle - \\frac{- \\bar{\\omega}^{3} + \\bar{\\omega}^{2} ω_{2} - 2 \\bar{\\omega} ω_{3} + ω_{2}^{2} + ω_{3}}{- 4 \\bar{\\omega}^{3} + 4 \\bar{\\omega}^{2} ω_{2} + 4 \\bar{\\omega}^{2} - 8 \\bar{\\omega} ω_{2} + 2 ω_{2}^{2} + 2 ω_{2}}$"
      ],
      "text/plain": [
       "-(-omegabar**3 + omegabar**2*ω_2 - 2*omegabar*ω_3 + ω_2**2 + ω_3)/(-4*omegabar**3 + 4*omegabar**2*ω_2 + 4*omegabar**2 - 8*omegabar*ω_2 + 2*ω_2**2 + 2*ω_2)"
      ]
     },
     "execution_count": 145,
     "metadata": {},
     "output_type": "execute_result"
    }
   ],
   "source": [
    " sympy.simplify(p1-p2)"
   ]
  },
  {
   "cell_type": "code",
   "execution_count": null,
   "metadata": {},
   "outputs": [],
   "source": []
  },
  {
   "cell_type": "markdown",
   "metadata": {},
   "source": [
    "Compute $P^0(X_5=1 \\mid X_4=0 , X_3=1 , X_2=0 , X_1=1)$ denoted by p3 "
   ]
  },
  {
   "cell_type": "markdown",
   "metadata": {},
   "source": [
    "### "
   ]
  },
  {
   "cell_type": "code",
   "execution_count": 95,
   "metadata": {},
   "outputs": [],
   "source": [
    "nom3=a_2*b_2+a*b*\n",
    "denom3=a_2*(1-a)+a*(a-a_2)\n",
    "p3=sympy.simplify(nom3/denom3)"
   ]
  },
  {
   "cell_type": "code",
   "execution_count": 93,
   "metadata": {},
   "outputs": [],
   "source": [
    "nom4=2*a*(a-a_2)*(1-a)+a_2*(1-2*a+a_2)\n",
    "denom4=(1-a)*(a**2)+(1-a)*a_2+a*(a-a_2)\n",
    "p4=sympy.simplify(nom4/denom4)"
   ]
  },
  {
   "cell_type": "code",
   "execution_count": 122,
   "metadata": {},
   "outputs": [
    {
     "data": {
      "text/plain": [
       "[-sqrt(ω_2), sqrt(ω_2)]"
      ]
     },
     "execution_count": 122,
     "metadata": {},
     "output_type": "execute_result"
    }
   ],
   "source": [
    "sympy.solve((a-a_2)/(1-a)-(a**2-2*a*a_2+a_2)/(2*a*(1-a)),a)"
   ]
  },
  {
   "cell_type": "code",
   "execution_count": null,
   "metadata": {},
   "outputs": [],
   "source": []
  },
  {
   "cell_type": "code",
   "execution_count": 110,
   "metadata": {},
   "outputs": [
    {
     "data": {
      "text/latex": [
       "$\\displaystyle \\frac{- ω^{2} + 2 ω ω_{2} - ω_{2} + \\frac{ω_{2}}{ω}}{2 ω \\left(1 - ω\\right)}$"
      ],
      "text/plain": [
       "(-ω**2 + 2*ω*ω_2 - ω_2 + ω_2/ω)/(2*ω*(1 - ω))"
      ]
     },
     "execution_count": 110,
     "metadata": {},
     "output_type": "execute_result"
    }
   ],
   "source": []
  },
  {
   "cell_type": "code",
   "execution_count": null,
   "metadata": {},
   "outputs": [],
   "source": []
  }
 ],
 "metadata": {
  "kernelspec": {
   "display_name": "Python 3",
   "language": "python",
   "name": "python3"
  },
  "language_info": {
   "codemirror_mode": {
    "name": "ipython",
    "version": 3
   },
   "file_extension": ".py",
   "mimetype": "text/x-python",
   "name": "python",
   "nbconvert_exporter": "python",
   "pygments_lexer": "ipython3",
   "version": "3.7.4"
  }
 },
 "nbformat": 4,
 "nbformat_minor": 4
}
