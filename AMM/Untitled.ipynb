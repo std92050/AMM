{
 "cells": [
  {
   "cell_type": "code",
   "execution_count": 123,
   "id": "9f7437a8-edf5-469b-a2c7-4563cffb88b4",
   "metadata": {
    "tags": []
   },
   "outputs": [],
   "source": [
    "import numpy as np\n",
    "import time \n",
    "from numba import njit , jit, config\n",
    "config.DISABLE_JIT = False #True "
   ]
  },
  {
   "cell_type": "code",
   "execution_count": 44,
   "id": "b80259ae-33d6-442c-ae55-4f6f0e3b803c",
   "metadata": {
    "tags": []
   },
   "outputs": [
    {
     "ename": "TypingError",
     "evalue": "Failed in nopython mode pipeline (step: nopython frontend)\n\u001b[1m\u001b[1mNo implementation of function Function(<built-in function mod>) found for signature:\n \n >>> mod(Literal[str](%d -th death), int64)\n \nThere are 6 candidate implementations:\n\u001b[1m      - Of which 4 did not match due to:\n      Overload of function 'mod': File: <numerous>: Line N/A.\n        With argument(s): '(unicode_type, int64)':\u001b[0m\n\u001b[1m       No match.\u001b[0m\n\u001b[1m      - Of which 2 did not match due to:\n      Operator Overload in function 'mod': File: unknown: Line unknown.\n        With argument(s): '(unicode_type, int64)':\u001b[0m\n\u001b[1m       No match for registered cases:\n        * (int64, int64) -> int64\n        * (int64, uint64) -> int64\n        * (uint64, int64) -> int64\n        * (uint64, uint64) -> uint64\n        * (float32, float32) -> float32\n        * (float64, float64) -> float64\u001b[0m\n\u001b[0m\n\u001b[0m\u001b[1mDuring: typing of intrinsic-call at C:\\Users\\std92\\AppData\\Local\\Temp\\ipykernel_1472\\401399030.py (4)\u001b[0m\n\u001b[1m\nFile \"..\\..\\..\\..\\AppData\\Local\\Temp\\ipykernel_1472\\401399030.py\", line 4:\u001b[0m\n\u001b[1m<source missing, REPL/exec in use?>\u001b[0m\n",
     "output_type": "error",
     "traceback": [
      "\u001b[1;31m---------------------------------------------------------------------------\u001b[0m",
      "\u001b[1;31mTypingError\u001b[0m                               Traceback (most recent call last)",
      "Cell \u001b[1;32mIn[44], line 5\u001b[0m\n\u001b[0;32m      3\u001b[0m     \u001b[38;5;28;01mfor\u001b[39;00m i \u001b[38;5;129;01min\u001b[39;00m \u001b[38;5;28mrange\u001b[39m(n):\n\u001b[0;32m      4\u001b[0m         \u001b[38;5;28mprint\u001b[39m(\u001b[38;5;124m\"\u001b[39m\u001b[38;5;132;01m%d\u001b[39;00m\u001b[38;5;124m -th death\u001b[39m\u001b[38;5;124m\"\u001b[39m  \u001b[38;5;241m%\u001b[39mi)\n\u001b[1;32m----> 5\u001b[0m \u001b[43mdie\u001b[49m\u001b[43m(\u001b[49m\u001b[38;5;241;43m100\u001b[39;49m\u001b[43m)\u001b[49m\n",
      "File \u001b[1;32mD:\\Anaconda\\lib\\site-packages\\numba\\core\\dispatcher.py:468\u001b[0m, in \u001b[0;36m_DispatcherBase._compile_for_args\u001b[1;34m(self, *args, **kws)\u001b[0m\n\u001b[0;32m    464\u001b[0m         msg \u001b[38;5;241m=\u001b[39m (\u001b[38;5;124mf\u001b[39m\u001b[38;5;124m\"\u001b[39m\u001b[38;5;132;01m{\u001b[39;00m\u001b[38;5;28mstr\u001b[39m(e)\u001b[38;5;241m.\u001b[39mrstrip()\u001b[38;5;132;01m}\u001b[39;00m\u001b[38;5;124m \u001b[39m\u001b[38;5;130;01m\\n\u001b[39;00m\u001b[38;5;130;01m\\n\u001b[39;00m\u001b[38;5;124mThis error may have been caused \u001b[39m\u001b[38;5;124m\"\u001b[39m\n\u001b[0;32m    465\u001b[0m                \u001b[38;5;124mf\u001b[39m\u001b[38;5;124m\"\u001b[39m\u001b[38;5;124mby the following argument(s):\u001b[39m\u001b[38;5;130;01m\\n\u001b[39;00m\u001b[38;5;132;01m{\u001b[39;00margs_str\u001b[38;5;132;01m}\u001b[39;00m\u001b[38;5;130;01m\\n\u001b[39;00m\u001b[38;5;124m\"\u001b[39m)\n\u001b[0;32m    466\u001b[0m         e\u001b[38;5;241m.\u001b[39mpatch_message(msg)\n\u001b[1;32m--> 468\u001b[0m     \u001b[43merror_rewrite\u001b[49m\u001b[43m(\u001b[49m\u001b[43me\u001b[49m\u001b[43m,\u001b[49m\u001b[43m \u001b[49m\u001b[38;5;124;43m'\u001b[39;49m\u001b[38;5;124;43mtyping\u001b[39;49m\u001b[38;5;124;43m'\u001b[39;49m\u001b[43m)\u001b[49m\n\u001b[0;32m    469\u001b[0m \u001b[38;5;28;01mexcept\u001b[39;00m errors\u001b[38;5;241m.\u001b[39mUnsupportedError \u001b[38;5;28;01mas\u001b[39;00m e:\n\u001b[0;32m    470\u001b[0m     \u001b[38;5;66;03m# Something unsupported is present in the user code, add help info\u001b[39;00m\n\u001b[0;32m    471\u001b[0m     error_rewrite(e, \u001b[38;5;124m'\u001b[39m\u001b[38;5;124munsupported_error\u001b[39m\u001b[38;5;124m'\u001b[39m)\n",
      "File \u001b[1;32mD:\\Anaconda\\lib\\site-packages\\numba\\core\\dispatcher.py:409\u001b[0m, in \u001b[0;36m_DispatcherBase._compile_for_args.<locals>.error_rewrite\u001b[1;34m(e, issue_type)\u001b[0m\n\u001b[0;32m    407\u001b[0m     \u001b[38;5;28;01mraise\u001b[39;00m e\n\u001b[0;32m    408\u001b[0m \u001b[38;5;28;01melse\u001b[39;00m:\n\u001b[1;32m--> 409\u001b[0m     \u001b[38;5;28;01mraise\u001b[39;00m e\u001b[38;5;241m.\u001b[39mwith_traceback(\u001b[38;5;28;01mNone\u001b[39;00m)\n",
      "\u001b[1;31mTypingError\u001b[0m: Failed in nopython mode pipeline (step: nopython frontend)\n\u001b[1m\u001b[1mNo implementation of function Function(<built-in function mod>) found for signature:\n \n >>> mod(Literal[str](%d -th death), int64)\n \nThere are 6 candidate implementations:\n\u001b[1m      - Of which 4 did not match due to:\n      Overload of function 'mod': File: <numerous>: Line N/A.\n        With argument(s): '(unicode_type, int64)':\u001b[0m\n\u001b[1m       No match.\u001b[0m\n\u001b[1m      - Of which 2 did not match due to:\n      Operator Overload in function 'mod': File: unknown: Line unknown.\n        With argument(s): '(unicode_type, int64)':\u001b[0m\n\u001b[1m       No match for registered cases:\n        * (int64, int64) -> int64\n        * (int64, uint64) -> int64\n        * (uint64, int64) -> int64\n        * (uint64, uint64) -> uint64\n        * (float32, float32) -> float32\n        * (float64, float64) -> float64\u001b[0m\n\u001b[0m\n\u001b[0m\u001b[1mDuring: typing of intrinsic-call at C:\\Users\\std92\\AppData\\Local\\Temp\\ipykernel_1472\\401399030.py (4)\u001b[0m\n\u001b[1m\nFile \"..\\..\\..\\..\\AppData\\Local\\Temp\\ipykernel_1472\\401399030.py\", line 4:\u001b[0m\n\u001b[1m<source missing, REPL/exec in use?>\u001b[0m\n"
     ]
    }
   ],
   "source": [
    "@njit\n",
    "def die(n):\n",
    "    for i in range(n):\n",
    "        print(\"%d -th death\"  %i)\n",
    "die(100)"
   ]
  },
  {
   "cell_type": "code",
   "execution_count": 11,
   "id": "c4aaa5f3-bf47-4347-853b-3d49123c9487",
   "metadata": {
    "tags": []
   },
   "outputs": [
    {
     "data": {
      "text/plain": [
       "range"
      ]
     },
     "execution_count": 11,
     "metadata": {},
     "output_type": "execute_result"
    }
   ],
   "source": [
    "type(range(10))"
   ]
  },
  {
   "cell_type": "code",
   "execution_count": 137,
   "id": "80003542-1c00-45f8-9db7-9f8667fe9d4b",
   "metadata": {
    "tags": []
   },
   "outputs": [
    {
     "name": "stdout",
     "output_type": "stream",
     "text": [
      "4999950000\n",
      "0.0899198055267334\n"
     ]
    }
   ],
   "source": [
    "@jit(nopython = True)\n",
    "def sum_cal(x,y):\n",
    "    sum_num = 0\n",
    "    for i in range(x,y):\n",
    "        sum_num += i\n",
    "    return sum_num\n",
    "start = time.time()\n",
    "print(sum_cal(1,10**5))\n",
    "print(time.time()-start)"
   ]
  },
  {
   "cell_type": "code",
   "execution_count": 146,
   "id": "64948759-db30-44de-a5d3-7cc7e032cd7f",
   "metadata": {
    "tags": []
   },
   "outputs": [
    {
     "name": "stdout",
     "output_type": "stream",
     "text": [
      "4999950000\n",
      "0.0049974918365478516\n"
     ]
    }
   ],
   "source": [
    "@njit(cache = True)\n",
    "def sum_cal(x,y):\n",
    "    sum_num = 0\n",
    "    for i in range(x,y):\n",
    "        sum_num += i\n",
    "    return sum_num\n",
    "start = time.time()\n",
    "print(sum_cal(1,10**5))\n",
    "print(time.time()-start)"
   ]
  },
  {
   "cell_type": "code",
   "execution_count": null,
   "id": "47941449-8bfe-443d-89cf-c5921ef5754a",
   "metadata": {},
   "outputs": [],
   "source": []
  }
 ],
 "metadata": {
  "kernelspec": {
   "display_name": "Python 3 (ipykernel)",
   "language": "python",
   "name": "python3"
  },
  "language_info": {
   "codemirror_mode": {
    "name": "ipython",
    "version": 3
   },
   "file_extension": ".py",
   "mimetype": "text/x-python",
   "name": "python",
   "nbconvert_exporter": "python",
   "pygments_lexer": "ipython3",
   "version": "3.10.9"
  }
 },
 "nbformat": 4,
 "nbformat_minor": 5
}
