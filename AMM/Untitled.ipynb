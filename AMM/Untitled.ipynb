{
 "cells": [
  {
   "cell_type": "code",
   "execution_count": 1,
   "metadata": {},
   "outputs": [],
   "source": [
    "import numpy as np\n",
    "import matplotlib.pyplot as plt"
   ]
  },
  {
   "cell_type": "code",
   "execution_count": 135,
   "metadata": {},
   "outputs": [],
   "source": [
    "def market_update( S_m , p ,delta ):\n",
    "    U = np.random.rand()\n",
    "    if U < p :\n",
    "        S_m_new = S_m * delta\n",
    "    else:\n",
    "        S_m_new = S_m * delta**-1\n",
    "    return S_m_new\n",
    "def pool_update( S_p , S_m_new , gamma ):\n",
    "    if S_m_new > gamma**-1*S_p :\n",
    "        S_p_new =  gamma*S_m_new \n",
    "    elif S_m_new < gamma*S_p :\n",
    "        S_p_new =  gamma**-1*S_m_new\n",
    "    else:\n",
    "        S_p_new = S_p\n",
    "    return S_p_new"
   ]
  },
  {
   "cell_type": "code",
   "execution_count": 133,
   "metadata": {},
   "outputs": [],
   "source": [
    "def pool_process( T , p , delta , gamma ):\n",
    "    S_p = np.zeros(T+1)\n",
    "    S_m = np.zeros(T+1)\n",
    "    S_p[0]=1\n",
    "    S_m[0]=1\n",
    "    for i in range(T):\n",
    "        S_m[i+1] = market_update( S_m[i] , p ,delta )\n",
    "        S_p[i+1] = pool_update( S_p[i] , S_m[i+1] , gamma )\n",
    "    return S_p , S_m"
   ]
  },
  {
   "cell_type": "code",
   "execution_count": 171,
   "metadata": {},
   "outputs": [],
   "source": [
    "delta =1.0001\n",
    "gamma = np.exp(-5*delta)\n",
    "S_p , S_m = pool_process( 1000 , 0.6 , delta , gamma )"
   ]
  },
  {
   "cell_type": "code",
   "execution_count": 172,
   "metadata": {},
   "outputs": [
    {
     "data": {
      "image/png": "[encoded data removed]",
      "text/plain": [
       "<matplotlib.figure.Figure at 0x203fac130b8>"
      ]
     },
     "metadata": {},
     "output_type": "display_data"
    }
   ],
   "source": [
    "plt.figure()\n",
    "T=np.arange(1001)\n",
    "plt.plot(T, np.log(S_p) ,'g' )\n",
    "plt.plot(T, np.log(gamma*S_p) )\n",
    "plt.plot(T, np.log(S_p*(gamma**-1)))\n",
    "plt.plot(T, np.log(S_m) , 'b',linewidth=0.5)\n",
    "plt.show()"
   ]
  },
  {
   "cell_type": "code",
   "execution_count": 118,
   "metadata": {},
   "outputs": [
    {
     "data": {
      "text/plain": [
       "array([  0.,  -1.,   0., ..., 202., 201., 202.])"
      ]
     },
     "execution_count": 118,
     "metadata": {},
     "output_type": "execute_result"
    }
   ],
   "source": [
    "np.log(S_m)"
   ]
  },
  {
   "cell_type": "code",
   "execution_count": 119,
   "metadata": {},
   "outputs": [
    {
     "data": {
      "text/plain": [
       "array([  0.        ,  -0.64332506,  -0.35667494, ..., 201.64332506,\n",
       "       201.35667494, 201.64332506])"
      ]
     },
     "execution_count": 119,
     "metadata": {},
     "output_type": "execute_result"
    }
   ],
   "source": [
    "np.log(S_p)"
   ]
  },
  {
   "cell_type": "code",
   "execution_count": null,
   "metadata": {},
   "outputs": [],
   "source": []
  },
  {
   "cell_type": "code",
   "execution_count": null,
   "metadata": {},
   "outputs": [],
   "source": []
  }
 ],
 "metadata": {
  "kernelspec": {
   "display_name": "Python 3",
   "language": "python",
   "name": "python3"
  },
  "language_info": {
   "codemirror_mode": {
    "name": "ipython",
    "version": 3
   },
   "file_extension": ".py",
   "mimetype": "text/x-python",
   "name": "python",
   "nbconvert_exporter": "python",
   "pygments_lexer": "ipython3",
   "version": "3.6.4"
  }
 },
 "nbformat": 4,
 "nbformat_minor": 2
}
