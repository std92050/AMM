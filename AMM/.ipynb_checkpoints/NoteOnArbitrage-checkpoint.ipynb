{
 "cells": [
  {
   "cell_type": "markdown",
   "id": "f00d7350",
   "metadata": {},
   "source": [
    "# Note on AMM arbitrage in continuous time\n",
    "\n",
    "$$\n",
    "\\newcommand{\\cF}{\\mathcal{F}}\n",
    "\\newcommand{\\E}{\\mathbb{E}}\n",
    "\\newcommand{\\Eof}[1]{\\mathbb{E}\\left[ #1 \\right]}\n",
    "\\newcommand{\\inn}[1]{\\left\\langle #1 \\right\\rangle}\n",
    "$$"
   ]
  },
  {
   "cell_type": "markdown",
   "id": "d1ee4b45",
   "metadata": {},
   "source": [
    "## Notations\n",
    "\n",
    "- $x_t$: number of risky asset, say ETH, at time $t$ in the pool \n",
    "- $y_t$: number of numeraire, say USDC, at time $t$ in the pool\n",
    "- $L_t := \\sqrt{x_t y_t}$: liquidity at time $t$\n",
    "- $P_t := \\frac{y_t}{x_t}$: pool (or implicit) price at time $t$\n",
    "- $1 - \\gamma$: (proportional) transaction cost, typically $\\gamma = 97\\%$."
   ]
  },
  {
   "cell_type": "markdown",
   "id": "f6025033",
   "metadata": {},
   "source": [
    "## Market mechanism - with transaction cost\n",
    "\n",
    "With transaction cost, trader trades following the rule that the quantities either \n",
    "$x^\\gamma y$ or $x y^\\gamma$ remains constant.\n",
    "\n",
    "- If the trader buys risky asset from the pool, $x$ decreases and  $y$ increases in the pool. The trade is done (infinitesimally) by keeping the quantity $x y^\\gamma $ unchanged. It follows that \n",
    "$$\n",
    "0 = d(x y^\\gamma) = \\gamma y^{\\gamma-1} x dy + y^\\gamma dx.\n",
    "$$\n",
    "Thus, we have\n",
    "$$\n",
    "\\frac{dx}x + \\gamma \\frac{dy}y = 0.\n",
    "$$\n",
    "In other words, the pool decreases in $x$ by the percentage $\\frac{dx}{x}$ while simultaneously increases in $y$ by the percentage $\\frac{dy}{y} = -\\frac1\\gamma \\frac{dx}{x}$ (since $dx_t < 0$).\n",
    "\n",
    "- On the other hand, if the trader sells risky asset to the pool, $x$ increases and  $y$ decreases in the pool. The trade is done (infinitesimally) by keeping the quantity $x^\\gamma y$ unchanged. It follows that \n",
    "$$\n",
    "d(x^\\gamma y) = \\gamma x^{\\gamma-1} y dx + x^\\gamma dy = 0.\n",
    "$$\n",
    "Thus, we have\n",
    "$$\n",
    "\\gamma \\frac{dx}x + \\frac{dy}y = 0.\n",
    "$$\n",
    "In other words, the pool increases in $x$ by the percentage $\\frac{dx}{x}$ while simultaneously decreases in $y$ by the percentage $\\frac{dy}{y} = \\gamma \\frac{dx}{x}$"
   ]
  },
  {
   "cell_type": "markdown",
   "id": "6cac6dcb",
   "metadata": {},
   "source": [
    "Consider the trader trades the risky asset $x$ against AMM at the percentage rate $u_t$, i.e., $\\frac{dx_t}{x_t} = u_t dt$. Note that from AMM's viewpoint, $u_t > 0$ when the trader sells and $u_t < 0$ when the trader buys. It follows from the argument in the cell above that \n",
    "\n",
    "$$\n",
    "\\frac{dy_t}{y_t} = \\left(-\\gamma u_t^+ + \\frac1\\gamma u_t^- \\right) dt\n",
    "$$\n",
    "\n",
    "where $u^+ = \\max\\{u, 0\\}$ and $u^- = \\max\\{-u, 0\\}$.\n",
    "\n",
    "#### Note\n",
    "- We shall regard $u_t = u_t^+ - u_t^-$ as the control variable hereafter. In fact, we may, and shall, regard $u_t^+$ and $u_t^-$ as two control variables satisfying $u^+ \\geq 0$, $u^- \\geq 0$ and $u^+ u^- = 0$."
   ]
  },
  {
   "cell_type": "markdown",
   "id": "79d363bf",
   "metadata": {},
   "source": [
    "## Liquidity\n",
    "\n",
    "Note that in the case with transaction cost, as opposed to the case of without transaction cost, the liquidity $L$ will also change when trader trades since\n",
    "\n",
    "$$\n",
    "\\frac{dL_t}{L_t} = \\frac{dx_t}{x_t} + \\frac{dy_t}{y_t} = \\left(u_t - \\gamma u_t^+ + \\frac1\\gamma u_t^- \\right) dt = \\left\\{(1 - \\gamma) u_t^+ + \\left(\\frac1\\gamma - 1\\right) u_t^- \\right\\} dt\n",
    "$$\n",
    "\n",
    "Thus, \n",
    "- if $u_t > 0$, liquidity $L$ goes up by $(1 - \\gamma)u_t^+$ percentage \n",
    "- if $u_t < 0$, liquidity $L$ goes up by $(\\frac1\\gamma - 1)u_t^-$ percentage\n",
    "- Either case, liquidity increases"
   ]
  },
  {
   "cell_type": "markdown",
   "id": "bdafec8b",
   "metadata": {},
   "source": [
    "## Pool price\n",
    "\n",
    "The pool price $P_t = \\frac{y_t}{x_t}$ satisfies\n",
    "\n",
    "$$\n",
    "\\frac{dP_t}{P_t} = \\frac{dy_t}{y_t} - \\frac{dx_t}{x_t} = \\left(-\\gamma u_t^+ + \\frac1\\gamma u_t^- - u_t \\right) dt\n",
    "= \\left\\{-(1 + \\gamma) u_t^+ + \\left(\\frac1\\gamma + 1\\right) u_t^- \\right\\} dt\n",
    "$$\n",
    "\n",
    "Thus, \n",
    "- if $u_t > 0$, pool price $P$ goes down by $(1 + \\gamma)u_t^+$ percentage, per unit time.\n",
    "- if $u_t < 0$, pool price $P$ goes up by $(\\frac1\\gamma + 1)u_t^-$ percentage\n",
    "- Either case, trader's trading amplifies the movement (market impact) of pool price."
   ]
  },
  {
   "cell_type": "markdown",
   "id": "bc455cae",
   "metadata": {},
   "source": [
    "## Infinitesimal exchange rate \n",
    "\n",
    "We shall refer to the quantity $\\frac{dy}{dx}$ as the *infinitesimal exchange rate*. \n",
    "Note that\n",
    "- when the trader sells (i.e., $u>0$), since \n",
    "$$\n",
    "d(x^\\gamma y) = \\gamma x^{\\gamma-1} y dx + x^\\gamma dy = 0.\n",
    "$$\n",
    "we have\n",
    "$$\n",
    "\\frac{dy}{dx} = \\gamma \\frac yx = \\gamma P\n",
    "$$\n",
    "i.e., the infinitesimal exchange rate is smaller than the pool price by the factor of $\\gamma$.\n",
    "\n",
    "- on the other hand, when the trader buys (i.e., $u<0$), since \n",
    "$$\n",
    "d(x y^\\gamma) = \\gamma y^{\\gamma-1} x dy + y^\\gamma dx = 0.\n",
    "$$\n",
    "we have\n",
    "$$\n",
    "\\frac{dy}{dx} = \\frac1\\gamma \\frac yx = \\frac1\\gamma P\n",
    "$$\n",
    "i.e., the infinitesimal exchange rate is greater than the pool price by the factor of $\\frac1\\gamma$."
   ]
  },
  {
   "cell_type": "markdown",
   "id": "98f3199a",
   "metadata": {},
   "source": [
    "## Trader's arbitrage opportunity\n",
    "\n",
    "Let $S_t$ be the (exogenous) reference price. \n",
    "\n",
    "Assume that the trader trades with an external market at price $S_t$ at time $t$ by the amount $dx_t$. Up to time $T$, the monetary value of his position in the risky asset is given by \n",
    "\n",
    "$$\n",
    "\\int_0^T S_t dx_t = \\int_0^T S_t x_t u_t dt\n",
    "$$\n",
    "\n",
    "On the other hand, if the trader trades with AMM at time $t$ at the infinitesimal exchange rate $\\frac{dy}{dx}$ by the amount of $dx_t$, then cumulatively up to the investment horizon $T$, his position is given by\n",
    "\n",
    "$$\n",
    "\\int_0^T \\frac{dy_t}{dx_t} dx_t = \\int_0^T \\left(\\gamma P_t u_t^+ + \\frac1\\gamma P_t u_t^- \\right) x_t u_t dt\n",
    "$$"
   ]
  },
  {
   "cell_type": "markdown",
   "id": "fdc87a58",
   "metadata": {},
   "source": [
    "## Control problem\n",
    "\n",
    "To exploit the price discrepancy, the trader seeks to maximize his overall P&L: \n",
    "\n",
    "\\begin{eqnarray*}\n",
    "&& \\int_0^T \\left\\{ S_t - \\gamma P_t u_t^+ - \\frac1\\gamma P_t u_t^-  \\right\\} x_t u_t dt \\\\\n",
    "&=& \\int_0^T \\left\\{ S_t - \\gamma P_t u_t^+ \\right\\} x_t u_t^+ dt + \\int_0^T \\left\\{ S_t - \\frac1\\gamma P_t u_t^-  \\right\\} x_t u_t^- dt \\\\\n",
    "&=& \\int_0^T \\left\\{ \\left( S_t y_t - \\gamma x_t u_t^+ \\right) u_t^+ + \\left( S_t y_t - \\frac1\\gamma x_t u_t^-  \\right) u_t^- \\right\\} dt\n",
    "\\end{eqnarray*}\n",
    "\n",
    "subject to \n",
    "\n",
    "\\begin{eqnarray*}\n",
    "&& \\frac{dx_t}{x_t} = u_t dt = (u_t^+ - u_t^-)dt \\\\\n",
    "&& \\frac{dy_t}{y_t} = \\left(-\\gamma u_t^+ + \\frac1\\gamma u_t^- \\right) dt\n",
    "\\end{eqnarray*}"
   ]
  },
  {
   "cell_type": "markdown",
   "id": "dc93c40e",
   "metadata": {},
   "source": [
    "## Value function\n",
    "\n",
    "Conditioned on the $\\sigma$-algebra generated by $S_t$ and let $V$ be the value function \n",
    "\n",
    "$$\n",
    "V(t, x, y) = \\max_{u^+, u^-} \\int_t^T \\left\\{ \\left( S_\\tau y_\\tau - \\gamma x_\\tau u_\\tau^+ \\right) u_\\tau^+ + \\left( S_\\tau y_\\tau - \\frac1\\gamma x_\\tau u_\\tau^-  \\right) u_\\tau^- \\right\\} d\\tau\n",
    "$$\n"
   ]
  },
  {
   "cell_type": "markdown",
   "id": "9355646d",
   "metadata": {},
   "source": [
    "## HJB equation\n",
    "\n",
    "$V$ satisfies the following HJB equation\n",
    "\n",
    "$$\n",
    "V_t + \\max_{u^+, u^-} \\left\\{ (u^+ - u^-)xV_x + \\left( -\\gamma u^+ + \\frac1\\gamma u^- \\right) yV_y + \\left( S_t y - \\gamma x u^+ \\right) u^+ + \\left( S_t y - \\frac1\\gamma x u^-  \\right) u^- \\right\\} = 0\n",
    "$$\n",
    "\n",
    "with terminal condition $V(T, x, y) = 0$. Recall that $u^+, u^-$ must satisfy $u^+ \\geq 0$, $u^- \\geq 0$ and $u^+ u^- = 0$."
   ]
  },
  {
   "cell_type": "markdown",
   "id": "99a36b94",
   "metadata": {},
   "source": [
    "Note that the maximization part can be expressed as \n",
    "\n",
    "\\begin{eqnarray*}\n",
    "&& \\max\\left\\{ \\max_{u^+ \\geq 0} \\left\\{ - \\gamma x (u^+)^2 + \\left(xV_x - \\gamma y V_y + S_t y\\right) u^+ \\right\\}, \n",
    "\\max_{u^- \\geq  0} \\left\\{ - \\frac x\\gamma (u^-)^2 + \\left(-xV_x + \\frac y\\gamma V_y + S_t y\\right) u^- \\right\\} \\right\\}\n",
    "\\end{eqnarray*}"
   ]
  },
  {
   "cell_type": "markdown",
   "id": "6a59e03b",
   "metadata": {},
   "source": [
    "Furthermore, \n",
    "\n",
    "\\begin{eqnarray*}\n",
    "&& \\max_{u^+ \\geq 0} \\left\\{ - \\gamma x (u^+)^2 + \\left(xV_x - \\gamma y V_y + S_t y\\right) u^+ \\right\\} \\\\\n",
    "&=& \\max\\left\\{\\frac{\\left(xV_x - \\gamma y V_y + S_t y\\right)^2}{4\\gamma x}, 0 \\right\\}\n",
    "\\end{eqnarray*}\n",
    "\n",
    "and \n",
    "\n",
    "$$\n",
    "u_t^+ = \\max\\left\\{\\frac{xV_x - \\gamma y V_y + S_t y}{2\\gamma x},  0 \\right\\}\n",
    "$$"
   ]
  },
  {
   "cell_type": "markdown",
   "id": "5da1097d",
   "metadata": {},
   "source": [
    "On the other hand, \n",
    "\\begin{eqnarray*}\n",
    "&& \\max_{u^- \\geq  0} \\left\\{ - \\frac x\\gamma (u^-)^2 + \\left(-xV_x + \\frac y\\gamma V_y + S_t y\\right) u^- \\right\\} \\\\\n",
    "&=& \\max\\left\\{ \\frac{\\left(-xV_x + \\frac y\\gamma V_y + S_t y\\right)^2}{4\\frac x\\gamma}, 0 \\right\\} \\\\\n",
    "&=& \\max\\left\\{\\frac1{4\\gamma x}\\left(-\\gamma xV_x + y V_y + \\gamma S_t y\\right)^2, 0 \\right\\}\n",
    "\\end{eqnarray*}\n",
    "\n",
    "and \n",
    "\n",
    "$$\n",
    "u^- = \\max\\left\\{ \\frac{-\\gamma xV_x + yV_y + \\gamma S_t y}{2x}, 0\\right\\}\n",
    "$$"
   ]
  },
  {
   "cell_type": "markdown",
   "id": "e1278d2c",
   "metadata": {},
   "source": [
    "## <font color=blue>Question: </font>\n",
    "\n",
    "- Can we show that, under optimal trading percentage rate $u$, the pool price $P_t$ satisfies $\\gamma S_t \\leq P_t \\leq \\frac1\\gamma S_t$ for all $t$ and that $P_t$ evolves only at the two  boundary points. \n",
    "- If not, what is the dynamic for $P_t$, and its relation to $S_t$, under optimal rate $u$? "
   ]
  }
 ],
 "metadata": {
  "celltoolbar": "Slideshow",
  "kernelspec": {
   "display_name": "Python 3",
   "language": "python",
   "name": "python3"
  },
  "language_info": {
   "codemirror_mode": {
    "name": "ipython",
    "version": 3
   },
   "file_extension": ".py",
   "mimetype": "text/x-python",
   "name": "python",
   "nbconvert_exporter": "python",
   "pygments_lexer": "ipython3",
   "version": "3.8.2"
  },
  "varInspector": {
   "cols": {
    "lenName": 16,
    "lenType": 16,
    "lenVar": 40
   },
   "kernels_config": {
    "python": {
     "delete_cmd_postfix": "",
     "delete_cmd_prefix": "del ",
     "library": "var_list.py",
     "varRefreshCmd": "print(var_dic_list())"
    },
    "r": {
     "delete_cmd_postfix": ") ",
     "delete_cmd_prefix": "rm(",
     "library": "var_list.r",
     "varRefreshCmd": "cat(var_dic_list()) "
    }
   },
   "types_to_exclude": [
    "module",
    "function",
    "builtin_function_or_method",
    "instance",
    "_Feature"
   ],
   "window_display": false
  }
 },
 "nbformat": 4,
 "nbformat_minor": 5
}
