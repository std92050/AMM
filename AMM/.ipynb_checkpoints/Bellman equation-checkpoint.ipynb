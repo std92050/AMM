{
 "cells": [
  {
   "cell_type": "code",
   "execution_count": 1,
   "id": "7ed75624",
   "metadata": {
    "tags": []
   },
   "outputs": [],
   "source": [
    "import numpy as np\n",
    "import matplotlib.pyplot as plt\n",
    "import sympy as sym"
   ]
  },
  {
   "cell_type": "markdown",
   "id": "c509ef49",
   "metadata": {},
   "source": [
    "Let $N \\in \\mathbb{N} $ , consider the Bellman equation :\n",
    "$$\n",
    "V(n) = \\begin{cases}\n",
    "A(n) \\big[ V(n+N+1) + f_X(n) \\big] + B(n) \\big[  V(n-1) + S(n) f_Y(n) \\big] \n",
    "& \\text{if} \\; 0< n \\leq N \n",
    "\\\\\n",
    "A(n) \\big[ V(n+1) + f_X(n) \\big] + B(n) \\big[  V(n-N) + S(n) f_Y(n) \\big]\n",
    "& \\text{if} \\; N+1 \\leq n < 2N+1 \n",
    "\\end{cases}\n",
    "$$\n",
    "or in the matrix form : ($0 <n_1 \\leq N$ , $N+1 \\leq n < 2N+1$)\n",
    "$$\n",
    "\\begin{pmatrix}\n",
    "V(0) \\\\\n",
    "\\vdots \\\\\n",
    "V(n_1) \\\\\n",
    "\\vdots \\\\\n",
    "V(n_2) \\\\\n",
    "\\vdots \\\\\n",
    "V(2N+1)\n",
    "\\end{pmatrix}\n",
    "=\n",
    "\\begin{pmatrix}\n",
    "1      &    0    & \\ldots &   0   &  \\ldots&   0    & 0 \\\\\n",
    "\\vdots \\\\\n",
    "  0    & \\ldots  &  \\overbrace{B(n)}^{n_1-1\\; \\text{th column}} & \\ldots & \n",
    "  \\overbrace{A(n)}^{n_1 +N+1 \\;\\text{th column} } & \\ldots & 0 \\\\ \n",
    "\\vdots \\\\\n",
    "  0    & \\ldots  &  \\ldots &  \\overbrace{B(n)}^{n_2-N\\; \\text{th column}} &\n",
    " \\ldots &  \\overbrace{A(n)}^{n_2+1 \\;\\text{th column} } &  0 \\\\ \n",
    "\\vdots \\\\\n",
    "  0    &    0    &  0    &   0    &  0  &   0     &  1 \n",
    "\\end{pmatrix}\n",
    "\\begin{pmatrix}\n",
    "V(0) \\\\\n",
    "\\vdots \\\\\n",
    "V(n_1) \\\\\n",
    "\\vdots \\\\\n",
    "V(n_2) \\\\\n",
    "\\vdots \\\\\n",
    "V(2N+1)\n",
    "\\end{pmatrix}\n",
    "+\n",
    "\\begin{pmatrix}\n",
    "0\\\\\n",
    "\\vdots \\\\\n",
    "A(n_1)  f_X(n_1) + B(n_1) S(n_1) f_Y(n_1) \\\\\n",
    "\\vdots \\\\\n",
    "A(n_2)  f_X(n_2) + B(n_2) S(n_2) f_Y(n_2) \\\\\n",
    "\\vdots \\\\\n",
    "0\n",
    "\\end{pmatrix}\n",
    "$$\n",
    "and the boundary conditions :\n",
    "$$\n",
    "V(2N) = W_u \\quad , \\quad V(1) = W_l\n",
    "$$"
   ]
  },
  {
   "cell_type": "code",
   "execution_count": 2,
   "id": "a61ac744",
   "metadata": {
    "tags": []
   },
   "outputs": [],
   "source": [
    "def Matrix(N,A,B):\n",
    "    Matrix = np.zeros((2*N+2,2*N+2))\n",
    "   \n",
    "    # rows 0 ~ 2N+1 \n",
    "    for n in range(2*N+1):\n",
    "        #boundary\n",
    "        if n == 0 :\n",
    "            Matrix[n,0] = 1\n",
    "\n",
    "        elif n == 2*N +1 :\n",
    "            Matrix[n,2*N+1] = 1\n",
    "        \n",
    "        \n",
    "        elif n > 0 and n <= N :\n",
    "            \n",
    "            #columns 0 ~ 2N+1\n",
    "            for m in range(2*N):\n",
    "                if m == n-1:\n",
    "                    Matrix[n,m] = B(n)\n",
    "                elif m== n+N:\n",
    "                    Matrix[n,m] = A(n)\n",
    "        elif n > N and n <= 2*N :\n",
    "            \n",
    "            #columns 0 ~ 2N+1\n",
    "            for m in range(2*N):\n",
    "                if m == n-N:\n",
    "                    Matrix[n,m] = B(n)\n",
    "                elif m== n+1:\n",
    "                    Matrix[n,m] = A(n)\n",
    "    return Matrix\n"
   ]
  },
  {
   "cell_type": "code",
   "execution_count": 3,
   "id": "f1e449de",
   "metadata": {
    "tags": []
   },
   "outputs": [],
   "source": [
    "def V(N,A,B,S,f_X,f_Y):\n",
    "    Matrix = Matrix(N,A,B) -np.identity(2*N+0)\n",
    "    vector = - (A * f_X + B * S * f_Y )\n",
    "    return np.linalg.solve(Matrix , vector)"
   ]
  },
  {
   "cell_type": "markdown",
   "id": "205e3250-452e-4147-8ba0-a7f213b45245",
   "metadata": {},
   "source": [
    "## Computation of $A(n)$ and $B(n)$"
   ]
  },
  {
   "cell_type": "markdown",
   "id": "eaf54bd7",
   "metadata": {
    "jp-MarkdownHeadingCollapsed": true,
    "tags": []
   },
   "source": [
    "### Formula check\n",
    "Compute $\\mathbb{E}_{(S^*,M)}(e^{-r\\tau} \\; ; \\; S^*_\\tau = S^*_0 e^\\delta) $\n",
    "and $\\mathbb{E}_{(S^*,M)}(e^{-r\\tau} \\; ; \\; S^*_\\tau = S^*_0 e^{-\\delta} )$ with $\\tau = \\{ n \\geq 0 \\mid S^*_n \\neq S^*_0\\}$\n",
    "or equivalently $ \\mathbb{E}_{x}(e^{-r\\tau} \\; ; \\; X_\\tau =  k+1)$ and $ \\mathbb{E}_{x}(e^{-r\\tau} \\; ; \\; X_\\tau =(k+1))$  with \n",
    "$\\tau = \\{ n \\geq 0 \\mid X_n = k+1 \\; \\text{or} \\; -(k+1) \\}$ and $x \\notin \\{ -(k+1) , (k+1)\\}$. The idea is to choose $a>0$ s.t $\\{ e^{aX_n \\; - \\; r \\tau} \\}_{n \\geq 0}$ is a martingale w.r.t\n",
    "$ \\{ \\mathcal{F}_n \\}_{n \\geq 0} \\equiv \\{ \\sigma(X_k \\; ; \\; k \\leq n) \\}_{ n \\geq 0}$  . By some computation we get two solutions:\n",
    "$$\n",
    "a_\\pm = \\log( \\frac{e^r \\pm \\sqrt{e^{2r} -4p(1-p) }}{2p})\n",
    "$$ \n",
    "Using the property of martingale , we can solve the linear equations :\n",
    "$$\n",
    "\\begin{align*}\n",
    " \\mathbb{E}_{x}( e^{a_\\pm X_0}) = e^{a_\\pm x} = \\mathbb{E}_{x}( e^{aX_\\tau \\; - \\; r \\tau}) \n",
    " = e^{(k+1)a_\\pm } \\; \\mathbb{E}_{x}( e^{aX_\\tau \\; - \\; r \\tau}  \\; ; \\; X_\\tau = k+1 ) +\n",
    " e^{ -(k+1)a_\\pm } \\; \\mathbb{E}_{x}( e^{aX_\\tau \\; - \\; r \\tau}  \\; ; \\; X_\\tau = -k-1 ) \n",
    "\\end{align*}\n",
    "$$"
   ]
  },
  {
   "cell_type": "code",
   "execution_count": 9,
   "id": "496992b1",
   "metadata": {
    "tags": []
   },
   "outputs": [],
   "source": [
    "# check martingale computation\n",
    "k = sym.symbols('k')\n",
    "X = sym.symbols('X')\n",
    "r = sym.symbols('r')\n",
    "p = sym.symbols('p')\n",
    "a = sym.symbols('a')\n",
    "a_p = sym.log( (sym.exp(r) + sym.sqrt( sym.exp(2*r) -4*p*(1-p) )  )/(2*p)  )\n",
    "a_m = sym.log( (sym.exp(r) - sym.sqrt( sym.exp(2*r) -4*p*(1-p)  ) )/(2*p)  )\n",
    "L = sym.exp(-r)*( p*sym.exp(a*(X+1)-r*k ) +  (1-p)*sym.exp(a*(X-1)-r*k )             )\n",
    "R = sym.exp( a*X - r*k)\n",
    "#result = Conditional - Exact"
   ]
  },
  {
   "cell_type": "code",
   "execution_count": 5,
   "id": "236a9dc6",
   "metadata": {
    "tags": []
   },
   "outputs": [
    {
     "data": {
      "text/plain": [
       "(0, 0)"
      ]
     },
     "execution_count": 5,
     "metadata": {},
     "output_type": "execute_result"
    }
   ],
   "source": [
    "sym.simplify(L.subs(a,a_p)/R.subs(a,a_p))-1 , sym.simplify(L.subs(a,a_m)/R.subs(a,a_m))-1"
   ]
  },
  {
   "cell_type": "code",
   "execution_count": 11,
   "id": "6f71430b",
   "metadata": {
    "tags": []
   },
   "outputs": [],
   "source": [
    "x = sym.symbols('x')\n",
    "theta = sym.exp(a*x)\n",
    "theta_p = theta.subs(a,a_p)\n",
    "theta_m = theta.subs(a,a_m)\n",
    "A = (theta_p.subs(x,x+k+1) - theta_m.subs(x,x+k+1) )/(\n",
    "    theta_p.subs(x,2*(k+1)) - theta_m.subs(x,2*(k+1))\n",
    ")\n",
    "B = ( theta_p.subs(x,x-k-1)- theta_m.subs(x,x-k-1) )/(\n",
    "    theta_p.subs(x,-2*k-2)- theta_m.subs(x,-2*k-2)\n",
    ")"
   ]
  },
  {
   "cell_type": "code",
   "execution_count": 12,
   "id": "d0109fac",
   "metadata": {
    "tags": []
   },
   "outputs": [
    {
     "data": {
      "text/latex": [
       "$\\displaystyle 0$"
      ],
      "text/plain": [
       "0"
      ]
     },
     "execution_count": 12,
     "metadata": {},
     "output_type": "execute_result"
    }
   ],
   "source": [
    "sym.simplify(A*theta_p.subs(x,k+1) + B*theta_p.subs(x,-k-1) -theta_p) "
   ]
  },
  {
   "cell_type": "code",
   "execution_count": 88,
   "id": "0eb74b26",
   "metadata": {},
   "outputs": [
    {
     "data": {
      "text/latex": [
       "$\\displaystyle 0$"
      ],
      "text/plain": [
       "0"
      ]
     },
     "execution_count": 88,
     "metadata": {},
     "output_type": "execute_result"
    }
   ],
   "source": [
    "sym.simplify(A*theta_m.subs(x,k+1) + B*theta_m.subs(x,-k-1) -theta_m)"
   ]
  },
  {
   "cell_type": "markdown",
   "id": "57d1b559-bdb4-4519-a118-cf5c575779b0",
   "metadata": {},
   "source": [
    "$$\n",
    "A = \\frac{ e^{a_+ ( x+k+1 )} - e^{a_- ( x+k+1 )} }{ e^{a_+ ( 2k+2 )} -  e^{a_- ( 2k+2 )}}\n",
    "\\qquad\n",
    "B = \\frac{ e^{a_+ ( x-k-1 )} - e^{a_- ( x-k-1 )} }{ e^{a_+ ( -2k-2 )} -  e^{a_- ( -2k-2 )}}\n",
    "$$"
   ]
  },
  {
   "cell_type": "markdown",
   "id": "6e5d1126-3e77-4bd9-9062-c62893994327",
   "metadata": {
    "tags": []
   },
   "source": [
    "### Numerical computation"
   ]
  },
  {
   "cell_type": "code",
   "execution_count": 8,
   "id": "33821011",
   "metadata": {
    "tags": []
   },
   "outputs": [],
   "source": [
    "#return the index of given state\n",
    "def index(Sp,Sl,Su,M,N,k):\n",
    "    if M != (k or -k):\n",
    "        print(\"only left and right endpoints\")\n",
    "        else:\n",
    "            if Sp < Sl or Sp > Su:\n",
    "                \n",
    "            else:\n",
    "                print(\"outside of given boundary\")\n",
    "            \n",
    "#return the state of given index\n",
    "def state(n,N,k):\n",
    "    if n <= N :\n",
    "        return ( n , -k)\n",
    "    elif n >= N+1 :\n",
    "        return (n-N , k)\n",
    "\n",
    "def a_p(r,p,k):\n",
    "    return np.log( ( np.exp(r)  np.sqrt(np.exp(2*r) -4*p*(1-p) )  )/(2*p) )\n",
    "def a_m(r,p,k):\n",
    "    return np.log( (np.exp(r) - np.sqrt(np.exp(2*r) -4*p*(1-p) ) )/(2*p))\n",
    "def theta(a,x):\n",
    "    return np.exp(a*x)"
   ]
  },
  {
   "cell_type": "code",
   "execution_count": 28,
   "id": "ff82711e-2721-4fc6-981d-f063e6008540",
   "metadata": {
    "tags": []
   },
   "outputs": [],
   "source": [
    "def A(n,N,r,p,k):\n",
    "    a_p = a_p(r,p,k)\n",
    "    a_m = a_m(r,p,k)\n",
    "    if n > 0 and n < 2*N+1 :\n",
    "        M = state(n,N,k)[1]\n",
    "        return ( theta(a_p , M+k+1) - theta(a_m , M+k+1) )/(  theta(a_p , 2*k+2 ) - theta(a_m , 2*k+2 ) )\n",
    "    else:\n",
    "        return 0\n",
    "def B(n,N,r,p,k):\n",
    "    a_p = a_p(r,p,k)\n",
    "    a_m = a_m(r,p,k)\n",
    "    if n > 0 and n < 2*N+1 :\n",
    "        M = state(n,N,k)\n",
    "        return ( theta(a_p , M-k-1) - theta(a_m , M-k-1) )/(  theta(a_p , -2*k-2 ) - theta(a_m , -2*k-2 ) )\n",
    "    else:\n",
    "        return 0"
   ]
  },
  {
   "cell_type": "code",
   "execution_count": null,
   "id": "a001f7dc-8d5a-4bbc-a0af-d1eeff03429b",
   "metadata": {},
   "outputs": [],
   "source": [
    "#fee from X\n",
    "def f_X(Pa,Pb,L,gamma,n,N,k):\n",
    "     Sp , M = state(n,N,k)\n",
    "    \n",
    "    #state is outside of position range or given boundary\n",
    "    if Pa > Sp or Pb < = Sp or n== 0 or n==2*N+1:\n",
    "        return 0\n",
    "    \n",
    "    #state is inside of position range\n",
    "    else:\n",
    "        \n",
    "        #state is at left endpoint\n",
    "        if  n>0 and n <= N :\n",
    "            Sp_new = np.exp( state( n+N+1 ,N,k)[0] )\n",
    "        \n",
    "        #state is at right endpoint\n",
    "        elif n> N and n <  2*N+1 :\n",
    "            Sp_new = np.exp( state( n+1 ,N,k)[0] )\n",
    "        return L*(1-gamma)/gamma *( np.sqrt(  Sp_new  ) - np.sqrt( Sp ))\n",
    "#fee from Y    \n",
    "def f_Y(Pa,Pb,L,gamma,n,N,k):\n",
    "     Sp , M = state(n,N,k)\n",
    "    \n",
    "    #state is outside of position range or given boundary\n",
    "    if Pa >= Sp or Pb < Sp or n== 0 or n==2*N+1:\n",
    "        return 0\n",
    "    \n",
    "    #state is inside of position range\n",
    "    else:\n",
    "        #state is at left endpoint\n",
    "        if  n>0 and n <= N :\n",
    "            Sp_new = np.exp( state( n-1 ,N,k)[0] )\n",
    "            \n",
    "        #state is at right endpoint\n",
    "        if n> N and n <  2*N+1 :\n",
    "            Sp_new = np.exp( state( n-N-1 ,N,k)[0] )\n",
    "        return L*(1-gamma)/gamma *( 1/np.sqrt(  Sp_new  ) - 1/np.sqrt( Sp ))      "
   ]
  },
  {
   "cell_type": "code",
   "execution_count": null,
   "id": "9ec40f4e-b651-4674-b58a-04bbf648903a",
   "metadata": {},
   "outputs": [],
   "source": [
    "#without scaling assumption\n",
    "def fee_collecting( P_a,P_b , gamma ,  L , S_p_old , S_p_new , S_m_new ):\n",
    "    A = max(S_p_old , P_a)\n",
    "    B = min(S_p_old , P_b)\n",
    "    fee = 0\n",
    "    if S_p_old < P_b :\n",
    "        if S_p_new > A :\n",
    "            \n",
    "            fee = L*(1-gamma)/gamma *( np.sqrt( min( S_p_new , P_b) ) - np.sqrt( A ))\n",
    "            print(\"forward fee\" , fee)\n",
    "            \n",
    "    if S_p_old > P_a :\n",
    "        if S_p_new < B :\n",
    "            fee = L*(1-gamma)/gamma *S_m_new*( 1/np.sqrt( max( S_p_new , P_a) ) - 1/np.sqrt( B ))\n",
    "            print(\"backward fee\" , fee)\n",
    "    return fee"
   ]
  },
  {
   "cell_type": "code",
   "execution_count": null,
   "id": "9e29bda2-97df-457f-97ba-dbac6862cc69",
   "metadata": {
    "tags": []
   },
   "outputs": [],
   "source": []
  },
  {
   "cell_type": "code",
   "execution_count": null,
   "id": "7980a90d-e808-429f-a3ca-77035f5d1a21",
   "metadata": {},
   "outputs": [],
   "source": []
  }
 ],
 "metadata": {
  "kernelspec": {
   "display_name": "Python 3 (ipykernel)",
   "language": "python",
   "name": "python3"
  },
  "language_info": {
   "codemirror_mode": {
    "name": "ipython",
    "version": 3
   },
   "file_extension": ".py",
   "mimetype": "text/x-python",
   "name": "python",
   "nbconvert_exporter": "python",
   "pygments_lexer": "ipython3",
   "version": "3.10.9"
  }
 },
 "nbformat": 4,
 "nbformat_minor": 5
}
