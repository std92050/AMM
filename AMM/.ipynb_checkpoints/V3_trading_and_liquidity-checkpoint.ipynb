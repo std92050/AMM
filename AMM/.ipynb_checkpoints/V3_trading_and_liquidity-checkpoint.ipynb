{
 "cells": [
  {
   "cell_type": "code",
   "execution_count": null,
   "id": "8fc1497e-c549-4c64-abb3-7175a171f48f",
   "metadata": {
    "tags": []
   },
   "outputs": [],
   "source": [
    "import numpy as np\n",
    "import matplotlib.pyplot as plt\n",
    "from ipynb.fs.full.V3_reward_simulation import *"
   ]
  },
  {
   "cell_type": "markdown",
   "id": "6792c71b-b16c-4ae0-a9ee-180c1a65bb59",
   "metadata": {},
   "source": [
    "## Trading\n",
    "In this note, we discuss the idea of trading behind Uniswap V3. Given $S^* \\in I_i$ and $\\bar{S}^* \\in I_k$ with\n",
    "$l \\leq k$ and $0 < S^* \\leq \\bar{S}^*$, we use the notations $(x_i,y_i)=R_3(I_i,L_i,S^*)$, $(x_k,y_k)=R_3(I_i,L_i,\\bar{S}^*)$, $(0,y^*_j) = R_3(I_j,L_j,P_{j})$, $(x^*_j,0) = R_3(I_j,L_j,P_{j+1})$ for\n",
    "$i\\leq j\\leq k$ and define the following quantities:\n",
    "\\begin{itemize}\n",
    "    \\item \\textbf{Amount of $Y$ reserves} between \n",
    "    $S^*$ and $\\bar{S}^*$: $r_Y(S^* , \\bar{S}^*) \\equiv y_i+\\sum^{k-1}_{j=i+1}y^*_j +\n",
    "    y^*_k - y_k$\n",
    "    \n",
    "    \\item \\textbf{Amount of $X$ reserves} between\n",
    "     $S^*$ and $\\bar{S}^*$: $r_X(S^*, \\bar{S}^*) \\equiv x_k+ \\sum^{k-1}_{j=i+1}y^*_j+ x^*_i-x_i $\n",
    "\\end{enumerate}\n",
    "The summation vanishes if $k=i$."
   ]
  },
  {
   "cell_type": "code",
   "execution_count": null,
   "id": "df0b6569-c0bb-41c3-9d5e-383b2391e35b",
   "metadata": {
    "tags": []
   },
   "outputs": [],
   "source": [
    "%run \"V3 reward simulation.ipynb\""
   ]
  },
  {
   "cell_type": "code",
   "execution_count": null,
   "id": "2d1913cc-6f67-4334-8d85-f0754710e268",
   "metadata": {},
   "outputs": [],
   "source": []
  },
  {
   "cell_type": "code",
   "execution_count": null,
   "id": "1377618b-51da-46af-9751-7106c081e0f3",
   "metadata": {},
   "outputs": [],
   "source": []
  },
  {
   "cell_type": "code",
   "execution_count": null,
   "id": "94e79c17-f519-4d20-b6a6-fd0b9a39cbae",
   "metadata": {},
   "outputs": [],
   "source": []
  }
 ],
 "metadata": {
  "kernelspec": {
   "display_name": "Python 3 (ipykernel)",
   "language": "python",
   "name": "python3"
  },
  "language_info": {
   "codemirror_mode": {
    "name": "ipython",
    "version": 3
   },
   "file_extension": ".py",
   "mimetype": "text/x-python",
   "name": "python",
   "nbconvert_exporter": "python",
   "pygments_lexer": "ipython3",
   "version": "3.10.9"
  }
 },
 "nbformat": 4,
 "nbformat_minor": 5
}
