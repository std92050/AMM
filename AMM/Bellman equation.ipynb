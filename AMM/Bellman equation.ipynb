{
 "cells": [
  {
   "cell_type": "code",
   "execution_count": 2,
   "id": "211e3bc8",
   "metadata": {},
   "outputs": [],
   "source": [
    "import numpy as np\n",
    "import matplotlib.pyplot as plt"
   ]
  },
  {
   "cell_type": "markdown",
   "id": "dc5ea7ad",
   "metadata": {},
   "source": [
    "Let $N \\in \\mathbb{N} $ , consider the Bellman equation :\n",
    "$$\n",
    "V(n) = \\begin{cases}\n",
    "A(n) \\big[ V(n+N) + f_X(n) \\big] + B(n) \\big[  V(n-1) + S(n) f_Y(n) \\big] \n",
    "& \\text{if} \\; 0< n \\leq N \n",
    "\\\\\n",
    "A(n) \\big[ V(n+1) + f_X(n) \\big] + B(n) \\big[  V(n-N) + S(n) f_Y(n) \\big]\n",
    "& \\text{if} \\; N+1 \\leq n < 2N+1 \n",
    "\\end{cases}\n",
    "$$\n",
    "or in the matrix form :\n",
    "$$\n",
    "\\begin{pmatrix}\n",
    "V(1) \\\\\n",
    "\\vdots \\\\\n",
    "V(n_1) \\\\\n",
    "\\vdots \\\\\n",
    "V(n_2) \\\\\n",
    "\\vdots \\\\\n",
    "V(2N)\n",
    "\\end{pmatrix}\n",
    "=\n",
    "\\begin{pmatrix}\n",
    "1      &    0    & \\ldots &   0   &  \\ldots&   0    & 0 \\\\\n",
    "\\vdots \\\\\n",
    "  0    & \\ldots  &  \\overbrace{B(n)}^{n_1-1\\; \\text{th column}} & \\ldots & \n",
    "  \\overbrace{A(n)}^{n_1 +N \\;\\text{th column} } & \\ldots & 0 \\\\ \n",
    "\\vdots \\\\\n",
    "  0    & \\ldots  &  \\ldots &  \\overbrace{B(n)}^{n_2-N\\; \\text{th column}} &\n",
    " \\ldots &  \\overbrace{A(n)}^{n_2+1 \\;\\text{th column} } &  0 \\\\ \n",
    "\\vdots \\\\\n",
    "  0    &    0    &  0    &   0    &  0  &   0     &  1 \n",
    "\\end{pmatrix}\n",
    "\\begin{pmatrix}\n",
    "V(1) \\\\\n",
    "\\vdots \\\\\n",
    "V(n_1) \\\\\n",
    "\\vdots \\\\\n",
    "V(n_2) \\\\\n",
    "\\vdots \\\\\n",
    "V(2N)\n",
    "\\end{pmatrix}\n",
    "+\n",
    "\\begin{pmatrix}\n",
    "0\\\\\n",
    "\\vdots \\\\\n",
    "A(n_1)  f_X(n_1) + B(n_1) S(n_1) f_Y(n_1) \\\\\n",
    "\\vdots \\\\\n",
    "A(n_2)  f_X(n_2) + B(n_2) S(n_2) f_Y(n_2) \\\\\n",
    "\\vdots \\\\\n",
    "0\n",
    "\\end{pmatrix}\n",
    "$$\n",
    "and the boundary conditions :\n",
    "$$\n",
    "V(2N) = W_u \\quad , \\quad V(1) = W_l\n",
    "$$"
   ]
  },
  {
   "cell_type": "code",
   "execution_count": 17,
   "id": "2d059706",
   "metadata": {},
   "outputs": [],
   "source": [
    "def Matrix(N,A,B):\n",
    "    Matrix = np.zeros((2*N+2,2*N+2))\n",
    "   \n",
    "    # rows 0 ~ 2N+1 \n",
    "    for n in range(2*N+1):\n",
    "        #boundary\n",
    "        if n == 0 :\n",
    "            Matrix[n,0] = 1\n",
    "\n",
    "        elif n == 2*N +1 :\n",
    "            Matrix[n,2*N+1] = 1\n",
    "        \n",
    "        \n",
    "        elif n > 0 and n <= N :\n",
    "            \n",
    "            #columns 0 ~ 2N+1\n",
    "            for m in range(2*N):\n",
    "                if m == n-1:\n",
    "                    Matrix[n,m] = B(n)\n",
    "                elif m== n+N:\n",
    "                    Matrix[n,m] = A(n)\n",
    "        elif n > N and n <= 2*N :\n",
    "            \n",
    "            #columns 0 ~ 2N+1\n",
    "            for m in range(2*N):\n",
    "                if m == n-N:\n",
    "                    Matrix[n,m] = B(n)\n",
    "                elif m== n+1:\n",
    "                    Matrix[n,m] = A(n)\n",
    "    return Matrix\n"
   ]
  },
  {
   "cell_type": "code",
   "execution_count": 16,
   "id": "0ea13e9c",
   "metadata": {},
   "outputs": [],
   "source": [
    "def V(N,A,B,S,f_X,f_Y):\n",
    "    Matrix = Matrix(N,A,B) -np.identity(2*N+0)\n",
    "    vector = - (A * f_X + B * S * f_Y )\n",
    "    return np.linalg.solve(Matrix , vector)"
   ]
  },
  {
   "cell_type": "code",
   "execution_count": null,
   "id": "c87d82f0",
   "metadata": {},
   "outputs": [],
   "source": [
    "A = np.array([1,0.8,0.3])\n",
    "S = np.array([2*k])\n",
    "V(1, A,A-0.01,)"
   ]
  },
  {
   "cell_type": "code",
   "execution_count": null,
   "id": "286e6efb",
   "metadata": {},
   "outputs": [],
   "source": []
  }
 ],
 "metadata": {
  "kernelspec": {
   "display_name": "Python 3 (ipykernel)",
   "language": "python",
   "name": "python3"
  },
  "language_info": {
   "codemirror_mode": {
    "name": "ipython",
    "version": 3
   },
   "file_extension": ".py",
   "mimetype": "text/x-python",
   "name": "python",
   "nbconvert_exporter": "python",
   "pygments_lexer": "ipython3",
   "version": "3.7.16"
  }
 },
 "nbformat": 4,
 "nbformat_minor": 5
}
