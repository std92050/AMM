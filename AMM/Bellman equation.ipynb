{
 "cells": [
  {
   "cell_type": "code",
   "execution_count": 1,
   "metadata": {},
   "outputs": [],
   "source": [
    "import numpy as np\n",
    "import matplotlib.pyplot as plt\n",
    "import sympy as sym"
   ]
  },
  {
   "cell_type": "markdown",
   "metadata": {},
   "source": [
    "Let $N \\in \\mathbb{N} $ , consider the Bellman equation :\n",
    "$$\n",
    "V(n) = \\begin{cases}\n",
    "A(n) \\big[ V(n+N) + f_X(n) \\big] + B(n) \\big[  V(n-1) + S(n) f_Y(n) \\big] \n",
    "& \\text{if} \\; 0< n \\leq N \n",
    "\\\\\n",
    "A(n) \\big[ V(n+1) + f_X(n) \\big] + B(n) \\big[  V(n-N) + S(n) f_Y(n) \\big]\n",
    "& \\text{if} \\; N+1 \\leq n < 2N+1 \n",
    "\\end{cases}\n",
    "$$\n",
    "or in the matrix form :\n",
    "$$\n",
    "\\begin{pmatrix}\n",
    "V(1) \\\\\n",
    "\\vdots \\\\\n",
    "V(n_1) \\\\\n",
    "\\vdots \\\\\n",
    "V(n_2) \\\\\n",
    "\\vdots \\\\\n",
    "V(2N)\n",
    "\\end{pmatrix}\n",
    "=\n",
    "\\begin{pmatrix}\n",
    "1      &    0    & \\ldots &   0   &  \\ldots&   0    & 0 \\\\\n",
    "\\vdots \\\\\n",
    "  0    & \\ldots  &  \\overbrace{B(n)}^{n_1-1\\; \\text{th column}} & \\ldots & \n",
    "  \\overbrace{A(n)}^{n_1 +N \\;\\text{th column} } & \\ldots & 0 \\\\ \n",
    "\\vdots \\\\\n",
    "  0    & \\ldots  &  \\ldots &  \\overbrace{B(n)}^{n_2-N\\; \\text{th column}} &\n",
    " \\ldots &  \\overbrace{A(n)}^{n_2+1 \\;\\text{th column} } &  0 \\\\ \n",
    "\\vdots \\\\\n",
    "  0    &    0    &  0    &   0    &  0  &   0     &  1 \n",
    "\\end{pmatrix}\n",
    "\\begin{pmatrix}\n",
    "V(1) \\\\\n",
    "\\vdots \\\\\n",
    "V(n_1) \\\\\n",
    "\\vdots \\\\\n",
    "V(n_2) \\\\\n",
    "\\vdots \\\\\n",
    "V(2N)\n",
    "\\end{pmatrix}\n",
    "+\n",
    "\\begin{pmatrix}\n",
    "0\\\\\n",
    "\\vdots \\\\\n",
    "A(n_1)  f_X(n_1) + B(n_1) S(n_1) f_Y(n_1) \\\\\n",
    "\\vdots \\\\\n",
    "A(n_2)  f_X(n_2) + B(n_2) S(n_2) f_Y(n_2) \\\\\n",
    "\\vdots \\\\\n",
    "0\n",
    "\\end{pmatrix}\n",
    "$$\n",
    "and the boundary conditions :\n",
    "$$\n",
    "V(2N) = W_u \\quad , \\quad V(1) = W_l\n",
    "$$"
   ]
  },
  {
   "cell_type": "code",
   "execution_count": 2,
   "metadata": {},
   "outputs": [],
   "source": [
    "def Matrix(N,A,B):\n",
    "    Matrix = np.zeros((2*N+2,2*N+2))\n",
    "   \n",
    "    # rows 0 ~ 2N+1 \n",
    "    for n in range(2*N+1):\n",
    "        #boundary\n",
    "        if n == 0 :\n",
    "            Matrix[n,0] = 1\n",
    "\n",
    "        elif n == 2*N +1 :\n",
    "            Matrix[n,2*N+1] = 1\n",
    "        \n",
    "        \n",
    "        elif n > 0 and n <= N :\n",
    "            \n",
    "            #columns 0 ~ 2N+1\n",
    "            for m in range(2*N):\n",
    "                if m == n-1:\n",
    "                    Matrix[n,m] = B(n)\n",
    "                elif m== n+N:\n",
    "                    Matrix[n,m] = A(n)\n",
    "        elif n > N and n <= 2*N :\n",
    "            \n",
    "            #columns 0 ~ 2N+1\n",
    "            for m in range(2*N):\n",
    "                if m == n-N:\n",
    "                    Matrix[n,m] = B(n)\n",
    "                elif m== n+1:\n",
    "                    Matrix[n,m] = A(n)\n",
    "    return Matrix\n"
   ]
  },
  {
   "cell_type": "code",
   "execution_count": 3,
   "metadata": {},
   "outputs": [],
   "source": [
    "def V(N,A,B,S,f_X,f_Y):\n",
    "    Matrix = Matrix(N,A,B) -np.identity(2*N+0)\n",
    "    vector = - (A * f_X + B * S * f_Y )\n",
    "    return np.linalg.solve(Matrix , vector)"
   ]
  },
  {
   "cell_type": "markdown",
   "metadata": {},
   "source": [
    "## Computation of $A(n)$ and $B(n)$\n",
    "Compute $\\mathbb{E}_{(S^*,M)}(e^{-r\\tau} \\; ; \\; S^*_\\tau = S^*_0 e^\\delta) $\n",
    "and $\\mathbb{E}_{(S^*,M)}(e^{-r\\tau} \\; ; \\; S^*_\\tau = S^*_0 e^{-\\delta} )$"
   ]
  },
  {
   "cell_type": "code",
   "execution_count": 63,
   "metadata": {},
   "outputs": [],
   "source": [
    "# check martingale computation\n",
    "k = sym.symbols('k')\n",
    "X = sym.symbols('X')\n",
    "r = sym.symbols('r')\n",
    "p = sym.symbols('p')\n",
    "d = sym.symbols('delta')\n",
    "a = sym.symbols('a')\n",
    "a_p = sym.log( (sym.exp(r) + sym.sqrt( sym.exp(2*r) -4*p*(1-p) )  )/(2*p)  )/d\n",
    "a_m = sym.log( (sym.exp(r) - sym.sqrt( sym.exp(2*r) -4*p*(1-p)  ) )/(2*p)  )/d\n",
    "L = sym.exp(-r)*( p*sym.exp(a*(X+d)-r*k ) + \n",
    "             (1-p)*sym.exp(a*(X-d)-r*k )                          )\n",
    "R = sym.exp( a*X - r*k)\n",
    "#result = Conditional - Exact"
   ]
  },
  {
   "cell_type": "code",
   "execution_count": 70,
   "metadata": {},
   "outputs": [
    {
     "data": {
      "text/plain": [
       "(0, 0)"
      ]
     },
     "execution_count": 70,
     "metadata": {},
     "output_type": "execute_result"
    }
   ],
   "source": [
    "sym.simplify(L.subs(a,a_p)/R.subs(a,a_p))-1 , sym.simplify(L.subs(a,a_m)/R.subs(a,a_m))-1"
   ]
  },
  {
   "cell_type": "code",
   "execution_count": 76,
   "metadata": {},
   "outputs": [],
   "source": [
    "x = sym.symbols('x')\n",
    "theta = sym.exp(a*x)\n",
    "theta_p = theta.subs(a,a_p)\n",
    "theta_m = theta.subs(a,a_m)\n",
    "A = (theta_p.subs(x,x+k+1) - theta_m.subs(x,x+k+1) )/(\n",
    "    theta_p.subs(x,2*(k+1)) - theta_m.subs(x,2*(k+1))\n",
    ")\n",
    "B = ( theta_p.subs(x,x-k-1)- theta_m.subs(x,x-k-1) )/(\n",
    "    theta_p.subs(x,-2*k-2)- theta_m.subs(x,-2*k-2)\n",
    ")"
   ]
  },
  {
   "cell_type": "code",
   "execution_count": 87,
   "metadata": {},
   "outputs": [
    {
     "data": {
      "text/latex": [
       "$\\displaystyle 0$"
      ],
      "text/plain": [
       "0"
      ]
     },
     "execution_count": 87,
     "metadata": {},
     "output_type": "execute_result"
    }
   ],
   "source": [
    "sym.simplify(A*theta_p.subs(x,k+1) + B*theta_p.subs(x,-k-1) -theta_p) "
   ]
  },
  {
   "cell_type": "code",
   "execution_count": 88,
   "metadata": {},
   "outputs": [
    {
     "data": {
      "text/latex": [
       "$\\displaystyle 0$"
      ],
      "text/plain": [
       "0"
      ]
     },
     "execution_count": 88,
     "metadata": {},
     "output_type": "execute_result"
    }
   ],
   "source": [
    "sym.simplify(A*theta_m.subs(x,k+1) + B*theta_m.subs(x,-k-1) -theta_m)"
   ]
  },
  {
   "cell_type": "code",
   "execution_count": null,
   "metadata": {},
   "outputs": [],
   "source": [
    "def enumerate(n,N,k):\n",
    "    if "
   ]
  }
 ],
 "metadata": {
  "kernelspec": {
   "display_name": "Python 3",
   "language": "python",
   "name": "python3"
  },
  "language_info": {
   "codemirror_mode": {
    "name": "ipython",
    "version": 3
   },
   "file_extension": ".py",
   "mimetype": "text/x-python",
   "name": "python",
   "nbconvert_exporter": "python",
   "pygments_lexer": "ipython3",
   "version": "3.6.4"
  }
 },
 "nbformat": 4,
 "nbformat_minor": 5
}
