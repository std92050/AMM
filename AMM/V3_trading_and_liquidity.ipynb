{
 "cells": [
  {
   "cell_type": "code",
   "execution_count": 1,
   "id": "8fc1497e-c549-4c64-abb3-7175a171f48f",
   "metadata": {
    "tags": []
   },
   "outputs": [],
   "source": [
    "import numpy as np\n",
    "import matplotlib.pyplot as plt"
   ]
  },
  {
   "cell_type": "markdown",
   "id": "6792c71b-b16c-4ae0-a9ee-180c1a65bb59",
   "metadata": {},
   "source": [
    "## Trading in V3\n",
    "In this note, we discuss the idea of trading behind Uniswap V3. Given $S^* \\in I_i$ and $\\bar{S}^* \\in I_k$ with\n",
    "$l \\leq k$ and $0 < S^* \\leq \\bar{S}^*$, we use the notations $(x_i,y_i)=R_3(I_i,L_i,S^*)$, $(x_k,y_k)=R_3(I_i,L_i,\\bar{S}^*)$, $(0,y^*_j) = R_3(I_j,L_j,P_{j})$, $(x^*_j,0) = R_3(I_j,L_j,P_{j+1})$ for\n",
    "$i\\leq j\\leq k$ and define the following quantities:\n",
    "- **Amount of $Y$ reserves** between \n",
    "    $S^*$ and $\\bar{S}^*$: $r_Y(S^* , \\bar{S}^*) \\equiv y_i+\\sum^{k-1}_{j=i+1}y^*_j +y^*_k - y_k$\n",
    "- **Amount of $X$ reserves** between\n",
    "     $S^*$ and $\\bar{S}^*$: $r_X(S^*, \\bar{S}^*) \\equiv x_k+ \\sum^{k-1}_{j=i+1}x^*_j+ x^*_i-x_i $\n",
    "\n",
    "The summation vanishes if $k=i$. One can write the liquidity as a step function of the pool price:\n",
    "- $$L(S^*) \\equiv \\sum^\\infty_{i=0} L_i I_{[P_i,P_{i+1}\\;]}(S^*)$$\n",
    "Then when $S^* \\in [P_i , P_{i+1}]$, the reserves on that tick can be expressed as integrals:\n",
    "- $$ x_i = L_i( \\sqrt{S^*} - \\sqrt{P}_i) = \\int_{P_i}^{S^*} \\frac{1}{2} L(t)t^{\\frac{3}{2}} dt$$\n",
    "- $$ y_i = L_i( \\frac{1}{\\sqrt{S^*}} - \\frac{1}{\\sqrt{P}_{i+1})} \n",
    "= \\int_{S^*}^{P_{i+1}} \\frac{1}{2} L(t)t^{-\\frac{3}{2}} dt$$\n",
    "Same for the quantities we defined above:\n",
    "- $$r_X(S^* , \\bar{S}^*) = \\int_{S^*}^{\\bar{S}^*} \\frac{1}{2} L(t)t^{\\frac{3}{2}} dt$$\n",
    "- $$r_Y(S^* , \\bar{S}^*) = \\int_{S^*}^{\\bar{S}^*} \\frac{1}{2} L(t)t^{-\\frac{3}{2}} dt$$"
   ]
  },
  {
   "cell_type": "markdown",
   "id": "e9c86e64-cbc2-4dde-bbf8-588b8c7c5418",
   "metadata": {},
   "source": [
    "### Code\n",
    "\n",
    "Parameters:\n",
    "- ```S_pool```: The current pool price.\n",
    "- ```tick_array```: An array that consists of tick prices. We expected it to be bounded away from zero.\n",
    "\n",
    "Functions:\n",
    "- ```activated_tick_index```: Given the current pool price, return the index of the tick where it locates. When the pool price equals to one of the tick price, choose the larger index (e.g $S^* = P_i$ , returns $i$)."
   ]
  },
  {
   "cell_type": "code",
   "execution_count": 17,
   "id": "6e480306-4cb3-4e8e-995e-f5e59effda6d",
   "metadata": {},
   "outputs": [],
   "source": [
    "def activated_tick_index(S_pool,tick_array):\n",
    "    left, right = 0, len(tick_array) - 1\n",
    "    while left <= right:\n",
    "        mid = left + (right - left) // 2\n",
    "\n",
    "        if tick_array[mid] <= S_pool < tick_array[mid + 1]:\n",
    "            return mid  \n",
    "        elif S_pool < tick_array[mid]:\n",
    "            right = mid - 1\n",
    "        else:\n",
    "            left = mid + 1\n",
    "\n",
    "    return -1  "
   ]
  },
  {
   "cell_type": "markdown",
   "id": "14c20d73-17d4-450c-ae52-278de38ad765",
   "metadata": {},
   "source": [
    "Parameters:\n",
    "- ```S_pool_0```: Lower pool price for computing $r_X$ and $r_Y$.\n",
    "- ```S_pool_1```: Upper pool price for computing $r_X$ and $r_Y$.\n",
    "- ```L_array```: An array that consists of the liquidity on each tick (corresponding to ```tick_array```). \n",
    "\n",
    "Functions:\n",
    "- ```r_X```: Compute the amount of $X$ reserves between two given prices.\n",
    "- ```r_Y```: Compute the amount of $Y$ reserves between two given prices."
   ]
  },
  {
   "cell_type": "code",
   "execution_count": 17,
   "id": "c797926c-b3e4-4f14-b790-6fb4bd37e2fe",
   "metadata": {},
   "outputs": [],
   "source": [
    "def r_X(S_pool_0 , S_pool_1,L_array,tick_array):\n",
    "    if S_pool_0 > S_pool_1:\n",
    "        print(\"error!first argument should be smaller than the second!\")\n",
    "    if max(S_pool_0 , S_pool_1) > tick_array[-1]:\n",
    "        print(\"error!outside of tick range!\")\n",
    "    index_0= activated_tick_index(S_pool_0,tick_array)\n",
    "    index_1= activated_tick_index(S_pool_1,tick_array)\n",
    "    \n",
    "    if index_0 ==-1 or index_1 ==-1:\n",
    "        print(\"error!outside of tick range!\")\n",
    "    amount =0\n",
    "    for i in range(index_0 ,index_1+1):\n",
    "        if i == index_0:\n",
    "            amount+=L_array[i]*(np.sqrt(tick_array[i+1]-np.sqrt(S_pool_0) ))\n",
    "        elif i == index_1:\n",
    "            amount+= L_array[i]*( np.sqrt(S_pool_1) - np.sqrt(tick_array[i])  ) \n",
    "        else:\n",
    "            amount+=L_array[i]*( np.sqrt(tick_array[i+1]) - np.sqrt(tick_array[i])  )\n",
    "    return amount\n",
    "\n",
    "def r_Y(S_pool_0 , S_pool_1,L_array,tick_array):\n",
    "    if S_pool_0 > S_pool_1:\n",
    "        print(\"error!first argument should be smaller than the second!\")\n",
    "    if max(S_pool_0 , S_pool_1) > tick_array[-1]:\n",
    "        print(\"error!outside of price range!\")\n",
    "    index_0= activated_tick_index(S_pool_0,tick_array)\n",
    "    index_1= activated_tick_index(S_pool_1,tick_array)\n",
    "    \n",
    "    if index_0 ==-1 or index_1 ==-1:\n",
    "        print(\"error!outside of tick range!\")\n",
    "    amount =0\n",
    "    for i in range(index_0 ,index_1+1):\n",
    "        if i == index_0:\n",
    "            amount+=L_array[i]*(1/np.sqrt(S_pool_0) - 1/np.sqrt(tick_array[i+1]) )\n",
    "        elif i == index_1:\n",
    "            amount+= L_array[i]*( 1/np.sqrt(tick_array[i]) - 1/np.sqrt(tick_array[i+1]) )  \n",
    "        else:\n",
    "            amount+=L_array[i]*( np.sqrt(tick_array[i]) - np.sqrt(S_pool_1)  )\n",
    "    return amount"
   ]
  },
  {
   "cell_type": "markdown",
   "id": "958e104a-c59a-4f4a-b8e3-11effb44568b",
   "metadata": {},
   "source": [
    "Parameters:\n",
    "- ```delta_y```: The amount of asset $Y$ the trader wants to sell/buy. When the input is positive, the trader sells $Y$ to the pool. And when it is negative, the trader buys $Y$ from the pool.\n",
    "- ```gamma```:fee constant in $ (0,1) $. \n",
    "- ```S_pool_ini```: The initial pool price when the trade is conducted.\n",
    "\n",
    "Functions:\n",
    "- ```trade```: Return a tuple consists of the amount of asset $X$ the trader receives/pays from the trade and the pool price after trade."
   ]
  },
  {
   "cell_type": "code",
   "execution_count": 17,
   "id": "39456145-b48b-49e5-9058-c912ed1d137e",
   "metadata": {},
   "outputs": [],
   "source": [
    "def trade(delta_y,gamma,S_pool_ini,L_array,tick_array):\n",
    "    if delta_y>=0: #sell Y\n",
    "        if gamma*delta_y > r_Y(tick_array[0], S_pool_ini,L_array,tick_array): #not enough x to pay the trader\n",
    "            S_pool_final = tick_array[0]\n",
    "            print(\"out of X reserves\")\n",
    "        else:    #enough x to pay\n",
    "            sell=gamma*delta_y\n",
    "            index_ini = activated_tick_index(S_pool_ini,tick_array)\n",
    "            i=index_ini \n",
    "            S_pool = S_pool_ini\n",
    "            while sell > 0: #trade tick-by-tick\n",
    "                max_Y = r_Y(tick_array[i], S_pool,L_array,tick_array) #current max amount of Y on the tick                \n",
    "                if sell <= max_Y: \n",
    "                    S_pool_fin=(1/np.sqrt(S_pool)+sell/L_array[i])**(-2)\n",
    "                    break\n",
    "                else: \n",
    "                    sell=sell-max_Y   #receive all X on that tick         \n",
    "                    S_pool = tick_array[i]\n",
    "                    i=i-1          #move to the next tick\n",
    "                if sell<0 or i <0:\n",
    "                    print(\"error\")\n",
    "        return r_X(S_pool_fin,S_pool_ini,L_array,tick_array) , S_pool_fin\n",
    "    \n",
    "    if delta_y<0: #buy y\n",
    "        if delta_y > r_Y(S_pool_ini, tick_array[-1] ,L_array,tick_array): #not enough Y to pay the trader\n",
    "            S_pool_final = tick_array[0]\n",
    "            print(\"out of Y reserves\")\n",
    "        else:    #enough Y to pay\n",
    "            buy=delta_y\n",
    "            index_ini = activated_tick_index(S_pool_ini,tick_array)\n",
    "            i=index_ini \n",
    "            S_pool = S_pool_ini\n",
    "            while buy > 0: #trade tick-by-tick\n",
    "                max_Y = r_Y(S_pool,tick_array[i+1],L_array,tick_array) #current max amount of Y on the tick                \n",
    "                if buy <= max_Y: \n",
    "                    S_pool_fin=(1/np.sqrt(S_pool)- buy/L_array[i])**(-2)\n",
    "                    break\n",
    "                else: \n",
    "                    buy=buy-max_Y  \n",
    "                    S_pool = tick_array[i+1]  \n",
    "                    i=i+1   \n",
    "                if buy<0 or i >len(tick_array)-1:\n",
    "                    print(\"error\")\n",
    "        return gamma*r_X(S_pool_fin,S_pool_ini,L_array,tick_array) , S_pool_fin\n",
    "    "
   ]
  },
  {
   "cell_type": "code",
   "execution_count": null,
   "id": "250720e3-86f4-468e-9f12-158029fc91de",
   "metadata": {},
   "outputs": [],
   "source": []
  }
 ],
 "metadata": {
  "kernelspec": {
   "display_name": "Python 3 (ipykernel)",
   "language": "python",
   "name": "python3"
  },
  "language_info": {
   "codemirror_mode": {
    "name": "ipython",
    "version": 3
   },
   "file_extension": ".py",
   "mimetype": "text/x-python",
   "name": "python",
   "nbconvert_exporter": "python",
   "pygments_lexer": "ipython3",
   "version": "3.10.9"
  }
 },
 "nbformat": 4,
 "nbformat_minor": 5
}
