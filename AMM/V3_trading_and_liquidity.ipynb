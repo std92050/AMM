{
 "cells": [
  {
   "cell_type": "code",
   "execution_count": 1,
   "id": "8fc1497e-c549-4c64-abb3-7175a171f48f",
   "metadata": {
    "tags": []
   },
   "outputs": [],
   "source": [
    "import numpy as np\n",
    "import matplotlib.pyplot as plt"
   ]
  },
  {
   "cell_type": "markdown",
   "id": "6792c71b-b16c-4ae0-a9ee-180c1a65bb59",
   "metadata": {},
   "source": [
    "## Trading\n",
    "In this note, we discuss the idea of trading behind Uniswap V3. Given $S^* \\in I_i$ and $\\bar{S}^* \\in I_k$ with\n",
    "$l \\leq k$ and $0 < S^* \\leq \\bar{S}^*$, we use the notations $(x_i,y_i)=R_3(I_i,L_i,S^*)$, $(x_k,y_k)=R_3(I_i,L_i,\\bar{S}^*)$, $(0,y^*_j) = R_3(I_j,L_j,P_{j})$, $(x^*_j,0) = R_3(I_j,L_j,P_{j+1})$ for\n",
    "$i\\leq j\\leq k$ and define the following quantities:\n",
    "- **Amount of $Y$ reserves** between \n",
    "    $S^*$ and $\\bar{S}^*$: $r_Y(S^* , \\bar{S}^*) \\equiv y_i+\\sum^{k-1}_{j=i+1}y^*_j +y^*_k - y_k$\n",
    "- **Amount of $X$ reserves** between\n",
    "     $S^*$ and $\\bar{S}^*$: $r_X(S^*, \\bar{S}^*) \\equiv x_k+ \\sum^{k-1}_{j=i+1}x^*_j+ x^*_i-x_i $\n",
    "\n",
    "The summation vanishes if $k=i$. One can write the liquidity as a step function of the pool price:\n",
    "- $$L(S^*) \\equiv \\sum^\\infty_{i=0} L_i I_{[P_i,P_{i+1}\\;]}(S^*)$$\n",
    "Then when $S^* \\in [P_i , P_{i+1}]$, the reserves on that tick can be expressed as integrals:\n",
    "- $$ x_i = L_i( \\sqrt{S^*} - \\sqrt{P}_i) = \\int_{P_i}^{S^*} \\frac{1}{2} L(t)t^{\\frac{3}{2}} dt$$\n",
    "- $$ y_i = L_i( \\frac{1}{\\sqrt{S^*}} - \\frac{1}{\\sqrt{P}_{i+1})} \n",
    "= \\int_{S^*}^{P_{i+1}} \\frac{1}{2} L(t)t^{-\\frac{3}{2}} dt$$\n",
    "Same for the quantities we defined above:\n",
    "- $$r_X(S^* , \\bar{S}^*) = \\int_{S^*}^{\\bar{S}^*} \\frac{1}{2} L(t)t^{\\frac{3}{2}} dt$$\n",
    "- $$r_Y(S^* , \\bar{S}^*) = \\int_{S^*}^{\\bar{S}^*} \\frac{1}{2} L(t)t^{-\\frac{3}{2}} dt$$"
   ]
  },
  {
   "cell_type": "code",
   "execution_count": 13,
   "id": "2d1913cc-6f67-4334-8d85-f0754710e268",
   "metadata": {},
   "outputs": [
    {
     "ename": "SyntaxError",
     "evalue": "invalid syntax (1880573563.py, line 49)",
     "output_type": "error",
     "traceback": [
      "\u001b[1;36m  Cell \u001b[1;32mIn[13], line 49\u001b[1;36m\u001b[0m\n\u001b[1;33m    elif i == index_1:\u001b[0m\n\u001b[1;37m    ^\u001b[0m\n\u001b[1;31mSyntaxError\u001b[0m\u001b[1;31m:\u001b[0m invalid syntax\n"
     ]
    }
   ],
   "source": [
    "def activated_tick_index(S_pool,tick_array):\n",
    "    left, right = 0, len(tick_array) - 1\n",
    "    while left <= right:\n",
    "        mid = left + (right - left) // 2\n",
    "\n",
    "        if tick_array[mid] <= S_pool < tick_array[mid + 1]:\n",
    "            return mid  \n",
    "        elif S_pool < tick_array[mid]:\n",
    "            right = mid - 1\n",
    "        else:\n",
    "            left = mid + 1\n",
    "\n",
    "    return -1  \n",
    "\n",
    "def r_X(S_pool_0 , S_pool_1,L_array,tick_array):\n",
    "    if S_pool_0 > S_pool_1:\n",
    "        print(\"error!first argument should be smaller than the second!\")\n",
    "    if max(S_pool_0 , S_pool_1) > tick_array[-1]:\n",
    "        print(\"error!outside of tick range!\")\n",
    "    index_0= activated_tick_index(S_pool_0,tick_array)\n",
    "    index_1= activated_tick_index(S_pool_1,tick_array)\n",
    "    \n",
    "    if index_0 ==-1 or index_1 ==-1:\n",
    "        print(\"error!outside of tick range!\")\n",
    "    amount =0\n",
    "    for i in range(index_0 ,index_1+1):\n",
    "        if i == index_0:\n",
    "            amount+=L_array[i]*(np.sqrt(tick_array[i+1]-np.sqrt(S_pool_0) ))\n",
    "        elif i == index_1:\n",
    "            amount+= L_array[i]*( np.sqrt(S_pool_1) - np.sqrt(tick_array[i])  )\n",
    "        else:\n",
    "            amount+=L_array[i]*( np.sqrt(tick_array[i+1]) - np.sqrt(tick_array[i])  )\n",
    "    return amount\n",
    "\n",
    "def r_Y(S_pool_0 , S_pool_1,L_array,tick_array):\n",
    "    if S_pool_0 > S_pool_1:\n",
    "        print(\"error!first argument should be smaller than the second!\")\n",
    "    if max(S_pool_0 , S_pool_1) > tick_array[-1]:\n",
    "        print(\"error!outside of price range!\")\n",
    "    index_0= activated_tick_index(S_pool_0,tick_array)\n",
    "    index_1= activated_tick_index(S_pool_1,tick_array)\n",
    "    \n",
    "    if index_0 ==-1 or index_1 ==-1:\n",
    "        print(\"error!outside of tick range!\")\n",
    "    amount =0\n",
    "    for i in range(index_0 ,index_1+1):\n",
    "        if i == index_0:\n",
    "            amount+=L_array[i]*(1/np.sqrt(S_pool_0) - 1/np.sqrt(tick_array[i+1])\n",
    "        elif i == index_1:\n",
    "            amount+= L_array[i]*( 1/np.sqrt(tick_array[i] - 1/np.sqrt(tick_array[i+1])  )\n",
    "        else:\n",
    "            amount+=L_array[i]*( np.sqrt(tick_array[i]) - np.sqrt(S_pool_1)  )\n",
    "    return amount\n"
   ]
  },
  {
   "cell_type": "code",
   "execution_count": 6,
   "id": "1377618b-51da-46af-9751-7106c081e0f3",
   "metadata": {},
   "outputs": [
    {
     "data": {
      "text/plain": [
       "4"
      ]
     },
     "execution_count": 6,
     "metadata": {},
     "output_type": "execute_result"
    }
   ],
   "source": [
    "np.arange(5)[-1]"
   ]
  },
  {
   "cell_type": "code",
   "execution_count": 8,
   "id": "94e79c17-f519-4d20-b6a6-fd0b9a39cbae",
   "metadata": {},
   "outputs": [
    {
     "name": "stdout",
     "output_type": "stream",
     "text": [
      "2\n",
      "3\n",
      "4\n"
     ]
    }
   ],
   "source": [
    "for i in range(2,5):\n",
    "    print(i)"
   ]
  },
  {
   "cell_type": "code",
   "execution_count": null,
   "id": "250720e3-86f4-468e-9f12-158029fc91de",
   "metadata": {},
   "outputs": [],
   "source": []
  }
 ],
 "metadata": {
  "kernelspec": {
   "display_name": "Python 3 (ipykernel)",
   "language": "python",
   "name": "python3"
  },
  "language_info": {
   "codemirror_mode": {
    "name": "ipython",
    "version": 3
   },
   "file_extension": ".py",
   "mimetype": "text/x-python",
   "name": "python",
   "nbconvert_exporter": "python",
   "pygments_lexer": "ipython3",
   "version": "3.10.9"
  }
 },
 "nbformat": 4,
 "nbformat_minor": 5
}
