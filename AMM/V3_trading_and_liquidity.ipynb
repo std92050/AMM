{
 "cells": [
  {
   "cell_type": "code",
   "execution_count": 4,
   "id": "8fc1497e-c549-4c64-abb3-7175a171f48f",
   "metadata": {
    "tags": []
   },
   "outputs": [],
   "source": [
    "import numpy as np\n",
    "import matplotlib.pyplot as plt"
   ]
  },
  {
   "cell_type": "markdown",
   "id": "6792c71b-b16c-4ae0-a9ee-180c1a65bb59",
   "metadata": {},
   "source": [
    "## Trading in V3\n",
    "In this note, we discuss the idea of trading behind Uniswap V3. Given $S^* \\in I_i$ and $\\bar{S}^* \\in I_k$ with\n",
    "$l \\leq k$ and $0 < S^* \\leq \\bar{S}^*$, we use the notations $(x_i,y_i)=R_3(I_i,L_i,S^*)$, $(x_k,y_k)=R_3(I_i,L_i,\\bar{S}^*)$, $(0,y^*_j) = R_3(I_j,L_j,P_{j})$, $(x^*_j,0) = R_3(I_j,L_j,P_{j+1})$ for\n",
    "$i\\leq j\\leq k$ and define the following quantities:\n",
    "- **Amount of $Y$ reserves** between \n",
    "    $S^*$ and $\\bar{S}^*$: $r_Y(S^* , \\bar{S}^*) \\equiv y_i+\\sum^{k-1}_{j=i+1}y^*_j +y^*_k - y_k$\n",
    "- **Amount of $X$ reserves** between\n",
    "     $S^*$ and $\\bar{S}^*$: $r_X(S^*, \\bar{S}^*) \\equiv x_k+ \\sum^{k-1}_{j=i+1}x^*_j+ x^*_i-x_i $\n",
    "\n",
    "The summation vanishes if $k=i$. One can write the liquidity as a step function of the pool price:\n",
    "- $$L(S^*) \\equiv \\sum^\\infty_{i=0} L_i I_{[P_i,P_{i+1}\\;]}(S^*)$$\n",
    "Then when $S^* \\in [P_i , P_{i+1}]$, the reserves on that tick can be expressed as integrals:\n",
    "- $$ x_i = L_i( \\sqrt{S^*} - \\sqrt{P}_i) = \\int_{P_i}^{S^*} \\frac{1}{2} L(t)t^{\\frac{3}{2}} dt$$\n",
    "- $$ y_i = L_i( \\frac{1}{\\sqrt{S^*}} - \\frac{1}{\\sqrt{P}_{i+1})} \n",
    "= \\int_{S^*}^{P_{i+1}} \\frac{1}{2} L(t)t^{-\\frac{3}{2}} dt$$\n",
    "Same for the quantities we defined above:\n",
    "- $$r_X(S^* , \\bar{S}^*) = \\int_{S^*}^{\\bar{S}^*} \\frac{1}{2} L(t)t^{\\frac{3}{2}} dt$$\n",
    "- $$r_Y(S^* , \\bar{S}^*) = \\int_{S^*}^{\\bar{S}^*} \\frac{1}{2} L(t)t^{-\\frac{3}{2}} dt$$\n",
    "\n",
    "Buying $\\Delta y >0$ amount of asset $Y$ from the pool can be considered as  a mapping that maps the current pool price $S^*$ to the new pool price $\\bar{S^*}$ that is given by:\n",
    "$$\n",
    "\\bar{S^*} \\equiv \\inf\\{s^*>S^* \\mid r_Y(S^*,s^*)= \\Delta y \\wedge y_{max}\\}\n",
    "=\\begin{cases}\n",
    "    P_{n_{max}}  & \\text{if} \\; \\Delta y \\geq y_{max}\n",
    "    \\\\\n",
    "    \\inf\\{s^*>S^* \\mid r_Y(S^*,s^*)= \\Delta y\\} \n",
    "    & \\text{if} \\; \\Delta y < y_{max}\n",
    "\\end{cases} \n",
    "$$\n",
    "where $y_{max} = r_Y(S^*,P_{n_{max}\\;})$ is the current total amount of $Y$ reserves in the pool and $[P_{n_{max}\\;\\,-1} ,P_{n_{max}\\;}]$ is the right most tick that has nozero liquidity. Similary, selling $\\Delta y >0$ amount of asset $Y$ to the pool\n",
    "pushes the the pool price to $\\bar{S}^*$ given by:\n",
    "$$\n",
    "\\bar{S^*} \\equiv \n",
    "\\sup\\{s^*< \\bar{S}^* \\mid r_Y(s^*,\\bar{S}^*)=\\gamma\\Delta y \\wedge \\bar{y}_{max}\\}\n",
    "=\\begin{cases}\n",
    "    P_{n_{min}}  \n",
    "    & \\text{if} \\;  \\gamma\\Delta y \\geq \\bar{y}_{max}\n",
    "    \\\\\n",
    "    \\sup\\{s^*<\\bar{S}^* \\mid r_Y(s^*,\\bar{S}^*)\\geq \\gamma\\Delta y\\} \n",
    "    & \\text{if} \\; \\gamma\\Delta y=\\bar{y}_{max}\n",
    "\\end{cases} \n",
    "$$\n",
    "where $\\gamma>0$ is the fee constant."
   ]
  },
  {
   "cell_type": "markdown",
   "id": "e9c86e64-cbc2-4dde-bbf8-588b8c7c5418",
   "metadata": {},
   "source": [
    "### Code\n",
    "\n",
    "Parameters:\n",
    "- ```S_pool```: The current pool price.\n",
    "- ```ticks_array```: An array that consists of tick prices $\\{P_i\\}_{i \\geq 0}$ sepcifying all ticks $I_i = [P_i , P_{i+1}]$ that have liquidity. We expected it to be bounded away from zero.\n",
    "\n",
    "Functions:\n",
    "- ```activated_ticks_index```: Given the current pool price, return the index of the tick where it locates. When the pool price equals to one of the tick price, choose the larger index (e.g $S^* = P_i$ , returns $i$)."
   ]
  },
  {
   "cell_type": "code",
   "execution_count": 5,
   "id": "6e480306-4cb3-4e8e-995e-f5e59effda6d",
   "metadata": {},
   "outputs": [],
   "source": [
    "def activated_ticks_index(S_pool,ticks_array):\n",
    "    left, right = 0, len(ticks_array) - 1\n",
    "    while left <= right:\n",
    "        mid = (right + left) // 2\n",
    "        if mid == len(ticks_array) - 1:\n",
    "            if S_pool ==ticks_array[mid]:\n",
    "                return mid\n",
    "            else: #S_pool outside of the given range\n",
    "                break\n",
    "        else:   \n",
    "            if ticks_array[mid] <= S_pool < ticks_array[mid + 1]:\n",
    "                return mid  \n",
    "            elif S_pool < ticks_array[mid]:\n",
    "                right = mid - 1\n",
    "            else:\n",
    "                left = mid + 1\n",
    "    return -1  "
   ]
  },
  {
   "cell_type": "markdown",
   "id": "14c20d73-17d4-450c-ae52-278de38ad765",
   "metadata": {},
   "source": [
    "Parameters:\n",
    "- ```S_pool_0```: Lower pool price for computing $r_X$ and $r_Y$.\n",
    "- ```S_pool_1```: Upper pool price for computing $r_X$ and $r_Y$.\n",
    "- ```L_array```: An array that consists of the liquidity on each tick (corresponding to ```ticks_array```). \n",
    "\n",
    "Functions:\n",
    "- ```r_X```: Compute the amount of $X$ reserves between two given prices.\n",
    "- ```r_Y```: Compute the amount of $Y$ reserves between two given prices."
   ]
  },
  {
   "cell_type": "code",
   "execution_count": 6,
   "id": "c797926c-b3e4-4f14-b790-6fb4bd37e2fe",
   "metadata": {},
   "outputs": [],
   "source": [
    "def r_X(S_pool_0 , S_pool_1 , L_array,ticks_array):\n",
    "    if S_pool_0 > S_pool_1:\n",
    "        print(\"error!first argument should be smaller than the second!\")\n",
    "    index_0= activated_ticks_index(S_pool_0,ticks_array)\n",
    "    index_1= activated_ticks_index(S_pool_1,ticks_array)\n",
    "    if index_0 ==-1 or index_1 ==-1:\n",
    "        print(\"error!outside of tick range!\")\n",
    "        \n",
    "    amount =0\n",
    "    for i in range(index_0 ,index_1+1):\n",
    "        if i == index_0:\n",
    "            amount+=L_array[i]*(np.sqrt(ticks_array[i+1])-np.sqrt(S_pool_0) )\n",
    "        elif i == index_1:\n",
    "            amount+= L_array[i]*( np.sqrt(S_pool_1) - np.sqrt(ticks_array[i])  ) \n",
    "        else:\n",
    "            amount+=L_array[i]*( np.sqrt(ticks_array[i+1]) - np.sqrt(ticks_array[i])  )\n",
    "    return amount\n",
    "\n",
    "def r_Y(S_pool_0 , S_pool_1,L_array,ticks_array):\n",
    "    if S_pool_0 > S_pool_1:\n",
    "        print(\"error!first argument should be smaller than the second!\")\n",
    "\n",
    "    index_0= activated_ticks_index(S_pool_0,ticks_array)\n",
    "    index_1= activated_ticks_index(S_pool_1,ticks_array)\n",
    "    if index_0 ==-1 or index_1 ==-1:\n",
    "        print(\"error!outside of tick range!\")\n",
    "    amount =0\n",
    "    for i in range(index_0 ,index_1+1):\n",
    "        if i == index_0:\n",
    "            amount += L_array[i]*( 1/np.sqrt(S_pool_0) - 1/np.sqrt(ticks_array[i+1]) )\n",
    "        elif i == index_1:\n",
    "            amount += L_array[i]*( 1/np.sqrt(ticks_array[i]) - 1/np.sqrt(S_pool_1)  )\n",
    "        else:\n",
    "            amount += L_array[i]*( 1/np.sqrt(ticks_array[i]) - 1/np.sqrt(ticks_array[i+1]) ) \n",
    "    return amount"
   ]
  },
  {
   "cell_type": "markdown",
   "id": "958e104a-c59a-4f4a-b8e3-11effb44568b",
   "metadata": {},
   "source": [
    "Parameters:\n",
    "- ```delta_y```: The amount of asset $Y$ the trader wants to sell/buy. When the input is positive, the trader sells $Y$ to the pool. And when it is negative, the trader buys $Y$ from the pool.\n",
    "- ```gamma```: The fee constant $ \\gamma \\in (0,1) $. \n",
    "- ```S_pool_ini```: The initial pool price when the trade is conducted.\n",
    "\n",
    "Functions:\n",
    "- ```trade```: Return a tuple consists of the amount of asset $X$ the trader receives/pays from the trade and the pool price after trade."
   ]
  },
  {
   "cell_type": "code",
   "execution_count": 7,
   "id": "39456145-b48b-49e5-9058-c912ed1d137e",
   "metadata": {},
   "outputs": [],
   "source": [
    "def trade(delta_y,gamma,S_pool_ini,L_array,ticks_array):\n",
    "    index_ini = activated_ticks_index(S_pool_ini,ticks_array)\n",
    "    if delta_y>=0: #sell Y\n",
    "        sell=gamma*delta_y\n",
    "        i=index_ini \n",
    "        S_pool = S_pool_ini\n",
    "        while sell > 0: #trade tick-by-tick\n",
    "            if i <0:  #not enough capacity for Y paid by the trader, equivalently , not enough X to pay the trader\n",
    "                S_pool_final = ticks_array[0]\n",
    "                print(\"out of X reserves\")\n",
    "                break\n",
    "            max_Y = r_Y(ticks_array[i], S_pool,L_array,ticks_array) #current max amount(capacity) of Y on the tick                \n",
    "            if sell <= max_Y: #the trade finishes at this tick\n",
    "                S_pool_fin=(1/np.sqrt(S_pool)+sell/L_array[i])**(-2)\n",
    "                break\n",
    "            else: \n",
    "                sell=sell-max_Y   #trader receives all X on that tick         \n",
    "                S_pool = ticks_array[i] #pool price moves to the next tick\n",
    "                i=i-1         \n",
    "    return r_X(S_pool_fin,S_pool_ini,L_array,ticks_array) , S_pool_fin\n",
    "    \n",
    "    if delta_y<0: #buy y\n",
    "        buy= -delta_y\n",
    "        i=index_ini \n",
    "        S_pool = S_pool_ini\n",
    "        while buy > 0: #trade tick-by-tick\n",
    "            if i >=len(ticks_array)-1: #not enough Y to pay the trader\n",
    "                S_pool_final = ticks_array[-1]\n",
    "                print(\"out of Y reserves\")\n",
    "                break\n",
    "            max_Y = r_Y(S_pool,ticks_array[i+1],L_array,ticks_array) #current max amount(reserve) of Y on the tick                \n",
    "            if buy <= max_Y: \n",
    "                S_pool_fin=(1/np.sqrt(S_pool)- buy/L_array[i])**(-2)\n",
    "                break\n",
    "            else: \n",
    "                buy=buy-max_Y  #trader buys all Y on that tick\n",
    "                S_pool = ticks_array[i+1]  \n",
    "                i=i+1   \n",
    "    return gamma*r_X(S_pool_ini,S_pool_fin,L_array,ticks_array) , S_pool_fin\n",
    "    "
   ]
  },
  {
   "cell_type": "markdown",
   "id": "da9e3aa7-c22e-479d-b9be-6c7497d71e88",
   "metadata": {},
   "source": [
    "### Examples"
   ]
  },
  {
   "cell_type": "markdown",
   "id": "e60c3d9e-e8e4-4567-a0c4-7e70d8676972",
   "metadata": {},
   "source": [
    "\n",
    "Let $I_i = [P_i , P_{i+1}] = [1.5^i , 1.5^{i+1}]$ for $i = -10 \\sim 19$ and $L_i = e^{-(\\ln{P_i}-1)^2}$. First we plot the liquidity\n",
    "w.r.t the pool price."
   ]
  },
  {
   "cell_type": "code",
   "execution_count": 26,
   "id": "85eaea1e-7075-41da-9634-f3907d92272d",
   "metadata": {
    "tags": []
   },
   "outputs": [
    {
     "data": {
      "text/plain": [
       "array([0, 1, 2, 3, 4, 5, 6, 7, 8, 9])"
      ]
     },
     "execution_count": 26,
     "metadata": {},
     "output_type": "execute_result"
    }
   ],
   "source": [
    "A = np.arange(10)\n",
    "[ 2*a if a>1 for a in A]"
   ]
  },
  {
   "cell_type": "code",
   "execution_count": 30,
   "id": "877ef4cb-f268-45cb-bd67-7e15215b795f",
   "metadata": {
    "tags": []
   },
   "outputs": [
    {
     "data": {
      "text/plain": [
       "Text(0, 0.5, 'liquidity')"
      ]
     },
     "execution_count": 30,
     "metadata": {},
     "output_type": "execute_result"
    },
    {
     "data": {
      "image/png": "[encoded data removed]",
      "text/plain": [
       "<Figure size 800x400 with 1 Axes>"
      ]
     },
     "metadata": {},
     "output_type": "display_data"
    }
   ],
   "source": [
    "ticks_array=np.array([1.5**i for i in range(-10,20)])\n",
    "index = activated_ticks_index(1,ticks_array)\n",
    "L_array = np.ones_like(ticks_array) \n",
    "L_array[index] = 3\n",
    "L_array[index-1] = 2\n",
    "L_array[index+1] = 2\n",
    "L_array[-1] = 0\n",
    "plt.figure(figsize=(8,4))\n",
    "plt.bar(ticks_array , L_array , width =np.append(np.diff(ticks_array),0),align='edge',ec='black')\n",
    "plt.title(\"liquidity distribution\")\n",
    "plt.xlim(0,40)\n",
    "plt.xlabel(\"pool price\")\n",
    "plt.ylabel(\"liquidity\")"
   ]
  },
  {
   "cell_type": "markdown",
   "id": "666565af-a9a2-4e1c-ba1a-0f551216489a",
   "metadata": {},
   "source": [
    "Next we plot the functions $r_X(S^*_0,\\cdot)$ and $r_Y(S^*_0,\\cdot)$ w.r.t the pool price."
   ]
  },
  {
   "cell_type": "code",
   "execution_count": 32,
   "id": "61111a22-75ce-4435-a372-efe04bc4eb5c",
   "metadata": {
    "tags": []
   },
   "outputs": [
    {
     "data": {
      "text/plain": [
       "<matplotlib.legend.Legend at 0x21bc6527df0>"
      ]
     },
     "execution_count": 32,
     "metadata": {},
     "output_type": "execute_result"
    },
    {
     "data": {
      "image/png": "[encoded data removed]",
      "text/plain": [
       "<Figure size 800x300 with 1 Axes>"
      ]
     },
     "metadata": {},
     "output_type": "display_data"
    }
   ],
   "source": [
    "plt.figure(figsize=(8,3))\n",
    "\n",
    "P_0 =ticks_array[0]\n",
    "P_max = ticks_array[-1]\n",
    "r_X_array = np.array([r_X(P_0 , s , L_array,ticks_array) for s in np.linspace(P_0,P_max,10**4)])\n",
    "r_Y_array = np.array([r_Y(P_0 , s , L_array,ticks_array) for s in np.linspace(P_0,P_max,10**4)])\n",
    "plt.plot(np.linspace(P_0,P_max,10**4),r_X_array,label=\"r_X\")\n",
    "plt.plot(np.linspace(P_0,P_max,10**4),r_Y_array,label=\"r_Y\")\n",
    "plt.xlim(0,100)\n",
    "plt.legend()"
   ]
  },
  {
   "cell_type": "markdown",
   "id": "ff72f3f2-6916-487a-835c-e3495d5186c2",
   "metadata": {},
   "source": [
    "From the above we note that $r_X(S^*_0,\\cdot)$ and $r_Y(S^*_0,\\cdot)$ can be expressed as the integral of some\n",
    "density $$d_X(s^*) = \\frac{1}{2}L(s^*)(s^*)^\\frac{3}{2} \\; , \\; d_Y(s^*) = \\frac{1}{2}L(s^*)(s^*)^{-\\frac{3}{2}}$$"
   ]
  },
  {
   "cell_type": "code",
   "execution_count": 33,
   "id": "c6993dc3-6dde-4203-ac9e-9bd8918b7572",
   "metadata": {
    "tags": []
   },
   "outputs": [
    {
     "data": {
      "text/plain": [
       "[<matplotlib.lines.Line2D at 0x21bc6712e60>]"
      ]
     },
     "execution_count": 33,
     "metadata": {},
     "output_type": "execute_result"
    },
    {
     "data": {
      "image/png": "[encoded data removed]",
      "text/plain": [
       "<Figure size 800x400 with 2 Axes>"
      ]
     },
     "metadata": {},
     "output_type": "display_data"
    }
   ],
   "source": [
    "fig,ax =plt.subplots(2,1,figsize=(8,4))\n",
    "d_X = np.array([1/2*L_array[activated_ticks_index(s,ticks_array)]*s**(3/2) for s in np.linspace(P_0,P_max,10**4)] )\n",
    "d_Y = np.array([1/2*L_array[activated_ticks_index(s,ticks_array)]*s**(-3/2) for s in np.linspace(P_0,P_max,10**4)] )\n",
    "ax[0].plot(np.linspace(P_0,P_max,10**4),d_X)\n",
    "ax[1].plot(np.linspace(P_0,P_max,10**4),d_Y)\n"
   ]
  },
  {
   "cell_type": "code",
   "execution_count": null,
   "id": "a3d6893d-fae7-45b2-9950-b5e242addc57",
   "metadata": {},
   "outputs": [],
   "source": []
  }
 ],
 "metadata": {
  "kernelspec": {
   "display_name": "Python 3 (ipykernel)",
   "language": "python",
   "name": "python3"
  },
  "language_info": {
   "codemirror_mode": {
    "name": "ipython",
    "version": 3
   },
   "file_extension": ".py",
   "mimetype": "text/x-python",
   "name": "python",
   "nbconvert_exporter": "python",
   "pygments_lexer": "ipython3",
   "version": "3.10.9"
  }
 },
 "nbformat": 4,
 "nbformat_minor": 5
}
