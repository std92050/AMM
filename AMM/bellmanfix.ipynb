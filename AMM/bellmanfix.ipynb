{
 "cells": [
  {
   "cell_type": "markdown",
   "id": "af2cb7ce",
   "metadata": {
    "tags": []
   },
   "source": [
    "# Bellman Equation\n",
    "\n",
    "Consider a LP who provide $L>0$ liquidity with the price range $[P_a, P_b]$ a Uniswap V3 pool trading $X$ and $Y$ assets\n",
    "with fee constant $\\gamma$. Suppose there's also a reference market trading the same asset. The market price denoted by \n",
    "$\\{S_n\\}_{n \\geqslant 0}$  ($Y$ w.r.t $X$) follows geometric simple random walk with forward probability $p > 0$ and some step \n",
    "size $\\delta > 0$. And the pool price $\\{S^*_n\\}_{n \\geqslant 0}$ is driven by the arbitrage between market and pool. In the \n",
    "presence of fee, $S^*_n \\in [\\gamma S_n, \\gamma^{-1} S_n]$. Let $M_n = \\ln S_n - \\ln S^*_n$ and choose $\\delta = - \\frac{1}{k} \\ln \\gamma$, we have \n",
    "$$M_n \\in [\\ln \\gamma, \\ln \\gamma^{-1}] = \\{ -k \\delta, \\cdots, k \\delta\\}$$ \n",
    "The pair $(\\ln S^*_n, M_n)$ is a Markov chain which can help us the computation in the later part.\n",
    "\n",
    "\n",
    "Our goal is to numerically compute the expected reward of LP's position stopped when the pool price reach some levels $P_l$ and $P_u$, i.e compute the value function (expected discounted reward)\n",
    "\n",
    "$$\n",
    "V(B, M) = \n",
    "\\mathbb{E}_{( B, M) }\\Bigg\\{ \n",
    "\\sum_{n=0}^{T-1} e^{-rn} [\\underbrace{f_X( B_{n+1}, B_n)}_{\\text{fee paid in X asset}} + \\overbrace{ \n",
    "e^{ B_{n+1}\\,+\\, M_{n+1}\\,\\delta} f_Y( B_{n+1}, B_n) }^{\\text{fee paid in Y asset (market price )}} ] + \\underbrace{e^{-rT}W_T}_{\\text{terminal wealth}}\n",
    "\\Bigg\\}\n",
    "$$\n",
    "\n",
    "where \n",
    "- $B_n = \\ln S^*_n$ logarithm of the pool price. \n",
    "- $ T = \\inf \\{ n \\geqslant 0 \\mid B_n = \\ln P_l \\, \\text{or} \\, \\ln P_u \\}$. \n",
    "- $W_n = X_n + S_n \\cdot Y_n$ wealth of the LP at time $n$ (marke-to-market).\n",
    "- $f_X(B_{n+1}, B_n) = L\\,\\frac{1-\\gamma}{\\gamma}\\big((P_b \\wedge e^{B_{n+1}})^\\frac{1}{2}\\,-\\,(P_a \\vee e^{B_n })^\\frac{1}{2}\\big)\\,I_{\\{ B_{n+1} \\,>\\, B_n \\}\\,\\cap\\,\\{ B_n \\, \\leqslant \\, \\ln P_b\\}} $\n",
    "- $f_Y(B_{n+1}, B_n) = L\\,\\frac{1-\\gamma}{\\gamma} \\big((P_a \\vee e^{B_{n+1}})^{-\\frac{1}{2}} \\, - \\, \n",
    "(P_b \\wedge e^{B_n})^{-\\frac{1}{2}}\\big)\\,I_{\\{ B_{n+1} \\,>\\, B_n \\}\\,\\cap\\,\\{ B_n\\,\\leqslant\\,\\ln P_b\\}} $\n",
    "\n",
    "We define another stopping time $\\tau \\equiv \\{ n \\geqslant 0 \\mid B_n = B_0 \\pm \\delta \\}$, i.e the first time the pool price moves. Then the above can be rewritten as\n",
    "\n",
    "\\begin{multline}\n",
    "V(B, M) = \\mathbb{E}_{(B, M)} \\big[e^{-r \\tau}\\,|\\, B_\\tau = B_0 + \\delta\\big]\\big( V(B +\\delta, k) + f_X(B +\\delta, B) \\big) +\n",
    "\\mathbb{E}_{(B, M)} \\big[e^{-r \\tau} \\,|\\, B_\\tau = B_0 - \\delta\\big]\\big( V(B -\\delta, -k) + e^{B-(k+1)\\delta}f_Y(B-\\delta, B) \\big)\n",
    "\\end{multline}\n",
    "\n",
    "Let $N \\in \\mathbb{N} $ s.t $\\ln P_u  - \\ln P_l = (N+1)\\delta $. \n",
    "We enumerate the states with $M_n = \\pm k \\cdot \\delta $( one can refer to the  digram  in the next cell ). For these states, the above can be further rewritten as\n",
    "\n",
    "$$\n",
    "V(n) = \\begin{cases}\n",
    "A_u(n) \\big[ V(n+N+1) + f_X(n) \\big] + A_d(n) \\big[  V(n-1) + S(n-1) f_Y(n) \\big] \n",
    "& \\text{if} \\, 0< n \\leqslant N \n",
    "\\\\\n",
    "A_u(n) \\big[ V(n+1) + f_X(n) \\big] + A_d(n) \\big[  V(n-N) + S(n-N-1) f_Y(n) \\big]\n",
    "& \\text{if} \\, N+1 \\leqslant n < 2N+1 \n",
    "\\end{cases}\n",
    "$$\n",
    "\n",
    "where \n",
    "* For $ 0 \\leqslant n \\leqslant 2N+1 $, state $n$ corresponding to\n",
    "$$\n",
    "\\begin{cases}\n",
    "( P_l e^{n \\delta}, -k )& \\text{if} \\, 0 \\leqslant n \\leqslant N \\\\\n",
    "( P_l e^{n-(N+1) \\delta}, k) & \\text{if} \\, N+1 \\leqslant n \\leqslant 2N+1 \\\\\n",
    "\\end{cases}\n",
    "$$\n",
    "* $A_u(n)$ corresponds to $\\mathbb{E}_{(B, M)} \\big[ e^{-r \\tau} \\,; \\,  B_\\tau =  B_0 + \\delta \\big] $ \n",
    "* $A_d(n)$ corresponds to $\\mathbb{E}_{(B, M)} \\big[ e^{-r \\tau} \\,; \\,  B_\\tau =   B_0 - \\delta \\big] $\n",
    "* $S(n)$ corresponds to $ e^{ B+ M \\delta}$\n",
    "* $f_X(n)$ corresponds to $f_X(B+\\delta, B)$\n",
    "* $f_Y(n)$ corresponds to $f_Y(B-\\delta, B)$\n",
    "\n",
    "We can also write it in the matrix form ($0 <n_1 \\leqslant N$, $N+1 \\leqslant n_2 < 2N+1$):\n",
    "\n",
    "$$\n",
    "\\scriptsize\\begin{pmatrix}\n",
    "V(0) \\\\\n",
    "\\vdots \\\\\n",
    "V(n_1) \\\\\n",
    "\\vdots \\\\\n",
    "V(n_2) \\\\\n",
    "\\vdots \\\\\n",
    "V(2N+1)\n",
    "\\end{pmatrix}\n",
    "=\n",
    "\\begin{pmatrix}\n",
    "1      &    0    & \\ldots &   0   &  \\ldots&   0    & 0 \\\\\n",
    "\\vdots \\\\\n",
    "  0    & \\ldots  &  \\overbrace{A_d(n_1)}^{n_1-1\\, \\text{th column}} & \\ldots & \n",
    "  \\overbrace{A_u(n_1)}^{n_1  +N+1 \\,\\text{th column} } & \\ldots & 0 \\\\ \n",
    "\\vdots \\\\\n",
    "  0    & \\ldots  &  \\ldots &  \\overbrace{A_d(n_2)}^{n_2-N\\, \\text{th column}} &\n",
    " \\ldots &  \\overbrace{A_u(n_2)}^{n_2+1 \\,\\text{th column} } &  0 \\\\ \n",
    "\\vdots \\\\\n",
    "  0    &    0    &  0    &   0    &  0  &   0     &  1 \n",
    "\\end{pmatrix}\n",
    "\\begin{pmatrix}\n",
    "V(0) \\\\\n",
    "\\vdots \\\\\n",
    "V(n_1) \\\\\n",
    "\\vdots \\\\\n",
    "V(n_2) \\\\\n",
    "\\vdots \\\\\n",
    "V(2N+1)\n",
    "\\end{pmatrix}\n",
    "+\n",
    "\\begin{pmatrix}\n",
    "0\\\\\n",
    "\\vdots \\\\\n",
    "A_u(n_1)  f_X(n_1) + A_d(n_1) S(n_1-1) f_Y(n_1) \\\\\n",
    "\\vdots \\\\\n",
    "A_u(n_2)  f_X(n_2) + A_d(n_2) S(n_2-N-1) f_Y(n_2) \\\\\n",
    "\\vdots \\\\\n",
    "0\n",
    "\\end{pmatrix}\n",
    "\\qquad (*)\n",
    "$$\n",
    "\n",
    "with boundary conditions\n",
    "\n",
    "$$\n",
    "\\begin{align*}\n",
    "V(2N+1) \n",
    "&= W_u \n",
    "\\equiv L( \\sqrt{ (P_b \\wedge P_u) \\vee P_a } - \\sqrt{P_a} ) + \n",
    "L P_u e^{k\\delta}( \\frac{1}{ \\sqrt{ (P_b \\wedge P_u) \\vee P_a } }     - \\frac{1}{\\sqrt{P_b}}  )\n",
    "\\\\\n",
    "V(0) \n",
    "&=W_l \n",
    "\\equiv L( \\sqrt{ (P_b \\wedge P_l) \\vee P_a } - \\sqrt{P_a} ) + \n",
    "L P_l e^{-k\\delta}( \\frac{1}{ \\sqrt{ (P_b \\wedge P_l) \\vee P_a } }     - \\frac{1}{\\sqrt{P_b}}  )\n",
    "\\end{align*}\n",
    "$$\n",
    "\n",
    "After knowing the value of $V$ on the indexed states, we can derive the intermediate states by the previous equation. "
   ]
  },
  {
   "cell_type": "code",
   "execution_count": null,
   "id": "f9b7a9b0",
   "metadata": {
    "tags": []
   },
   "outputs": [],
   "source": [
    "# illustration of enumeration\n",
    "#                                                            ●    (Pu,k) --> 2*N+1\n",
    "#                                                            ｜\n",
    "#               N <-- (Pl*exp(N*delta),-k)  ● -------------- ●    (Pl*exp(N*delta),k) --> 2*N\n",
    "#                                           ｜               ｜\n",
    "#                                           ● -------------- ●    (Pl*exp((N-1)*delta),k) --> 2*N-1\n",
    "#                                           ｜               ｜\n",
    "#                                           ● -------------- ●\n",
    "#                                           ｜               ｜\n",
    "#                                           ● -------------- ●\n",
    "#                                           ｜               ｜\n",
    "#                                           ● -------------- ●\n",
    "#                                           ｜               ｜\n",
    "#               2 <-- (Pl*exp(2*delta),-k)  ● -------------- ●\n",
    "#                                           ｜               ｜\n",
    "#               1 <-- (Pl*exp(delta), -k)  ● -------------- ●     (Pl*exp(delta),k) --> N+1\n",
    "#                                           ｜\n",
    "#               0 <-- (Pl,-k)               ●"
   ]
  },
  {
   "cell_type": "markdown",
   "id": "73a541a4",
   "metadata": {},
   "source": [
    "## Computation of $\\scriptsize \\mathbb{E}_{(B, M)} (e^{-r \\tau} \\,; \\, B_\\tau = B_0 - \\delta)$ and $\\scriptsize \\mathbb{E}_{(B, M)}(e^{-r \\tau} \\,; \\, B_\\tau = B_0 + \\delta)$"
   ]
  },
  {
   "cell_type": "markdown",
   "id": "e7cb19a7",
   "metadata": {
    "jp-MarkdownHeadingCollapsed": true,
    "tags": []
   },
   "source": [
    "### Formula check\n",
    "For this part, we compute\n",
    "$\\mathbb{E}_{(B,M)}(e^{-r\\tau} \\,; \\, B_\\tau = B_0 +\\delta) $\n",
    "and $\\mathbb{E}_{(B,M)}(e^{-r\\tau} \\,; \\, B_\\tau = B_0 -\\delta )$ \n",
    "or equivalently let $\\{ X_n\\}_{n \\geqslant 0}$ be a SRW with forward probability $p>0 $ and compute\n",
    "$ \\mathbb{E}_{x}(e^{-r\\tau} \\,; \\, X_\\tau =  k+1)$ and $ \\mathbb{E}_{x}(e^{-r\\tau} \\,; \\, X_\\tau =-(k+1))$  with \n",
    "$\\tau = \\{ n \\geqslant 0 \\mid X_n = k+1 \\, \\text{or} \\, -(k+1) \\}$ and $x \\notin \\{ -(k+1), (k+1)\\}$. We can choose $a>0$ s.t $\\{ e^{aX_n \\, - \\, r \\tau} \\}_{n \\geqslant 0}$ is a martingale w.r.t\n",
    "$ \\{ \\mathcal{F}_n \\}_{n \\geqslant 0} \\equiv \\{ \\sigma(X_k \\,; \\, k \\leqslant n) \\}_{ n \\geqslant 0}$. By some computation we get two solutions:\n",
    "$$\n",
    "a_\\pm = \\log\\Bigg(\\frac{e^r \\pm \\sqrt{e^{2r} -4p(1-p) }}{2p}\\Bigg)  \\qquad (1)\n",
    "$$ \n",
    "\n",
    "Using the property of martingale, we can solve the linear equations :\n",
    "\n",
    "$$\n",
    "\\begin{align*}\n",
    " \\mathbb{E}_{x}( e^{a_\\pm X_0}) = e^{a_\\pm x} = \\mathbb{E}_{x}( e^{a_\\pm X_\\tau \\, - \\, r \\tau}) \n",
    " &=  \\mathbb{E}_{x}( e^{a_\\pm X_\\tau \\, - \\, r \\tau}  \\,; \\, X_\\tau = k+1) \n",
    " +\\mathbb{E}_{x}( e^{a_\\pm X_\\tau \\, - \\, r \\tau}  \\,; \\, X_\\tau = -k-1) \n",
    " \\\\\n",
    " & =\n",
    "  e^{(k+1)a_\\pm } \\, \\mathbb{E}_{x}( e^{ - \\, r \\tau}  \\,; \\, X_\\tau = k+1) \n",
    "+ e^{ -(k+1)a_\\pm } \\, \\mathbb{E}_{x}( e^{ - \\, r \\tau}  \\,; \\, X_\\tau = -k-1) \n",
    "\\end{align*}\n",
    "$$\n",
    "\n",
    "and derive the desired quantity (back to the original notation):\n",
    "\n",
    "\\begin{align*}\n",
    "\\mathbb{E}_{(B,M)} \\big(e^{-r\\tau} \\,; \\, B_\\tau = B_0 +\\delta \\big)\n",
    "=\n",
    "\\frac{  e^{a_+(M+k+1)} - e^{a_-(M+k+1)}  }{ e^{2a_+(k+1) } - e^{2a_-(k+1)}   }  \n",
    "\\quad (2) \\\\\n",
    "\\mathbb{E}_{(B,M)} \\big(e^{-r\\tau} \\,; \\, B_\\tau = B_0 -\\delta \\big)\n",
    "=\n",
    "\\frac{  e^{a_+(M-k-1)} - e^{a_-(M-k-1)}  }{ e^{-2a_+(k+1) } - e^{-2a_-(k+1)}   }\n",
    "\\quad (3)\n",
    "\\end{align*}\n",
    "\n",
    "Note that if $p = \\frac{1}{2}$ and $ r = 0 $, we will get a \n",
    "degenerate root but it's not a big problem since $\\{X_n\\}_{n \\geqslant 0}$ is a martingale and we have:\n",
    "$$\n",
    "\\begin{align*}\n",
    "\\mathbb{E}_{(B,M)} \\big(e^{-r\\tau} \\,; \\, B_\\tau = B_0 + \\delta \\big)\n",
    "&=\n",
    "P_M(X_\\tau = k+1) = \\frac{ M + k + 1}{2(k+1)} \n",
    "\\quad (2^\\star) \n",
    "\\\\\n",
    "\\mathbb{E}_{(B,M)} \\big(e^{-r\\tau} \\,; \\, B_\\tau = B_0 -\\delta \\big)\n",
    "&=\n",
    "P_M(X_\\tau = -k-1) = \\frac{  k + 1 - M }{2(k+1)}\n",
    "\\,\\, (3^\\star)\n",
    "\\end{align*}\n",
    "$$\n",
    "The following part is just verification of the computation of the formula by sympy and can be skipped. "
   ]
  },
  {
   "cell_type": "code",
   "execution_count": null,
   "id": "32099a2c",
   "metadata": {
    "tags": []
   },
   "outputs": [],
   "source": [
    "import sympy as sym\n",
    "\n",
    "# check martingale computation\n",
    "k = sym.symbols(\"k\")\n",
    "X = sym.symbols(\"X\")\n",
    "r = sym.symbols(\"r\")\n",
    "p = sym.symbols(\"p\")\n",
    "a = sym.symbols(\"a\")\n",
    "a_p = sym.log((sym.exp(r) + sym.sqrt(sym.exp(2 * r) - 4 * p * (1 - p))) / (2 * p))\n",
    "a_m = sym.log((sym.exp(r) - sym.sqrt(sym.exp(2 * r) - 4 * p * (1 - p))) / (2 * p))\n",
    "L = sym.exp(-r) * (p * sym.exp(a * (X + 1) - r * k) + (1 - p) * sym.exp(a * (X - 1) - r * k))\n",
    "R = sym.exp(a * X - r * k)\n",
    "# result = Conditional - Exact"
   ]
  },
  {
   "cell_type": "code",
   "execution_count": null,
   "id": "74bc3863",
   "metadata": {
    "tags": []
   },
   "outputs": [],
   "source": [
    "sym.simplify(L.subs(a, a_p) / R.subs(a, a_p)) - 1, sym.simplify(L.subs(a, a_m) / R.subs(a, a_m)) - 1"
   ]
  },
  {
   "cell_type": "code",
   "execution_count": null,
   "id": "b24db403",
   "metadata": {
    "tags": []
   },
   "outputs": [],
   "source": [
    "x = sym.symbols(\"x\")\n",
    "theta = sym.exp(a * x)\n",
    "theta_p = theta.subs(a, a_p)\n",
    "theta_m = theta.subs(a, a_m)\n",
    "A_u = (theta_p.subs(x, x + k + 1) - theta_m.subs(x, x + k + 1)) / (theta_p.subs(x, 2 * (k + 1)) - theta_m.subs(x, 2 * (k + 1)))\n",
    "A_d = (theta_p.subs(x, x - k - 1) - theta_m.subs(x, x - k - 1)) / (theta_p.subs(x, -2 * k - 2) - theta_m.subs(x, -2 * k - 2))"
   ]
  },
  {
   "cell_type": "code",
   "execution_count": null,
   "id": "014de801",
   "metadata": {
    "tags": []
   },
   "outputs": [],
   "source": [
    "sym.simplify(A_u * theta_p.subs(x, k + 1) + A_d * theta_p.subs(x, -k - 1) - theta_p)"
   ]
  },
  {
   "cell_type": "code",
   "execution_count": null,
   "id": "01470e6c",
   "metadata": {},
   "outputs": [],
   "source": [
    "sym.simplify(A_u * theta_m.subs(x, k + 1) + A_d * theta_m.subs(x, -k - 1) - theta_m)"
   ]
  },
  {
   "cell_type": "markdown",
   "id": "7d32d3e0",
   "metadata": {},
   "source": [
    "$$\n",
    "A = \\frac{ e^{a_+( x+k+1 )} - e^{a_-( x+k+1 )} }{ e^{a_+( 2k+2 )} -  e^{a_-( 2k+2 )}}\n",
    "\\qquad\n",
    "B = \\frac{ e^{a_+( x-k-1 )} - e^{a_-( x-k-1 )} }{ e^{a_+( -2k-2 )} -  e^{a_-( -2k-2 )}}\n",
    "$$"
   ]
  },
  {
   "cell_type": "markdown",
   "id": "52024124",
   "metadata": {
    "tags": []
   },
   "source": [
    "## Numerical computation\n",
    "In the following, we use numpy to solve the linear equations above numerically.  "
   ]
  },
  {
   "cell_type": "markdown",
   "id": "36c3e202",
   "metadata": {},
   "source": [
    "### index-to-state\n",
    "This part computes the state of the Markov chain for a given index.\n",
    "\n",
    "Parameters : \n",
    "* ```n``` : index of the state\n",
    "* ```N``` : specify the number of states $2N+1$. By definition $ (N+1) \\delta=  \\ln P_u - \\ln P_l $.\n",
    "* ```k``` : specify the no-arbitrage region $[-k,k]$ (also the state space of $M$).\n",
    "* ```gamma``` : fee constant in $ (0,1) $. \n",
    "* ```ln_Pl``` : logarithm of lower boundary price (normalized by $\\delta$), so it is integer-valued. \n",
    "\n",
    "Functions :\n",
    "* ```state_pool``` : returns  the pool price of given index \n",
    "* ``` state_M ``` : returns the value of $M$ ($k$ or $-k$) of given index.\n"
   ]
  },
  {
   "cell_type": "code",
   "execution_count": 1,
   "id": "58f29fba",
   "metadata": {
    "tags": []
   },
   "outputs": [],
   "source": [
    "import numpy as np\n",
    "import matplotlib.pyplot as plt\n",
    "from matplotlib import cm\n",
    "import scipy as sci\n",
    "import datetime as datetime\n",
    "from numba import jit, config\n",
    "config.DISABLE_JIT =False #True "
   ]
  },
  {
   "cell_type": "code",
   "execution_count": null,
   "id": "1e8b93f9-0303-477d-b914-ba8226982eda",
   "metadata": {
    "tags": []
   },
   "outputs": [],
   "source": []
  },
  {
   "cell_type": "code",
   "execution_count": 2,
   "id": "8798da10",
   "metadata": {
    "tags": []
   },
   "outputs": [],
   "source": [
    "@jit(nopython=True, cache=True)\n",
    "def state_pool(n, N, k, gamma, ln_Pl):\n",
    "    delta = -np.log(gamma) / k\n",
    "    Pl = np.exp(ln_Pl * delta)\n",
    "    if n <= N:\n",
    "        return np.exp(n * delta) * Pl\n",
    "    elif n >= N + 1:\n",
    "        return np.exp((n - N) * delta) * Pl\n",
    "    \n",
    "@jit(nopython=True, cache=True)\n",
    "def state_M(n, N, k):\n",
    "    if n <= N:\n",
    "        return -k\n",
    "    elif n >= N + 1:\n",
    "        return k"
   ]
  },
  {
   "cell_type": "markdown",
   "id": "f2b21a7e",
   "metadata": {},
   "source": [
    "### Gambler's ruin part ($A_u(n)$ and $A_d(n)$ )\n",
    "This part computes $A_u(n)$ and $A_d(n)$ using the formula above. \n",
    "\n",
    "Parameters:\n",
    "* ``` r ``` : discounted interest rate .\n",
    "* ``` p ``` : probability that the market price goes up.\n",
    "\n",
    "Functions:\n",
    "* ``` a_p ``` : returns $a_+$ in formula $(1)$\n",
    "* ``` a_m ``` : returns $a_-$ in formula $(1)$\n",
    "* ``` A_u ``` : returns $A_u(n)$ in formula $(2)$ (or $(2^\\star)$ if $r=0$ and $p=0.5$)\n",
    "* ``` A_d ``` : returns $A_d(n)$ in formula $(3)$ (or $(3^\\star)$ if $r=0$ and $p=0.5$)"
   ]
  },
  {
   "cell_type": "code",
   "execution_count": 4,
   "id": "7c181184",
   "metadata": {
    "tags": []
   },
   "outputs": [],
   "source": [
    "@jit(nopython=True, cache=True)\n",
    "def a_p(r, p, k):\n",
    "    return np.log((np.exp(r) + np.sqrt(np.exp(2 * r) - 4 * p * (1 - p))) / (2 * p))\n",
    "\n",
    "@jit(nopython=True, cache=True)\n",
    "def a_m(r, p, k):\n",
    "    return np.log((np.exp(r) - np.sqrt(np.exp(2 * r) - 4 * p * (1 - p))) / (2 * p))\n",
    "\n",
    "@jit(nopython=True, cache=True)\n",
    "def A_u(n, N, k, r, p):\n",
    "    if n > 0 and n < 2 * N + 1:\n",
    "        M = state_M(n, N, k)\n",
    "\n",
    "        if r == 0 and p == 0.5:\n",
    "            return (M + k + 1) / (2 * (k + 1))\n",
    "\n",
    "        else:\n",
    "            return (np.exp(a_p(r, p, k) * (M + k + 1)) - np.exp(a_m(r, p, k) * (M + k + 1))) / (np.exp(a_p(r, p, k) * (2 * k + 2)) - np.exp(a_m(r, p, k) * (2 * k + 2)))\n",
    "    else:\n",
    "        return 0\n",
    "\n",
    "@jit(nopython=True, cache=True)    \n",
    "def A_d(n, N, k, r, p):\n",
    "    if n > 0 and n < 2 * N + 1:\n",
    "        M = state_M(n, N, k)\n",
    "        if r == 0 and p == 0.5:\n",
    "            return 1 - (M + k + 1) / (2 * (k + 1))\n",
    "        else:\n",
    "            return (np.exp(a_p(r, p, k) * (M - k - 1)) - np.exp(a_m(r, p, k) * (M - k - 1))) / (np.exp(a_p(r, p, k) * (-2 * k - 2)) - np.exp(a_m(r, p, k) * (-2 * k - 2)))\n",
    "    else:\n",
    "        return 0"
   ]
  },
  {
   "cell_type": "markdown",
   "id": "5f831540",
   "metadata": {},
   "source": [
    "### Fee collection part\n",
    "This part computes the fee earned when pool price goes up or down.\n",
    "\n",
    "Parameters:\n",
    "* ```ln_Pa``` : logarithm of LP's lower price range  boundary (normalized ). \n",
    "* ```ln_Pb``` : logarithm of LP's upper price range  boundary (normalized ). \n",
    "* ```L``` : Liquidity invested to pool by LP.\n",
    "\n",
    "Functions:\n",
    "* ```f_X``` : returns the fee earned when pool price goes up starting from the state corresponding to the index $n$.\n",
    "* ```f_Y``` : returns the fee earned when pool price goes down starting from the state corresponding to the index $n$. Here we evalute it using the market price."
   ]
  },
  {
   "cell_type": "code",
   "execution_count": 5,
   "id": "11e8152a",
   "metadata": {
    "tags": []
   },
   "outputs": [],
   "source": [
    "@jit(nopython=True, cache=True)\n",
    "def f_X(n, N, k, ln_Pa, ln_Pb, ln_Pl, L, gamma):\n",
    "    delta = -np.log(gamma) / k\n",
    "\n",
    "    # current pool price\n",
    "    Sp = state_pool(n, N, k, gamma, ln_Pl)\n",
    "\n",
    "    # state is outside of position range or at given boundary\n",
    "    if ln_Pa > np.log(Sp) / delta or ln_Pb <= np.log(Sp) / delta or n == 0 or n == 2 * N + 1:\n",
    "        return 0\n",
    "\n",
    "    # state is inside of position range and boundary\n",
    "    else:\n",
    "        # state is at left endpoint\n",
    "        if n > 0 and n <= N:\n",
    "            Sp_up = state_pool(n + N + 1, N, k, gamma, ln_Pl)\n",
    "\n",
    "        # state is at right endpoint\n",
    "        elif n > N and n < 2 * N + 1:\n",
    "            Sp_up = state_pool(n + 1, N, k, gamma, ln_Pl)\n",
    "        fee = L * (1 - gamma) / gamma * (np.sqrt(Sp_up) - np.sqrt(Sp))\n",
    "        #if fee < 0: print(\"error\")\n",
    "        return fee\n",
    "    \n",
    "@jit(nopython=True, cache=True)\n",
    "def f_Y(n, N, k, ln_Pa, ln_Pb, ln_Pl, L, gamma):\n",
    "    delta = -np.log(gamma) / k\n",
    "\n",
    "    # current state\n",
    "    Sp = state_pool(n, N, k, gamma, ln_Pl)\n",
    "\n",
    "    # state is outside of position range or given boundary\n",
    "    if ln_Pa >= np.log(Sp) / delta or ln_Pb < np.log(Sp) / delta or n == 0 or n == 2 * N + 1:\n",
    "        return 0\n",
    "\n",
    "    # state is inside of position range and boundary\n",
    "    else:\n",
    "        # state is at left endpoint\n",
    "        if n > 0 and n <= N:\n",
    "            Sp_down = state_pool(n - 1, N, k, gamma, ln_Pl)\n",
    "\n",
    "        # state is at right endpoint\n",
    "        if n > N and n < 2 * N + 1:\n",
    "            Sp_down = state_pool(n - N - 1, N, k, gamma, ln_Pl)\n",
    "\n",
    "        # here the fee is evaluted by market price\n",
    "        fee = Sp_down * np.exp(-k * delta) * L * (1 - gamma) / gamma * (1 / np.sqrt(Sp_down) - 1 / np.sqrt(Sp))\n",
    "        #if fee < 0: print(\"error\")\n",
    "        return fee"
   ]
  },
  {
   "cell_type": "markdown",
   "id": "5d1b9a3c",
   "metadata": {},
   "source": [
    "### Wealth part\n",
    "This part computes the wealth of the state.\n",
    "\n",
    "Parameters:\n",
    "* ```P_a``` : LP's lower price range  boundary\n",
    "* ```P_b``` : LP's upper price range  boundary\n",
    "* ```S_p``` : current pool price\n",
    "\n",
    "Functions:\n",
    "* ```position``` : returns a tuple of amount of X and Y wealth for the given pool price and LP price range.\n",
    "* ```wealth``` : returns LP's wealth for the given pool price and LP price range.\n",
    "* ```wealth_enumeration``` : returns LP's wealth for the given index and LP price range.\n"
   ]
  },
  {
   "cell_type": "code",
   "execution_count": 6,
   "id": "696a3b57",
   "metadata": {
    "tags": []
   },
   "outputs": [],
   "source": [
    "# compute the wealth\n",
    "@jit(nopython=True, cache=True)\n",
    "def wealth(P_a, P_b, L, S_p, S_m):\n",
    "    if S_p >= P_a and S_p <= P_b:\n",
    "        X = L * (np.sqrt(S_p) - np.sqrt(P_a))\n",
    "        Y = L * (1 / np.sqrt(S_p) - 1 / np.sqrt(P_b))\n",
    "    elif S_p > P_b:\n",
    "        X = L * (np.sqrt(P_b) - np.sqrt(P_a))\n",
    "        Y = 0\n",
    "    elif S_p < P_a:\n",
    "        X = 0\n",
    "        Y = L * (1 / np.sqrt(P_a) - 1 / np.sqrt(P_b))\n",
    "    return X + S_m * Y\n",
    "\n",
    "@jit(nopython=True, cache=True)\n",
    "def wealth_enumeration(n, N, k, gamma, ln_Pa, ln_Pb, ln_Pl, L):\n",
    "    # state of upper boundary point\n",
    "    delta = -np.log(gamma) / k\n",
    "    M = state_M(n, N, k)\n",
    "    S_p = state_pool(n, N, k, gamma, ln_Pl)\n",
    "    S_m = S_p * np.exp(M * delta)\n",
    "    P_a = np.exp(ln_Pa * delta)\n",
    "    P_b = np.exp(ln_Pb * delta)\n",
    "    return wealth(P_a, P_b, L, S_p, S_m)"
   ]
  },
  {
   "cell_type": "markdown",
   "id": "b160e0eb",
   "metadata": {
    "tags": []
   },
   "source": [
    "### Solution of the Bellman Equation\n",
    "This part solves the linear equation $(*)$ to get the expected reward. \n",
    "\n",
    "Parameters:\n",
    "* ```array_1``` : the array for defining the matrix in equation, it will be $A_u(n)$  for our problem.\n",
    "* ```array_2``` : the array for defining the matrix in equation, it will be $A_d(n)$  for our problem.\n",
    "* ```ln_Pu``` : logarithm of upper boundary  price  (normalized by $\\delta$), so it is interger-valued.\n",
    "\n",
    "Functions:\n",
    "* ```Matrix``` : returns a $2N+2$ by $2N+2$ matrix in the same form as the one in our problem and the components are from the input arrays.\n",
    "* ```V_enum``` : returns a vector with length $2N+2$, each component $V(n)$ is the expected reward starting from the state corresponding to the index $n$. "
   ]
  },
  {
   "cell_type": "code",
   "execution_count": 7,
   "id": "1b57f94c",
   "metadata": {
    "tags": []
   },
   "outputs": [],
   "source": [
    "@jit(nopython=True, cache=True)\n",
    "def Matrix(N, array_1, array_2):\n",
    "    Matrix = np.zeros((2 * N + 2, 2 * N + 2))\n",
    "\n",
    "    # rows 0 ~ 2N+1\n",
    "    for n in range(2 * N + 2):\n",
    "        # lower boundary\n",
    "        if n == 0:\n",
    "            Matrix[n, 0] = 1\n",
    "\n",
    "        # upper boundary\n",
    "        elif n == 2 * N + 1:\n",
    "            Matrix[n, 2 * N + 1] = 1\n",
    "\n",
    "        elif n > 0 and n <= N:\n",
    "            # columns 0 ~ 2N+1\n",
    "            for m in range(2 * N + 2):\n",
    "                if m == n - 1:\n",
    "                    Matrix[n, m] = array_2[n]\n",
    "                elif m == n + N + 1:\n",
    "                    Matrix[n, m] = array_1[n]\n",
    "        elif n > N and n <= 2 * N:\n",
    "            # columns 0 ~ 2N+1\n",
    "            for m in range(2 * N + 2):\n",
    "                if m == n - N - 1:\n",
    "                    Matrix[n, m] = array_2[n]\n",
    "                elif m == n + 1:\n",
    "                    Matrix[n, m] = array_1[n]\n",
    "    return Matrix\n",
    "\n",
    "@jit(nopython=True, cache=True)\n",
    "def V_enum(k, ln_Pa, ln_Pb, ln_Pl, ln_Pu, L, gamma, r, p):\n",
    "    N = ln_Pu - ln_Pl - 1\n",
    "    \n",
    "    f_X_vector = np.zeros(2 * N + 2)\n",
    "    for n in range(2 * N + 2):\n",
    "        f_X_vector[n] = f_X(n, N, k, ln_Pa, ln_Pb, ln_Pl, L, gamma)\n",
    "    \n",
    "    f_Y_vector = np.zeros(2 * N + 2)\n",
    "    for n in range(2 * N + 2):\n",
    "        f_Y_vector[n] = f_Y(n, N, k, ln_Pa, ln_Pb, ln_Pl, L, gamma)\n",
    "    \n",
    "    A_u_vector = np.zeros(2 * N + 2)\n",
    "    for n in range(2 * N + 2):\n",
    "        A_u_vector[n] = A_u(n, N, k, r, p)\n",
    "    \n",
    "    A_d_vector = np.zeros(2 * N + 2)\n",
    "    for n in range(2 * N + 2):\n",
    "        A_d_vector[n] = A_d(n, N, k, r, p)\n",
    "        \n",
    "    I = np.identity(2 * N + 2)\n",
    "\n",
    "    # include the boundary condition in to the equation\n",
    "    I[0] = 0\n",
    "    I[2 * N + 1] = 0\n",
    "    bc = np.zeros(2 * N + 2)\n",
    "    bc[2 * N + 1] = wealth_enumeration(2 * N + 1, N, k, gamma, ln_Pa, ln_Pb, ln_Pl, L)\n",
    "    bc[0] = wealth_enumeration(0, N, k, gamma, ln_Pa, ln_Pb, ln_Pl, L)\n",
    "    vector = -np.exp(-r) * (A_u_vector * f_X_vector + A_d_vector * f_Y_vector) + bc\n",
    "\n",
    "    #return sci.sparse.linalg.spsolve(Matrix(N, A_u_vector, A_d_vector) - I, vector)\n",
    "    return np.linalg.solve(Matrix(N, A_u_vector, A_d_vector) - I, vector)"
   ]
  },
  {
   "cell_type": "markdown",
   "id": "5093cbbb",
   "metadata": {
    "tags": []
   },
   "source": [
    "### Plot the result (for enumerated states)\n",
    "This part is to visualize the value function (only on enumerated states).\n",
    "\n",
    "Functions:\n",
    "* ```plot_enum_rate``` : plot the value functions (y-axis) w.r.t the enumeration index (x-axis) with the given parameters and the default interest rates.\n",
    "\n",
    "* ```plot_enum_rate_3D``` : plot the value function (z-axis) w.r.t the normalized log pool price $\\ln S^*$ (x-axis) and $M=\\pm k$ (y-axis) (enumerated states only)with the given parameters  and the default interest rates."
   ]
  },
  {
   "cell_type": "code",
   "execution_count": 8,
   "id": "f8bab04b",
   "metadata": {
    "tags": []
   },
   "outputs": [],
   "source": [
    "def plot_enum_rate(k, ln_Pa, ln_Pb, ln_Pl, ln_Pu, L, gamma, p):\n",
    "    r_array = np.array([\n",
    "        0,\n",
    "        10 ** (-6),\n",
    "        5 * 10 ** (-5),\n",
    "        10 ** (-5),\n",
    "        10 ** (-4),\n",
    "        10 ** (-3),\n",
    "        5 * 10 ** (-3),\n",
    "        5 * 10 ** (-2),\n",
    "        1,\n",
    "    ])\n",
    "    N = ln_Pu - ln_Pl - 1\n",
    "\n",
    "    fig, ax = plt.subplots(3, 3)\n",
    "\n",
    "    for i in range(len(r_array)):\n",
    "        r = r_array[i]\n",
    "        V_array = V_enum(k, ln_Pa, ln_Pb, ln_Pl, ln_Pu, L, gamma, r, p)\n",
    "        j_1 = int(i / 3)\n",
    "        j_2 = i % 3\n",
    "        ax[j_1, j_2].bar(np.arange(2 * N + 2), V_array)\n",
    "        ax[j_1, j_2].set_xlabel(\"index\")\n",
    "        ax[j_1, j_2].set_ylabel(\"value\")\n",
    "        ax[j_1, j_2].set_title(\"r=\" + str(r))\n",
    "    plt.tight_layout()\n",
    "\n",
    "def plot_enum_rate_3D(k, ln_Pa, ln_Pb, ln_Pl, ln_Pu, L, gamma, p):\n",
    "    start = datetime.datetime.now()\n",
    "    r_array = np.array([\n",
    "        0,\n",
    "        10 ** (-6),\n",
    "        10 ** (-5),\n",
    "        5 * 10 ** (-5),\n",
    "        10 ** (-4),\n",
    "        10 ** (-3),\n",
    "        5 * 10 ** (-3),\n",
    "        5 * 10 ** (-2),\n",
    "        1,\n",
    "    ])\n",
    "    N = ln_Pu - ln_Pl - 1\n",
    "    fig = plt.figure(figsize=(12, 12))\n",
    "    ax = np.empty((3, 3), dtype=object)\n",
    "\n",
    "    for i in range(len(r_array)):\n",
    "        V_array = V_enum(k, ln_Pa, ln_Pb, ln_Pl, ln_Pu, L, gamma, r_array[i], p)\n",
    "        x1 = np.arange(N + 1)\n",
    "        x2 = np.arange(N + 1) + 1\n",
    "        y1 = -k * np.ones(N + 1)\n",
    "        y2 = k * np.ones(N + 1)\n",
    "\n",
    "        # position of subplots in the 3by3 square\n",
    "        j_1 = int(i / 3)\n",
    "        j_2 = i % 3\n",
    "\n",
    "        ax[j_1, j_2] = plt.subplot(330 + i + 1, projection=\"3d\")\n",
    "        ax[j_1, j_2].set_title(\"r=\" + str(r_array[i]), pad=0)\n",
    "\n",
    "        ax[j_1, j_2].bar3d(x1, y1, 0, dx=0.5, dy=0.5, dz=V_array[: N + 1])\n",
    "        ax[j_1, j_2].bar3d(x2, y2, 0, dx=0.5, dy=0.5, dz=V_array[N + 1 :])\n",
    "\n",
    "        ax[j_1, j_2].set_xlabel(\"B\", fontdict={\"size\": 10})\n",
    "        ax[j_1, j_2].set_ylabel(\"M\", fontdict={\"size\": 10})\n",
    "        ax[j_1, j_2].set_zlabel(\"V\", fontdict={\"size\": 10})\n",
    "\n",
    "        # label ln_Pa, ln_Pb, ln_Pl, ln_Pu on x axis\n",
    "        price_ticks = [ln_Pa - ln_Pl, ln_Pb - ln_Pl, ln_Pu - ln_Pl, 0]\n",
    "\n",
    "        # add those points to the x-axis tick list\n",
    "        x_ticks = np.append(ax[j_1, j_2].get_xticks(), price_ticks)\n",
    "        ax[j_1, j_2].set_xticks(x_ticks)\n",
    "\n",
    "        x_ticklabels = ax[j_1, j_2].get_xticklabels()\n",
    "\n",
    "        # setting labels\n",
    "        if ln_Pa == ln_Pl:\n",
    "            if ln_Pb == ln_Pu:\n",
    "                labels = [\"a = l\", \"b = u\", \"a = l\", \"b = u\"]\n",
    "            else:\n",
    "                labels = [\"a = l\", \"b\", \"a = l\", \"b = u\"]\n",
    "        else:\n",
    "            if ln_Pb == ln_Pu:\n",
    "                labels = [\"a\", \"b = u\", \" l\", \"b = u\"]\n",
    "            else:\n",
    "                labels = [\"a\", \"b\", \" l\", \"u\"]\n",
    "        for index in range(len(x_ticks)):\n",
    "            x_ticklabels[index].set_rotation(45)  # rotate all labels by 45 degree\n",
    "            x_ticklabels[index].set_fontsize(6)\n",
    "            # modify the labels which we consider\n",
    "            if x_ticks[index] in price_ticks:\n",
    "                # x_ticklabels[index].set_rotation(-50)\n",
    "                x_ticklabels[index].set_color(\"blue\")\n",
    "                ax[j_1, j_2].plot(x_ticks[index] * np.ones(2 * k + 1), np.arange(-k, k + 1), color=\"r\")\n",
    "                if x_ticks[index] == ln_Pa - ln_Pl:\n",
    "                    x_ticklabels[index].set_text(labels[0])\n",
    "\n",
    "                elif x_ticks[index] == ln_Pb - ln_Pl:\n",
    "                    x_ticklabels[index].set_text(labels[1])\n",
    "\n",
    "                elif x_ticks[index] == 0:\n",
    "                    x_ticklabels[index].set_text(labels[2])\n",
    "\n",
    "                elif x_ticks[index] == ln_Pu - ln_Pl:\n",
    "                    x_ticklabels[index].set_text(labels[3])\n",
    "\n",
    "        ax[j_1, j_2].set_xticklabels(x_ticklabels)\n",
    "\n",
    "        # rescale z-axis(scientific notation)\n",
    "        ax[j_1, j_2].ticklabel_format(style=\"sci\", axis=\"z\", scilimits=(0, 0), useMathText=True)\n",
    "\n",
    "        ax[j_1, j_2].view_init(azim=-30)\n",
    "    plt.tight_layout()\n",
    "    end = datetime.datetime.now()\n",
    "    print(\"total time is \", end - start)"
   ]
  },
  {
   "cell_type": "code",
   "execution_count": null,
   "id": "642e960d",
   "metadata": {
    "tags": []
   },
   "outputs": [],
   "source": [
    "#import cProfile \n",
    "#cProfile.run(\"plot_enum_rate(k=100, ln_Pa=-100, ln_Pb=100, ln_Pl=-110, ln_Pu=100, L=1, gamma=0.997, p=0.5)\")\n",
    "plot_enum_rate(k=100, ln_Pa=-100, ln_Pb=100, ln_Pl=-110, ln_Pu=100, L=1, gamma=0.997, p=0.5)"
   ]
  },
  {
   "cell_type": "code",
   "execution_count": null,
   "id": "9ea7c064",
   "metadata": {
    "tags": []
   },
   "outputs": [],
   "source": [
    "plot_enum_rate_3D(k=100, ln_Pa=-100, ln_Pb=100, ln_Pl=-110, ln_Pu=110, L=1, gamma=0.997, p=0.5)"
   ]
  },
  {
   "cell_type": "markdown",
   "id": "a09adcee-ff78-4cbc-99b2-d2e0fe6ec3c8",
   "metadata": {},
   "source": [
    "### Starting from intermediate states\n",
    "Using the above result, we can compute the expected reward that starting the inermediate states not just those states with $M = \\pm k$. Given $n\\in\\mathbb{Z}$, $-k\\leqslant m\\leqslant k$, we have\n",
    "\n",
    "\\begin{align*}\n",
    "V( B = n \\delta, M = m) &= \\mathbb{E}_{( n \\delta, m )}( e^{- r \\tau}  \\,; \\, B_\\tau = B_0 + \\delta )\n",
    "\\big[ V( (n+1)\\delta  ,k) + f_X( (n+1)\\delta, n\\delta) \\big]\n",
    "\\\\\n",
    "&+ \\mathbb{E}_{( n \\delta , m )}( e^{- r \\tau}  \\,; \\, B_\\tau = B_0 -\\delta) \\big[\n",
    "V( (n-1)\\delta ,-k) + e^{ (n-k)\\delta} f_Y( (n-1)\\delta, n\\delta) \\big]\n",
    "\\end{align*}\n",
    "\n",
    "Let $l = \\frac{\\ln P_l}{\\delta} < 0$ and $ u = \\frac{\\ln P_u}{\\delta} > 0$.\n",
    "The two states, corresponding to go up/down from $(n\\delta, m)$ are enumerated as before:\n",
    "$$((n+1)\\,\\delta,\\,k)\\,\\Longrightarrow\\,(n + 1) - l + N, \\quad((n-1)\\,\\delta,\\,-k)\\,\\Longrightarrow\\,(n-1)-l $$\n",
    "Using the functions we defined for eunmerated states, the desired value becomes\n",
    "\n",
    "\\begin{align*}\n",
    "  V(B = n\\,\\delta, M = m) = C_u(n)\\,\\big(V(n+N+1-l) + f_X(n+N-l)\\big) + C_d(n)\\,\\big(V(n-1-l) + S(l)f_Y(n-l)\\big)\n",
    "\\end{align*}\n",
    "\n",
    "where $C_u(n) = \\mathbb{E}_{(n \\delta, m )}(e^{- r \\tau} \\,;\\, B_\\tau = B_0 +\\delta)$ and\n",
    "$C_d(n) = \\mathbb{E}_{(n\\delta, m)}( e^{-r\\tau}\\,;\\,B_\\tau = B_0 -\\delta) $ can be computed by the formula in previous part (actually they only depend on $m$).\n",
    "\n",
    "Parameters:\n",
    "* ```n``` : specify the pool price $S^* = e^{n\\delta}$ (not the enumeration index in previous part)\n",
    "* ```m``` : the value of $M$ in $\\{-k \\,, \\,  \\ldots \\,, \\, k \\}$\n",
    "\n",
    "Functions:\n",
    "* ```V``` : returns the value function at the given states.\n",
    "* ```V_normalized``` : returns the normalized value function at the given states."
   ]
  },
  {
   "cell_type": "code",
   "execution_count": 9,
   "id": "4522d962",
   "metadata": {
    "tags": []
   },
   "outputs": [],
   "source": [
    "@jit(nopython=True, cache=True)\n",
    "def V(n, m, k, ln_Pa, ln_Pb, ln_Pl, ln_Pu, L, gamma, r, p):\n",
    "    N = ln_Pu - ln_Pl - 1\n",
    "    V_array = V_enum(k, ln_Pa, ln_Pb, ln_Pl, ln_Pu, L, gamma, r, p)\n",
    "    if r == 0 and p == 0.5:\n",
    "        C_u = (m + k + 1) / (2 * (k + 1))\n",
    "        C_d = 1 - (m + k + 1) / (2 * (k + 1))\n",
    "    else:\n",
    "        C_u = (np.exp(a_p(r, p, k) * (m + k + 1)) - np.exp(a_m(r, p, k) * (m + k + 1))) / (np.exp(a_p(r, p, k) * (2 * k + 2)) - np.exp(a_m(r, p, k) * (2 * k + 2)))\n",
    "        C_d = (np.exp(a_p(r, p, k) * (m - k - 1)) - np.exp(a_m(r, p, k) * (m - k - 1))) / (np.exp(a_p(r, p, k) * (-2 * k - 2)) - np.exp(a_m(r, p, k) * (-2 * k - 2)))\n",
    "\n",
    "    # states inside the boundary\n",
    "    if n > ln_Pl and n < ln_Pu:\n",
    "        fX = f_X(n + N - ln_Pl, N, k, ln_Pa, ln_Pb, ln_Pl, L, gamma)\n",
    "        fY = f_Y(n - ln_Pl, N, k, ln_Pa, ln_Pb, ln_Pl, L, gamma)\n",
    "        V = C_u * (V_array[n + N - ln_Pl + 1] + fX) + C_d * (V_array[n - ln_Pl - 1] + fY)\n",
    "    # boundary points\n",
    "    elif n == ln_Pl:\n",
    "        V = V_array[0]\n",
    "    elif n == ln_Pu:\n",
    "        V = V_array[2 * N + 1]\n",
    "    return V\n",
    "\n",
    "@jit(nopython=True, cache=True)\n",
    "def V_normalized(n, m, k, ln_Pa, ln_Pb, ln_Pl, ln_Pu, L, gamma, r, p):\n",
    "    delta = -np.log(gamma) / k\n",
    "    P_a, P_b, S_p, S_m = np.exp(np.array([ln_Pa, ln_Pb, n, n + m]) * delta)\n",
    "    ini_cost = wealth(P_a, P_b, L, S_p, S_m)\n",
    "    return V(n, m, k, ln_Pa, ln_Pb, ln_Pl, ln_Pu, L, gamma, r, p) / ini_cost"
   ]
  },
  {
   "cell_type": "markdown",
   "id": "2989d94c",
   "metadata": {},
   "source": [
    "### Plot the result (all states)\n",
    "This part is to plot the value function at all states inside the boundary. Here we will plot the\n",
    "surface instead of bar.\n",
    "\n",
    "Functions:\n",
    "\n",
    "* ```plot_rate_3D``` : plot the value function (z-axis) w.r.t the normalized log pool price $\\ln S^*$ (x-axis) and $M=\\pm k$ (y-axis) with the given parameters  and the default interest rates.\n",
    "\n",
    "* ```plot_rate_normalized_3D``` : normalized version of ```plot_rate_3D```."
   ]
  },
  {
   "cell_type": "code",
   "execution_count": 10,
   "id": "60a4b48b",
   "metadata": {
    "tags": []
   },
   "outputs": [],
   "source": [
    "def plot_rate_3D(k, ln_Pa, ln_Pb, ln_Pl, ln_Pu, L, gamma, p):\n",
    "    # different interest rates for each subplot\n",
    "    r_array = np.array([\n",
    "        0,\n",
    "        10 ** (-6),\n",
    "        5 * 10 ** (-5),\n",
    "        10 ** (-5),\n",
    "        10 ** (-4),\n",
    "        10 ** (-3),\n",
    "        5 * 10 ** (-3),\n",
    "        5 * 10 ** (-2),\n",
    "        1,\n",
    "    ])\n",
    "\n",
    "    N = ln_Pu - ln_Pl - 1\n",
    "    fig = plt.figure(figsize=(9, 9))\n",
    "    ax = np.empty((3, 3), dtype=object)\n",
    "    for i in range(len(r_array)):\n",
    "        # position of subplots in the 3by3 square\n",
    "        j_1 = int(i / 3)\n",
    "        j_2 = i % 3\n",
    "\n",
    "        V_surf = np.zeros((2 * k + 1, N + 2))\n",
    "\n",
    "        price_boundary = np.arange(ln_Pl, ln_Pu + 1)\n",
    "        M_range = np.arange(-k, k + 1)\n",
    "        ln_Sp, M = np.meshgrid(price_boundary, M_range)\n",
    "\n",
    "        for n in price_boundary:\n",
    "            for m in M_range:\n",
    "                # states  not inside the boundary\n",
    "                if (n == ln_Pl and m > -k) or (n == ln_Pu and m < k):\n",
    "                    V_surf[m + k, n - ln_Pl] = 0\n",
    "                # states inside/on the boundary\n",
    "                else:\n",
    "                    V_surf[m + k, n - ln_Pl] = V(n, m, k, ln_Pa, ln_Pb, ln_Pl, ln_Pu, L, gamma, r_array[i], p)\n",
    "\n",
    "        # plot the surface\n",
    "        ax[j_1, j_2] = plt.subplot(330 + i + 1, projection=\"3d\")\n",
    "        ax[j_1, j_2].set_title(\"r=\" + str(r_array[i]), pad=0)\n",
    "        ax[j_1, j_2].plot_surface(ln_Sp, M, V_surf, cmap=cm.coolwarm)\n",
    "        ax[j_1, j_2].set_xlabel(\"B \", fontdict={\"size\": 10})\n",
    "        ax[j_1, j_2].set_ylabel(\"M\", fontdict={\"size\": 10})\n",
    "        ax[j_1, j_2].set_zlabel(\"V\", fontdict={\"size\": 10})\n",
    "\n",
    "    plt.tight_layout(pad=2.5)\n",
    "\n",
    "def plot_rate_normalized_3D(k, ln_Pa, ln_Pb, ln_Pl, ln_Pu, L, gamma, p):\n",
    "    start = datetime.datetime.now()\n",
    "    r_array = np.array([0]) #[0, 10 ** (-6), 10 ** (-3)]\n",
    "    N = ln_Pu - ln_Pl - 1\n",
    "    fig = plt.figure(figsize=(9, 9))\n",
    "    ax = np.empty((3, 3), dtype=object)\n",
    "    for i in range(len(r_array)):\n",
    "        print(\"case %d of %d\" % (i + 1, len(r_array)))\n",
    "        # position of subplots in the 3by3 square\n",
    "        j_1 = int(i / 3)\n",
    "        j_2 = i % 3\n",
    "\n",
    "        V_surf = np.zeros((2 * k + 1, N + 2))\n",
    "\n",
    "        price_boundary = np.arange(ln_Pl, ln_Pu + 1)\n",
    "        M_range = np.arange(-k, k + 1)\n",
    "        ln_Sp, M = np.meshgrid(price_boundary, M_range)\n",
    "\n",
    "        for n in price_boundary:\n",
    "            for m in M_range:\n",
    "                # states  not inside the boundary\n",
    "                if (n == ln_Pl and m > -k) or (n == ln_Pu and m < k):\n",
    "                    V_surf[m + k, n - ln_Pl] = 0\n",
    "                # states inside/on the boundary\n",
    "                else:\n",
    "                    V_surf[m + k, n - ln_Pl] = V_normalized(n, m, k, ln_Pa, ln_Pb, ln_Pl, ln_Pu, L, gamma, r_array[i], p)\n",
    "\n",
    "        # plot the surface\n",
    "        ax[j_1, j_2] = plt.subplot(330 + i + 1, projection=\"3d\")\n",
    "        ax[j_1, j_2].set_title(\"r=\" + str(r_array[i]), pad=0)\n",
    "        ax[j_1, j_2].plot_surface(ln_Sp, M, V_surf, cmap=cm.coolwarm)\n",
    "        ax[j_1, j_2].set_xlabel(\"B \", fontdict={\"size\": 10})\n",
    "        ax[j_1, j_2].set_ylabel(\"M\", fontdict={\"size\": 10})\n",
    "        ax[j_1, j_2].set_zlabel(\"V\", fontdict={\"size\": 10})\n",
    "\n",
    "    plt.tight_layout(pad=2.5)\n",
    "    end = datetime.datetime.now()\n",
    "    print(\"total time is \", end - start)"
   ]
  },
  {
   "cell_type": "code",
   "execution_count": 13,
   "id": "c785fa06",
   "metadata": {
    "tags": []
   },
   "outputs": [
    {
     "name": "stdout",
     "output_type": "stream",
     "text": [
      "case 1 of 1\n",
      "total time is  0:00:20.170067\n"
     ]
    },
    {
     "data": {
      "image/png": "[encoded data removed]",
      "text/plain": [
       "<Figure size 900x900 with 1 Axes>"
      ]
     },
     "metadata": {},
     "output_type": "display_data"
    }
   ],
   "source": [
    "plot_rate_normalized_3D(k=100, ln_Pa=-17, ln_Pb=16, ln_Pl=-17, ln_Pu=16, L=1, gamma=0.997, p=0.5)"
   ]
  },
  {
   "cell_type": "markdown",
   "id": "9f33f6fb-3a91-47cf-ba43-b236663249c8",
   "metadata": {},
   "source": [
    "When jit is on , total time is  0:41:14.265539  . When jit is off , total time is  total time is  11:25:07.259037 !!\n",
    "\n",
    "The above setting is to approximate the scale in reality, where the price range is usually set to be $\\pm 5 \\%$ of current price. In our case, choose $k=100$, $\\gamma = 0.997$ and \n",
    "$$ S_0 = S^*_0 = 1\\,\\Longrightarrow\\,P_a = 0.95 \\sim e^{\\frac{-\\ln\\gamma}{k}\\cdot n_a}, \\quad \n",
    "P_b = 1.05  \\sim e^{\\frac{-\\ln\\gamma}{k}\\cdot n_b}\\,\\Longrightarrow\\,n_a = -1700,\\,n_b = 1600 \n",
    "$$\n",
    "\n",
    "But under such setting, the code takes too much time ($r=0$ case more than $ 24 $ hrs)."
   ]
  },
  {
   "cell_type": "code",
   "execution_count": null,
   "id": "a421c3fa-f53f-456b-ae81-f08a46c0480e",
   "metadata": {},
   "outputs": [],
   "source": [
    "config.DISABLE_JIT = True\n",
    "%timeit -r 3 -c plot_rate_normalized_3D(k=100, ln_Pa=-17, ln_Pb=16, ln_Pl=-17, ln_Pu=16, L=1, gamma=0.997, p=0.5)"
   ]
  },
  {
   "cell_type": "code",
   "execution_count": null,
   "id": "ba650cf8-7155-4f73-8eec-91b862ab9ab0",
   "metadata": {
    "tags": []
   },
   "outputs": [],
   "source": [
    "config.DISABLE_JIT = False\n",
    "%timeit -r 3 -c plot_rate_normalized_3D(k=100, ln_Pa=-17, ln_Pb=16, ln_Pl=-17, ln_Pu=16, L=1, gamma=0.997, p=0.5)"
   ]
  },
  {
   "cell_type": "markdown",
   "id": "077f3096",
   "metadata": {},
   "source": [
    "### Comparison between different parameters and optimal boundary setting\n",
    "In this part we fix the position range, liquidity $L$, \n",
    "and choose a larger $k$.\n",
    "We want to know the optimal choice of price boundary $P_l$, $P_u$ under different $p$ and $r$\n",
    "for $V_{\\text{normalized}}(n=0 ,m=0)$. In the following, set \n",
    "$\\ln P_a = -5\\delta $, $\\ln P_b = 5\\delta $, $\\gamma = 0.997$, $k = 100$ and $L=1$. "
   ]
  },
  {
   "cell_type": "code",
   "execution_count": null,
   "id": "06414443",
   "metadata": {
    "tags": []
   },
   "outputs": [],
   "source": [
    "gamma = 0.997\n",
    "k = 100\n",
    "delta = -np.log(gamma) / k\n",
    "# position range\n",
    "ln_Pa = -5\n",
    "ln_Pb = 5\n",
    "L = 1"
   ]
  },
  {
   "cell_type": "markdown",
   "id": "cbf05432",
   "metadata": {},
   "source": [
    "#### $r=0$  and  $p=0.5$"
   ]
  },
  {
   "cell_type": "code",
   "execution_count": null,
   "id": "90ae4b98",
   "metadata": {
    "tags": []
   },
   "outputs": [],
   "source": [
    "r = 0\n",
    "p = 0.5\n",
    "\n",
    "def V_bd(l, u):\n",
    "    return V0_normalized(k, ln_Pa, ln_Pb, l, u, L, gamma, r, p)"
   ]
  },
  {
   "cell_type": "code",
   "execution_count": null,
   "id": "e8171e02",
   "metadata": {
    "tags": []
   },
   "outputs": [],
   "source": [
    "V_bd(-1, 1)"
   ]
  },
  {
   "cell_type": "code",
   "execution_count": null,
   "id": "c9e47472",
   "metadata": {
    "tags": []
   },
   "outputs": [],
   "source": [
    "V0_normalized(k, ln_Pa, ln_Pb, -1, 10, L, gamma, r, p)"
   ]
  },
  {
   "cell_type": "code",
   "execution_count": null,
   "id": "a3ca3c81-9813-42a9-aaf0-5dfb9158f290",
   "metadata": {
    "tags": []
   },
   "outputs": [],
   "source": []
  },
  {
   "cell_type": "code",
   "execution_count": null,
   "id": "9d7b8634-220a-4b96-af86-7e4f1d4a376c",
   "metadata": {},
   "outputs": [],
   "source": []
  }
 ],
 "metadata": {
  "@webio": {
   "lastCommId": null,
   "lastKernelId": null
  },
  "kernelspec": {
   "display_name": "Python 3 (ipykernel)",
   "language": "python",
   "name": "python3"
  },
  "language_info": {
   "codemirror_mode": {
    "name": "ipython",
    "version": 3
   },
   "file_extension": ".py",
   "mimetype": "text/x-python",
   "name": "python",
   "nbconvert_exporter": "python",
   "pygments_lexer": "ipython3",
   "version": "3.10.9"
  },
  "toc-autonumbering": false,
  "toc-showcode": false,
  "toc-showmarkdowntxt": false
 },
 "nbformat": 4,
 "nbformat_minor": 5
}
