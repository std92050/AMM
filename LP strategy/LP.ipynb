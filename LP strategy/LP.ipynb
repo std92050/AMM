{
 "cells": [
  {
   "cell_type": "code",
   "execution_count": 1,
   "id": "edee50fe-0a50-48d3-94f9-74d352af47ed",
   "metadata": {
    "tags": []
   },
   "outputs": [],
   "source": [
    "import numpy as np\n",
    "import matplotlib.pyplot as plt\n",
    "import pandas as pd"
   ]
  },
  {
   "cell_type": "markdown",
   "id": "982b5cc2-f961-4053-b112-338e3b68818d",
   "metadata": {},
   "source": [
    "## Modeling"
   ]
  },
  {
   "cell_type": "markdown",
   "id": "7fca55f1-c8d9-46dd-bf5a-024b074cfdd2",
   "metadata": {},
   "source": [
    "### Market price"
   ]
  },
  {
   "cell_type": "markdown",
   "id": "165a817f-e3ff-4004-a374-bb60c00fa7ac",
   "metadata": {},
   "source": [
    "### Pool arrival process\n",
    "\n",
    "* Arbitrageur\n",
    "\n",
    "* Noise trader"
   ]
  },
  {
   "cell_type": "markdown",
   "id": "11db9805-1720-4c9e-90c1-d6b7255a8dcc",
   "metadata": {},
   "source": [
    "## Pool mechanism\n",
    "\n",
    "\n",
    "``` tick_price ``` : left endpoint of a tick as the representation of that tick. "
   ]
  },
  {
   "cell_type": "code",
   "execution_count": 114,
   "id": "eab67a33-e6fd-4419-9402-2d6cf79100de",
   "metadata": {
    "tags": []
   },
   "outputs": [],
   "source": [
    "gamma = 1-0.003"
   ]
  },
  {
   "cell_type": "code",
   "execution_count": 2,
   "id": "58ed4215-7baf-44c8-857c-29d5b0aeeb08",
   "metadata": {
    "tags": []
   },
   "outputs": [],
   "source": [
    "\n",
    "class LP_position:\n",
    "    def __init__(self):\n",
    "        self.L_profile = {}\n",
    "        self.cum_fee = np.zeros(2)\n",
    "    def add_liquidity(self, tick_price, liquidity):\n",
    "        if tick_price in self.L_profile.keys():\n",
    "            if self.L_profile[tick_price]<= - liquidity:\n",
    "                print('not enough liquidity to withdraw')\n",
    "            else:\n",
    "                self.L_profile[tick_price]+= liquidity\n",
    "            \n",
    "        else:\n",
    "            self.L_profile[tick_price] = liquidity\n",
    "\n",
    "                \n",
    "    def get_liquidity(self,tick_price):\n",
    "        if ~(tick_price in self.L_profile.keys()):\n",
    "            return 0\n",
    "        return self.L_profile[tick_price]\n",
    "    \n",
    "    def get_cum_fee(self):\n",
    "        return self.cum_fee\n",
    "    \n",
    "    def plot_liquidity(self):\n",
    "        plt.figure(figsize=(8,4))\n",
    "        plt.bar(self.L_profile.keys() ,self.L_profile.values() , \n",
    "                width =1,align='edge',ec='black',color='lightblue')\n",
    "        plt.title(\"liquidity profile\")\n",
    "        plt.xlabel(\"pool price\")\n",
    "        plt.ylabel(\"liquidity\")\n",
    "\n",
    "    \n",
    "    def get_token_amounts(self, pool_price):\n",
    "        sqrt_p = np.sqrt(pool_price)\n",
    "        total_X = 0\n",
    "        total_Y = 0\n",
    "        ticks = np.sort(list(self.L_profile.keys()))\n",
    "        for s in ticks:\n",
    "            # pl = tick_to_price(s)\n",
    "            # pr = tick_to_price(s+1)\n",
    "            pl=s\n",
    "            pr=s+1\n",
    "            sqrt_pl = np.sqrt(pl)\n",
    "            sqrt_pr = np.sqrt(pr)\n",
    "            sqrt_p = np.sqrt(pool_price)\n",
    "            L = self.L_profile[s]\n",
    "            if pool_price <= pl:\n",
    "                total_Y += L * (sqrt_pr - sqrt_pl) / (sqrt_pr * sqrt_pl)\n",
    "            elif pool_price >= pr:\n",
    "                total_X += L * ( 1/sqrt_pl - 1/sqrt_pr)\n",
    "            else:\n",
    "                total_Y += L * (sqrt_pr - sqrt_p) / (sqrt_p * sqrt_pr)\n",
    "                total_X += L * (sqrt_p - sqrt_pl)\n",
    "        return np.array([total_X, total_Y])\n",
    "\n",
    "    def get_position_value(self, market_price):\n",
    "        X, Y = self.get_token_amounts(market_price)\n",
    "        return X + Y * market_price  \n",
    "    \n",
    "    \n",
    "    def add_cum_fee(self,price_n,price_o):\n",
    "        dX , dY  = self.get_token_amounts(price_n) - self.get_token_amounts(price_o)\n",
    "        fee_X , fee_Y = (0,0)\n",
    "        if price_n <= price_o:\n",
    "            fee_Y = (1-gamma)/gamma *dY\n",
    "        \n",
    "        else:\n",
    "            fee_X = (1-gamma)/gamma *dX\n",
    "        \n",
    "        pos.cum_fee+= np.array([fee_X,fee_Y])"
   ]
  },
  {
   "cell_type": "code",
   "execution_count": 115,
   "id": "db8a5ccb-e0bb-4a92-bac0-2824180e150f",
   "metadata": {
    "tags": []
   },
   "outputs": [],
   "source": [
    "pos = LP_position()\n",
    "for i in range(1,10):\n",
    "    pos.add_liquidity(i, (i-5)**2/5 )"
   ]
  },
  {
   "cell_type": "code",
   "execution_count": 116,
   "id": "3caf4018-f48b-438b-bdab-27aa311607f7",
   "metadata": {
    "tags": []
   },
   "outputs": [],
   "source": [
    "pos.add_cum_fee(5,1.3)"
   ]
  },
  {
   "cell_type": "code",
   "execution_count": 117,
   "id": "3caf3bae-06c9-4ed4-af4c-a895c3243768",
   "metadata": {
    "tags": []
   },
   "outputs": [
    {
     "data": {
      "text/plain": [
       "array([0.00239126, 0.        ])"
      ]
     },
     "execution_count": 117,
     "metadata": {},
     "output_type": "execute_result"
    }
   ],
   "source": [
    "pos.cum_fee"
   ]
  },
  {
   "cell_type": "code",
   "execution_count": null,
   "id": "675e67a0-2f58-43ca-a14b-8fc40db81c3a",
   "metadata": {
    "tags": []
   },
   "outputs": [],
   "source": []
  },
  {
   "cell_type": "markdown",
   "id": "869183e4-6753-492c-8eb9-c352b660b5cd",
   "metadata": {},
   "source": [
    "## Model-based strategy\n",
    "\n"
   ]
  },
  {
   "cell_type": "markdown",
   "id": "65cb70fd-ef8d-4737-a6fc-ee65886b8112",
   "metadata": {
    "tags": []
   },
   "source": [
    " "
   ]
  },
  {
   "cell_type": "code",
   "execution_count": null,
   "id": "0c42c804-d373-41bb-a7b6-cc1c45c7053b",
   "metadata": {},
   "outputs": [],
   "source": []
  },
  {
   "cell_type": "markdown",
   "id": "eeb77b5c-3095-4198-bed5-0bd3202203db",
   "metadata": {},
   "source": [
    "## Model-free/Data-driven strategy"
   ]
  },
  {
   "cell_type": "code",
   "execution_count": null,
   "id": "73e21273-96e8-46a7-871b-d42b59fac46a",
   "metadata": {},
   "outputs": [],
   "source": []
  }
 ],
 "metadata": {
  "kernelspec": {
   "display_name": "Python 3 (ipykernel)",
   "language": "python",
   "name": "python3"
  },
  "language_info": {
   "codemirror_mode": {
    "name": "ipython",
    "version": 3
   },
   "file_extension": ".py",
   "mimetype": "text/x-python",
   "name": "python",
   "nbconvert_exporter": "python",
   "pygments_lexer": "ipython3",
   "version": "3.10.13"
  }
 },
 "nbformat": 4,
 "nbformat_minor": 5
}
