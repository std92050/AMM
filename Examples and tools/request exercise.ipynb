{
 "cells": [
  {
   "cell_type": "markdown",
   "id": "ffc67874-165c-4bee-9ba3-c5878ee44e4a",
   "metadata": {
    "tags": []
   },
   "source": [
    "## Request example"
   ]
  },
  {
   "cell_type": "markdown",
   "id": "040296f0-4a17-4e00-8cda-e4efd70496eb",
   "metadata": {},
   "source": [
    "[(ref)](https://realpython.com/api-integration-in-python/)\n",
    "To test out GET and the other methods in this section, we use a service called JSONPlaceholder. This free service provides fake API endpoints that send back responses that requests can process."
   ]
  },
  {
   "cell_type": "code",
   "execution_count": 4,
   "id": "ee7a8663-13bc-412c-9092-845fb941007d",
   "metadata": {
    "tags": []
   },
   "outputs": [],
   "source": [
    "import requests as req"
   ]
  },
  {
   "cell_type": "markdown",
   "id": "f215f291-2d57-45dd-aac6-ca48225e5e2e",
   "metadata": {},
   "source": [
    "### GET\n",
    "Retrieving resources from a given API."
   ]
  },
  {
   "cell_type": "code",
   "execution_count": 4,
   "id": "636fea28-87b2-416d-abad-5697a20d4186",
   "metadata": {
    "tags": []
   },
   "outputs": [
    {
     "data": {
      "text/plain": [
       "{'userId': 1, 'id': 1, 'title': 'delectus aut autem', 'completed': False}"
      ]
     },
     "execution_count": 4,
     "metadata": {},
     "output_type": "execute_result"
    }
   ],
   "source": [
    "api_url = \"https://jsonplaceholder.typicode.com/todos/1\"\n",
    "response = req.get(api_url)\n",
    "response.json()"
   ]
  },
  {
   "cell_type": "markdown",
   "id": "960c4309-12fe-4260-acd1-ef2753d16455",
   "metadata": {},
   "source": [
    "This code calls requests.get() to send a GET request to /todos/1, which responds with the todo item with the ID 1. Then you can call .json() on the response object to view the data that came back from the API."
   ]
  },
  {
   "cell_type": "markdown",
   "id": "1b6143b0-6493-4f49-a514-bec8a73627c1",
   "metadata": {},
   "source": [
    "We can check HTTP status code which provides the information about the request. For example,\n",
    "**200** means \"The requested action was successful\".\n"
   ]
  },
  {
   "cell_type": "code",
   "execution_count": 7,
   "id": "b0ffb421-8d47-483b-82fe-33cdeb8710ca",
   "metadata": {
    "tags": []
   },
   "outputs": [
    {
     "data": {
      "text/plain": [
       "200"
      ]
     },
     "execution_count": 7,
     "metadata": {},
     "output_type": "execute_result"
    }
   ],
   "source": [
    "response.status_code "
   ]
  },
  {
   "cell_type": "markdown",
   "id": "43fd940b-1a27-461e-94d0-c1d60b1df8fb",
   "metadata": {},
   "source": [
    "### POST\n",
    "Posting data to a REST API to create a new resource. "
   ]
  },
  {
   "cell_type": "code",
   "execution_count": 9,
   "id": "b76d6329-0505-496d-bc61-0a08bc9fa462",
   "metadata": {
    "tags": []
   },
   "outputs": [
    {
     "data": {
      "text/plain": [
       "{'userId': 87, 'title': 'ぺこみこ最強', 'completed': False, 'id': 201}"
      ]
     },
     "execution_count": 9,
     "metadata": {},
     "output_type": "execute_result"
    }
   ],
   "source": [
    "api_url = \"https://jsonplaceholder.typicode.com/todos\"\n",
    "todo = {\"userId\": 87, \"title\": \"ぺこみこ最強\", \"completed\": False}\n",
    "response = req.post(api_url, json=todo)\n",
    "response.json()"
   ]
  },
  {
   "cell_type": "markdown",
   "id": "7a35a4fd-63d1-41b5-a8ed-281982e19240",
   "metadata": {},
   "source": [
    "Here, we call requests.post() to create a new todo in the system.\n",
    "First, you create a dictionary containing the data for your todo. Then you pass this dictionary to the json keyword argument of requests.post(). When you do this, requests.post() automatically sets the request’s HTTP header Content-Type to application/json. It also serializes todo into a JSON string, which it appends to the body of the request. Since it is only virtual endpoint for simulation, no data will really be created."
   ]
  },
  {
   "cell_type": "code",
   "execution_count": 11,
   "id": "b0f41eaf-0103-4ca3-953c-f2f4de96a989",
   "metadata": {
    "tags": []
   },
   "outputs": [
    {
     "data": {
      "text/plain": [
       "201"
      ]
     },
     "execution_count": 11,
     "metadata": {},
     "output_type": "execute_result"
    }
   ],
   "source": [
    "response.status_code "
   ]
  },
  {
   "cell_type": "markdown",
   "id": "e8703d24-ace6-4616-bb5e-5941ecdabacb",
   "metadata": {},
   "source": [
    "### PUT\n",
    "Updating an existing todo with new data."
   ]
  },
  {
   "cell_type": "code",
   "execution_count": 19,
   "id": "024528cb-b0c0-4204-8a3b-2fd35dfc7024",
   "metadata": {
    "tags": []
   },
   "outputs": [
    {
     "data": {
      "text/plain": [
       "{'userId': 1,\n",
       " 'id': 10,\n",
       " 'title': 'illo est ratione doloremque quia maiores aut',\n",
       " 'completed': True}"
      ]
     },
     "execution_count": 19,
     "metadata": {},
     "output_type": "execute_result"
    }
   ],
   "source": [
    "api_url = \"https://jsonplaceholder.typicode.com/todos/10\"\n",
    "response = req.get(api_url)\n",
    "response.json() #Our target to be updated"
   ]
  },
  {
   "cell_type": "code",
   "execution_count": 23,
   "id": "b0e59d48-6bec-49f7-8993-d6899b0cdb4b",
   "metadata": {
    "tags": []
   },
   "outputs": [
    {
     "data": {
      "text/plain": [
       "{'title': '幹你媽去死', 'id': 10}"
      ]
     },
     "execution_count": 23,
     "metadata": {},
     "output_type": "execute_result"
    }
   ],
   "source": [
    "todo = {\"userId\": 1, \"title\": \"幹你媽去死\", \"completed\": True} #update content\n",
    "response = req.put(api_url, json=todo)\n",
    "response.json()"
   ]
  },
  {
   "cell_type": "markdown",
   "id": "f874a594-11b4-4dd2-9dc6-08f8fef64cf4",
   "metadata": {},
   "source": [
    "Here, you first call requests.get() to view the contents of the existing todo. Next, you call requests.put() with new JSON data to replace the existing to-do’s values. You can see the new values when you call response.json(). Successful PUT requests will always return 200 instead of 201 because you aren’t creating a new resource but just updating an existing one."
   ]
  },
  {
   "cell_type": "code",
   "execution_count": 22,
   "id": "1d17637f-4216-4a42-adf7-05133de2b3d3",
   "metadata": {
    "tags": []
   },
   "outputs": [
    {
     "data": {
      "text/plain": [
       "200"
      ]
     },
     "execution_count": 22,
     "metadata": {},
     "output_type": "execute_result"
    }
   ],
   "source": [
    "response.status_code"
   ]
  },
  {
   "cell_type": "markdown",
   "id": "4dffefdd-c6c4-484c-a9ca-080884f7f008",
   "metadata": {},
   "source": [
    "### PATCH\n",
    "Modifying(partially updating) an existing todo with new data (it doesn’t completely replace the existing resource)."
   ]
  },
  {
   "cell_type": "code",
   "execution_count": 25,
   "id": "54a71a54-9aa6-4166-899d-d17bde9f54e8",
   "metadata": {
    "tags": []
   },
   "outputs": [
    {
     "data": {
      "text/plain": [
       "{'userId': 1, 'id': 10, 'title': '幹你媽去死', 'completed': True}"
      ]
     },
     "execution_count": 25,
     "metadata": {},
     "output_type": "execute_result"
    }
   ],
   "source": [
    "api_url = \"https://jsonplaceholder.typicode.com/todos/10\" \n",
    "todo = {\"title\": \"幹你媽去死\"} #only change title\n",
    "response = req.patch(api_url, json=todo)\n",
    "response.json()"
   ]
  },
  {
   "cell_type": "code",
   "execution_count": 26,
   "id": "78348e10-5673-4af1-99fc-13fa9469a57a",
   "metadata": {
    "tags": []
   },
   "outputs": [
    {
     "data": {
      "text/plain": [
       "200"
      ]
     },
     "execution_count": 26,
     "metadata": {},
     "output_type": "execute_result"
    }
   ],
   "source": [
    "response.status_code"
   ]
  },
  {
   "cell_type": "code",
   "execution_count": null,
   "id": "a2a468e8-00d0-44ff-ae6f-635525e21aaa",
   "metadata": {},
   "outputs": [],
   "source": []
  }
 ],
 "metadata": {
  "kernelspec": {
   "display_name": "Python 3 (ipykernel)",
   "language": "python",
   "name": "python3"
  },
  "language_info": {
   "codemirror_mode": {
    "name": "ipython",
    "version": 3
   },
   "file_extension": ".py",
   "mimetype": "text/x-python",
   "name": "python",
   "nbconvert_exporter": "python",
   "pygments_lexer": "ipython3",
   "version": "3.10.9"
  }
 },
 "nbformat": 4,
 "nbformat_minor": 5
}
