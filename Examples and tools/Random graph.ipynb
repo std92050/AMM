{
 "cells": [
  {
   "cell_type": "markdown",
   "id": "dc24a306-cf6d-492e-81ef-85f059b77382",
   "metadata": {},
   "source": [
    "[igraph guide]'https://zhuanlan.zhihu.com/p/426397948'"
   ]
  },
  {
   "cell_type": "code",
   "execution_count": 1,
   "id": "db33ecd6-5adc-46d1-9743-404e3136e794",
   "metadata": {
    "tags": []
   },
   "outputs": [],
   "source": [
    "import igraph as ig"
   ]
  },
  {
   "cell_type": "code",
   "execution_count": 2,
   "id": "f48ca647-7769-48bd-9ae1-defc89e858b6",
   "metadata": {
    "tags": []
   },
   "outputs": [
    {
     "data": {
      "image/svg+xml": [
       "<?xml version=\"1.0\" encoding=\"UTF-8\"?>\n",
       "<svg xmlns=\"http://www.w3.org/2000/svg\" xmlns:xlink=\"http://www.w3.org/1999/xlink\" width=\"600\" height=\"600\" viewBox=\"0 0 600 600\">\n",
       "<rect x=\"-60\" y=\"-60\" width=\"720\" height=\"720\" fill=\"rgb(100%, 100%, 100%)\" fill-opacity=\"1\"/>\n",
       "<path fill=\"none\" stroke-width=\"1\" stroke-linecap=\"butt\" stroke-linejoin=\"miter\" stroke=\"rgb(26.666667%, 26.666667%, 26.666667%)\" stroke-opacity=\"1\" stroke-miterlimit=\"10\" d=\"M 116.382812 507.191406 L 20 328.769531 \"/>\n",
       "<path fill=\"none\" stroke-width=\"1\" stroke-linecap=\"butt\" stroke-linejoin=\"miter\" stroke=\"rgb(26.666667%, 26.666667%, 26.666667%)\" stroke-opacity=\"1\" stroke-miterlimit=\"10\" d=\"M 116.382812 507.191406 L 232.027344 153.292969 \"/>\n",
       "<path fill=\"none\" stroke-width=\"1\" stroke-linecap=\"butt\" stroke-linejoin=\"miter\" stroke=\"rgb(26.666667%, 26.666667%, 26.666667%)\" stroke-opacity=\"1\" stroke-miterlimit=\"10\" d=\"M 116.382812 507.191406 L 375.746094 580 \"/>\n",
       "<path fill=\"none\" stroke-width=\"1\" stroke-linecap=\"butt\" stroke-linejoin=\"miter\" stroke=\"rgb(26.666667%, 26.666667%, 26.666667%)\" stroke-opacity=\"1\" stroke-miterlimit=\"10\" d=\"M 20 328.769531 L 376.800781 421.292969 \"/>\n",
       "<path fill=\"none\" stroke-width=\"1\" stroke-linecap=\"butt\" stroke-linejoin=\"miter\" stroke=\"rgb(26.666667%, 26.666667%, 26.666667%)\" stroke-opacity=\"1\" stroke-miterlimit=\"10\" d=\"M 20 328.769531 L 99.445312 68.523438 \"/>\n",
       "<path fill=\"none\" stroke-width=\"1\" stroke-linecap=\"butt\" stroke-linejoin=\"miter\" stroke=\"rgb(26.666667%, 26.666667%, 26.666667%)\" stroke-opacity=\"1\" stroke-miterlimit=\"10\" d=\"M 376.800781 421.292969 L 482.75 188.632812 \"/>\n",
       "<path fill=\"none\" stroke-width=\"1\" stroke-linecap=\"butt\" stroke-linejoin=\"miter\" stroke=\"rgb(26.666667%, 26.666667%, 26.666667%)\" stroke-opacity=\"1\" stroke-miterlimit=\"10\" d=\"M 376.800781 421.292969 L 580 347.550781 \"/>\n",
       "<path fill=\"none\" stroke-width=\"1\" stroke-linecap=\"butt\" stroke-linejoin=\"miter\" stroke=\"rgb(26.666667%, 26.666667%, 26.666667%)\" stroke-opacity=\"1\" stroke-miterlimit=\"10\" d=\"M 482.75 188.632812 L 232.027344 153.292969 \"/>\n",
       "<path fill=\"none\" stroke-width=\"1\" stroke-linecap=\"butt\" stroke-linejoin=\"miter\" stroke=\"rgb(26.666667%, 26.666667%, 26.666667%)\" stroke-opacity=\"1\" stroke-miterlimit=\"10\" d=\"M 482.75 188.632812 L 253.105469 315.679688 \"/>\n",
       "<path fill=\"none\" stroke-width=\"1\" stroke-linecap=\"butt\" stroke-linejoin=\"miter\" stroke=\"rgb(26.666667%, 26.666667%, 26.666667%)\" stroke-opacity=\"1\" stroke-miterlimit=\"10\" d=\"M 232.027344 153.292969 L 403.058594 20 \"/>\n",
       "<path fill=\"none\" stroke-width=\"1\" stroke-linecap=\"butt\" stroke-linejoin=\"miter\" stroke=\"rgb(26.666667%, 26.666667%, 26.666667%)\" stroke-opacity=\"1\" stroke-miterlimit=\"10\" d=\"M 375.746094 580 L 580 347.550781 \"/>\n",
       "<path fill=\"none\" stroke-width=\"1\" stroke-linecap=\"butt\" stroke-linejoin=\"miter\" stroke=\"rgb(26.666667%, 26.666667%, 26.666667%)\" stroke-opacity=\"1\" stroke-miterlimit=\"10\" d=\"M 375.746094 580 L 253.105469 315.679688 \"/>\n",
       "<path fill=\"none\" stroke-width=\"1\" stroke-linecap=\"butt\" stroke-linejoin=\"miter\" stroke=\"rgb(26.666667%, 26.666667%, 26.666667%)\" stroke-opacity=\"1\" stroke-miterlimit=\"10\" d=\"M 99.445312 68.523438 L 253.105469 315.679688 \"/>\n",
       "<path fill=\"none\" stroke-width=\"1\" stroke-linecap=\"butt\" stroke-linejoin=\"miter\" stroke=\"rgb(26.666667%, 26.666667%, 26.666667%)\" stroke-opacity=\"1\" stroke-miterlimit=\"10\" d=\"M 99.445312 68.523438 L 403.058594 20 \"/>\n",
       "<path fill=\"none\" stroke-width=\"1\" stroke-linecap=\"butt\" stroke-linejoin=\"miter\" stroke=\"rgb(26.666667%, 26.666667%, 26.666667%)\" stroke-opacity=\"1\" stroke-miterlimit=\"10\" d=\"M 580 347.550781 L 403.058594 20 \"/>\n",
       "<path fill-rule=\"nonzero\" fill=\"rgb(100%, 0%, 0%)\" fill-opacity=\"1\" stroke-width=\"1\" stroke-linecap=\"butt\" stroke-linejoin=\"miter\" stroke=\"rgb(0%, 0%, 0%)\" stroke-opacity=\"1\" stroke-miterlimit=\"10\" d=\"M 126.382812 507.191406 C 126.382812 512.714844 121.90625 517.191406 116.382812 517.191406 C 110.859375 517.191406 106.382812 512.714844 106.382812 507.191406 C 106.382812 501.667969 110.859375 497.191406 116.382812 497.191406 C 121.90625 497.191406 126.382812 501.667969 126.382812 507.191406 \"/>\n",
       "<path fill-rule=\"nonzero\" fill=\"rgb(100%, 0%, 0%)\" fill-opacity=\"1\" stroke-width=\"1\" stroke-linecap=\"butt\" stroke-linejoin=\"miter\" stroke=\"rgb(0%, 0%, 0%)\" stroke-opacity=\"1\" stroke-miterlimit=\"10\" d=\"M 30 328.769531 C 30 334.292969 25.523438 338.769531 20 338.769531 C 14.476562 338.769531 10 334.292969 10 328.769531 C 10 323.246094 14.476562 318.769531 20 318.769531 C 25.523438 318.769531 30 323.246094 30 328.769531 \"/>\n",
       "<path fill-rule=\"nonzero\" fill=\"rgb(100%, 0%, 0%)\" fill-opacity=\"1\" stroke-width=\"1\" stroke-linecap=\"butt\" stroke-linejoin=\"miter\" stroke=\"rgb(0%, 0%, 0%)\" stroke-opacity=\"1\" stroke-miterlimit=\"10\" d=\"M 386.800781 421.292969 C 386.800781 426.816406 382.324219 431.292969 376.800781 431.292969 C 371.277344 431.292969 366.800781 426.816406 366.800781 421.292969 C 366.800781 415.773438 371.277344 411.292969 376.800781 411.292969 C 382.324219 411.292969 386.800781 415.773438 386.800781 421.292969 \"/>\n",
       "<path fill-rule=\"nonzero\" fill=\"rgb(100%, 0%, 0%)\" fill-opacity=\"1\" stroke-width=\"1\" stroke-linecap=\"butt\" stroke-linejoin=\"miter\" stroke=\"rgb(0%, 0%, 0%)\" stroke-opacity=\"1\" stroke-miterlimit=\"10\" d=\"M 492.75 188.632812 C 492.75 194.15625 488.273438 198.632812 482.75 198.632812 C 477.226562 198.632812 472.75 194.15625 472.75 188.632812 C 472.75 183.109375 477.226562 178.632812 482.75 178.632812 C 488.273438 178.632812 492.75 183.109375 492.75 188.632812 \"/>\n",
       "<path fill-rule=\"nonzero\" fill=\"rgb(100%, 0%, 0%)\" fill-opacity=\"1\" stroke-width=\"1\" stroke-linecap=\"butt\" stroke-linejoin=\"miter\" stroke=\"rgb(0%, 0%, 0%)\" stroke-opacity=\"1\" stroke-miterlimit=\"10\" d=\"M 242.027344 153.292969 C 242.027344 158.816406 237.550781 163.292969 232.027344 163.292969 C 226.503906 163.292969 222.027344 158.816406 222.027344 153.292969 C 222.027344 147.769531 226.503906 143.292969 232.027344 143.292969 C 237.550781 143.292969 242.027344 147.769531 242.027344 153.292969 \"/>\n",
       "<path fill-rule=\"nonzero\" fill=\"rgb(100%, 0%, 0%)\" fill-opacity=\"1\" stroke-width=\"1\" stroke-linecap=\"butt\" stroke-linejoin=\"miter\" stroke=\"rgb(0%, 0%, 0%)\" stroke-opacity=\"1\" stroke-miterlimit=\"10\" d=\"M 385.746094 580 C 385.746094 585.523438 381.265625 590 375.746094 590 C 370.222656 590 365.746094 585.523438 365.746094 580 C 365.746094 574.476562 370.222656 570 375.746094 570 C 381.265625 570 385.746094 574.476562 385.746094 580 \"/>\n",
       "<path fill-rule=\"nonzero\" fill=\"rgb(100%, 0%, 0%)\" fill-opacity=\"1\" stroke-width=\"1\" stroke-linecap=\"butt\" stroke-linejoin=\"miter\" stroke=\"rgb(0%, 0%, 0%)\" stroke-opacity=\"1\" stroke-miterlimit=\"10\" d=\"M 109.445312 68.523438 C 109.445312 74.042969 104.96875 78.523438 99.445312 78.523438 C 93.921875 78.523438 89.445312 74.042969 89.445312 68.523438 C 89.445312 63 93.921875 58.523438 99.445312 58.523438 C 104.96875 58.523438 109.445312 63 109.445312 68.523438 \"/>\n",
       "<path fill-rule=\"nonzero\" fill=\"rgb(100%, 0%, 0%)\" fill-opacity=\"1\" stroke-width=\"1\" stroke-linecap=\"butt\" stroke-linejoin=\"miter\" stroke=\"rgb(0%, 0%, 0%)\" stroke-opacity=\"1\" stroke-miterlimit=\"10\" d=\"M 590 347.550781 C 590 353.074219 585.523438 357.550781 580 357.550781 C 574.476562 357.550781 570 353.074219 570 347.550781 C 570 342.027344 574.476562 337.550781 580 337.550781 C 585.523438 337.550781 590 342.027344 590 347.550781 \"/>\n",
       "<path fill-rule=\"nonzero\" fill=\"rgb(100%, 0%, 0%)\" fill-opacity=\"1\" stroke-width=\"1\" stroke-linecap=\"butt\" stroke-linejoin=\"miter\" stroke=\"rgb(0%, 0%, 0%)\" stroke-opacity=\"1\" stroke-miterlimit=\"10\" d=\"M 263.105469 315.679688 C 263.105469 321.203125 258.625 325.679688 253.105469 325.679688 C 247.582031 325.679688 243.105469 321.203125 243.105469 315.679688 C 243.105469 310.15625 247.582031 305.679688 253.105469 305.679688 C 258.625 305.679688 263.105469 310.15625 263.105469 315.679688 \"/>\n",
       "<path fill-rule=\"nonzero\" fill=\"rgb(100%, 0%, 0%)\" fill-opacity=\"1\" stroke-width=\"1\" stroke-linecap=\"butt\" stroke-linejoin=\"miter\" stroke=\"rgb(0%, 0%, 0%)\" stroke-opacity=\"1\" stroke-miterlimit=\"10\" d=\"M 413.058594 20 C 413.058594 25.523438 408.582031 30 403.058594 30 C 397.535156 30 393.058594 25.523438 393.058594 20 C 393.058594 14.476562 397.535156 10 403.058594 10 C 408.582031 10 413.058594 14.476562 413.058594 20 \"/>\n",
       "</svg>\n"
      ],
      "text/plain": [
       "<igraph.drawing.cairo.plot.CairoPlot at 0x2b226705d50>"
      ]
     },
     "execution_count": 2,
     "metadata": {
      "image/svg+xml": {
       "isolated": true
      }
     },
     "output_type": "execute_result"
    }
   ],
   "source": [
    "petersen = ig.Graph.Famous(\"petersen\")\n",
    "ig.plot(petersen)"
   ]
  },
  {
   "cell_type": "markdown",
   "id": "69894333-cd8e-4cd0-9635-0f507ec72784",
   "metadata": {},
   "source": [
    "Create a new graph. Print gives us number of vertices and edges.  "
   ]
  },
  {
   "cell_type": "code",
   "execution_count": 5,
   "id": "4431ff1c-40b3-4c70-9e37-641c41c2ddd1",
   "metadata": {
    "tags": []
   },
   "outputs": [
    {
     "name": "stdout",
     "output_type": "stream",
     "text": [
      "IGRAPH U--- 0 0 --\n"
     ]
    }
   ],
   "source": [
    "g=ig.Graph()\n",
    "print(g)"
   ]
  },
  {
   "cell_type": "code",
   "execution_count": 8,
   "id": "c0118a68-b901-4c4a-b063-6042ca363db6",
   "metadata": {
    "tags": []
   },
   "outputs": [
    {
     "name": "stdout",
     "output_type": "stream",
     "text": [
      "IGRAPH U--- 12 14 --\n",
      "+ edges:\n",
      "0--1 1--2 0--2 2--3 3--4 4--5 3--5 0--1 1--2 0--2 2--3 3--4 4--5 3--5\n"
     ]
    }
   ],
   "source": [
    "#add vertices and eddges\n",
    "g.add_vertices(6)\n",
    "g.add_edges([(0, 1), (1, 2), (2, 0), (2, 3), (3, 4), (4, 5), (5, 3)])\n",
    "print(g)"
   ]
  },
  {
   "cell_type": "code",
   "execution_count": 7,
   "id": "44b46e69-e316-47f2-9e2c-41531f4a385b",
   "metadata": {
    "tags": []
   },
   "outputs": [
    {
     "data": {
      "image/svg+xml": [
       "<?xml version=\"1.0\" encoding=\"UTF-8\"?>\n",
       "<svg xmlns=\"http://www.w3.org/2000/svg\" xmlns:xlink=\"http://www.w3.org/1999/xlink\" width=\"600\" height=\"600\" viewBox=\"0 0 600 600\">\n",
       "<rect x=\"-60\" y=\"-60\" width=\"720\" height=\"720\" fill=\"rgb(100%, 100%, 100%)\" fill-opacity=\"1\"/>\n",
       "<path fill=\"none\" stroke-width=\"1\" stroke-linecap=\"butt\" stroke-linejoin=\"miter\" stroke=\"rgb(26.666667%, 26.666667%, 26.666667%)\" stroke-opacity=\"1\" stroke-miterlimit=\"10\" d=\"M 580 506.484375 L 329.621094 580 \"/>\n",
       "<path fill=\"none\" stroke-width=\"1\" stroke-linecap=\"butt\" stroke-linejoin=\"miter\" stroke=\"rgb(26.666667%, 26.666667%, 26.666667%)\" stroke-opacity=\"1\" stroke-miterlimit=\"10\" d=\"M 329.621094 580 L 356.914062 389.425781 \"/>\n",
       "<path fill=\"none\" stroke-width=\"1\" stroke-linecap=\"butt\" stroke-linejoin=\"miter\" stroke=\"rgb(26.666667%, 26.666667%, 26.666667%)\" stroke-opacity=\"1\" stroke-miterlimit=\"10\" d=\"M 580 506.484375 L 356.914062 389.425781 \"/>\n",
       "<path fill=\"none\" stroke-width=\"1\" stroke-linecap=\"butt\" stroke-linejoin=\"miter\" stroke=\"rgb(26.666667%, 26.666667%, 26.666667%)\" stroke-opacity=\"1\" stroke-miterlimit=\"10\" d=\"M 356.914062 389.425781 L 243.085938 210.574219 \"/>\n",
       "<path fill=\"none\" stroke-width=\"1\" stroke-linecap=\"butt\" stroke-linejoin=\"miter\" stroke=\"rgb(26.666667%, 26.666667%, 26.666667%)\" stroke-opacity=\"1\" stroke-miterlimit=\"10\" d=\"M 243.085938 210.574219 L 20 93.515625 \"/>\n",
       "<path fill=\"none\" stroke-width=\"1\" stroke-linecap=\"butt\" stroke-linejoin=\"miter\" stroke=\"rgb(26.666667%, 26.666667%, 26.666667%)\" stroke-opacity=\"1\" stroke-miterlimit=\"10\" d=\"M 20 93.515625 L 270.378906 20 \"/>\n",
       "<path fill=\"none\" stroke-width=\"1\" stroke-linecap=\"butt\" stroke-linejoin=\"miter\" stroke=\"rgb(26.666667%, 26.666667%, 26.666667%)\" stroke-opacity=\"1\" stroke-miterlimit=\"10\" d=\"M 243.085938 210.574219 L 270.378906 20 \"/>\n",
       "<path fill-rule=\"nonzero\" fill=\"rgb(100%, 0%, 0%)\" fill-opacity=\"1\" stroke-width=\"1\" stroke-linecap=\"butt\" stroke-linejoin=\"miter\" stroke=\"rgb(0%, 0%, 0%)\" stroke-opacity=\"1\" stroke-miterlimit=\"10\" d=\"M 590 506.484375 C 590 512.007812 585.523438 516.484375 580 516.484375 C 574.476562 516.484375 570 512.007812 570 506.484375 C 570 500.960938 574.476562 496.484375 580 496.484375 C 585.523438 496.484375 590 500.960938 590 506.484375 \"/>\n",
       "<path fill-rule=\"nonzero\" fill=\"rgb(100%, 0%, 0%)\" fill-opacity=\"1\" stroke-width=\"1\" stroke-linecap=\"butt\" stroke-linejoin=\"miter\" stroke=\"rgb(0%, 0%, 0%)\" stroke-opacity=\"1\" stroke-miterlimit=\"10\" d=\"M 339.621094 580 C 339.621094 585.523438 335.144531 590 329.621094 590 C 324.097656 590 319.621094 585.523438 319.621094 580 C 319.621094 574.476562 324.097656 570 329.621094 570 C 335.144531 570 339.621094 574.476562 339.621094 580 \"/>\n",
       "<path fill-rule=\"nonzero\" fill=\"rgb(100%, 0%, 0%)\" fill-opacity=\"1\" stroke-width=\"1\" stroke-linecap=\"butt\" stroke-linejoin=\"miter\" stroke=\"rgb(0%, 0%, 0%)\" stroke-opacity=\"1\" stroke-miterlimit=\"10\" d=\"M 366.914062 389.425781 C 366.914062 394.949219 362.4375 399.425781 356.914062 399.425781 C 351.394531 399.425781 346.914062 394.949219 346.914062 389.425781 C 346.914062 383.902344 351.394531 379.425781 356.914062 379.425781 C 362.4375 379.425781 366.914062 383.902344 366.914062 389.425781 \"/>\n",
       "<path fill-rule=\"nonzero\" fill=\"rgb(100%, 0%, 0%)\" fill-opacity=\"1\" stroke-width=\"1\" stroke-linecap=\"butt\" stroke-linejoin=\"miter\" stroke=\"rgb(0%, 0%, 0%)\" stroke-opacity=\"1\" stroke-miterlimit=\"10\" d=\"M 253.085938 210.574219 C 253.085938 216.097656 248.605469 220.574219 243.085938 220.574219 C 237.5625 220.574219 233.085938 216.097656 233.085938 210.574219 C 233.085938 205.050781 237.5625 200.574219 243.085938 200.574219 C 248.605469 200.574219 253.085938 205.050781 253.085938 210.574219 \"/>\n",
       "<path fill-rule=\"nonzero\" fill=\"rgb(100%, 0%, 0%)\" fill-opacity=\"1\" stroke-width=\"1\" stroke-linecap=\"butt\" stroke-linejoin=\"miter\" stroke=\"rgb(0%, 0%, 0%)\" stroke-opacity=\"1\" stroke-miterlimit=\"10\" d=\"M 30 93.515625 C 30 99.039062 25.523438 103.515625 20 103.515625 C 14.476562 103.515625 10 99.039062 10 93.515625 C 10 87.992188 14.476562 83.515625 20 83.515625 C 25.523438 83.515625 30 87.992188 30 93.515625 \"/>\n",
       "<path fill-rule=\"nonzero\" fill=\"rgb(100%, 0%, 0%)\" fill-opacity=\"1\" stroke-width=\"1\" stroke-linecap=\"butt\" stroke-linejoin=\"miter\" stroke=\"rgb(0%, 0%, 0%)\" stroke-opacity=\"1\" stroke-miterlimit=\"10\" d=\"M 280.378906 20 C 280.378906 25.523438 275.902344 30 270.378906 30 C 264.855469 30 260.378906 25.523438 260.378906 20 C 260.378906 14.476562 264.855469 10 270.378906 10 C 275.902344 10 280.378906 14.476562 280.378906 20 \"/>\n",
       "</svg>\n"
      ],
      "text/plain": [
       "<igraph.drawing.cairo.plot.CairoPlot at 0x2b226cd87c0>"
      ]
     },
     "execution_count": 7,
     "metadata": {
      "image/svg+xml": {
       "isolated": true
      }
     },
     "output_type": "execute_result"
    }
   ],
   "source": [
    "ig.plot(g)"
   ]
  },
  {
   "cell_type": "code",
   "execution_count": null,
   "id": "74ae4788-327b-46f3-95dc-ba91233ed0dd",
   "metadata": {},
   "outputs": [],
   "source": []
  }
 ],
 "metadata": {
  "kernelspec": {
   "display_name": "Python 3 (ipykernel)",
   "language": "python",
   "name": "python3"
  },
  "language_info": {
   "codemirror_mode": {
    "name": "ipython",
    "version": 3
   },
   "file_extension": ".py",
   "mimetype": "text/x-python",
   "name": "python",
   "nbconvert_exporter": "python",
   "pygments_lexer": "ipython3",
   "version": "3.10.13"
  }
 },
 "nbformat": 4,
 "nbformat_minor": 5
}
