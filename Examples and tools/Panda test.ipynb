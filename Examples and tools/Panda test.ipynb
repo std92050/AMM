{
 "cells": [
  {
   "cell_type": "code",
   "execution_count": 1,
   "id": "f458718b-3d2c-49bd-8561-f0aea862356f",
   "metadata": {
    "tags": []
   },
   "outputs": [],
   "source": [
    "import numpy as np\n",
    "import matplotlib.pyplot as plt\n",
    "import pandas as pd \n",
    "import IPython.display "
   ]
  },
  {
   "cell_type": "markdown",
   "id": "5f0c7ffa-25ce-4849-963d-01cd4da91960",
   "metadata": {
    "tags": []
   },
   "source": [
    "### Cheat sheet"
   ]
  },
  {
   "cell_type": "code",
   "execution_count": 8,
   "id": "d153587f-c99a-4e68-b909-b65881dec819",
   "metadata": {
    "tags": []
   },
   "outputs": [
    {
     "data": {
      "text/html": [
       "\n",
       "        <iframe\n",
       "            width=\"800\"\n",
       "            height=\"600\"\n",
       "            src=\"https://pandas.pydata.org/Pandas_Cheat_Sheet.pdf\"\n",
       "            frameborder=\"0\"\n",
       "            allowfullscreen\n",
       "            \n",
       "        ></iframe>\n",
       "        "
      ],
      "text/plain": [
       "<IPython.lib.display.IFrame at 0x18453ba9000>"
      ]
     },
     "execution_count": 8,
     "metadata": {},
     "output_type": "execute_result"
    }
   ],
   "source": [
    "IPython.display.IFrame(\"https://pandas.pydata.org/Pandas_Cheat_Sheet.pdf\" ,width=\"800\", height=\"600\")"
   ]
  },
  {
   "cell_type": "markdown",
   "id": "3e3e3409-8294-4d3d-8620-deb3d32b34e9",
   "metadata": {},
   "source": [
    "### Series"
   ]
  },
  {
   "cell_type": "markdown",
   "id": "0ed0d1fd-cc30-45c7-8ad8-eafdea6f6f59",
   "metadata": {},
   "source": [
    "#### Creating series from array"
   ]
  },
  {
   "cell_type": "code",
   "execution_count": 12,
   "id": "355dacc9-7599-4ccf-8335-f1b5c6a03143",
   "metadata": {},
   "outputs": [
    {
     "name": "stdout",
     "output_type": "stream",
     "text": [
      "Pandas Series:  Series([], dtype: object)\n",
      "Pandas Series:\n",
      " 0    g\n",
      "1    e\n",
      "2    e\n",
      "3    k\n",
      "4    s\n",
      "dtype: object\n"
     ]
    }
   ],
   "source": [
    "\n",
    "ser = pd.Series()\n",
    "print(\"Pandas Series: \", ser)\n",
    "\n",
    "# simple array\n",
    "data = np.array(['g', 'e', 'e', 'k', 's'])\n",
    "\t\n",
    "ser = pd.Series(data)\n",
    "print(\"Pandas Series:\\n\", ser)"
   ]
  },
  {
   "cell_type": "code",
   "execution_count": 56,
   "id": "fb5996bf-dd78-47f5-8f62-f84843deb1da",
   "metadata": {
    "tags": []
   },
   "outputs": [
    {
     "data": {
      "text/plain": [
       "(RangeIndex(start=0, stop=5, step=1),\n",
       " array(['g', 'e', 'e', 'k', 's'], dtype=object))"
      ]
     },
     "execution_count": 56,
     "metadata": {},
     "output_type": "execute_result"
    }
   ],
   "source": [
    "ser.index , ser.values   # index -- row labels (default) or row labels index"
   ]
  },
  {
   "cell_type": "markdown",
   "id": "23e3b159-53aa-4f09-96fa-c8b1cca6166d",
   "metadata": {},
   "source": [
    "#### Create series from dic"
   ]
  },
  {
   "cell_type": "code",
   "execution_count": 55,
   "id": "90e0dd12-b396-412a-ac1e-decc1490471a",
   "metadata": {
    "tags": []
   },
   "outputs": [
    {
     "data": {
      "text/plain": [
       "100    中正區\n",
       "103    大同區\n",
       "104    中山區\n",
       "105    松山區\n",
       "106    大安區\n",
       "108    萬華區\n",
       "110    信義區\n",
       "111    士林區\n",
       "112    北投區\n",
       "114    內湖區\n",
       "115    南港區\n",
       "116    文山區\n",
       "dtype: object"
      ]
     },
     "execution_count": 55,
     "metadata": {},
     "output_type": "execute_result"
    }
   ],
   "source": [
    "\n",
    "zip_codes ={\"100\":\"中正區\",\"103\":\"大同區\",\"104\":\"中山區\",\"105\":\"松山區\",\"106\":\"大安區\",\"108\":\"萬華區\",\"110\":\"信義區\",\"111\":\"士林區\",\"112\":\"北投區\",\"114\":\"內湖區\",\"115\":\"南港區\",\"116\":\"文山區\" } \n",
    "code = pd.Series(zip_codes)\n",
    "code"
   ]
  },
  {
   "cell_type": "code",
   "execution_count": 15,
   "id": "8f76f373-57f5-4f6b-bb22-06f11a9e8a1d",
   "metadata": {
    "tags": []
   },
   "outputs": [
    {
     "data": {
      "text/plain": [
       "(Index(['100', '103', '104', '105', '106', '108', '110', '111', '112', '114',\n",
       "        '115', '116'],\n",
       "       dtype='object'),\n",
       " array(['中正區', '大同區', '中山區', '松山區', '大安區', '萬華區', '信義區', '士林區', '北投區',\n",
       "        '內湖區', '南港區', '文山區'], dtype=object))"
      ]
     },
     "execution_count": 15,
     "metadata": {},
     "output_type": "execute_result"
    }
   ],
   "source": [
    "code.index , code.values"
   ]
  },
  {
   "cell_type": "code",
   "execution_count": 16,
   "id": "b807dfa9-aaaf-43e1-93f5-ba92a4896800",
   "metadata": {
    "tags": []
   },
   "outputs": [
    {
     "data": {
      "text/plain": [
       "('中山區', '中山區', True)"
      ]
     },
     "execution_count": 16,
     "metadata": {},
     "output_type": "execute_result"
    }
   ],
   "source": [
    "code[2] , code['104'] , code[2] == code['104'] # acess via label or index"
   ]
  },
  {
   "cell_type": "code",
   "execution_count": 17,
   "id": "6f0b6b25-34f9-49df-8185-2cfb0f817a76",
   "metadata": {
    "tags": []
   },
   "outputs": [
    {
     "data": {
      "text/plain": [
       "(104    中山區\n",
       " 105    松山區\n",
       " 106    大安區\n",
       " 108    萬華區\n",
       " 110    信義區\n",
       " 111    士林區\n",
       " dtype: object,\n",
       " '士林區')"
      ]
     },
     "execution_count": 17,
     "metadata": {},
     "output_type": "execute_result"
    }
   ],
   "source": [
    "code[2:8] , code[7]"
   ]
  },
  {
   "cell_type": "code",
   "execution_count": 18,
   "id": "b2ebc323-173d-451b-834a-d77c1db0cba6",
   "metadata": {
    "tags": []
   },
   "outputs": [
    {
     "data": {
      "text/plain": [
       "(100    中正區\n",
       " 103    大同區\n",
       " 104    中山區\n",
       " 105    松山區\n",
       " 106    大安區\n",
       " 108    萬華區\n",
       " 110    信義區\n",
       " 111    士林區\n",
       " 112    北投區\n",
       " 114    內湖區\n",
       " 115    南港區\n",
       " dtype: object,\n",
       " 100    中正區\n",
       " 103    大同區\n",
       " dtype: object)"
      ]
     },
     "execution_count": 18,
     "metadata": {},
     "output_type": "execute_result"
    }
   ],
   "source": [
    "code.head(-1) , code.head(2)"
   ]
  },
  {
   "cell_type": "markdown",
   "id": "c618a2a1-823f-4f68-b741-d783c9e1514a",
   "metadata": {},
   "source": [
    "#### Series operation"
   ]
  },
  {
   "cell_type": "code",
   "execution_count": 19,
   "id": "e808809f-7042-4212-9f3a-a333d30afbc9",
   "metadata": {
    "tags": []
   },
   "outputs": [
    {
     "data": {
      "text/plain": [
       "(godtone             2\n",
       " peko              0.4\n",
       " kuuga              rr\n",
       " miko       2277836476\n",
       " dtype: object,\n",
       " '------------',\n",
       " godtone    0.0\n",
       " peko       0.0\n",
       " kuuga      0.0\n",
       " miko       0.0\n",
       " dtype: float64,\n",
       " '---------------',\n",
       " godtone    1.522756e+06\n",
       " peko       4.000000e-02\n",
       " kuuga      1.049890e+01\n",
       " miko       4.462483e+02\n",
       " dtype: float64)"
      ]
     },
     "execution_count": 19,
     "metadata": {},
     "output_type": "execute_result"
    }
   ],
   "source": [
    "index = {\"peko\" , \"miko\" , \"godtone\" , \"kuuga\"}\n",
    "data_s1 = pd.Series( [1,0.2,\"r\",1138918238] , index)\n",
    "data_s2 = pd.Series( [1234,0.2,3.240201,21.12459] , index)\n",
    "\n",
    "data_s1+ data_s1  , \"------------\",data_s2-data_s2 ,\"---------------\" , data_s2 *data_s2"
   ]
  },
  {
   "cell_type": "markdown",
   "id": "dd9309c2-d901-4e44-aa8b-716f9b84d5ba",
   "metadata": {},
   "source": [
    "One can refer to https://www.geeksforgeeks.org/python-pandas-series/?ref=lbp for more operations"
   ]
  },
  {
   "cell_type": "markdown",
   "id": "4e29de11-3f45-455e-b5a3-634ed384348d",
   "metadata": {},
   "source": [
    "#### Misc property"
   ]
  },
  {
   "cell_type": "code",
   "execution_count": 20,
   "id": "3376f6a9-656d-4611-b0fc-a319ccf138f0",
   "metadata": {
    "tags": []
   },
   "outputs": [
    {
     "data": {
      "text/plain": [
       "[1, 0.2, 'r', 1138918238]"
      ]
     },
     "execution_count": 20,
     "metadata": {},
     "output_type": "execute_result"
    }
   ],
   "source": [
    "#change to list\n",
    "data_s1.tolist()"
   ]
  },
  {
   "cell_type": "code",
   "execution_count": 21,
   "id": "4d45b848-da3c-4bea-9d3b-ea0c2c8197ac",
   "metadata": {
    "tags": []
   },
   "outputs": [
    {
     "data": {
      "text/plain": [
       "1"
      ]
     },
     "execution_count": 21,
     "metadata": {},
     "output_type": "execute_result"
    }
   ],
   "source": [
    "#data is mutable\n",
    "data_s1[\"peko\"]=1\n",
    "data_s1[\"peko\"]"
   ]
  },
  {
   "cell_type": "markdown",
   "id": "b0aae0c5-b5b4-44d0-960b-6840614d21d4",
   "metadata": {},
   "source": [
    "### Data frame"
   ]
  },
  {
   "cell_type": "code",
   "execution_count": 22,
   "id": "e87d20ac-3be9-4f26-a1aa-f8ea06831f1c",
   "metadata": {
    "tags": []
   },
   "outputs": [
    {
     "name": "stdout",
     "output_type": "stream",
     "text": [
      "Empty DataFrame\n",
      "Columns: []\n",
      "Index: []\n"
     ]
    }
   ],
   "source": [
    "# Calling DataFrame constructor\n",
    "df = pd.DataFrame()\n",
    "print(df)"
   ]
  },
  {
   "cell_type": "code",
   "execution_count": 43,
   "id": "dcd2ff90-8527-4f3b-9911-05fa007a93ec",
   "metadata": {
    "tags": []
   },
   "outputs": [
    {
     "data": {
      "text/html": [
       "<div>\n",
       "<style scoped>\n",
       "    .dataframe tbody tr th:only-of-type {\n",
       "        vertical-align: middle;\n",
       "    }\n",
       "\n",
       "    .dataframe tbody tr th {\n",
       "        vertical-align: top;\n",
       "    }\n",
       "\n",
       "    .dataframe thead th {\n",
       "        text-align: right;\n",
       "    }\n",
       "</style>\n",
       "<table border=\"1\" class=\"dataframe\">\n",
       "  <thead>\n",
       "    <tr style=\"text-align: right;\">\n",
       "      <th></th>\n",
       "      <th>name</th>\n",
       "      <th>age</th>\n",
       "      <th>weight</th>\n",
       "    </tr>\n",
       "  </thead>\n",
       "  <tbody>\n",
       "    <tr>\n",
       "      <th>0</th>\n",
       "      <td>peko</td>\n",
       "      <td>110</td>\n",
       "      <td>90</td>\n",
       "    </tr>\n",
       "    <tr>\n",
       "      <th>1</th>\n",
       "      <td>miko</td>\n",
       "      <td>35</td>\n",
       "      <td>40</td>\n",
       "    </tr>\n",
       "    <tr>\n",
       "      <th>2</th>\n",
       "      <td>suiesei</td>\n",
       "      <td>4</td>\n",
       "      <td>80</td>\n",
       "    </tr>\n",
       "    <tr>\n",
       "      <th>3</th>\n",
       "      <td>godtone</td>\n",
       "      <td>50</td>\n",
       "      <td>87</td>\n",
       "    </tr>\n",
       "  </tbody>\n",
       "</table>\n",
       "</div>"
      ],
      "text/plain": [
       "      name  age  weight\n",
       "0     peko  110      90\n",
       "1     miko   35      40\n",
       "2  suiesei    4      80\n",
       "3  godtone   50      87"
      ]
     },
     "execution_count": 43,
     "metadata": {},
     "output_type": "execute_result"
    }
   ],
   "source": [
    "# DataFrame from dict narray / lists\n",
    "# initialise data of lists.\n",
    "data_dict ={'name':[\"peko\", \"miko\", \"suiesei\", \"godtone\"],\n",
    "        'age': [110, 35, 4, 50],\n",
    "        'weight':[90, 40, 80, 87]}\n",
    "# Create DataFrame\n",
    "df = pd.DataFrame(data_dict)\n",
    "# Print the output.\n",
    "df\n",
    "# index--row labels , key--column labels , values -- talbe element "
   ]
  },
  {
   "cell_type": "code",
   "execution_count": 54,
   "id": "0f60d10a-985e-4aaa-9dfc-8dcc5b368386",
   "metadata": {
    "tags": []
   },
   "outputs": [
    {
     "data": {
      "text/plain": [
       "(Index(['name', 'age', 'weight'], dtype='object'),\n",
       " RangeIndex(start=0, stop=4, step=1))"
      ]
     },
     "execution_count": 54,
     "metadata": {},
     "output_type": "execute_result"
    }
   ],
   "source": [
    "df.keys()  , df.index"
   ]
  },
  {
   "cell_type": "code",
   "execution_count": 25,
   "id": "b6a0ab75-9766-4003-8c81-9c7ce627c83a",
   "metadata": {
    "tags": []
   },
   "outputs": [
    {
     "data": {
      "text/plain": [
       "name      [peko, miko, suiesei, godtone]\n",
       "age                     [110, 35, 4, 50]\n",
       "weight                  [90, 40, 80, 87]\n",
       "dtype: object"
      ]
     },
     "execution_count": 25,
     "metadata": {},
     "output_type": "execute_result"
    }
   ],
   "source": [
    "pd.Series(data_dict)"
   ]
  },
  {
   "cell_type": "code",
   "execution_count": 26,
   "id": "d88da268-f9ad-4cb0-8278-0bad0da519fe",
   "metadata": {
    "tags": []
   },
   "outputs": [
    {
     "name": "stdout",
     "output_type": "stream",
     "text": [
      "its data type is <class 'pandas.core.series.Series'>\n"
     ]
    },
    {
     "data": {
      "text/plain": [
       "0       peko\n",
       "1       miko\n",
       "2    suiesei\n",
       "3    godtone\n",
       "Name: name, dtype: object"
      ]
     },
     "execution_count": 26,
     "metadata": {},
     "output_type": "execute_result"
    }
   ],
   "source": [
    "print( \"its data type is\" , type(df['name']))\n",
    "df['name'] "
   ]
  },
  {
   "cell_type": "code",
   "execution_count": 51,
   "id": "87ddd033-8505-491b-863a-05759cdef1fb",
   "metadata": {
    "tags": []
   },
   "outputs": [
    {
     "data": {
      "text/html": [
       "<div>\n",
       "<style scoped>\n",
       "    .dataframe tbody tr th:only-of-type {\n",
       "        vertical-align: middle;\n",
       "    }\n",
       "\n",
       "    .dataframe tbody tr th {\n",
       "        vertical-align: top;\n",
       "    }\n",
       "\n",
       "    .dataframe thead th {\n",
       "        text-align: right;\n",
       "    }\n",
       "</style>\n",
       "<table border=\"1\" class=\"dataframe\">\n",
       "  <thead>\n",
       "    <tr style=\"text-align: right;\">\n",
       "      <th></th>\n",
       "      <th>weight</th>\n",
       "      <th>name</th>\n",
       "    </tr>\n",
       "  </thead>\n",
       "  <tbody>\n",
       "    <tr>\n",
       "      <th>0</th>\n",
       "      <td>90</td>\n",
       "      <td>peko</td>\n",
       "    </tr>\n",
       "    <tr>\n",
       "      <th>1</th>\n",
       "      <td>40</td>\n",
       "      <td>miko</td>\n",
       "    </tr>\n",
       "    <tr>\n",
       "      <th>2</th>\n",
       "      <td>80</td>\n",
       "      <td>suiesei</td>\n",
       "    </tr>\n",
       "    <tr>\n",
       "      <th>3</th>\n",
       "      <td>87</td>\n",
       "      <td>godtone</td>\n",
       "    </tr>\n",
       "  </tbody>\n",
       "</table>\n",
       "</div>"
      ],
      "text/plain": [
       "   weight     name\n",
       "0      90     peko\n",
       "1      40     miko\n",
       "2      80  suiesei\n",
       "3      87  godtone"
      ]
     },
     "execution_count": 51,
     "metadata": {},
     "output_type": "execute_result"
    }
   ],
   "source": [
    "df[['weight','name']] #this is a (sub)dataframe"
   ]
  },
  {
   "cell_type": "code",
   "execution_count": 47,
   "id": "f30ba31c-4266-49cb-83a7-9bcfee6f9e60",
   "metadata": {
    "tags": []
   },
   "outputs": [
    {
     "data": {
      "text/html": [
       "<div>\n",
       "<style scoped>\n",
       "    .dataframe tbody tr th:only-of-type {\n",
       "        vertical-align: middle;\n",
       "    }\n",
       "\n",
       "    .dataframe tbody tr th {\n",
       "        vertical-align: top;\n",
       "    }\n",
       "\n",
       "    .dataframe thead th {\n",
       "        text-align: right;\n",
       "    }\n",
       "</style>\n",
       "<table border=\"1\" class=\"dataframe\">\n",
       "  <thead>\n",
       "    <tr style=\"text-align: right;\">\n",
       "      <th></th>\n",
       "      <th>age</th>\n",
       "      <th>weight</th>\n",
       "    </tr>\n",
       "  </thead>\n",
       "  <tbody>\n",
       "    <tr>\n",
       "      <th>count</th>\n",
       "      <td>4.00</td>\n",
       "      <td>4.000000</td>\n",
       "    </tr>\n",
       "    <tr>\n",
       "      <th>mean</th>\n",
       "      <td>49.75</td>\n",
       "      <td>74.250000</td>\n",
       "    </tr>\n",
       "    <tr>\n",
       "      <th>std</th>\n",
       "      <td>44.50</td>\n",
       "      <td>23.214579</td>\n",
       "    </tr>\n",
       "    <tr>\n",
       "      <th>min</th>\n",
       "      <td>4.00</td>\n",
       "      <td>40.000000</td>\n",
       "    </tr>\n",
       "    <tr>\n",
       "      <th>25%</th>\n",
       "      <td>27.25</td>\n",
       "      <td>70.000000</td>\n",
       "    </tr>\n",
       "    <tr>\n",
       "      <th>50%</th>\n",
       "      <td>42.50</td>\n",
       "      <td>83.500000</td>\n",
       "    </tr>\n",
       "    <tr>\n",
       "      <th>75%</th>\n",
       "      <td>65.00</td>\n",
       "      <td>87.750000</td>\n",
       "    </tr>\n",
       "    <tr>\n",
       "      <th>max</th>\n",
       "      <td>110.00</td>\n",
       "      <td>90.000000</td>\n",
       "    </tr>\n",
       "  </tbody>\n",
       "</table>\n",
       "</div>"
      ],
      "text/plain": [
       "          age     weight\n",
       "count    4.00   4.000000\n",
       "mean    49.75  74.250000\n",
       "std     44.50  23.214579\n",
       "min      4.00  40.000000\n",
       "25%     27.25  70.000000\n",
       "50%     42.50  83.500000\n",
       "75%     65.00  87.750000\n",
       "max    110.00  90.000000"
      ]
     },
     "execution_count": 47,
     "metadata": {},
     "output_type": "execute_result"
    }
   ],
   "source": [
    "df.describe()"
   ]
  },
  {
   "cell_type": "code",
   "execution_count": 48,
   "id": "a1bdb95e-234a-4b91-bd08-fc456f882608",
   "metadata": {
    "tags": []
   },
   "outputs": [
    {
     "data": {
      "text/plain": [
       "count      4.00\n",
       "mean      49.75\n",
       "std       44.50\n",
       "min        4.00\n",
       "25%       27.25\n",
       "50%       42.50\n",
       "75%       65.00\n",
       "max      110.00\n",
       "Name: age, dtype: float64"
      ]
     },
     "execution_count": 48,
     "metadata": {},
     "output_type": "execute_result"
    }
   ],
   "source": [
    "df[\"age\"].describe()"
   ]
  },
  {
   "cell_type": "markdown",
   "id": "0b894194-1fbc-4a1e-b55a-1c148df2cb20",
   "metadata": {},
   "source": [
    "### CSV example"
   ]
  },
  {
   "cell_type": "code",
   "execution_count": 2,
   "id": "b78c8e17-85af-4c18-8ff6-5fc4b79ef3da",
   "metadata": {},
   "outputs": [
    {
     "data": {
      "text/html": [
       "<div>\n",
       "<style scoped>\n",
       "    .dataframe tbody tr th:only-of-type {\n",
       "        vertical-align: middle;\n",
       "    }\n",
       "\n",
       "    .dataframe tbody tr th {\n",
       "        vertical-align: top;\n",
       "    }\n",
       "\n",
       "    .dataframe thead th {\n",
       "        text-align: right;\n",
       "    }\n",
       "</style>\n",
       "<table border=\"1\" class=\"dataframe\">\n",
       "  <thead>\n",
       "    <tr style=\"text-align: right;\">\n",
       "      <th></th>\n",
       "      <th>Name</th>\n",
       "      <th>Team</th>\n",
       "      <th>Number</th>\n",
       "      <th>Position</th>\n",
       "      <th>Age</th>\n",
       "      <th>Height</th>\n",
       "      <th>Weight</th>\n",
       "      <th>College</th>\n",
       "      <th>Salary</th>\n",
       "    </tr>\n",
       "  </thead>\n",
       "  <tbody>\n",
       "    <tr>\n",
       "      <th>0</th>\n",
       "      <td>Avery Bradley</td>\n",
       "      <td>Boston Celtics</td>\n",
       "      <td>0.0</td>\n",
       "      <td>PG</td>\n",
       "      <td>25.0</td>\n",
       "      <td>6-2</td>\n",
       "      <td>180.0</td>\n",
       "      <td>Texas</td>\n",
       "      <td>7730337.0</td>\n",
       "    </tr>\n",
       "    <tr>\n",
       "      <th>1</th>\n",
       "      <td>Jae Crowder</td>\n",
       "      <td>Boston Celtics</td>\n",
       "      <td>99.0</td>\n",
       "      <td>SF</td>\n",
       "      <td>25.0</td>\n",
       "      <td>6-6</td>\n",
       "      <td>235.0</td>\n",
       "      <td>Marquette</td>\n",
       "      <td>6796117.0</td>\n",
       "    </tr>\n",
       "    <tr>\n",
       "      <th>2</th>\n",
       "      <td>John Holland</td>\n",
       "      <td>Boston Celtics</td>\n",
       "      <td>30.0</td>\n",
       "      <td>SG</td>\n",
       "      <td>27.0</td>\n",
       "      <td>6-5</td>\n",
       "      <td>205.0</td>\n",
       "      <td>Boston University</td>\n",
       "      <td>NaN</td>\n",
       "    </tr>\n",
       "    <tr>\n",
       "      <th>3</th>\n",
       "      <td>R.J. Hunter</td>\n",
       "      <td>Boston Celtics</td>\n",
       "      <td>28.0</td>\n",
       "      <td>SG</td>\n",
       "      <td>22.0</td>\n",
       "      <td>6-5</td>\n",
       "      <td>185.0</td>\n",
       "      <td>Georgia State</td>\n",
       "      <td>1148640.0</td>\n",
       "    </tr>\n",
       "    <tr>\n",
       "      <th>4</th>\n",
       "      <td>Jonas Jerebko</td>\n",
       "      <td>Boston Celtics</td>\n",
       "      <td>8.0</td>\n",
       "      <td>PF</td>\n",
       "      <td>29.0</td>\n",
       "      <td>6-10</td>\n",
       "      <td>231.0</td>\n",
       "      <td>NaN</td>\n",
       "      <td>5000000.0</td>\n",
       "    </tr>\n",
       "  </tbody>\n",
       "</table>\n",
       "</div>"
      ],
      "text/plain": [
       "            Name            Team  Number Position   Age Height  Weight  \\\n",
       "0  Avery Bradley  Boston Celtics     0.0       PG  25.0    6-2   180.0   \n",
       "1    Jae Crowder  Boston Celtics    99.0       SF  25.0    6-6   235.0   \n",
       "2   John Holland  Boston Celtics    30.0       SG  27.0    6-5   205.0   \n",
       "3    R.J. Hunter  Boston Celtics    28.0       SG  22.0    6-5   185.0   \n",
       "4  Jonas Jerebko  Boston Celtics     8.0       PF  29.0   6-10   231.0   \n",
       "\n",
       "             College     Salary  \n",
       "0              Texas  7730337.0  \n",
       "1          Marquette  6796117.0  \n",
       "2  Boston University        NaN  \n",
       "3      Georgia State  1148640.0  \n",
       "4                NaN  5000000.0  "
      ]
     },
     "execution_count": 2,
     "metadata": {},
     "output_type": "execute_result"
    }
   ],
   "source": [
    "# making data frame\n",
    "data = pd.read_csv(\"https://media.geeksforgeeks.org/wp-content/uploads/nba.csv\")\n",
    " #  set index_col =\"Name \" or other keys (columns) to set the indices to values of that key (column)  \n",
    "\n",
    "# calling head() method\n",
    "# storing in new variable\n",
    "data_top = data.head()\n",
    "data_end = data.tail()\n",
    "# display\n",
    "data_top\n"
   ]
  },
  {
   "cell_type": "code",
   "execution_count": 72,
   "id": "f37f8c76-0741-4bf0-8f3a-dd1e9ff753ad",
   "metadata": {
    "tags": []
   },
   "outputs": [
    {
     "data": {
      "text/html": [
       "<div>\n",
       "<style scoped>\n",
       "    .dataframe tbody tr th:only-of-type {\n",
       "        vertical-align: middle;\n",
       "    }\n",
       "\n",
       "    .dataframe tbody tr th {\n",
       "        vertical-align: top;\n",
       "    }\n",
       "\n",
       "    .dataframe thead th {\n",
       "        text-align: right;\n",
       "    }\n",
       "</style>\n",
       "<table border=\"1\" class=\"dataframe\">\n",
       "  <thead>\n",
       "    <tr style=\"text-align: right;\">\n",
       "      <th></th>\n",
       "      <th>Name</th>\n",
       "      <th>Team</th>\n",
       "      <th>Number</th>\n",
       "      <th>Position</th>\n",
       "      <th>Age</th>\n",
       "      <th>Height</th>\n",
       "      <th>Weight</th>\n",
       "      <th>College</th>\n",
       "      <th>Salary</th>\n",
       "    </tr>\n",
       "  </thead>\n",
       "  <tbody>\n",
       "    <tr>\n",
       "      <th>453</th>\n",
       "      <td>Shelvin Mack</td>\n",
       "      <td>Utah Jazz</td>\n",
       "      <td>8.0</td>\n",
       "      <td>PG</td>\n",
       "      <td>26.0</td>\n",
       "      <td>6-3</td>\n",
       "      <td>203.0</td>\n",
       "      <td>Butler</td>\n",
       "      <td>2433333.0</td>\n",
       "    </tr>\n",
       "    <tr>\n",
       "      <th>454</th>\n",
       "      <td>Raul Neto</td>\n",
       "      <td>Utah Jazz</td>\n",
       "      <td>25.0</td>\n",
       "      <td>PG</td>\n",
       "      <td>24.0</td>\n",
       "      <td>6-1</td>\n",
       "      <td>179.0</td>\n",
       "      <td>NaN</td>\n",
       "      <td>900000.0</td>\n",
       "    </tr>\n",
       "    <tr>\n",
       "      <th>455</th>\n",
       "      <td>Tibor Pleiss</td>\n",
       "      <td>Utah Jazz</td>\n",
       "      <td>21.0</td>\n",
       "      <td>C</td>\n",
       "      <td>26.0</td>\n",
       "      <td>7-3</td>\n",
       "      <td>256.0</td>\n",
       "      <td>NaN</td>\n",
       "      <td>2900000.0</td>\n",
       "    </tr>\n",
       "    <tr>\n",
       "      <th>456</th>\n",
       "      <td>Jeff Withey</td>\n",
       "      <td>Utah Jazz</td>\n",
       "      <td>24.0</td>\n",
       "      <td>C</td>\n",
       "      <td>26.0</td>\n",
       "      <td>7-0</td>\n",
       "      <td>231.0</td>\n",
       "      <td>Kansas</td>\n",
       "      <td>947276.0</td>\n",
       "    </tr>\n",
       "    <tr>\n",
       "      <th>457</th>\n",
       "      <td>NaN</td>\n",
       "      <td>NaN</td>\n",
       "      <td>NaN</td>\n",
       "      <td>NaN</td>\n",
       "      <td>NaN</td>\n",
       "      <td>NaN</td>\n",
       "      <td>NaN</td>\n",
       "      <td>NaN</td>\n",
       "      <td>NaN</td>\n",
       "    </tr>\n",
       "  </tbody>\n",
       "</table>\n",
       "</div>"
      ],
      "text/plain": [
       "             Name       Team  Number Position   Age Height  Weight College  \\\n",
       "453  Shelvin Mack  Utah Jazz     8.0       PG  26.0    6-3   203.0  Butler   \n",
       "454     Raul Neto  Utah Jazz    25.0       PG  24.0    6-1   179.0     NaN   \n",
       "455  Tibor Pleiss  Utah Jazz    21.0        C  26.0    7-3   256.0     NaN   \n",
       "456   Jeff Withey  Utah Jazz    24.0        C  26.0    7-0   231.0  Kansas   \n",
       "457           NaN        NaN     NaN      NaN   NaN    NaN     NaN     NaN   \n",
       "\n",
       "        Salary  \n",
       "453  2433333.0  \n",
       "454   900000.0  \n",
       "455  2900000.0  \n",
       "456   947276.0  \n",
       "457        NaN  "
      ]
     },
     "execution_count": 72,
     "metadata": {},
     "output_type": "execute_result"
    }
   ],
   "source": [
    "data_end"
   ]
  },
  {
   "cell_type": "code",
   "execution_count": 73,
   "id": "c7ae6522-32c0-43a3-92c5-28043f664038",
   "metadata": {
    "tags": []
   },
   "outputs": [
    {
     "data": {
      "text/html": [
       "<div>\n",
       "<style scoped>\n",
       "    .dataframe tbody tr th:only-of-type {\n",
       "        vertical-align: middle;\n",
       "    }\n",
       "\n",
       "    .dataframe tbody tr th {\n",
       "        vertical-align: top;\n",
       "    }\n",
       "\n",
       "    .dataframe thead th {\n",
       "        text-align: right;\n",
       "    }\n",
       "</style>\n",
       "<table border=\"1\" class=\"dataframe\">\n",
       "  <thead>\n",
       "    <tr style=\"text-align: right;\">\n",
       "      <th></th>\n",
       "      <th>Number</th>\n",
       "      <th>Age</th>\n",
       "      <th>Weight</th>\n",
       "      <th>Salary</th>\n",
       "    </tr>\n",
       "  </thead>\n",
       "  <tbody>\n",
       "    <tr>\n",
       "      <th>count</th>\n",
       "      <td>457.000000</td>\n",
       "      <td>457.000000</td>\n",
       "      <td>457.000000</td>\n",
       "      <td>4.460000e+02</td>\n",
       "    </tr>\n",
       "    <tr>\n",
       "      <th>mean</th>\n",
       "      <td>17.678337</td>\n",
       "      <td>26.938731</td>\n",
       "      <td>221.522976</td>\n",
       "      <td>4.842684e+06</td>\n",
       "    </tr>\n",
       "    <tr>\n",
       "      <th>std</th>\n",
       "      <td>15.966090</td>\n",
       "      <td>4.404016</td>\n",
       "      <td>26.368343</td>\n",
       "      <td>5.229238e+06</td>\n",
       "    </tr>\n",
       "    <tr>\n",
       "      <th>min</th>\n",
       "      <td>0.000000</td>\n",
       "      <td>19.000000</td>\n",
       "      <td>161.000000</td>\n",
       "      <td>3.088800e+04</td>\n",
       "    </tr>\n",
       "    <tr>\n",
       "      <th>25%</th>\n",
       "      <td>5.000000</td>\n",
       "      <td>24.000000</td>\n",
       "      <td>200.000000</td>\n",
       "      <td>1.044792e+06</td>\n",
       "    </tr>\n",
       "    <tr>\n",
       "      <th>50%</th>\n",
       "      <td>13.000000</td>\n",
       "      <td>26.000000</td>\n",
       "      <td>220.000000</td>\n",
       "      <td>2.839073e+06</td>\n",
       "    </tr>\n",
       "    <tr>\n",
       "      <th>75%</th>\n",
       "      <td>25.000000</td>\n",
       "      <td>30.000000</td>\n",
       "      <td>240.000000</td>\n",
       "      <td>6.500000e+06</td>\n",
       "    </tr>\n",
       "    <tr>\n",
       "      <th>max</th>\n",
       "      <td>99.000000</td>\n",
       "      <td>40.000000</td>\n",
       "      <td>307.000000</td>\n",
       "      <td>2.500000e+07</td>\n",
       "    </tr>\n",
       "  </tbody>\n",
       "</table>\n",
       "</div>"
      ],
      "text/plain": [
       "           Number         Age      Weight        Salary\n",
       "count  457.000000  457.000000  457.000000  4.460000e+02\n",
       "mean    17.678337   26.938731  221.522976  4.842684e+06\n",
       "std     15.966090    4.404016   26.368343  5.229238e+06\n",
       "min      0.000000   19.000000  161.000000  3.088800e+04\n",
       "25%      5.000000   24.000000  200.000000  1.044792e+06\n",
       "50%     13.000000   26.000000  220.000000  2.839073e+06\n",
       "75%     25.000000   30.000000  240.000000  6.500000e+06\n",
       "max     99.000000   40.000000  307.000000  2.500000e+07"
      ]
     },
     "execution_count": 73,
     "metadata": {},
     "output_type": "execute_result"
    }
   ],
   "source": [
    "data.describe()"
   ]
  },
  {
   "cell_type": "markdown",
   "id": "b8024384-e377-42da-a078-db978f393739",
   "metadata": {},
   "source": [
    "### Acess row elements (.loc , .iloc)\n"
   ]
  },
  {
   "cell_type": "markdown",
   "id": "dc6b70a0-b5a3-4d1a-9b4c-342853d343a3",
   "metadata": {},
   "source": [
    "#### loc\n",
    "Acess via column key names"
   ]
  },
  {
   "cell_type": "code",
   "execution_count": null,
   "id": "12f0c792-71b6-4bb2-b8f7-1ef88825c212",
   "metadata": {
    "tags": []
   },
   "outputs": [],
   "source": [
    "help(pd.DataFrame.loc)"
   ]
  },
  {
   "cell_type": "code",
   "execution_count": 93,
   "id": "14052556-ab4b-4959-8386-8cc304e41c09",
   "metadata": {
    "tags": []
   },
   "outputs": [
    {
     "data": {
      "text/plain": [
       "('Avery Bradley',\n",
       " '-----',\n",
       " Name       Avery Bradley\n",
       " College            Texas\n",
       " Name: 0, dtype: object,\n",
       " '-----',\n",
       " Name         Avery Bradley\n",
       " Team        Boston Celtics\n",
       " Number                 0.0\n",
       " Position                PG\n",
       " Age                   25.0\n",
       " Height                 6-2\n",
       " Weight               180.0\n",
       " College              Texas\n",
       " Salary           7730337.0\n",
       " Name: 0, dtype: object)"
      ]
     },
     "execution_count": 93,
     "metadata": {},
     "output_type": "execute_result"
    }
   ],
   "source": [
    "\n",
    "data.loc[0 , \"Name\" ] , \"-----\" , data.loc[0 , [\"Name\" , \"College\"]]  , \"-----\", data.loc[0]\n",
    "#acess a row elements or the row"
   ]
  },
  {
   "cell_type": "code",
   "execution_count": 9,
   "id": "95f57ae4-98d3-4d34-827a-c49d0cc9cc52",
   "metadata": {
    "tags": []
   },
   "outputs": [
    {
     "data": {
      "text/plain": [
       "array([25., 25., 27., 22., 29., 29., 21., 25., 22., 22., 24., 27., 27.,\n",
       "       20., 26., 27., 24., 28., 21., 32., 22., 26., 23., 28., 21., 26.,\n",
       "       25., 26., 28., 27., 30., 33., 23., 32., 34., 25., 24., 23., 28.,\n",
       "       26., 20., 26., 28., 32., 25., 23., 37., 25., 25., 22., 22., 22.,\n",
       "       32., 24., 24., 22., 20., 27., 22., 25., 20., 23., 20., 29., 26.,\n",
       "       29., 24., 30., 23., 27., 23., 25., 36., 29., 24., 24., 33., 24.,\n",
       "       31., 25., 28., 26., 26., 32., 30., 20., 23., 30., 28., 26., 33.,\n",
       "       27., 29., 36., 23., 29., 27., 28., 27., 29., 31., 38., 39., 31.,\n",
       "       23., 25., 31., 24., 23., 37., 24., 29., 33., 25., 23., 21., 20.,\n",
       "       27., 29., 36., 31., 26., 19., 28., 33., 21., 25., 24., 22., 27.,\n",
       "       25., 32., 30., 31., 22., 23., 25., 27., 30., 36., 27., 22., 28.,\n",
       "       25., 25., 24., 29., 27., 23., 24., 30., 25., 31., 26., 35., 23.,\n",
       "       35., 30., 27., 24., 25., 27., 31., 21., 27., 24., 25., 33., 24.,\n",
       "       31., 35., 35., 35., 31., 27., 25., 29., 25., 30., 25., 33., 33.,\n",
       "       29., 36., 25., 25., 23., 23., 22., 23., 23., 26., 20., 28., 26.,\n",
       "       31., 27., 24., 30., 26., 30., 28., 25., 28., 29., 29., 22., 30.,\n",
       "       20., 25., 23., 21., 27., 24., 25., 21., 25., 21., 28., 24., 26.,\n",
       "       32., 23., 21., 27., 29., 19., 22., 31., 28., 31., 33., 33., 29.,\n",
       "       28., 29., 37., 32., 27., 24., 31., 31., 30., 27., 27., 30., 22.,\n",
       "       22., 27., 26., 22., 30., 24., 23., 25., 30., 38., 21., 34., 37.,\n",
       "       36., 39., 28., 23., 29., 31., 25., 23., 22., 24., 24., 34., 25.,\n",
       "       28., 28., 28., 28., 29., 26., 27., 29., 23., 23., 30., 25., 26.,\n",
       "       25., 29., 27., 25., 25., 27., 31., 28., 30., 22., 36., 34., 40.,\n",
       "       38., 28., 24., 27., 33., 40., 27., 34., 26., 35., 26., 24., 35.,\n",
       "       30., 31., 35., 31., 24., 24., 22., 27., 32., 31., 24., 27., 27.,\n",
       "       24., 27., 30., 21., 28., 31., 23., 22., 24., 30., 27., 26., 29.,\n",
       "       23., 32., 31., 30., 30., 36., 34., 24., 29., 22., 33., 34., 23.,\n",
       "       26., 20., 30., 26., 23., 20., 21., 29., 26., 23., 24., 26., 24.,\n",
       "       22., 30., 25., 32., 33., 22., 30., 24., 34., 32., 27., 33., 26.,\n",
       "       20., 23., 30., 30., 29., 25., 28., 28., 25., 29., 26., 27., 21.,\n",
       "       21., 24., 36., 20., 34., 21., 23., 23., 28., 26., 40., 20., 21.,\n",
       "       23., 25., 30., 36., 25., 29., 25., 20., 21., 22., 35., 27., 32.,\n",
       "       24., 26., 24., 24., 38., 30., 21., 24., 28., 24., 27., 20., 25.,\n",
       "       23., 24., 27., 23., 28., 34., 24., 25., 24., 23., 26., 30., 20.,\n",
       "       28., 23., 24., 20., 24., 23., 26., 23., 28., 26., 20., 26., 24.,\n",
       "       26., 26., nan])"
      ]
     },
     "execution_count": 9,
     "metadata": {},
     "output_type": "execute_result"
    }
   ],
   "source": [
    "#array of all players' ages\n",
    "data.loc[:,'Age'].values"
   ]
  },
  {
   "cell_type": "markdown",
   "id": "c1c57806-1233-40f3-9047-0e227a503bc4",
   "metadata": {},
   "source": [
    "#### iloc\n",
    "Acess via column index."
   ]
  },
  {
   "cell_type": "code",
   "execution_count": 4,
   "id": "fd747843-360e-475c-bf08-275850308ade",
   "metadata": {},
   "outputs": [
    {
     "data": {
      "text/plain": [
       "('Avery Bradley',\n",
       " '-----',\n",
       " Name       Avery Bradley\n",
       " Team      Boston Celtics\n",
       " Number               0.0\n",
       " Name: 0, dtype: object,\n",
       " '-----',\n",
       " Name         Avery Bradley\n",
       " Team        Boston Celtics\n",
       " Number                 0.0\n",
       " Position                PG\n",
       " Age                   25.0\n",
       " Height                 6-2\n",
       " Weight               180.0\n",
       " College              Texas\n",
       " Salary           7730337.0\n",
       " Name: 0, dtype: object)"
      ]
     },
     "execution_count": 4,
     "metadata": {},
     "output_type": "execute_result"
    }
   ],
   "source": [
    "data.iloc[0 , 0] , \"-----\" , data.iloc[0 , [0 , 1,2]]  , \"-----\", data.iloc[0]\n"
   ]
  },
  {
   "cell_type": "code",
   "execution_count": 6,
   "id": "1e626027-32e1-44e2-ba11-9c8c4375583a",
   "metadata": {
    "tags": []
   },
   "outputs": [
    {
     "data": {
      "text/plain": [
       "array([25., 25., 27., 22., 29., 29., 21., 25., 22., 22., 24., 27., 27.,\n",
       "       20., 26., 27., 24., 28., 21., 32., 22., 26., 23., 28., 21., 26.,\n",
       "       25., 26., 28., 27., 30., 33., 23., 32., 34., 25., 24., 23., 28.,\n",
       "       26., 20., 26., 28., 32., 25., 23., 37., 25., 25., 22., 22., 22.,\n",
       "       32., 24., 24., 22., 20., 27., 22., 25., 20., 23., 20., 29., 26.,\n",
       "       29., 24., 30., 23., 27., 23., 25., 36., 29., 24., 24., 33., 24.,\n",
       "       31., 25., 28., 26., 26., 32., 30., 20., 23., 30., 28., 26., 33.,\n",
       "       27., 29., 36., 23., 29., 27., 28., 27., 29., 31., 38., 39., 31.,\n",
       "       23., 25., 31., 24., 23., 37., 24., 29., 33., 25., 23., 21., 20.,\n",
       "       27., 29., 36., 31., 26., 19., 28., 33., 21., 25., 24., 22., 27.,\n",
       "       25., 32., 30., 31., 22., 23., 25., 27., 30., 36., 27., 22., 28.,\n",
       "       25., 25., 24., 29., 27., 23., 24., 30., 25., 31., 26., 35., 23.,\n",
       "       35., 30., 27., 24., 25., 27., 31., 21., 27., 24., 25., 33., 24.,\n",
       "       31., 35., 35., 35., 31., 27., 25., 29., 25., 30., 25., 33., 33.,\n",
       "       29., 36., 25., 25., 23., 23., 22., 23., 23., 26., 20., 28., 26.,\n",
       "       31., 27., 24., 30., 26., 30., 28., 25., 28., 29., 29., 22., 30.,\n",
       "       20., 25., 23., 21., 27., 24., 25., 21., 25., 21., 28., 24., 26.,\n",
       "       32., 23., 21., 27., 29., 19., 22., 31., 28., 31., 33., 33., 29.,\n",
       "       28., 29., 37., 32., 27., 24., 31., 31., 30., 27., 27., 30., 22.,\n",
       "       22., 27., 26., 22., 30., 24., 23., 25., 30., 38., 21., 34., 37.,\n",
       "       36., 39., 28., 23., 29., 31., 25., 23., 22., 24., 24., 34., 25.,\n",
       "       28., 28., 28., 28., 29., 26., 27., 29., 23., 23., 30., 25., 26.,\n",
       "       25., 29., 27., 25., 25., 27., 31., 28., 30., 22., 36., 34., 40.,\n",
       "       38., 28., 24., 27., 33., 40., 27., 34., 26., 35., 26., 24., 35.,\n",
       "       30., 31., 35., 31., 24., 24., 22., 27., 32., 31., 24., 27., 27.,\n",
       "       24., 27., 30., 21., 28., 31., 23., 22., 24., 30., 27., 26., 29.,\n",
       "       23., 32., 31., 30., 30., 36., 34., 24., 29., 22., 33., 34., 23.,\n",
       "       26., 20., 30., 26., 23., 20., 21., 29., 26., 23., 24., 26., 24.,\n",
       "       22., 30., 25., 32., 33., 22., 30., 24., 34., 32., 27., 33., 26.,\n",
       "       20., 23., 30., 30., 29., 25., 28., 28., 25., 29., 26., 27., 21.,\n",
       "       21., 24., 36., 20., 34., 21., 23., 23., 28., 26., 40., 20., 21.,\n",
       "       23., 25., 30., 36., 25., 29., 25., 20., 21., 22., 35., 27., 32.,\n",
       "       24., 26., 24., 24., 38., 30., 21., 24., 28., 24., 27., 20., 25.,\n",
       "       23., 24., 27., 23., 28., 34., 24., 25., 24., 23., 26., 30., 20.,\n",
       "       28., 23., 24., 20., 24., 23., 26., 23., 28., 26., 20., 26., 24.,\n",
       "       26., 26., nan])"
      ]
     },
     "execution_count": 6,
     "metadata": {},
     "output_type": "execute_result"
    }
   ],
   "source": [
    "#array of all players' ages\n",
    "data.iloc[:,4].values"
   ]
  },
  {
   "cell_type": "code",
   "execution_count": null,
   "id": "34afcad5-200e-4c28-b322-401c2d85d8ac",
   "metadata": {},
   "outputs": [],
   "source": []
  }
 ],
 "metadata": {
  "kernelspec": {
   "display_name": "Python 3 (ipykernel)",
   "language": "python",
   "name": "python3"
  },
  "language_info": {
   "codemirror_mode": {
    "name": "ipython",
    "version": 3
   },
   "file_extension": ".py",
   "mimetype": "text/x-python",
   "name": "python",
   "nbconvert_exporter": "python",
   "pygments_lexer": "ipython3",
   "version": "3.10.13"
  }
 },
 "nbformat": 4,
 "nbformat_minor": 5
}
