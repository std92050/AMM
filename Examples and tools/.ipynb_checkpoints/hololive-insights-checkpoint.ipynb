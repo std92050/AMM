{
 "cells": [
  {
   "cell_type": "markdown",
   "metadata": {},
   "source": [
    "# Hololive Insights"
   ]
  },
  {
   "cell_type": "code",
   "execution_count": 1,
   "metadata": {
    "_cell_guid": "b1076dfc-b9ad-4769-8c92-a6c4dae69d19",
    "_kg_hide-input": true,
    "_uuid": "8f2839f25d086af736a60e9eeb907d3b93b6e0e5",
    "tags": []
   },
   "outputs": [
    {
     "ename": "ModuleNotFoundError",
     "evalue": "No module named 'plotly'",
     "output_type": "error",
     "traceback": [
      "\u001b[1;31m---------------------------------------------------------------------------\u001b[0m",
      "\u001b[1;31mModuleNotFoundError\u001b[0m                       Traceback (most recent call last)",
      "Cell \u001b[1;32mIn[1], line 4\u001b[0m\n\u001b[0;32m      2\u001b[0m \u001b[38;5;28;01mimport\u001b[39;00m \u001b[38;5;21;01mpandas\u001b[39;00m \u001b[38;5;28;01mas\u001b[39;00m \u001b[38;5;21;01mpd\u001b[39;00m\n\u001b[0;32m      3\u001b[0m \u001b[38;5;28;01mfrom\u001b[39;00m \u001b[38;5;21;01mglob\u001b[39;00m \u001b[38;5;28;01mimport\u001b[39;00m iglob\n\u001b[1;32m----> 4\u001b[0m \u001b[38;5;28;01mimport\u001b[39;00m \u001b[38;5;21;01mplotly\u001b[39;00m\u001b[38;5;21;01m.\u001b[39;00m\u001b[38;5;21;01mexpress\u001b[39;00m \u001b[38;5;28;01mas\u001b[39;00m \u001b[38;5;21;01mpx\u001b[39;00m\n\u001b[0;32m      5\u001b[0m \u001b[38;5;28;01mimport\u001b[39;00m \u001b[38;5;21;01mplotly\u001b[39;00m\u001b[38;5;21;01m.\u001b[39;00m\u001b[38;5;21;01mgraph_objects\u001b[39;00m \u001b[38;5;28;01mas\u001b[39;00m \u001b[38;5;21;01mgo\u001b[39;00m\n\u001b[0;32m      6\u001b[0m \u001b[38;5;28;01mfrom\u001b[39;00m \u001b[38;5;21;01mplotly\u001b[39;00m\u001b[38;5;21;01m.\u001b[39;00m\u001b[38;5;21;01msubplots\u001b[39;00m \u001b[38;5;28;01mimport\u001b[39;00m make_subplots\n",
      "\u001b[1;31mModuleNotFoundError\u001b[0m: No module named 'plotly'"
     ]
    }
   ],
   "source": [
    "import numpy as np\n",
    "import pandas as pd\n",
    "from glob import iglob\n",
    "import plotly.express as px\n",
    "import plotly.graph_objects as go\n",
    "from plotly.subplots import make_subplots"
   ]
  },
  {
   "cell_type": "code",
   "execution_count": 2,
   "metadata": {
    "tags": []
   },
   "outputs": [
    {
     "name": "stdout",
     "output_type": "stream",
     "text": [
      "^C\n"
     ]
    }
   ],
   "source": [
    "!conda install plotly"
   ]
  },
  {
   "cell_type": "code",
   "execution_count": null,
   "metadata": {
    "_kg_hide-input": true,
    "execution": {
     "iopub.execute_input": "2022-06-06T01:14:19.185205Z",
     "iopub.status.busy": "2022-06-06T01:14:19.184799Z",
     "iopub.status.idle": "2022-06-06T01:14:19.389804Z",
     "shell.execute_reply": "2022-06-06T01:14:19.388974Z",
     "shell.execute_reply.started": "2022-06-06T01:14:19.185159Z"
    }
   },
   "outputs": [],
   "source": [
    "stats = pd.read_csv('../input/vtuber-livechat-elements/chat_stats.csv')\n",
    "sc_stats = pd.read_csv('../input/vtuber-livechat-elements/superchat_stats.csv')\n",
    "channels = pd.read_csv('../input/vtuber-livechat-elements/channels.csv')\n",
    "\n",
    "stats = pd.merge(stats, sc_stats, on=['channelId', 'period'], how='left')\n",
    "\n",
    "# select only active Hololive-affiliated channels\n",
    "channels = channels[(channels['affiliation'] == 'Hololive') & (channels['group'] != 'INACTIVE')]\n",
    "channels['group'].fillna('No Group', inplace=True)\n",
    "\n",
    "# exclude official/secondary/graduated channels\n",
    "officialChannels = [\n",
    "    'UCJFZiqLMntJufDCHc6bQixg',\n",
    "    'UCfrWoRGlawPQDQxxeIDRP0Q',\n",
    "    'UCotXwY6s8pWmuWd_snKYjhg',\n",
    "    'UCWsfcksUUpoEvhia0_ut0bA',\n",
    "]\n",
    "subChannels = [\n",
    "    'UCHj_mh57PVMXhAUDphUQDFA',\n",
    "    'UCLbtM3JZfRTg8v2KGag-RMw',\n",
    "    'UCp3tgHXw_HI0QMk1K8qh3gQ',\n",
    "]\n",
    "graduated = [\n",
    "    'UCS9uQI-jC3DE0L4IpXyvr6w'\n",
    "]\n",
    "channels = channels[~channels['channelId'].isin(officialChannels + subChannels + graduated)]\n",
    "\n",
    "channels = pd.merge(channels, stats, on=['channelId'], how='left')\n",
    "\n",
    "# sex\n",
    "channels['sex'] = channels['group'].apply(lambda g: 'Male' if g.startswith('Holostars') else 'Female')\n",
    "\n",
    "# language\n",
    "def langmatch(channel):\n",
    "    if channel['group'].startswith('English') or channel['englishName'] == 'IRyS':\n",
    "        return 'English'\n",
    "    elif channel['group'].startswith('Indonesia'):\n",
    "        return 'Indonesian'\n",
    "    return 'Japanese'\n",
    "channels['language'] = channels.apply(langmatch, axis=1)\n",
    "\n",
    "# aggregate data\n",
    "overall = channels.groupby('englishName').agg({\n",
    "    'subscriptionCount': 'first',\n",
    "    'videoCount': 'first',\n",
    "    'chats': 'sum',\n",
    "    'uniqueChatters': 'mean',\n",
    "    'bannedChatters': 'sum',\n",
    "    'deletedChats': 'sum',\n",
    "    'superChats': 'sum',\n",
    "    'uniqueSuperChatters': 'mean',\n",
    "    'totalSC': 'sum',\n",
    "    'averageSC': 'last',\n",
    "    'affiliation': 'first',\n",
    "    'group': 'first',\n",
    "    'name': 'first',\n",
    "    'sex': 'first',\n",
    "    'language': 'first'\n",
    "}).reset_index()\n",
    "overall['chatCountPerUser'] = overall['chats'] / overall['uniqueChatters']"
   ]
  },
  {
   "cell_type": "code",
   "execution_count": null,
   "metadata": {
    "_kg_hide-input": true,
    "execution": {
     "iopub.execute_input": "2022-06-06T01:14:19.391751Z",
     "iopub.status.busy": "2022-06-06T01:14:19.391140Z",
     "iopub.status.idle": "2022-06-06T01:14:20.389825Z",
     "shell.execute_reply": "2022-06-06T01:14:20.388616Z",
     "shell.execute_reply.started": "2022-06-06T01:14:19.391706Z"
    }
   },
   "outputs": [],
   "source": [
    "px.bar(overall.sort_values(by='subscriptionCount', ascending=False),\n",
    "       x='englishName',\n",
    "       y='subscriptionCount',\n",
    "       color='videoCount',\n",
    "       hover_name='name',\n",
    "       hover_data=['videoCount', 'group'],\n",
    "       labels={\n",
    "           'subscriptionCount': '# of Subscribers',\n",
    "           'videoCount': '# of Videos',\n",
    "           'englishName': 'Name',\n",
    "           'group': 'Group',\n",
    "       },\n",
    "       title='Most Subscribed Channels')"
   ]
  },
  {
   "cell_type": "code",
   "execution_count": null,
   "metadata": {
    "execution": {
     "iopub.execute_input": "2022-06-06T01:26:54.164324Z",
     "iopub.status.busy": "2022-06-06T01:26:54.163702Z",
     "iopub.status.idle": "2022-06-06T01:26:54.246359Z",
     "shell.execute_reply": "2022-06-06T01:26:54.245503Z",
     "shell.execute_reply.started": "2022-06-06T01:26:54.164274Z"
    }
   },
   "outputs": [],
   "source": [
    "overall['subPerVideo'] = overall.apply(lambda x: x['subscriptionCount'] / max(0,1, x['videoCount']), axis=1)\n",
    "px.bar(overall.sort_values(by='subPerVideo', ascending=False),\n",
    "       x='englishName',\n",
    "       y='subPerVideo',\n",
    "       color='videoCount',\n",
    "       hover_name='name',\n",
    "       hover_data=['videoCount', 'group'],\n",
    "       labels={\n",
    "           'subscriptionCount': '# of Subscribers',\n",
    "           'videoCount': '# of Videos',\n",
    "           'englishName': 'Name',\n",
    "           'group': 'Group',\n",
    "           'subPerVideo': 'AASS'\n",
    "       },\n",
    "       title='Average Acquired Subscribers per Stream (AASS)')"
   ]
  },
  {
   "cell_type": "code",
   "execution_count": null,
   "metadata": {
    "_kg_hide-input": true,
    "execution": {
     "iopub.execute_input": "2022-06-06T01:14:20.391615Z",
     "iopub.status.busy": "2022-06-06T01:14:20.391286Z",
     "iopub.status.idle": "2022-06-06T01:14:20.553854Z",
     "shell.execute_reply": "2022-06-06T01:14:20.552741Z",
     "shell.execute_reply.started": "2022-06-06T01:14:20.391583Z"
    }
   },
   "outputs": [],
   "source": [
    "px.bar(overall.sort_values(by='subscriptionCount', ascending=False),\n",
    "       x='englishName',\n",
    "       y='subscriptionCount',\n",
    "       color='group',\n",
    "       hover_name='name',\n",
    "       hover_data=['videoCount'],\n",
    "       labels={\n",
    "           'subscriptionCount': '# of Subscribers',\n",
    "           'videoCount': '# of Videos',\n",
    "           'englishName': 'Name',\n",
    "           'group': 'Group',\n",
    "       },\n",
    "       title='Most Subscribed Channels per Group')"
   ]
  },
  {
   "cell_type": "code",
   "execution_count": null,
   "metadata": {
    "_kg_hide-input": true,
    "execution": {
     "iopub.execute_input": "2022-06-06T01:14:20.557060Z",
     "iopub.status.busy": "2022-06-06T01:14:20.556762Z",
     "iopub.status.idle": "2022-06-06T01:14:20.798120Z",
     "shell.execute_reply": "2022-06-06T01:14:20.797211Z",
     "shell.execute_reply.started": "2022-06-06T01:14:20.557032Z"
    }
   },
   "outputs": [],
   "source": [
    "px.treemap(overall, path=['group', 'name'], values='subscriptionCount')"
   ]
  },
  {
   "cell_type": "code",
   "execution_count": null,
   "metadata": {
    "_kg_hide-input": true,
    "execution": {
     "iopub.execute_input": "2022-06-06T01:14:20.800470Z",
     "iopub.status.busy": "2022-06-06T01:14:20.799860Z",
     "iopub.status.idle": "2022-06-06T01:14:20.880171Z",
     "shell.execute_reply": "2022-06-06T01:14:20.879426Z",
     "shell.execute_reply.started": "2022-06-06T01:14:20.800426Z"
    }
   },
   "outputs": [],
   "source": [
    "px.bar(overall.sort_values(by='videoCount', ascending=False),\n",
    "       x='englishName',\n",
    "       y='videoCount',\n",
    "       color='subscriptionCount',\n",
    "       hover_name='name',\n",
    "       hover_data=['videoCount', 'subscriptionCount', 'group'],\n",
    "       labels={\n",
    "           'subscriptionCount': '# of Subscribers',\n",
    "           'videoCount': '# of Videos',\n",
    "           'englishName': 'Name',\n",
    "           'group': 'Group',\n",
    "       },\n",
    "       title='Most Active Channels in terms of Number of Videos')"
   ]
  },
  {
   "cell_type": "code",
   "execution_count": null,
   "metadata": {
    "_kg_hide-input": true,
    "execution": {
     "iopub.execute_input": "2022-06-06T01:28:01.096734Z",
     "iopub.status.busy": "2022-06-06T01:28:01.096354Z",
     "iopub.status.idle": "2022-06-06T01:28:01.178253Z",
     "shell.execute_reply": "2022-06-06T01:28:01.177244Z",
     "shell.execute_reply.started": "2022-06-06T01:28:01.096699Z"
    }
   },
   "outputs": [],
   "source": [
    "px.bar(overall.sort_values(by='chats', ascending=False),\n",
    "       x='englishName',\n",
    "       y='chats',\n",
    "       color='chatCountPerUser',\n",
    "       hover_name='name',\n",
    "       labels={\n",
    "           'chatCountPerUser': 'Average chats per user',\n",
    "           'videoCount': '# of Videos',\n",
    "           'englishName': 'Name',\n",
    "           'chats': '# of Chat',\n",
    "       },\n",
    "       title='Live Chat Intensity (All-time)'\n",
    ").update_layout(xaxis={'categoryorder': 'total descending'}\n",
    ").update_traces(texttemplate='%{y:.2s}', textposition='outside')\n",
    "# ).add_annotation(x='IRyS', y=1200000,\n",
    "#             text='Avg. chats per user: 9.9',\n",
    "#             showarrow=True,\n",
    "#             arrowhead=1)"
   ]
  },
  {
   "cell_type": "code",
   "execution_count": null,
   "metadata": {
    "_kg_hide-input": true,
    "execution": {
     "iopub.execute_input": "2022-06-06T01:14:20.963049Z",
     "iopub.status.busy": "2022-06-06T01:14:20.962416Z",
     "iopub.status.idle": "2022-06-06T01:14:21.041747Z",
     "shell.execute_reply": "2022-06-06T01:14:21.040637Z",
     "shell.execute_reply.started": "2022-06-06T01:14:20.962999Z"
    }
   },
   "outputs": [],
   "source": [
    "px.bar(overall.sort_values(by='bannedChatters', ascending=False),\n",
    "       x='englishName',\n",
    "       y='bannedChatters',\n",
    "       color='chats',\n",
    "       hover_name='name',\n",
    "       hover_data=['chats', 'subscriptionCount'],\n",
    "       labels={\n",
    "           'chats': \"# of Chats\",\n",
    "           'subscriptionCount': '# of Subscribers',\n",
    "           'videoCount': '# of Videos',\n",
    "           'englishName': 'Name',\n",
    "           'bannedChatters': '# of Banned Chatters',\n",
    "       },\n",
    "       title='Ban Events (y-axis is log-scaled)'\n",
    ")"
   ]
  },
  {
   "cell_type": "code",
   "execution_count": null,
   "metadata": {
    "_kg_hide-input": true,
    "execution": {
     "iopub.execute_input": "2022-06-06T01:14:21.043959Z",
     "iopub.status.busy": "2022-06-06T01:14:21.043375Z",
     "iopub.status.idle": "2022-06-06T01:14:22.474301Z",
     "shell.execute_reply": "2022-06-06T01:14:22.473354Z",
     "shell.execute_reply.started": "2022-06-06T01:14:21.043911Z"
    }
   },
   "outputs": [],
   "source": [
    "px.scatter(overall,\n",
    "       x='subscriptionCount',\n",
    "       y='bannedChatters',\n",
    "       log_y=True,\n",
    "       color='subscriptionCount',\n",
    "       trendline='ols',\n",
    "       hover_name='name',\n",
    "       hover_data=['videoCount'],\n",
    "       labels={\n",
    "           'subscriptionCount': '# of Subscribers',\n",
    "           'englishName': 'Name',\n",
    "           'bannedChatters': '# of Banned Chatters',\n",
    "       },\n",
    "       title='Correlation between # of Subscriptions and Ban Events')"
   ]
  },
  {
   "cell_type": "markdown",
   "metadata": {},
   "source": [
    "Channels placed in the lower right corner are considered to be less \"trolled\"."
   ]
  },
  {
   "cell_type": "code",
   "execution_count": null,
   "metadata": {
    "_kg_hide-input": true,
    "execution": {
     "iopub.execute_input": "2022-06-06T01:14:22.476071Z",
     "iopub.status.busy": "2022-06-06T01:14:22.475792Z",
     "iopub.status.idle": "2022-06-06T01:14:22.561821Z",
     "shell.execute_reply": "2022-06-06T01:14:22.560661Z",
     "shell.execute_reply.started": "2022-06-06T01:14:22.476044Z"
    }
   },
   "outputs": [],
   "source": [
    "px.scatter(overall,\n",
    "       x='subscriptionCount',\n",
    "       y='chats',\n",
    "       color='chatCountPerUser',\n",
    "       trendline='ols',\n",
    "       hover_name='name',\n",
    "       hover_data=['videoCount'],\n",
    "       labels={\n",
    "           'subscriptionCount': '# of subscribers',\n",
    "           'chatCountPerUser': 'avg. # of chats per user',\n",
    "           'englishName': 'Name',\n",
    "           'chats': '# of chats'\n",
    "       },\n",
    "       title='Correlation between # of Subscriptions and Chats')"
   ]
  },
  {
   "cell_type": "markdown",
   "metadata": {},
   "source": [
    "Those above the line perform well."
   ]
  },
  {
   "cell_type": "code",
   "execution_count": null,
   "metadata": {
    "execution": {
     "iopub.execute_input": "2022-06-06T01:14:22.563726Z",
     "iopub.status.busy": "2022-06-06T01:14:22.563281Z",
     "iopub.status.idle": "2022-06-06T01:14:22.614539Z",
     "shell.execute_reply": "2022-06-06T01:14:22.613525Z",
     "shell.execute_reply.started": "2022-06-06T01:14:22.563692Z"
    }
   },
   "outputs": [],
   "source": [
    "overall.sort_values('uniqueChatters', ascending=False).groupby('group').head(1).reset_index(drop=True)"
   ]
  },
  {
   "cell_type": "code",
   "execution_count": null,
   "metadata": {
    "_kg_hide-input": true,
    "execution": {
     "iopub.execute_input": "2022-06-06T01:29:31.818312Z",
     "iopub.status.busy": "2022-06-06T01:29:31.817729Z",
     "iopub.status.idle": "2022-06-06T01:29:31.910579Z",
     "shell.execute_reply": "2022-06-06T01:29:31.909506Z",
     "shell.execute_reply.started": "2022-06-06T01:29:31.818276Z"
    }
   },
   "outputs": [],
   "source": [
    "groupTops = overall.sort_values('uniqueChatters', ascending=False).groupby('group').head(1).reset_index(drop=True)\n",
    "px.scatter(groupTops,\n",
    "       x='subscriptionCount',\n",
    "       y='uniqueChatters',\n",
    "       color='chatCountPerUser',\n",
    "       trendline='ols',\n",
    "       hover_name='name',\n",
    "       hover_data=['uniqueChatters'],\n",
    "       text='uniqueChatters',\n",
    "       labels={\n",
    "           'uniqueChatters': '<b>Unique Chatters (UC)</b>',\n",
    "           'chatCountPerUser': 'Avg. <b>Chats</b> per User</b>',\n",
    "           'subscriptionCount': '<b>Subscribers</b>',\n",
    "           'englishName': 'Name',\n",
    "           'group': 'Group',\n",
    "           'chats': '# of <b>chats</b>'\n",
    "       },\n",
    "       custom_data=['englishName'],\n",
    "       title='How many people are joining live chat?'\n",
    ").update_traces(texttemplate='%{customdata[0]} <b>%{text:.2s}</b> UC', textposition='top center'\n",
    ").update_layout(uniformtext_minsize=2, uniformtext_mode='hide'\n",
    ")"
   ]
  },
  {
   "cell_type": "markdown",
   "metadata": {},
   "source": [
    "Those above the line perform well."
   ]
  },
  {
   "cell_type": "code",
   "execution_count": null,
   "metadata": {
    "_kg_hide-input": true,
    "execution": {
     "iopub.execute_input": "2022-06-06T01:14:22.714575Z",
     "iopub.status.busy": "2022-06-06T01:14:22.714131Z",
     "iopub.status.idle": "2022-06-06T01:14:22.802728Z",
     "shell.execute_reply": "2022-06-06T01:14:22.801766Z",
     "shell.execute_reply.started": "2022-06-06T01:14:22.714526Z"
    }
   },
   "outputs": [],
   "source": [
    "px.scatter(overall,\n",
    "       x='chats',\n",
    "       y='totalSC',\n",
    "       color='subscriptionCount',\n",
    "       hover_name='name',\n",
    "       hover_data=['totalSC', 'uniqueChatters'],\n",
    "       trendline='ols',\n",
    "       labels={\n",
    "           'uniqueChatters': '# of unique users',\n",
    "           'chatCountPerUser': 'avg. # of chats per user',\n",
    "           'subscriptionCount': '# of subscribers',\n",
    "           'englishName': 'Name',\n",
    "           'group': 'Group',\n",
    "           'chats': '# of chats',\n",
    "           'totalSC': 'Total amount (JPY)'\n",
    "       },\n",
    "       title='Correlation between # of chats and total amount of superchats')"
   ]
  },
  {
   "cell_type": "code",
   "execution_count": null,
   "metadata": {
    "_kg_hide-input": true,
    "execution": {
     "iopub.execute_input": "2022-06-06T01:14:22.804536Z",
     "iopub.status.busy": "2022-06-06T01:14:22.804119Z",
     "iopub.status.idle": "2022-06-06T01:14:22.885127Z",
     "shell.execute_reply": "2022-06-06T01:14:22.884411Z",
     "shell.execute_reply.started": "2022-06-06T01:14:22.804502Z"
    }
   },
   "outputs": [],
   "source": [
    "px.bar(overall.sort_values(by='totalSC', ascending=False),\n",
    "       x='englishName',\n",
    "       y='totalSC',\n",
    "       color='superChats',\n",
    "       hover_name='name',\n",
    "       hover_data=['chats', 'subscriptionCount'],\n",
    "       labels={\n",
    "           'chats': '# of <b>Chats</b>',\n",
    "           'subscriptionCount': '# of <b>Subscribers</b>',\n",
    "           'videoCount': '# of <b>Videos</b>',\n",
    "           'englishName': 'Name',\n",
    "           'superChats': '# of <b>Super Chats</b>',\n",
    "           'totalSC': 'Total amount (JPY)'\n",
    "       },\n",
    "       title='Most superchatted channels'\n",
    ")"
   ]
  },
  {
   "cell_type": "code",
   "execution_count": null,
   "metadata": {
    "_kg_hide-input": true,
    "execution": {
     "iopub.execute_input": "2022-06-06T01:14:22.886834Z",
     "iopub.status.busy": "2022-06-06T01:14:22.886314Z",
     "iopub.status.idle": "2022-06-06T01:14:22.979930Z",
     "shell.execute_reply": "2022-06-06T01:14:22.978815Z",
     "shell.execute_reply.started": "2022-06-06T01:14:22.886799Z"
    }
   },
   "outputs": [],
   "source": [
    "overall['qScTotalJPY'] = pd.qcut(overall['totalSC'], 3, labels=['Lower', 'Medium', 'Higher'])\n",
    "overall['qScTotalJPY_N'] = pd.qcut(overall['totalSC'], 3, labels=False)\n",
    "\n",
    "# glabels, glevels = pd.factorize(channels['group'])\n",
    "# channels['groupid'] = glabels\n",
    "\n",
    "px.parallel_categories(overall.sort_values(by=\"group\"),\n",
    "       color='qScTotalJPY_N',\n",
    "       color_continuous_scale=px.colors.sequential.Inferno,\n",
    "       labels={\n",
    "           'totalSC': 'Total amount (JPY)',\n",
    "           'qScTotalJPY': 'Income Level',\n",
    "           'language': 'Language',\n",
    "           'sex': 'Sex',\n",
    "           'group': 'Group',\n",
    "       },\n",
    "       dimensions=['sex', 'language', 'qScTotalJPY', 'group'],\n",
    "       title='Superchat <b>income distribution</b>'\n",
    ").update_layout(coloraxis_showscale=False)"
   ]
  },
  {
   "cell_type": "markdown",
   "metadata": {},
   "source": [
    "# Monthly Trend"
   ]
  },
  {
   "cell_type": "code",
   "execution_count": null,
   "metadata": {
    "_kg_hide-input": true,
    "execution": {
     "iopub.execute_input": "2022-06-06T01:14:22.981900Z",
     "iopub.status.busy": "2022-06-06T01:14:22.981490Z",
     "iopub.status.idle": "2022-06-06T01:14:23.042998Z",
     "shell.execute_reply": "2022-06-06T01:14:23.042212Z",
     "shell.execute_reply.started": "2022-06-06T01:14:22.981859Z"
    }
   },
   "outputs": [],
   "source": [
    "monthly = channels[channels['period'] >= '2021-03'].groupby(['period', 'group']).agg({\n",
    "    'chats': ['sum', 'mean', 'median'],\n",
    "    'uniqueChatters': ['mean', 'median'],\n",
    "    'deletedChats': ['sum', 'mean', 'median'],\n",
    "    'superChats': ['sum', 'mean', 'median'],\n",
    "    'uniqueSuperChatters': ['mean', 'median'],\n",
    "    'totalSC': ['sum', 'mean', 'median'],\n",
    "    'affiliation': 'max',\n",
    "})\n",
    "monthly.columns = [\"_\".join(c) for c in monthly.columns.to_flat_index()]"
   ]
  },
  {
   "cell_type": "code",
   "execution_count": null,
   "metadata": {
    "_kg_hide-input": true,
    "execution": {
     "iopub.execute_input": "2022-06-06T01:14:23.044887Z",
     "iopub.status.busy": "2022-06-06T01:14:23.044273Z",
     "iopub.status.idle": "2022-06-06T01:14:23.093925Z",
     "shell.execute_reply": "2022-06-06T01:14:23.093070Z",
     "shell.execute_reply.started": "2022-06-06T01:14:23.044841Z"
    }
   },
   "outputs": [],
   "source": [
    "sectorMap = {\n",
    "    'Hololive': ['1st Generation', '2nd Generation', '3rd Generation', '4th Generation', '5th Generation', 'GAMERS', 'No Group'],\n",
    "    'Holostars': ['Holostars 1st Gen', 'Holostars 2nd Generation', 'Holostars 3rd Gen'],\n",
    "    'HoloEN': ['English (Myth)', 'English (Council)'],\n",
    "    'HoloID': ['Indonesia 1st Gen', 'Indonesia 2nd Gen', 'Indonesia 3rd Gen']\n",
    "}\n",
    "sector = pd.DataFrame()\n",
    "for k, v in sectorMap.items():\n",
    "    aggsec = channels[(channels['period'] >= '2021-03') & (channels['group'].isin(v))].groupby('period').agg({\n",
    "        'chats': 'sum',\n",
    "        'uniqueChatters': 'mean',\n",
    "        'bannedChatters': 'sum',\n",
    "        'deletedChats': 'sum',\n",
    "        'superChats': 'sum',\n",
    "        'uniqueSuperChatters': 'mean',\n",
    "        'totalSC': 'sum',\n",
    "    }).reset_index()\n",
    "    aggsec['sector'] = k\n",
    "    sector = sector.append(aggsec, ignore_index=True)"
   ]
  },
  {
   "cell_type": "code",
   "execution_count": null,
   "metadata": {
    "_kg_hide-input": true,
    "execution": {
     "iopub.execute_input": "2022-06-06T01:14:23.095842Z",
     "iopub.status.busy": "2022-06-06T01:14:23.095208Z",
     "iopub.status.idle": "2022-06-06T01:14:23.178900Z",
     "shell.execute_reply": "2022-06-06T01:14:23.177883Z",
     "shell.execute_reply.started": "2022-06-06T01:14:23.095791Z"
    }
   },
   "outputs": [],
   "source": [
    "px.bar(sector,\n",
    "       x='period',\n",
    "       y='chats',\n",
    "       color='sector',\n",
    "       labels={\n",
    "           'chats': 'Total number of <b>chats</b>',\n",
    "           'sector': 'Sector',\n",
    "           'period': 'Period',\n",
    "       },\n",
    "       title='<b>Chats</b> intensity',\n",
    ").update_xaxes(dtick='M1')"
   ]
  },
  {
   "cell_type": "code",
   "execution_count": null,
   "metadata": {
    "_kg_hide-input": true,
    "execution": {
     "iopub.execute_input": "2022-06-06T01:14:23.180864Z",
     "iopub.status.busy": "2022-06-06T01:14:23.180288Z",
     "iopub.status.idle": "2022-06-06T01:14:23.268546Z",
     "shell.execute_reply": "2022-06-06T01:14:23.267444Z",
     "shell.execute_reply.started": "2022-06-06T01:14:23.180819Z"
    }
   },
   "outputs": [],
   "source": [
    "px.scatter(sector,\n",
    "       x='period',\n",
    "       y='totalSC',\n",
    "       log_y=True,\n",
    "       color='sector',\n",
    "       labels={\n",
    "           'totalSC': 'Total amount of <b>super chats</b>',\n",
    "           'sector': 'Sector',\n",
    "           'period': 'Period',\n",
    "       },\n",
    "       title='Monthly <b>super chats</b> income',\n",
    ").update_xaxes(dtick='M1').update_traces(mode='markers+lines')"
   ]
  },
  {
   "cell_type": "markdown",
   "metadata": {},
   "source": [
    "Note that YouTube would take roughly 30% of that of the total income from superchats."
   ]
  }
 ],
 "metadata": {
  "kernelspec": {
   "display_name": "Python 3 (ipykernel)",
   "language": "python",
   "name": "python3"
  },
  "language_info": {
   "codemirror_mode": {
    "name": "ipython",
    "version": 3
   },
   "file_extension": ".py",
   "mimetype": "text/x-python",
   "name": "python",
   "nbconvert_exporter": "python",
   "pygments_lexer": "ipython3",
   "version": "3.10.9"
  }
 },
 "nbformat": 4,
 "nbformat_minor": 4
}
