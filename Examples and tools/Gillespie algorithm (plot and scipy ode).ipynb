{
 "cells": [
  {
   "cell_type": "markdown",
   "metadata": {},
   "source": [
    "# Gillespie algorithm\n",
    "This algorithm is to simulate the chemical reaction process :\n",
    "\n",
    "\\begin{equation}\n",
    "\\nu^+_{1,j} \\; X_1 + \\ldots + \\nu^+_{n,j} \\; X_n\n",
    "\\xrightarrow{a_j (X)} \n",
    "\\nu^-_{1,j} \\; X_1 + \\ldots + \\nu^-_{n,j} \\; X_n\n",
    "\\end{equation}\n",
    "where $X = (X_1 \\; , \\ldots , \\; X_n)$ are the state of the\n",
    "system , each component corrresponds to the number of certain chemicals . In fact $X = X(t)$ is a stochastic process (CTDSMC) in our model .\n",
    "$\\nu^\\pm_{i,j}$ is the number of i-th\n",
    "chemical envolved in type j reaction . $a_j(X)$ is the stochastic rate of type j reaction which depends of the state $X$ . After a type j reaction happens , the state\n",
    "change to $ X - u_j \\equiv ( X_1 + (\\nu^+_{1,j} - \n",
    "\\nu^-_{1,j} \\;) ,  \\ldots , X_n + (\\nu^+_{n,j} - \\nu^-_{n,j} \\; ) \\in \\mathbb{Z}^n$ .\n",
    "\n",
    "Given the system is at state $x$ ,\n",
    "the waiting time $\\tau$ for an event/reaction happens follows $exp(\\sum_{\\mu = 1 }^M a_M(x))$ . Where the state goes or\n",
    "says which type of reaction happens  follows the transistion probability\n",
    "\\begin{equation} \n",
    "p(\\mu \\; \\rvert x) \\equiv\n",
    "P( x + u_\\mu , d\\tau  \\; \\rvert \\; x , 0 )  = \\frac{a_\\mu (x) }{ \\sum_{ \\mu' = 1}^M a_\\mu' (x) } \n",
    "\\equiv \\frac{ a_\\mu (x)}{a_0 (x)}\n",
    "\\end{equation}\n",
    "\n"
   ]
  },
  {
   "cell_type": "code",
   "execution_count": 57,
   "metadata": {},
   "outputs": [],
   "source": [
    "import numpy as np\n",
    "import matplotlib.pyplot as plt "
   ]
  },
  {
   "cell_type": "markdown",
   "metadata": {},
   "source": [
    "We will simulate the process by genertating a sequence of\n",
    "$(\\tau , \\mu)$ whose distribution is given by the above .\n",
    "The method is use the well known method :\n",
    "\n",
    "$\\textbf{Lemma}$ If X is a continuous r.v with cdf $F$ and\n",
    "$U \\sim uni(0,1)$ , then\n",
    "\\begin{equation}\n",
    "X \\sim F^{-1}(U) \\end{equation}\n",
    "In particular for our case ,\n",
    "\\begin{equation}\n",
    "\\tau \\sim - \\frac{1}{a_0 (x)} \\ln(U^{-1})\n",
    "\\end{equation}\n",
    "For discrete case , the idea is similar (actually more\n",
    "intuitive) , $\\mu \\sim N$ which satisfies\n",
    "\\begin{equation}\n",
    "\\frac{\\sum_{i=1}^{N-1}  a_i}{a_0} \\leq U \\leq\n",
    "\\frac{\\sum_{i=1}^{N}  a_i}{a_0} \n",
    "\\end{equation}\n",
    "since the probability of $U$ falls in the interval is equal to the interval length , which is just $\\frac{a_N}{a_0}$ the probability of $\\mu$ ."
   ]
  },
  {
   "cell_type": "markdown",
   "metadata": {},
   "source": [
    "# Gene process\n",
    "In the following we simulate the set of reactions:\n",
    "\\begin{align*}\n",
    "\\phi &\\xrightarrow{k_M} M &\\quad a_1(x)=k_M \\\\\n",
    "M &\\xrightarrow{k_p} M + P  &\\quad a_2(x) = k_p M\\\\\n",
    "M &\\xrightarrow{d_M} \\phi &\\quad a_3(x) = d_M M\\\\\n",
    "P &\\xrightarrow{ d_p} \\phi &\\quad a_4(x) = d_p p\n",
    "\\end{align*}\n",
    "With the state $X = ( M , P)$ number of mRNA and protein."
   ]
  },
  {
   "cell_type": "code",
   "execution_count": 60,
   "metadata": {},
   "outputs": [],
   "source": [
    "# rate setting\n",
    "kM= 5.5\n",
    "kP =1\n",
    "dM= 0.5\n",
    "dP=0.05\n",
    "\n",
    "#time setting\n",
    "t=0\n",
    "t_end= 200000\n",
    "t_sample = 10*max(1/dM , 1/dP)\n",
    "'We dont want to record each reaction that happens . Instead we sample with some fix frequency   . '\n",
    "'The frequency is choosen not so large so that the reaction happens (with big enough probability) during each sampling '\n",
    "\n",
    "\n",
    "#initial state\n",
    "Pro = 1 #promoter\n",
    "M = 5 #mRNA\n",
    "P = 100 #protein\n",
    "\n"
   ]
  },
  {
   "cell_type": "code",
   "execution_count": 61,
   "metadata": {},
   "outputs": [],
   "source": [
    "#array for results (here we +1 so sample points are from  0 ~ 200000)\n",
    "t_array = np.zeros(int( t_end/t_sample) +1 )\n",
    "Pro_array = np.zeros(int( t_end/t_sample) + 1)\n",
    "M_array = np.zeros( int(t_end/t_sample) +1)\n",
    "P_array = np.zeros( int(t_end/t_sample) +1)\n",
    "\n",
    "#assign initial value\n",
    "j=0\n",
    "t_array[j] = j\n",
    "Pro_array[j] = Pro\n",
    "M_array[j] = M\n",
    "P_array[j] = P"
   ]
  },
  {
   "cell_type": "code",
   "execution_count": null,
   "metadata": {},
   "outputs": [],
   "source": [
    "#start the process\n",
    "t=0\n",
    "while t < t_end :\n",
    "    #compute stochastic rate\n",
    "    a = [kM*Pro , kP*M , dM*M , dP*P]\n",
    "    a0 = sum(a)\n",
    "    \n",
    "    #genertae two uniform r.vs\n",
    "    r1 , r2 = np.random.rand(2)\n",
    "    \n",
    "    #update time (exclude r1=0 ) according the lemma\n",
    "    while r1 ==0:\n",
    "        r1 = np.random.rand(1)\n",
    "    t_next = (1/a0)*(  np.log(1/r1))\n",
    "    t = t + t_next\n",
    "    \n",
    "    #determine next reaction according the lemma\n",
    "    i = 0\n",
    "    mu = 0\n",
    "    amu = 0 \n",
    "    while amu < r2*a0 : #sum up a_i until the value exceed a0*r2\n",
    "        mu = mu + 1\n",
    "        amu = amu + a[i]\n",
    "        i = i+1\n",
    "    #update the state\n",
    "    if mu == 1:\n",
    "        M = M+1\n",
    "    elif mu ==2 :\n",
    "        P = P +1\n",
    "    elif mu == 3 :\n",
    "        M = M-1\n",
    "    else  :\n",
    "        P = P-1\n",
    "    \n",
    "    #sample the data , if t is already out of range then stop\n",
    "    if t > t_end:\n",
    "        print('GG')\n",
    "        break\n",
    "        \n",
    "    \n",
    "    if t >= j*t_sample: \n",
    "        j = j+1\n",
    "        t_array[j] = j\n",
    "        Pro_array[j] = Pro\n",
    "        M_array[j] = M\n",
    "        P_array[j] = P\n",
    "        print(\"now\" , j ,\"-th sample\")\n",
    "    "
   ]
  },
  {
   "cell_type": "code",
   "execution_count": 83,
   "metadata": {},
   "outputs": [
    {
     "data": {
      "text/plain": [
       "Text(0.5,1,'Protein hist')"
      ]
     },
     "execution_count": 83,
     "metadata": {},
     "output_type": "execute_result"
    },
    {
     "data": {
      "image/png": "[encoded data removed]",
      "text/plain": [
       "<matplotlib.figure.Figure at 0x165b1f24d68>"
      ]
     },
     "metadata": {},
     "output_type": "display_data"
    }
   ],
   "source": [
    "fig , ax = plt.subplots(1,2 ,  figsize=(12,5))\n",
    "ax[0].hist(M_array)\n",
    "ax[0].set_title(\"mRNA hist\")\n",
    "ax[1].hist(P_array)\n",
    "ax[1].set_title(\"Protein hist\")"
   ]
  },
  {
   "cell_type": "markdown",
   "metadata": {},
   "source": [
    "Next we compare this result with the deterministic equation , which is the evolution of mean :\n",
    "\n",
    "\\begin{align*}\n",
    "\\frac{d E(X_M)}{dt} & = k_M - d_M E(X_M) \\\\\n",
    "\\frac{d E(X_P)}{dt} & = k_p E( X_M) -d_p E(X_P) \n",
    "\\end{align*}\n",
    "We can rewrite it as \n",
    "\n",
    "\\begin{equation}\n",
    "\\frac{d}{dt} \\begin{pmatrix}\n",
    "E(X_M)\\\\\n",
    "E(X_P) \n",
    "\\end{pmatrix} =\n",
    "\\begin{pmatrix}\n",
    "-d_M & 0 \\\\\n",
    "k_P & -d_P\n",
    "\\end{pmatrix}\n",
    "\\begin{pmatrix}\n",
    "E(X_M)\\\\\n",
    "E(X_P) \n",
    "\\end{pmatrix}\n",
    "+ \n",
    "\\begin{pmatrix}\n",
    "k_M\\\\\n",
    "0 \n",
    "\\end{pmatrix}\n",
    "\\end{equation}"
   ]
  },
  {
   "cell_type": "code",
   "execution_count": 64,
   "metadata": {},
   "outputs": [],
   "source": [
    "import scipy.integrate as sci"
   ]
  },
  {
   "cell_type": "code",
   "execution_count": 85,
   "metadata": {},
   "outputs": [],
   "source": [
    "tspan = np.arange(t_end+1)\n",
    "M_0 = 5 #mRNA\n",
    "P_0 = 100 #protein\n",
    "def f(v,t):\n",
    "    E_M, E_P = v\n",
    "    return [ -dM*E_M + kM , kP*E_M - dP*E_P ]\n",
    "t_deter = sci.odeint( f , ( M_0, P_0) , tspan)"
   ]
  },
  {
   "cell_type": "code",
   "execution_count": 1,
   "metadata": {},
   "outputs": [
    {
     "ename": "NameError",
     "evalue": "name 'plt' is not defined",
     "output_type": "error",
     "traceback": [
      "\u001b[1;31m---------------------------------------------------------------------------\u001b[0m",
      "\u001b[1;31mNameError\u001b[0m                                 Traceback (most recent call last)",
      "\u001b[1;32m<ipython-input-1-6437c3dca166>\u001b[0m in \u001b[0;36m<module>\u001b[1;34m()\u001b[0m\n\u001b[0;32m      1\u001b[0m \u001b[1;31m#Comparison\u001b[0m\u001b[1;33m\u001b[0m\u001b[1;33m\u001b[0m\u001b[0m\n\u001b[1;32m----> 2\u001b[1;33m \u001b[0mfig\u001b[0m \u001b[1;33m,\u001b[0m \u001b[0max\u001b[0m \u001b[1;33m=\u001b[0m \u001b[0mplt\u001b[0m\u001b[1;33m.\u001b[0m\u001b[0msubplots\u001b[0m\u001b[1;33m(\u001b[0m\u001b[1;36m1\u001b[0m\u001b[1;33m,\u001b[0m\u001b[1;36m2\u001b[0m \u001b[1;33m,\u001b[0m  \u001b[0mfigsize\u001b[0m\u001b[1;33m=\u001b[0m\u001b[1;33m(\u001b[0m\u001b[1;36m12\u001b[0m\u001b[1;33m,\u001b[0m\u001b[1;36m5\u001b[0m\u001b[1;33m)\u001b[0m\u001b[1;33m)\u001b[0m\u001b[1;33m\u001b[0m\u001b[0m\n\u001b[0m\u001b[0;32m      3\u001b[0m \u001b[0max\u001b[0m\u001b[1;33m[\u001b[0m\u001b[1;36m0\u001b[0m\u001b[1;33m]\u001b[0m\u001b[1;33m.\u001b[0m\u001b[0mset_title\u001b[0m\u001b[1;33m(\u001b[0m\u001b[1;34m\"Protein\"\u001b[0m\u001b[1;33m)\u001b[0m\u001b[1;33m\u001b[0m\u001b[0m\n\u001b[0;32m      4\u001b[0m \u001b[0max\u001b[0m\u001b[1;33m[\u001b[0m\u001b[1;36m0\u001b[0m\u001b[1;33m]\u001b[0m\u001b[1;33m.\u001b[0m\u001b[0mset_xlabel\u001b[0m\u001b[1;33m(\u001b[0m\u001b[1;34m'time(s)'\u001b[0m\u001b[1;33m)\u001b[0m\u001b[1;33m\u001b[0m\u001b[0m\n\u001b[0;32m      5\u001b[0m \u001b[0max\u001b[0m\u001b[1;33m[\u001b[0m\u001b[1;36m0\u001b[0m\u001b[1;33m]\u001b[0m\u001b[1;33m.\u001b[0m\u001b[0mset_ylabel\u001b[0m\u001b[1;33m(\u001b[0m\u001b[1;34m'protein no'\u001b[0m\u001b[1;33m)\u001b[0m\u001b[1;33m\u001b[0m\u001b[0m\n",
      "\u001b[1;31mNameError\u001b[0m: name 'plt' is not defined"
     ]
    }
   ],
   "source": [
    "#Comparison\n",
    "fig , ax = plt.subplots(1,2 ,  figsize=(12,5))\n",
    "ax[0].set_title(\"Protein\")\n",
    "ax[0].set_xlabel('time(s)')\n",
    "ax[0].set_ylabel('protein no')\n",
    "\n",
    "ax[0].plot( t_sample * t_array , P_array , label = \"random\" )\n",
    "ax[0].plot( t_deter[:,1] , 'r-' ,label = \"deter\" , linewidth =3.0 )\n",
    "ax[0].legend(title = \"deter v.s rand\")\n",
    "\n",
    "ax[1].set_title(\"mRNA\")\n",
    "ax[1].set_xlabel('time(s)')\n",
    "ax[1].set_ylabel('mRNA no')\n",
    "\n",
    "ax[1].plot( t_sample * t_array , M_array , label = \"random\" )\n",
    "ax[1].plot( t_deter[:,0] , 'r-' ,label = \"deter\" , linewidth =3.0 )\n",
    "ax[1].legend(title = \"deter v.s rand\")\n",
    "\n",
    "#more space between subplots\n",
    "plt.tight_layout()\n",
    "\n",
    "# auto adjust x coordinate label\n",
    "fig.autofmt_xdate()\n"
   ]
  },
  {
   "cell_type": "code",
   "execution_count": null,
   "metadata": {},
   "outputs": [],
   "source": []
  },
  {
   "cell_type": "code",
   "execution_count": null,
   "metadata": {},
   "outputs": [],
   "source": []
  },
  {
   "cell_type": "code",
   "execution_count": null,
   "metadata": {},
   "outputs": [],
   "source": []
  }
 ],
 "metadata": {
  "kernelspec": {
   "display_name": "Python 3 (ipykernel)",
   "language": "python",
   "name": "python3"
  },
  "language_info": {
   "codemirror_mode": {
    "name": "ipython",
    "version": 3
   },
   "file_extension": ".py",
   "mimetype": "text/x-python",
   "name": "python",
   "nbconvert_exporter": "python",
   "pygments_lexer": "ipython3",
   "version": "3.10.9"
  }
 },
 "nbformat": 4,
 "nbformat_minor": 4
}
