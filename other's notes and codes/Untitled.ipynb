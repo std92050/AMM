{
 "cells": [
  {
   "cell_type": "code",
   "execution_count": 2,
   "id": "a0ac990e-773a-4978-98c0-949b19cb3e2f",
   "metadata": {
    "tags": []
   },
   "outputs": [],
   "source": [
    "import numpy as np\n",
    "import matplotlib.pyplot as plt"
   ]
  },
  {
   "cell_type": "code",
   "execution_count": 65,
   "id": "9e85fa45-8203-40cb-8439-6796911a02a7",
   "metadata": {
    "tags": []
   },
   "outputs": [],
   "source": [
    "r =0.8\n",
    "def buy(x,y,dy):\n",
    "    dx = (x*y/(y-dy) - x)/r\n",
    "    return x+r*dx, y-dy, (1-r)*dx\n",
    "def sell(x,y,dx):\n",
    "    dy = ( x*y/(x-dx) - y)/r\n",
    "    return x - dx , y+ r*dy, (1-r)*dy \n",
    "def deposit(x,y,W):\n",
    "    price = x/y\n",
    "    return 1/2 * W , 1/2 * W /price"
   ]
  },
  {
   "cell_type": "code",
   "execution_count": 97,
   "id": "84179f06-bca0-4e41-80c9-2e02ebee7857",
   "metadata": {
    "tags": []
   },
   "outputs": [],
   "source": [
    "x0= 7112801\n",
    "y0 = 4321\n",
    "dy =1241\n",
    "N= 100000\n",
    "x=x0\n",
    "y=y0\n",
    "for i in range(N):\n",
    "    x,y,fee = buy(x,y,dy/N)\n",
    "    x +=fee \n"
   ]
  },
  {
   "cell_type": "code",
   "execution_count": 102,
   "id": "f337b314-ee8c-49a9-9e2a-393d90866e9a",
   "metadata": {
    "tags": []
   },
   "outputs": [
    {
     "data": {
      "text/plain": [
       "(1309835419.614839, 1309835609.084373)"
      ]
     },
     "execution_count": 102,
     "metadata": {},
     "output_type": "execute_result"
    }
   ],
   "source": [
    "x**r*y , x0**r*y0 "
   ]
  },
  {
   "cell_type": "code",
   "execution_count": 104,
   "id": "62960976-abab-4241-92b5-e802331add29",
   "metadata": {
    "tags": []
   },
   "outputs": [],
   "source": [
    "def buy_all(x0,y0,dy,N):\n",
    "    x=x0\n",
    "    y=y0\n",
    "    for i in range(N):\n",
    "        x,y,fee = buy(x,y,dy/N)\n",
    "        Dx,Dy = deposit(x,y,fee)\n",
    "        x,y = x+Dx , y + Dy\n",
    "    return (x**r*y)/(x0**r*y0) - 1\n",
    "def sell_all(x0,y0,dy,N):\n",
    "    x=x0\n",
    "    y=y0\n",
    "    for i in range(N):\n",
    "        x,y,fee = sell(x,y,dy/N)\n",
    "        Dx,Dy = deposit(x,y,fee)\n",
    "        x,y = x+Dx , y + Dy\n",
    "    return (x**r*y)/(x0**r*y0) - 1"
   ]
  },
  {
   "cell_type": "code",
   "execution_count": 105,
   "id": "0d718187-e150-4702-ada4-dd2628653935",
   "metadata": {
    "tags": []
   },
   "outputs": [
    {
     "data": {
      "text/plain": [
       "0.008303267938454484"
      ]
     },
     "execution_count": 105,
     "metadata": {},
     "output_type": "execute_result"
    }
   ],
   "source": [
    " buy_all(x0,y0,dy,N)"
   ]
  },
  {
   "cell_type": "markdown",
   "id": "0854a58e-f6dc-45ed-bda8-93d478c0b769",
   "metadata": {
    "jp-MarkdownHeadingCollapsed": true,
    "tags": []
   },
   "source": [
    "##　$(\\ln Z_n , M_n)$ state space"
   ]
  },
  {
   "cell_type": "code",
   "execution_count": 93,
   "id": "a3e0972e-8d6d-410f-a5b8-d8854bb5fe69",
   "metadata": {
    "tags": []
   },
   "outputs": [
    {
     "data": {
      "image/png": "[encoded data removed]",
      "text/plain": [
       "<Figure size 800x1200 with 1 Axes>"
      ]
     },
     "metadata": {},
     "output_type": "display_data"
    }
   ],
   "source": [
    "import matplotlib.pyplot as plt\n",
    "import numpy as np\n",
    "\n",
    "# Define the state space\n",
    "ln_Z_values = np.arange(-5, 6, 1)  # ln Z values\n",
    "M_values = np.arange(-5, 6, 1)     # M values\n",
    "\n",
    "# Create the figure and axis\n",
    "fig, ax = plt.subplots(figsize=(8, 12))\n",
    "\n",
    "# Plot the grid points\n",
    "for ln_Z in ln_Z_values:\n",
    "    for M in M_values:\n",
    "        ax.scatter(M, ln_Z, s=8,c='k')  # Black points for states\n",
    "\n",
    "# Plot the possible transitions with red arrows\n",
    "for ln_Z in ln_Z_values:\n",
    "    ax.axhline(y = ln_Z,lw=1,alpha=0.5,c='k')\n",
    "ax.axvline(x = -5,c='k',lw=1,alpha=0.5)\n",
    "ax.axvline(x=5,lw=1,c='k',alpha=0.5)\n",
    "\n",
    "hw = 0.4\n",
    "hl=0.1\n",
    "ax.arrow(5, 0, 0, 1, head_width=hw, head_length=hl, fc='red', ec='red')  # price Up\n",
    "ax.arrow(5, 0, -1, 0, head_width=hw, head_length=hl, fc='red', ec='red')  \n",
    "\n",
    "ax.arrow(-5, 0, 0, -1, head_width=hw, head_length=hl, fc='red', ec='red')  # price Down\n",
    "ax.arrow(-5, 0, 1, 0, head_width=hw, head_length=hl, fc='red', ec='red')  \n",
    "\n",
    "ax.arrow(0, 0, 1, 0, head_width=hw, head_length=hl, fc='red', ec='red')  # price remains\n",
    "ax.arrow(0, 0, -1, 0, head_width=hw, head_length=hl, fc='red', ec='red')  \n",
    "# Set labels and title\n",
    "ax.set_xlabel('M (Price Deviation)')\n",
    "ax.set_ylabel('ln Z (Logarithm of Pool Price)')\n",
    "ax.set_aspect('equal')\n",
    "\n",
    "# Show the plot\n",
    "plt.show()\n"
   ]
  },
  {
   "cell_type": "code",
   "execution_count": null,
   "id": "588085c0-7f24-4af4-9952-1b88e427a53d",
   "metadata": {},
   "outputs": [],
   "source": []
  }
 ],
 "metadata": {
  "kernelspec": {
   "display_name": "Python 3 (ipykernel)",
   "language": "python",
   "name": "python3"
  },
  "language_info": {
   "codemirror_mode": {
    "name": "ipython",
    "version": 3
   },
   "file_extension": ".py",
   "mimetype": "text/x-python",
   "name": "python",
   "nbconvert_exporter": "python",
   "pygments_lexer": "ipython3",
   "version": "3.10.13"
  }
 },
 "nbformat": 4,
 "nbformat_minor": 5
}
