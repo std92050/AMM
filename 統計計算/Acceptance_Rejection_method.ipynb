{
 "cells": [
  {
   "cell_type": "code",
   "execution_count": 1,
   "metadata": {},
   "outputs": [],
   "source": [
    "import numpy as np"
   ]
  },
  {
   "cell_type": "markdown",
   "metadata": {},
   "source": [
    "# Acceptance Rejection method\n",
    "This algorithm generates data from a specific r.v $X$(with density $f$) by another r.v $Y$(with density $g$) which we already know how to sample form it.The density function $f$ and $g$ should have same support and have the following property: \n",
    "  $$ \n",
    "  \\begin{equation}\n",
    "  \\frac{f(t)}{g(t)}\\leq c \\end{equation}$$ for all $t$ and some positvie constant $c$.\n",
    "   \n",
    "  "
   ]
  },
  {
   "cell_type": "code",
   "execution_count": null,
   "metadata": {},
   "outputs": [],
   "source": []
  }
 ],
 "metadata": {
  "kernelspec": {
   "display_name": "Python 3",
   "language": "python",
   "name": "python3"
  },
  "language_info": {
   "codemirror_mode": {
    "name": "ipython",
    "version": 3
   },
   "file_extension": ".py",
   "mimetype": "text/x-python",
   "name": "python",
   "nbconvert_exporter": "python",
   "pygments_lexer": "ipython3",
   "version": "3.7.4"
  }
 },
 "nbformat": 4,
 "nbformat_minor": 4
}
