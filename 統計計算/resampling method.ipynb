{
 "cells": [
  {
   "cell_type": "code",
   "execution_count": 1,
   "metadata": {},
   "outputs": [],
   "source": [
    "import numpy as np"
   ]
  },
  {
   "cell_type": "markdown",
   "metadata": {},
   "source": [
    "# Acceptance Rejection method\n",
    "This algorithm generates data from a specific r.v $X$(with density $f$) by another r.v $Y$(with density $g$) which we already know how to sample form it.The density function $f$ and $g$ should have same support and have the following property: \n",
    "\n",
    "  $$ \n",
    "  \\frac{f(t)}{g(t)}\\leq c  $$\n",
    "  for all $t$ and some positvie constant $c$.\n",
    " \n",
    "  "
   ]
  },
  {
   "cell_type": "markdown",
   "metadata": {},
   "source": [
    "## Ziggurat algorithm\n",
    "Ziggurat algorithm belongs to the class of A-R method. It applys on positive continuous r.v with decreasing pdf or r.v with symmetric unimodal decreasing pdf.(for simplicity consider positive r.v)\n",
    "\n",
    "First we construct ziggurat. Fix some $n\\in\\mathbb{N}$, we choose a nonegative decreasing sequence $\\{x_i\\}_{i=1}^n$ satisfying the following construction: Let $y_1 = f(x_1)$ and $A$ be the area of the region, called layer $0$, below the pdf and the curve $y=y_1$. On top of this base region, construct a rectangle, called layer $1$, with width $x_1$ and height $\\frac{A}{x_1}$ so that it's area is also $A$. Define $y_2 = t_1 + \\frac{A}{x}$, this rectangle will interscet the pdf at some point$(x_2,y_2)$. Then again , on top of this rectangle we construct a new rectangle, called layer $2$, with width $x_2$ and height $\\frac{A}{x_2}$. Following the same procedure recursively, we will get $(x_0,y_0)=(0,f(0))$ and the construction stops. The following graph is an example of $n=3$:\n",
    "\n",
    "<img src=\"Ziggurat.jpg\" style=\"width:500px;height:300px\"/> \n",
    "\n",
    "After the construction of the ziggurat, we start the sampling algorithm (copy from wiki):\n",
    "1. Choose a random layer 0 ≤ i < n.\n",
    "2. Let $x = U_0 x_i$ for some $U_0 \\sim uni(0,1)$.\n",
    "3. If $x < x_{i+1}$, return $x$.\n",
    "4. Let $y = y_i + U_1(y_{i+1} − y_i)$ for some $U_1 \\sim uni(0,1)$.\n",
    "5. Compute $f(x)$. If $y < f(x)$, return $x$.\n",
    "6. Otherwise, choose new random numbers and go back to step 1.\n",
    "\n"
   ]
  },
  {
   "cell_type": "markdown",
   "metadata": {},
   "source": [
    "### Find $x_1$ , $A$ (copy from wiki)\n",
    "Given an initial (guess at) x1, you need a way to compute the area t of the tail for which x > x1. For the exponential distribution, this is just e−x1, while for the normal distribution, assuming you are using the unnormalized f(x) = e−x2/2, this is √π/2 erfc(x/√2). For more awkward distributions, numerical integration may be required.\n",
    "\n",
    "With this in hand, from x1, you can find y1 = f(x1), the area t in the tail, and the area of the base layer A = x1y1 + t.\n",
    "\n",
    "Then compute the series yi and xi as above. If yi > f(0) for any i < n, then the initial estimate x1 was too low, leading to too large an area A. If yn < f(0), then the initial estimate x1 was too high.\n",
    "\n",
    "Given this, use a root-finding algorithm (such as the bisection method) to find the value x1 which produces yn−1 as close to f(0) as possible. Alternatively, look for the value which makes the area of the topmost layer, xn−1(f(0) − yn−1), as close to the desired value A as possible. This saves one evaluation of f −1(x) and is actually the condition of greatest interest."
   ]
  },
  {
   "cell_type": "code",
   "execution_count": null,
   "metadata": {},
   "outputs": [],
   "source": []
  }
 ],
 "metadata": {
  "kernelspec": {
   "display_name": "Python 3 (ipykernel)",
   "language": "python",
   "name": "python3"
  },
  "language_info": {
   "codemirror_mode": {
    "name": "ipython",
    "version": 3
   },
   "file_extension": ".py",
   "mimetype": "text/x-python",
   "name": "python",
   "nbconvert_exporter": "python",
   "pygments_lexer": "ipython3",
   "version": "3.10.9"
  }
 },
 "nbformat": 4,
 "nbformat_minor": 4
}
