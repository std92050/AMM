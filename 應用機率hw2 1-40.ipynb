{
 "cells": [
  {
   "cell_type": "code",
   "execution_count": 2,
   "metadata": {},
   "outputs": [],
   "source": [
    "import numpy as np\n"
   ]
  },
  {
   "cell_type": "code",
   "execution_count": 3,
   "metadata": {},
   "outputs": [
    {
     "data": {
      "text/plain": [
       "9.570775"
      ]
     },
     "execution_count": 3,
     "metadata": {},
     "output_type": "execute_result"
    }
   ],
   "source": [
    "def random():\n",
    "    a=np.random.rand()\n",
    "    if a<0.5:\n",
    "        return 2\n",
    "    if 0.5<=a<0.8:\n",
    "        return 3\n",
    "    if 0.8<=a<1:\n",
    "        return 0\n",
    "def free():\n",
    "    day=0\n",
    "    while True:\n",
    "        interval=random()\n",
    "        day+=interval\n",
    "        \n",
    "        if interval==0:\n",
    "            return day\n",
    "\"direct calculate\"\n",
    "def exp(N):\n",
    "    total=0\n",
    "    for i in range(N):\n",
    "        a=free()\n",
    "        total+=a\n",
    "    return total/N\n",
    "\"this is roughly the expected value of the prisioner gaining freedom\"\n",
    "exp(80000)"
   ]
  },
  {
   "cell_type": "code",
   "execution_count": 4,
   "metadata": {},
   "outputs": [
    {
     "name": "stdout",
     "output_type": "stream",
     "text": [
      "37.99004\n"
     ]
    }
   ],
   "source": [
    "#using conditional expected value\n",
    "def random2():\n",
    "    a=np.random.rand()\n",
    "    if a<(5/8):\n",
    "        return 2\n",
    "    else:\n",
    "        return 3\n",
    "def  free2(N):\n",
    "    day=0\n",
    "    for i in range(N): \n",
    "      \n",
    "        a=random2()\n",
    "        day+=a\n",
    "    return day\n",
    "a=0\n",
    "for i in range(50000):\n",
    "    a+=free2(16)\n",
    "print(a/50000)\n",
    " #E(T│N)=N*19/8   "
   ]
  },
  {
   "cell_type": "code",
   "execution_count": 5,
   "metadata": {},
   "outputs": [],
   "source": [
    "def numbers():\n",
    "    n=0\n",
    "    while True:\n",
    "        N=random()\n",
    "        if N==0:\n",
    "            return n\n",
    "        else:\n",
    "            n+=1\n",
    "def exp2(N):\n",
    "    total=0\n",
    "    for i in range(N):\n",
    "        total+=numbers()\n",
    "    return total/N\n"
   ]
  },
  {
   "cell_type": "code",
   "execution_count": 354,
   "metadata": {},
   "outputs": [
    {
     "data": {
      "text/plain": [
       "3.999994"
      ]
     },
     "execution_count": 354,
     "metadata": {},
     "output_type": "execute_result"
    }
   ],
   "source": [
    "#exp value of bumbers-1 of in dorrs is 4\n",
    "exp2(500000)"
   ]
  },
  {
   "cell_type": "code",
   "execution_count": 16,
   "metadata": {},
   "outputs": [
    {
     "data": {
      "text/plain": [
       "113.43448333333333"
      ]
     },
     "execution_count": 16,
     "metadata": {},
     "output_type": "execute_result"
    }
   ],
   "source": [
    "#computing var of days\n",
    "def var(n):\n",
    "    tot=0\n",
    "    for i in range(n):\n",
    "        x=(free()-9.5)**2\n",
    "        tot+=x\n",
    "    return tot/n\n",
    "var(600000)"
   ]
  },
  {
   "cell_type": "code",
   "execution_count": 17,
   "metadata": {},
   "outputs": [
    {
     "data": {
      "text/plain": [
       "9.5"
      ]
     },
     "execution_count": 17,
     "metadata": {},
     "output_type": "execute_result"
    }
   ],
   "source": [
    "38/4\n"
   ]
  },
  {
   "cell_type": "code",
   "execution_count": null,
   "metadata": {},
   "outputs": [],
   "source": []
  }
 ],
 "metadata": {
  "kernelspec": {
   "display_name": "Python 3",
   "language": "python",
   "name": "python3"
  },
  "language_info": {
   "codemirror_mode": {
    "name": "ipython",
    "version": 3
   },
   "file_extension": ".py",
   "mimetype": "text/x-python",
   "name": "python",
   "nbconvert_exporter": "python",
   "pygments_lexer": "ipython3",
   "version": "3.6.4"
  }
 },
 "nbformat": 4,
 "nbformat_minor": 2
}
