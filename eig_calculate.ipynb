{
 "cells": [
  {
   "cell_type": "code",
   "execution_count": 11,
   "metadata": {},
   "outputs": [
    {
     "data": {
      "text/latex": [
       "$\\displaystyle \\left[\\begin{matrix}- 2 l & 2 l & 0\\\\m & - l - m & l\\\\0 & m & - m\\end{matrix}\\right]$"
      ],
      "text/plain": [
       "Matrix([\n",
       "[-2*l,    2*l,  0],\n",
       "[   m, -l - m,  l],\n",
       "[   0,      m, -m]])"
      ]
     },
     "execution_count": 11,
     "metadata": {},
     "output_type": "execute_result"
    }
   ],
   "source": [
    "import numpy as np\n",
    "from sympy import *\n",
    "#用sympy的矩陣才能算symbol eig\n",
    "m=Symbol('m')\n",
    "l=Symbol('l')\n",
    "G=Matrix([[-2*l,2*l,0],\n",
    "            [m,-1*(l+m),l]\n",
    "            ,[0,m,-m]])\n",
    "G"
   ]
  },
  {
   "cell_type": "code",
   "execution_count": 14,
   "metadata": {},
   "outputs": [],
   "source": [
    "U,D=G.diagonalize()"
   ]
  },
  {
   "cell_type": "code",
   "execution_count": 17,
   "metadata": {},
   "outputs": [
    {
     "data": {
      "text/latex": [
       "$\\displaystyle \\left[\\begin{matrix}1 & - \\frac{4 l^{2}}{m \\left(l - \\sqrt{l \\left(l + 4 m\\right)}\\right)} & - \\frac{4 l^{2}}{m \\left(l + \\sqrt{l \\left(l + 4 m\\right)}\\right)}\\\\1 & \\frac{l \\left(- l + 2 m + \\sqrt{l \\left(l + 4 m\\right)}\\right)}{m \\left(l - \\sqrt{l \\left(l + 4 m\\right)}\\right)} & - \\frac{l \\left(l - 2 m + \\sqrt{l \\left(l + 4 m\\right)}\\right)}{m \\left(l + \\sqrt{l \\left(l + 4 m\\right)}\\right)}\\\\1 & 1 & 1\\end{matrix}\\right]$"
      ],
      "text/plain": [
       "Matrix([\n",
       "[1,                          -4*l**2/(m*(l - sqrt(l*(l + 4*m)))),                          -4*l**2/(m*(l + sqrt(l*(l + 4*m))))],\n",
       "[1, l*(-l + 2*m + sqrt(l*(l + 4*m)))/(m*(l - sqrt(l*(l + 4*m)))), -l*(l - 2*m + sqrt(l*(l + 4*m)))/(m*(l + sqrt(l*(l + 4*m))))],\n",
       "[1,                                                            1,                                                            1]])"
      ]
     },
     "execution_count": 17,
     "metadata": {},
     "output_type": "execute_result"
    }
   ],
   "source": [
    "U\n"
   ]
  },
  {
   "cell_type": "code",
   "execution_count": 18,
   "metadata": {},
   "outputs": [
    {
     "data": {
      "text/latex": [
       "$\\displaystyle \\left[\\begin{matrix}0 & 0 & 0\\\\0 & - \\frac{3 l}{2} - m - \\frac{\\sqrt{l \\left(l + 4 m\\right)}}{2} & 0\\\\0 & 0 & - \\frac{3 l}{2} - m + \\frac{\\sqrt{l \\left(l + 4 m\\right)}}{2}\\end{matrix}\\right]$"
      ],
      "text/plain": [
       "Matrix([\n",
       "[0,                                0,                                0],\n",
       "[0, -3*l/2 - m - sqrt(l*(l + 4*m))/2,                                0],\n",
       "[0,                                0, -3*l/2 - m + sqrt(l*(l + 4*m))/2]])"
      ]
     },
     "execution_count": 18,
     "metadata": {},
     "output_type": "execute_result"
    }
   ],
   "source": [
    "D"
   ]
  },
  {
   "cell_type": "code",
   "execution_count": 24,
   "metadata": {},
   "outputs": [
    {
     "data": {
      "text/latex": [
       "$\\displaystyle \\left[\\begin{matrix}1 & 0 & 0\\\\0 & e^{- 15 l - 10 m - 5 \\sqrt{l \\left(l + 4 m\\right)}} & 0\\\\0 & 0 & e^{- 15 l - 10 m + 5 \\sqrt{l \\left(l + 4 m\\right)}}\\end{matrix}\\right]$"
      ],
      "text/plain": [
       "Matrix([\n",
       "[1,                                       0,                                       0],\n",
       "[0, exp(-15*l - 10*m - 5*sqrt(l*(l + 4*m))),                                       0],\n",
       "[0,                                       0, exp(-15*l - 10*m + 5*sqrt(l*(l + 4*m)))]])"
      ]
     },
     "execution_count": 24,
     "metadata": {},
     "output_type": "execute_result"
    }
   ],
   "source": [
    "A=Matrix([[1,0,0],\n",
    "        [0,exp(D[1,1]*10),0],\n",
    "        [0,0,exp(D[2,2]*10)]])\n",
    "A"
   ]
  },
  {
   "cell_type": "code",
   "execution_count": 26,
   "metadata": {},
   "outputs": [
    {
     "data": {
      "text/latex": [
       "$\\displaystyle - \\frac{\\left(- \\frac{4 l^{2} \\left(\\frac{4 l^{2}}{m \\left(l - \\sqrt{l \\left(l + 4 m\\right)}\\right)} + \\frac{l \\left(- l + 2 m + \\sqrt{l \\left(l + 4 m\\right)}\\right)}{m \\left(l - \\sqrt{l \\left(l + 4 m\\right)}\\right)}\\right)}{m \\left(l + \\sqrt{l \\left(l + 4 m\\right)}\\right)} + \\frac{4 l^{2} \\left(\\frac{4 l^{2}}{m \\left(l + \\sqrt{l \\left(l + 4 m\\right)}\\right)} - \\frac{l \\left(l - 2 m + \\sqrt{l \\left(l + 4 m\\right)}\\right)}{m \\left(l + \\sqrt{l \\left(l + 4 m\\right)}\\right)}\\right)}{m \\left(l - \\sqrt{l \\left(l + 4 m\\right)}\\right)}\\right) e^{- 15 l - 10 m + 5 \\sqrt{l \\left(l + 4 m\\right)}}}{- \\left(\\frac{4 l^{2}}{m \\left(l - \\sqrt{l \\left(l + 4 m\\right)}\\right)} + 1\\right) \\left(\\frac{4 l^{2}}{m \\left(l + \\sqrt{l \\left(l + 4 m\\right)}\\right)} - \\frac{l \\left(l - 2 m + \\sqrt{l \\left(l + 4 m\\right)}\\right)}{m \\left(l + \\sqrt{l \\left(l + 4 m\\right)}\\right)}\\right) + \\left(\\frac{4 l^{2}}{m \\left(l - \\sqrt{l \\left(l + 4 m\\right)}\\right)} + \\frac{l \\left(- l + 2 m + \\sqrt{l \\left(l + 4 m\\right)}\\right)}{m \\left(l - \\sqrt{l \\left(l + 4 m\\right)}\\right)}\\right) \\left(\\frac{4 l^{2}}{m \\left(l + \\sqrt{l \\left(l + 4 m\\right)}\\right)} + 1\\right)} + \\frac{\\left(\\frac{4 l^{2} \\left(- \\left(\\frac{4 l^{2}}{m \\left(l - \\sqrt{l \\left(l + 4 m\\right)}\\right)} + 1\\right) \\left(\\frac{4 l^{2}}{m \\left(l + \\sqrt{l \\left(l + 4 m\\right)}\\right)} - \\frac{l \\left(l - 2 m + \\sqrt{l \\left(l + 4 m\\right)}\\right)}{m \\left(l + \\sqrt{l \\left(l + 4 m\\right)}\\right)}\\right) + \\left(\\frac{4 l^{2}}{m \\left(l - \\sqrt{l \\left(l + 4 m\\right)}\\right)} + \\frac{l \\left(- l + 2 m + \\sqrt{l \\left(l + 4 m\\right)}\\right)}{m \\left(l - \\sqrt{l \\left(l + 4 m\\right)}\\right)}\\right) \\left(\\frac{4 l^{2}}{m \\left(l + \\sqrt{l \\left(l + 4 m\\right)}\\right)} + 1\\right)\\right)}{m \\left(l - \\sqrt{l \\left(l + 4 m\\right)}\\right)} - \\left(- \\frac{4 l^{2}}{m \\left(l - \\sqrt{l \\left(l + 4 m\\right)}\\right)} - 1\\right) \\left(- \\frac{4 l^{2} \\left(\\frac{4 l^{2}}{m \\left(l - \\sqrt{l \\left(l + 4 m\\right)}\\right)} + \\frac{l \\left(- l + 2 m + \\sqrt{l \\left(l + 4 m\\right)}\\right)}{m \\left(l - \\sqrt{l \\left(l + 4 m\\right)}\\right)}\\right)}{m \\left(l + \\sqrt{l \\left(l + 4 m\\right)}\\right)} + \\frac{4 l^{2} \\left(\\frac{4 l^{2}}{m \\left(l + \\sqrt{l \\left(l + 4 m\\right)}\\right)} - \\frac{l \\left(l - 2 m + \\sqrt{l \\left(l + 4 m\\right)}\\right)}{m \\left(l + \\sqrt{l \\left(l + 4 m\\right)}\\right)}\\right)}{m \\left(l - \\sqrt{l \\left(l + 4 m\\right)}\\right)}\\right)\\right) e^{- 15 l - 10 m - 5 \\sqrt{l \\left(l + 4 m\\right)}}}{\\left(- \\left(\\frac{4 l^{2}}{m \\left(l - \\sqrt{l \\left(l + 4 m\\right)}\\right)} + 1\\right) \\left(\\frac{4 l^{2}}{m \\left(l + \\sqrt{l \\left(l + 4 m\\right)}\\right)} - \\frac{l \\left(l - 2 m + \\sqrt{l \\left(l + 4 m\\right)}\\right)}{m \\left(l + \\sqrt{l \\left(l + 4 m\\right)}\\right)}\\right) + \\left(\\frac{4 l^{2}}{m \\left(l - \\sqrt{l \\left(l + 4 m\\right)}\\right)} + \\frac{l \\left(- l + 2 m + \\sqrt{l \\left(l + 4 m\\right)}\\right)}{m \\left(l - \\sqrt{l \\left(l + 4 m\\right)}\\right)}\\right) \\left(\\frac{4 l^{2}}{m \\left(l + \\sqrt{l \\left(l + 4 m\\right)}\\right)} + 1\\right)\\right) \\left(\\frac{4 l^{2}}{m \\left(l - \\sqrt{l \\left(l + 4 m\\right)}\\right)} + \\frac{l \\left(- l + 2 m + \\sqrt{l \\left(l + 4 m\\right)}\\right)}{m \\left(l - \\sqrt{l \\left(l + 4 m\\right)}\\right)}\\right)} + \\frac{\\frac{l \\left(- \\left(\\frac{4 l^{2}}{m \\left(l - \\sqrt{l \\left(l + 4 m\\right)}\\right)} + 1\\right) \\left(\\frac{4 l^{2}}{m \\left(l + \\sqrt{l \\left(l + 4 m\\right)}\\right)} - \\frac{l \\left(l - 2 m + \\sqrt{l \\left(l + 4 m\\right)}\\right)}{m \\left(l + \\sqrt{l \\left(l + 4 m\\right)}\\right)}\\right) + \\left(\\frac{4 l^{2}}{m \\left(l - \\sqrt{l \\left(l + 4 m\\right)}\\right)} + \\frac{l \\left(- l + 2 m + \\sqrt{l \\left(l + 4 m\\right)}\\right)}{m \\left(l - \\sqrt{l \\left(l + 4 m\\right)}\\right)}\\right) \\left(\\frac{4 l^{2}}{m \\left(l + \\sqrt{l \\left(l + 4 m\\right)}\\right)} + 1\\right)\\right) \\left(- l + 2 m + \\sqrt{l \\left(l + 4 m\\right)}\\right)}{m \\left(l - \\sqrt{l \\left(l + 4 m\\right)}\\right)} - \\left(- \\frac{l \\left(- l + 2 m + \\sqrt{l \\left(l + 4 m\\right)}\\right)}{m \\left(l - \\sqrt{l \\left(l + 4 m\\right)}\\right)} + 1\\right) \\left(- \\frac{4 l^{2} \\left(\\frac{4 l^{2}}{m \\left(l - \\sqrt{l \\left(l + 4 m\\right)}\\right)} + \\frac{l \\left(- l + 2 m + \\sqrt{l \\left(l + 4 m\\right)}\\right)}{m \\left(l - \\sqrt{l \\left(l + 4 m\\right)}\\right)}\\right)}{m \\left(l + \\sqrt{l \\left(l + 4 m\\right)}\\right)} + \\frac{4 l^{2} \\left(\\frac{4 l^{2}}{m \\left(l + \\sqrt{l \\left(l + 4 m\\right)}\\right)} - \\frac{l \\left(l - 2 m + \\sqrt{l \\left(l + 4 m\\right)}\\right)}{m \\left(l + \\sqrt{l \\left(l + 4 m\\right)}\\right)}\\right)}{m \\left(l - \\sqrt{l \\left(l + 4 m\\right)}\\right)}\\right)}{\\left(- \\left(\\frac{4 l^{2}}{m \\left(l - \\sqrt{l \\left(l + 4 m\\right)}\\right)} + 1\\right) \\left(\\frac{4 l^{2}}{m \\left(l + \\sqrt{l \\left(l + 4 m\\right)}\\right)} - \\frac{l \\left(l - 2 m + \\sqrt{l \\left(l + 4 m\\right)}\\right)}{m \\left(l + \\sqrt{l \\left(l + 4 m\\right)}\\right)}\\right) + \\left(\\frac{4 l^{2}}{m \\left(l - \\sqrt{l \\left(l + 4 m\\right)}\\right)} + \\frac{l \\left(- l + 2 m + \\sqrt{l \\left(l + 4 m\\right)}\\right)}{m \\left(l - \\sqrt{l \\left(l + 4 m\\right)}\\right)}\\right) \\left(\\frac{4 l^{2}}{m \\left(l + \\sqrt{l \\left(l + 4 m\\right)}\\right)} + 1\\right)\\right) \\left(\\frac{4 l^{2}}{m \\left(l - \\sqrt{l \\left(l + 4 m\\right)}\\right)} + \\frac{l \\left(- l + 2 m + \\sqrt{l \\left(l + 4 m\\right)}\\right)}{m \\left(l - \\sqrt{l \\left(l + 4 m\\right)}\\right)}\\right)}$"
      ],
      "text/plain": [
       "-(-4*l**2*(4*l**2/(m*(l - sqrt(l*(l + 4*m)))) + l*(-l + 2*m + sqrt(l*(l + 4*m)))/(m*(l - sqrt(l*(l + 4*m)))))/(m*(l + sqrt(l*(l + 4*m)))) + 4*l**2*(4*l**2/(m*(l + sqrt(l*(l + 4*m)))) - l*(l - 2*m + sqrt(l*(l + 4*m)))/(m*(l + sqrt(l*(l + 4*m)))))/(m*(l - sqrt(l*(l + 4*m)))))*exp(-15*l - 10*m + 5*sqrt(l*(l + 4*m)))/(-(4*l**2/(m*(l - sqrt(l*(l + 4*m)))) + 1)*(4*l**2/(m*(l + sqrt(l*(l + 4*m)))) - l*(l - 2*m + sqrt(l*(l + 4*m)))/(m*(l + sqrt(l*(l + 4*m))))) + (4*l**2/(m*(l - sqrt(l*(l + 4*m)))) + l*(-l + 2*m + sqrt(l*(l + 4*m)))/(m*(l - sqrt(l*(l + 4*m)))))*(4*l**2/(m*(l + sqrt(l*(l + 4*m)))) + 1)) + (4*l**2*(-(4*l**2/(m*(l - sqrt(l*(l + 4*m)))) + 1)*(4*l**2/(m*(l + sqrt(l*(l + 4*m)))) - l*(l - 2*m + sqrt(l*(l + 4*m)))/(m*(l + sqrt(l*(l + 4*m))))) + (4*l**2/(m*(l - sqrt(l*(l + 4*m)))) + l*(-l + 2*m + sqrt(l*(l + 4*m)))/(m*(l - sqrt(l*(l + 4*m)))))*(4*l**2/(m*(l + sqrt(l*(l + 4*m)))) + 1))/(m*(l - sqrt(l*(l + 4*m)))) - (-4*l**2/(m*(l - sqrt(l*(l + 4*m)))) - 1)*(-4*l**2*(4*l**2/(m*(l - sqrt(l*(l + 4*m)))) + l*(-l + 2*m + sqrt(l*(l + 4*m)))/(m*(l - sqrt(l*(l + 4*m)))))/(m*(l + sqrt(l*(l + 4*m)))) + 4*l**2*(4*l**2/(m*(l + sqrt(l*(l + 4*m)))) - l*(l - 2*m + sqrt(l*(l + 4*m)))/(m*(l + sqrt(l*(l + 4*m)))))/(m*(l - sqrt(l*(l + 4*m))))))*exp(-15*l - 10*m - 5*sqrt(l*(l + 4*m)))/((-(4*l**2/(m*(l - sqrt(l*(l + 4*m)))) + 1)*(4*l**2/(m*(l + sqrt(l*(l + 4*m)))) - l*(l - 2*m + sqrt(l*(l + 4*m)))/(m*(l + sqrt(l*(l + 4*m))))) + (4*l**2/(m*(l - sqrt(l*(l + 4*m)))) + l*(-l + 2*m + sqrt(l*(l + 4*m)))/(m*(l - sqrt(l*(l + 4*m)))))*(4*l**2/(m*(l + sqrt(l*(l + 4*m)))) + 1))*(4*l**2/(m*(l - sqrt(l*(l + 4*m)))) + l*(-l + 2*m + sqrt(l*(l + 4*m)))/(m*(l - sqrt(l*(l + 4*m)))))) + (l*(-(4*l**2/(m*(l - sqrt(l*(l + 4*m)))) + 1)*(4*l**2/(m*(l + sqrt(l*(l + 4*m)))) - l*(l - 2*m + sqrt(l*(l + 4*m)))/(m*(l + sqrt(l*(l + 4*m))))) + (4*l**2/(m*(l - sqrt(l*(l + 4*m)))) + l*(-l + 2*m + sqrt(l*(l + 4*m)))/(m*(l - sqrt(l*(l + 4*m)))))*(4*l**2/(m*(l + sqrt(l*(l + 4*m)))) + 1))*(-l + 2*m + sqrt(l*(l + 4*m)))/(m*(l - sqrt(l*(l + 4*m)))) - (-l*(-l + 2*m + sqrt(l*(l + 4*m)))/(m*(l - sqrt(l*(l + 4*m)))) + 1)*(-4*l**2*(4*l**2/(m*(l - sqrt(l*(l + 4*m)))) + l*(-l + 2*m + sqrt(l*(l + 4*m)))/(m*(l - sqrt(l*(l + 4*m)))))/(m*(l + sqrt(l*(l + 4*m)))) + 4*l**2*(4*l**2/(m*(l + sqrt(l*(l + 4*m)))) - l*(l - 2*m + sqrt(l*(l + 4*m)))/(m*(l + sqrt(l*(l + 4*m)))))/(m*(l - sqrt(l*(l + 4*m))))))/((-(4*l**2/(m*(l - sqrt(l*(l + 4*m)))) + 1)*(4*l**2/(m*(l + sqrt(l*(l + 4*m)))) - l*(l - 2*m + sqrt(l*(l + 4*m)))/(m*(l + sqrt(l*(l + 4*m))))) + (4*l**2/(m*(l - sqrt(l*(l + 4*m)))) + l*(-l + 2*m + sqrt(l*(l + 4*m)))/(m*(l - sqrt(l*(l + 4*m)))))*(4*l**2/(m*(l + sqrt(l*(l + 4*m)))) + 1))*(4*l**2/(m*(l - sqrt(l*(l + 4*m)))) + l*(-l + 2*m + sqrt(l*(l + 4*m)))/(m*(l - sqrt(l*(l + 4*m))))))"
      ]
     },
     "execution_count": 26,
     "metadata": {},
     "output_type": "execute_result"
    }
   ],
   "source": [
    "P=U.inv()*A*U\n",
    "P[0,0]"
   ]
  },
  {
   "cell_type": "code",
   "execution_count": null,
   "metadata": {},
   "outputs": [],
   "source": []
  }
 ],
 "metadata": {
  "kernelspec": {
   "display_name": "Python 3",
   "language": "python",
   "name": "python3"
  },
  "language_info": {
   "codemirror_mode": {
    "name": "ipython",
    "version": 3
   },
   "file_extension": ".py",
   "mimetype": "text/x-python",
   "name": "python",
   "nbconvert_exporter": "python",
   "pygments_lexer": "ipython3",
   "version": "3.7.4"
  }
 },
 "nbformat": 4,
 "nbformat_minor": 4
}
